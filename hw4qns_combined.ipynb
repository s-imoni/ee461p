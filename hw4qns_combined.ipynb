{
 "cells": [
  {
   "cell_type": "markdown",
   "metadata": {
    "id": "wPx0of7QbFIh"
   },
   "source": [
    "## EE 461P: Data Science Principles  \n",
    "### Assignment 4 \n",
    "### Total points: 80\n",
    "### Due: April 6, 2021 submitted via Canvas by 11:59 pm  \n",
    "\n",
    "Your homework should be written in a **Jupyter notebook**. You may work in groups of two if you wish. Only one student per team needs to submit the assignment on Canvas.  But be sure to include name and UT eID for both students.  Homework groups will be created and managed through Canvas, so please do not arbitrarily change your homework group. If you do change, let the TAs know.\n",
    "\n",
    "Also, please make sure your code runs and the graphics (and anything else) are displayed in your notebook before submitting. (%matplotlib inline). You can also follow the below steps to embed an image,\n",
    "* Set cell mode to Markdown\n",
    "* Drag and drop your image into the cell. The following command will be created:\n",
    "`![image.png](attachment:image.png)` \n",
    "* Execute/Run the cell and the image will be displayed. Once you submit make sure to download the notebook and verify if the image exists.\n",
    "\n",
    "### Name(s) and EID(s):\n",
    "1. Simoni Maniar (ssm3256)\n",
    "2. Julian Fritz (jjf2459)\n",
    "\n",
    "### Homework group No.: 2\n",
    "\n",
    "\n",
    "`NOTE : Fill the Name and EID section along with group number without fail.`"
   ]
  },
  {
   "cell_type": "code",
   "execution_count": 1,
   "metadata": {
    "id": "4EDfAS6UUiBl"
   },
   "outputs": [
    {
     "name": "stdout",
     "output_type": "stream",
     "text": [
      "Requirement already up-to-date: scikit-learn in c:\\users\\simoni\\anaconda3\\lib\\site-packages (0.24.1)\n",
      "Requirement already satisfied, skipping upgrade: scipy>=0.19.1 in c:\\users\\simoni\\anaconda3\\lib\\site-packages (from scikit-learn) (1.5.0)\n",
      "Requirement already satisfied, skipping upgrade: numpy>=1.13.3 in c:\\users\\simoni\\anaconda3\\lib\\site-packages (from scikit-learn) (1.18.5)\n",
      "Requirement already satisfied, skipping upgrade: threadpoolctl>=2.0.0 in c:\\users\\simoni\\anaconda3\\lib\\site-packages (from scikit-learn) (2.1.0)\n",
      "Requirement already satisfied, skipping upgrade: joblib>=0.11 in c:\\users\\simoni\\anaconda3\\lib\\site-packages (from scikit-learn) (0.16.0)\n"
     ]
    }
   ],
   "source": [
    "# Upgrade scikit learn to the latest version\n",
    "!pip install --upgrade --user scikit-learn"
   ]
  },
  {
   "cell_type": "markdown",
   "metadata": {
    "id": "czMinzQWUizy"
   },
   "source": [
    "# Question 1 (Data Imputation and Feature Selection) (15 pts)\n",
    "\n",
    "In this question, we will explore how to impute missing values in a given dataset and perform feature engineering. \n",
    "\n",
    "We will be using the WHO Life Expectancy Data, which measures the life expectancy from health factors for 193 countries collected from the WHO data repository website and its corresponding economic data collected from United Nation website. More information on the dataset can be found [here](https://www.kaggle.com/kumarajarshi/life-expectancy-who).Use the below code to load the dataset, the predictor variable is \"Life Expectancy\" and the rest are the feature variables. \n",
    "\n",
    "`orig_df` contains data from all years except 2014 and `orig_df_2014` contains data from only 2014. "
   ]
  },
  {
   "cell_type": "code",
   "execution_count": 2,
   "metadata": {
    "id": "kJHzI7cOUnZi"
   },
   "outputs": [],
   "source": [
    "from sklearn.linear_model import LinearRegression\n",
    "from sklearn.model_selection import train_test_split\n",
    "from sklearn.feature_selection import SequentialFeatureSelector\n",
    "import os, sys, re\n",
    "import time\n",
    "import numpy as np\n",
    "import pandas as pd\n",
    "from sklearn.model_selection import train_test_split\n",
    "from sklearn.preprocessing import MinMaxScaler,StandardScaler\n",
    "from sklearn.metrics import plot_roc_curve \n",
    "import matplotlib.pyplot as plt\n",
    "from sklearn.tree import DecisionTreeRegressor\n",
    "\n",
    "# Load the dataset from csv files\n",
    "orig_df = pd.read_csv(\"Life Expectancy Data.csv\")\n",
    "orig_df = orig_df[(orig_df['Life_expectancy'].notna()) & (orig_df['Year'] != 2015)]\n",
    "\n",
    "# Select only 2014 data\n",
    "orig_df_2014 = orig_df[orig_df['Year']== 2014]\n",
    "\n",
    "# Drop the year column\n",
    "orig_df_2014 = orig_df_2014.drop(columns=[\"Year\"])\n",
    "\n"
   ]
  },
  {
   "cell_type": "markdown",
   "metadata": {
    "id": "jZWiq8dleZCq"
   },
   "source": [
    "* **Part 1** : Report the datatype of the column values in the `orig_df_2014` dataframe, this helps to identify the categorical, numerical feature variables present in the dataset. Drop the categorical columns in the `orig_df_2014` dataset and create a new dataframe with only numerical valued columns and name it `numerical_df_2014`. Print the number of missing values(NaN) for each column in this `numerical_df_2014` dataframe.  **(1 pts)**\n",
    "\n",
    "* **Part 2** : In this part we will explore different ways to handle missing data, you can make use of the pandas dataframe's function available, refer [here](https://pandas.pydata.org/docs/reference/frame.html).\n",
    "  \n",
    "  * a) Create a copy of the numerical_df_2014 dataframe and name it `numerical_df_na_drop_row`. Drop all the NaN rows in `numerical_df_na_drop_row`, then split the dataframe into y(Life_expectancy) which is the predictor variable and the rest as X. Split the dataset using train_test_split with random_state = 42 and train:test split as 70:30. Fit a linear regression model on train data and evaluate the model on the test data by reporting the test ${R^2}$ score. **(2 pts)**\n",
    "\n",
    "  * b) Next, Create another copy of the numerical_df_2014 dataframe and name it `numerical_df_na_fill_zero`. Now, fill the NaN values with zeros in `numerical_df_na_fill_zero`, then split the dataframe into y(Life_expectancy) which is the predictor variable and the rest as X. Split the dataset using train_test_split with random_state = 42 and train:test split as 70:30. Fit a linear regression model on train data and evaluate the model on the test data by reporting the test ${R^2}$ score.**(2 pts)**\n",
    "\n",
    "  * c) Finally, Create a copy of the numerical_df_2014 dataframe and name it `numerical_df_na_drop_cols`. Drop all the features(columns) which contain NaN values in `numerical_df_na_drop_cols` then split the dataframe into y(Life_expectancy) which is the predictor variable and the rest as X. Split the dataset using train_test_split with random_state = 42 and train:test split as 70:30. Fit a linear regression model on train data and evaluate the model on the test data by reporting the test ${R^2}$ score.**(2 pts)**\n",
    "\n",
    "  * d) Compare the test ${R^2}$ score value score obtained in part a), b) and c) explain what you observe in the scores, provide reasoning on which is your preferred method to handle missing data and why? **(2 pts)**\n",
    "\n",
    "* **Part 3** (Feature selection): In this part we will be using the  `numerical_df_na_drop_row` dataframe created by dropping all NaN samples in part 2a). Split this dataset into train:test split of 70:30 with random_state 42 and use the training data for the sub-parts below:\n",
    "\n",
    "  * a) Compute the correlation of all the feature variables with the predictor variable(Life_expectancy). Report the five most correlated feature variable with the predictor using training data. (**1pts**)\n",
    "\n",
    "  * b) Use Linear Regression as an estimator for Recursive Feature Selection. We will use Sequential Feature Selector to perform `forward` feature selection. Details on how to use Sequential Feature Selector is given [here](https://scikit-learn.org/stable/modules/generated/sklearn.feature_selection.SequentialFeatureSelector.html). Report the top five features selected after performing forward selection using training data.(**2pts**)\n",
    "\n",
    "  * c) Use Decision Tree Regressor with random_state=20 from [sklearn](https://scikit-learn.org/stable/modules/generated/sklearn.tree.DecisionTreeRegressor.html#sklearn.tree.DecisionTreeRegressor) with default parameters and fit the model on training data. Identify the feature importance from the fitted model and report the 5 most important features. (**1pts**)\n",
    "\n",
    "  * d) Use the most common set of features obtained from the feature selection methods in part a) b) and c). Train a linear regression model on this subset of features by fitting it on train data and reporting the ${R^2}$ and adjusted ${R^2}$ score on test data. Briefly eplain what you understand by feature selection and how it affects the model performance based on the results obtained.(**2pts**). \n",
    "\n",
    "      `NOTE : Most common set of feature indicates most common feature intersection, i.e. features selected using all feature selection methods in part a) b) and c).`"
   ]
  },
  {
   "cell_type": "markdown",
   "metadata": {
    "id": "jZWiq8dleZCq"
   },
   "source": [
    "### Solution 1.1"
   ]
  },
  {
   "cell_type": "code",
   "execution_count": 3,
   "metadata": {
    "id": "jZWiq8dleZCq"
   },
   "outputs": [
    {
     "name": "stdout",
     "output_type": "stream",
     "text": [
      "Country: object\n",
      "Status: object\n",
      "Life_expectancy: float64\n",
      "Adult_Mortality: float64\n",
      "infant_deaths: int64\n",
      "Alcohol: float64\n",
      "percentage_expenditure: float64\n",
      "Hepatitis_B: float64\n",
      "Measles: int64\n",
      "BMI: float64\n",
      "under_five_deaths: int64\n",
      "Polio: float64\n",
      "Total_expenditure: float64\n",
      "Diphtheria: float64\n",
      "HIV_AIDS: float64\n",
      "GDP: float64\n",
      "Population: float64\n",
      "thinness_1_19_years: float64\n",
      "thinness_5_9_years: float64\n",
      "Income_composition_of_resources: float64\n",
      "Schooling: float64\n"
     ]
    },
    {
     "data": {
      "text/html": [
       "<div>\n",
       "<style scoped>\n",
       "    .dataframe tbody tr th:only-of-type {\n",
       "        vertical-align: middle;\n",
       "    }\n",
       "\n",
       "    .dataframe tbody tr th {\n",
       "        vertical-align: top;\n",
       "    }\n",
       "\n",
       "    .dataframe thead th {\n",
       "        text-align: right;\n",
       "    }\n",
       "</style>\n",
       "<table border=\"1\" class=\"dataframe\">\n",
       "  <thead>\n",
       "    <tr style=\"text-align: right;\">\n",
       "      <th></th>\n",
       "      <th>Life_expectancy</th>\n",
       "      <th>Adult_Mortality</th>\n",
       "      <th>infant_deaths</th>\n",
       "      <th>Alcohol</th>\n",
       "      <th>percentage_expenditure</th>\n",
       "      <th>Hepatitis_B</th>\n",
       "      <th>Measles</th>\n",
       "      <th>BMI</th>\n",
       "      <th>under_five_deaths</th>\n",
       "      <th>Polio</th>\n",
       "      <th>Total_expenditure</th>\n",
       "      <th>Diphtheria</th>\n",
       "      <th>HIV_AIDS</th>\n",
       "      <th>GDP</th>\n",
       "      <th>Population</th>\n",
       "      <th>thinness_1_19_years</th>\n",
       "      <th>thinness_5_9_years</th>\n",
       "      <th>Income_composition_of_resources</th>\n",
       "      <th>Schooling</th>\n",
       "    </tr>\n",
       "  </thead>\n",
       "  <tbody>\n",
       "    <tr>\n",
       "      <th>1</th>\n",
       "      <td>59.9</td>\n",
       "      <td>271.0</td>\n",
       "      <td>64</td>\n",
       "      <td>0.01</td>\n",
       "      <td>73.523582</td>\n",
       "      <td>62.0</td>\n",
       "      <td>492</td>\n",
       "      <td>18.6</td>\n",
       "      <td>86</td>\n",
       "      <td>58.0</td>\n",
       "      <td>8.18</td>\n",
       "      <td>62.0</td>\n",
       "      <td>0.1</td>\n",
       "      <td>612.696514</td>\n",
       "      <td>327582.0</td>\n",
       "      <td>17.5</td>\n",
       "      <td>17.5</td>\n",
       "      <td>0.476</td>\n",
       "      <td>10.0</td>\n",
       "    </tr>\n",
       "    <tr>\n",
       "      <th>17</th>\n",
       "      <td>77.5</td>\n",
       "      <td>8.0</td>\n",
       "      <td>0</td>\n",
       "      <td>4.51</td>\n",
       "      <td>428.749067</td>\n",
       "      <td>98.0</td>\n",
       "      <td>0</td>\n",
       "      <td>57.2</td>\n",
       "      <td>1</td>\n",
       "      <td>98.0</td>\n",
       "      <td>5.88</td>\n",
       "      <td>98.0</td>\n",
       "      <td>0.1</td>\n",
       "      <td>4575.763787</td>\n",
       "      <td>288914.0</td>\n",
       "      <td>1.2</td>\n",
       "      <td>1.3</td>\n",
       "      <td>0.761</td>\n",
       "      <td>14.2</td>\n",
       "    </tr>\n",
       "    <tr>\n",
       "      <th>33</th>\n",
       "      <td>75.4</td>\n",
       "      <td>11.0</td>\n",
       "      <td>21</td>\n",
       "      <td>0.01</td>\n",
       "      <td>54.237318</td>\n",
       "      <td>95.0</td>\n",
       "      <td>0</td>\n",
       "      <td>58.4</td>\n",
       "      <td>24</td>\n",
       "      <td>95.0</td>\n",
       "      <td>7.21</td>\n",
       "      <td>95.0</td>\n",
       "      <td>0.1</td>\n",
       "      <td>547.851700</td>\n",
       "      <td>39113313.0</td>\n",
       "      <td>6.0</td>\n",
       "      <td>5.8</td>\n",
       "      <td>0.741</td>\n",
       "      <td>14.4</td>\n",
       "    </tr>\n",
       "    <tr>\n",
       "      <th>49</th>\n",
       "      <td>51.7</td>\n",
       "      <td>348.0</td>\n",
       "      <td>67</td>\n",
       "      <td>8.33</td>\n",
       "      <td>23.965612</td>\n",
       "      <td>64.0</td>\n",
       "      <td>11699</td>\n",
       "      <td>22.7</td>\n",
       "      <td>101</td>\n",
       "      <td>68.0</td>\n",
       "      <td>3.31</td>\n",
       "      <td>64.0</td>\n",
       "      <td>2.0</td>\n",
       "      <td>479.312240</td>\n",
       "      <td>2692466.0</td>\n",
       "      <td>8.5</td>\n",
       "      <td>8.3</td>\n",
       "      <td>0.527</td>\n",
       "      <td>11.4</td>\n",
       "    </tr>\n",
       "    <tr>\n",
       "      <th>65</th>\n",
       "      <td>76.2</td>\n",
       "      <td>131.0</td>\n",
       "      <td>0</td>\n",
       "      <td>8.56</td>\n",
       "      <td>2422.999774</td>\n",
       "      <td>99.0</td>\n",
       "      <td>0</td>\n",
       "      <td>47.0</td>\n",
       "      <td>0</td>\n",
       "      <td>96.0</td>\n",
       "      <td>5.54</td>\n",
       "      <td>99.0</td>\n",
       "      <td>0.2</td>\n",
       "      <td>12888.296670</td>\n",
       "      <td>NaN</td>\n",
       "      <td>3.3</td>\n",
       "      <td>3.3</td>\n",
       "      <td>0.782</td>\n",
       "      <td>13.9</td>\n",
       "    </tr>\n",
       "  </tbody>\n",
       "</table>\n",
       "</div>"
      ],
      "text/plain": [
       "    Life_expectancy  Adult_Mortality  infant_deaths  Alcohol  \\\n",
       "1              59.9            271.0             64     0.01   \n",
       "17             77.5              8.0              0     4.51   \n",
       "33             75.4             11.0             21     0.01   \n",
       "49             51.7            348.0             67     8.33   \n",
       "65             76.2            131.0              0     8.56   \n",
       "\n",
       "    percentage_expenditure  Hepatitis_B  Measles   BMI  under_five_deaths  \\\n",
       "1                73.523582         62.0      492  18.6                 86   \n",
       "17              428.749067         98.0        0  57.2                  1   \n",
       "33               54.237318         95.0        0  58.4                 24   \n",
       "49               23.965612         64.0    11699  22.7                101   \n",
       "65             2422.999774         99.0        0  47.0                  0   \n",
       "\n",
       "    Polio  Total_expenditure  Diphtheria  HIV_AIDS           GDP  Population  \\\n",
       "1    58.0               8.18        62.0       0.1    612.696514    327582.0   \n",
       "17   98.0               5.88        98.0       0.1   4575.763787    288914.0   \n",
       "33   95.0               7.21        95.0       0.1    547.851700  39113313.0   \n",
       "49   68.0               3.31        64.0       2.0    479.312240   2692466.0   \n",
       "65   96.0               5.54        99.0       0.2  12888.296670         NaN   \n",
       "\n",
       "    thinness_1_19_years  thinness_5_9_years  Income_composition_of_resources  \\\n",
       "1                  17.5                17.5                            0.476   \n",
       "17                  1.2                 1.3                            0.761   \n",
       "33                  6.0                 5.8                            0.741   \n",
       "49                  8.5                 8.3                            0.527   \n",
       "65                  3.3                 3.3                            0.782   \n",
       "\n",
       "    Schooling  \n",
       "1        10.0  \n",
       "17       14.2  \n",
       "33       14.4  \n",
       "49       11.4  \n",
       "65       13.9  "
      ]
     },
     "execution_count": 3,
     "metadata": {},
     "output_type": "execute_result"
    }
   ],
   "source": [
    "numerical_df_2014 = orig_df_2014.copy()\n",
    "\n",
    "for i in orig_df_2014.columns:\n",
    "    print(i + ':', orig_df_2014[i].dtype)\n",
    "    if orig_df_2014[i].dtype == 'object':\n",
    "        numerical_df_2014 = numerical_df_2014.drop(i,axis=1)\n",
    "    \n",
    "numerical_df_2014.head()"
   ]
  },
  {
   "cell_type": "code",
   "execution_count": 4,
   "metadata": {},
   "outputs": [
    {
     "name": "stdout",
     "output_type": "stream",
     "text": [
      "Life_expectancy: 0\n",
      "Adult_Mortality: 0\n",
      "infant_deaths: 0\n",
      "Alcohol: 1\n",
      "percentage_expenditure: 0\n",
      "Hepatitis_B: 10\n",
      "Measles: 0\n",
      "BMI: 2\n",
      "under_five_deaths: 0\n",
      "Polio: 0\n",
      "Total_expenditure: 2\n",
      "Diphtheria: 0\n",
      "HIV_AIDS: 0\n",
      "GDP: 28\n",
      "Population: 41\n",
      "thinness_1_19_years: 2\n",
      "thinness_5_9_years: 2\n",
      "Income_composition_of_resources: 10\n",
      "Schooling: 10\n"
     ]
    }
   ],
   "source": [
    "#print the number of missing values for each column in 2014\n",
    "for i in numerical_df_2014.columns:\n",
    "    print(i+':', numerical_df_2014[i].isna().sum())"
   ]
  },
  {
   "cell_type": "markdown",
   "metadata": {},
   "source": [
    "### Solution 1.2"
   ]
  },
  {
   "cell_type": "code",
   "execution_count": 5,
   "metadata": {},
   "outputs": [
    {
     "name": "stdout",
     "output_type": "stream",
     "text": [
      "dropped 52 rows\n"
     ]
    }
   ],
   "source": [
    "# 1.2.a\n",
    "numerical_df_na_drop_row = numerical_df_2014.copy()\n",
    "numerical_df_na_drop_row.dropna(axis=0, inplace=True)\n",
    "print('dropped', numerical_df_2014.shape[0] - numerical_df_na_drop_row.shape[0], 'rows')\n",
    "\n",
    "y_2014 = numerical_df_na_drop_row['Life_expectancy']\n",
    "X_2014 = numerical_df_na_drop_row.drop('Life_expectancy',axis=1)\n",
    "X_train_2014, X_test_2014, y_train_2014, y_test_2014 = train_test_split(X_2014, y_2014, test_size=0.3, random_state=42)"
   ]
  },
  {
   "cell_type": "code",
   "execution_count": 6,
   "metadata": {},
   "outputs": [
    {
     "name": "stdout",
     "output_type": "stream",
     "text": [
      "R^2 score is: 0.8701727711220606\n"
     ]
    }
   ],
   "source": [
    "linreg_drop = LinearRegression().fit(X_train_2014, y_train_2014)\n",
    "print('R^2 score is:', linreg_drop.score(X_test_2014,y_test_2014)) #LinearRegression score uses R2"
   ]
  },
  {
   "cell_type": "code",
   "execution_count": 7,
   "metadata": {},
   "outputs": [],
   "source": [
    "# 1.2.b\n",
    "numerical_df_na_fill_zero = numerical_df_2014.copy()\n",
    "numerical_df_na_fill_zero.fillna(value=0, inplace=True)\n",
    "\n",
    "y_2014 = numerical_df_na_fill_zero['Life_expectancy']\n",
    "X_2014 = numerical_df_na_fill_zero.drop('Life_expectancy',axis=1)\n",
    "X_train_2014, X_test_2014, y_train_2014, y_test_2014 = train_test_split(X_2014, y_2014, test_size=0.3, random_state=42)"
   ]
  },
  {
   "cell_type": "code",
   "execution_count": 8,
   "metadata": {},
   "outputs": [
    {
     "name": "stdout",
     "output_type": "stream",
     "text": [
      "R^2 score is: 0.8179646801674404\n"
     ]
    }
   ],
   "source": [
    "linreg_fill = LinearRegression().fit(X_train_2014, y_train_2014)\n",
    "print('R^2 score is:', linreg_fill.score(X_test_2014, y_test_2014)) #LinearRegression score uses R2"
   ]
  },
  {
   "cell_type": "code",
   "execution_count": 9,
   "metadata": {},
   "outputs": [
    {
     "name": "stdout",
     "output_type": "stream",
     "text": [
      "dropped 10 cols\n"
     ]
    }
   ],
   "source": [
    "# 1.2.c\n",
    "numerical_df_na_drop_cols = numerical_df_2014.copy()\n",
    "numerical_df_na_drop_cols.dropna(axis=1, inplace=True)\n",
    "print('dropped', numerical_df_2014.shape[1] - numerical_df_na_drop_cols.shape[1], 'cols')\n",
    "\n",
    "y_2014 = numerical_df_na_drop_cols['Life_expectancy']\n",
    "X_2014 = numerical_df_na_drop_cols.drop('Life_expectancy',axis=1)\n",
    "X_train_2014, X_test_2014, y_train_2014, y_test_2014 = train_test_split(X_2014, y_2014, test_size=0.3, random_state=42)"
   ]
  },
  {
   "cell_type": "code",
   "execution_count": 10,
   "metadata": {},
   "outputs": [
    {
     "name": "stdout",
     "output_type": "stream",
     "text": [
      "R^2 score is: 0.7023537475768191\n"
     ]
    }
   ],
   "source": [
    "linreg_dropcol = LinearRegression().fit(X_train_2014, y_train_2014)\n",
    "print('R^2 score is:', linreg_dropcol.score(X_test_2014, y_test_2014)) #LinearRegression score uses R2"
   ]
  },
  {
   "cell_type": "markdown",
   "metadata": {},
   "source": [
    "1.2.d) Dropping the rows with missing data had the highest R^2 score at 0.870, then filling rows with a score of 0.817, then dropping columns with 0.702. Out of these three options, my preferred way to handle missing data would be to drop rows, but it depends on the data. Data where only one column is missing values but it's missing a lot of values, then it would be smart to just drop that column. But data like this set where dropping columns results in losing most of the features is going to hurt the predictive power of your data. Filling missing data with zeros is a decent option but it can skew the data. A column that was zero-mean would be best for filling missing values with zero. In general however, my preferred method to handle missing data would be to fill the missing values with a mean/median/mode of its feature, or use the k-Nearest-Neighbor algorithm for finding the best value to fill."
   ]
  },
  {
   "cell_type": "markdown",
   "metadata": {},
   "source": [
    "### Solution 1.3"
   ]
  },
  {
   "cell_type": "code",
   "execution_count": 11,
   "metadata": {},
   "outputs": [
    {
     "name": "stdout",
     "output_type": "stream",
     "text": [
      "dropped 52 rows\n"
     ]
    }
   ],
   "source": [
    "numerical_df_na_drop_row = numerical_df_2014.copy()\n",
    "numerical_df_na_drop_row.dropna(axis=0, inplace=True)\n",
    "print('dropped', numerical_df_2014.shape[0] - numerical_df_na_drop_row.shape[0], 'rows')\n",
    "\n",
    "y_2014 = numerical_df_na_drop_row['Life_expectancy']\n",
    "X_2014 = numerical_df_na_drop_row.drop('Life_expectancy',axis=1)\n",
    "X_train_2014, X_test_2014, y_train_2014, y_test_2014 = train_test_split(X_2014, y_2014, test_size=0.3, random_state=42)"
   ]
  },
  {
   "cell_type": "code",
   "execution_count": 12,
   "metadata": {},
   "outputs": [
    {
     "data": {
      "text/html": [
       "<div>\n",
       "<style scoped>\n",
       "    .dataframe tbody tr th:only-of-type {\n",
       "        vertical-align: middle;\n",
       "    }\n",
       "\n",
       "    .dataframe tbody tr th {\n",
       "        vertical-align: top;\n",
       "    }\n",
       "\n",
       "    .dataframe thead th {\n",
       "        text-align: right;\n",
       "    }\n",
       "</style>\n",
       "<table border=\"1\" class=\"dataframe\">\n",
       "  <thead>\n",
       "    <tr style=\"text-align: right;\">\n",
       "      <th></th>\n",
       "      <th>Life_expectancy</th>\n",
       "      <th>Adult_Mortality</th>\n",
       "      <th>infant_deaths</th>\n",
       "      <th>Alcohol</th>\n",
       "      <th>percentage_expenditure</th>\n",
       "      <th>Hepatitis_B</th>\n",
       "      <th>Measles</th>\n",
       "      <th>BMI</th>\n",
       "      <th>under_five_deaths</th>\n",
       "      <th>Polio</th>\n",
       "      <th>Total_expenditure</th>\n",
       "      <th>Diphtheria</th>\n",
       "      <th>HIV_AIDS</th>\n",
       "      <th>GDP</th>\n",
       "      <th>Population</th>\n",
       "      <th>thinness_1_19_years</th>\n",
       "      <th>thinness_5_9_years</th>\n",
       "      <th>Income_composition_of_resources</th>\n",
       "      <th>Schooling</th>\n",
       "    </tr>\n",
       "  </thead>\n",
       "  <tbody>\n",
       "    <tr>\n",
       "      <th>Life_expectancy</th>\n",
       "      <td>1.000000</td>\n",
       "      <td>-0.793102</td>\n",
       "      <td>-0.195053</td>\n",
       "      <td>0.456352</td>\n",
       "      <td>0.409644</td>\n",
       "      <td>0.227618</td>\n",
       "      <td>-0.035850</td>\n",
       "      <td>0.534602</td>\n",
       "      <td>-0.222776</td>\n",
       "      <td>0.302509</td>\n",
       "      <td>0.317548</td>\n",
       "      <td>0.301166</td>\n",
       "      <td>-0.663313</td>\n",
       "      <td>0.453543</td>\n",
       "      <td>-0.037952</td>\n",
       "      <td>-0.372451</td>\n",
       "      <td>-0.410019</td>\n",
       "      <td>0.884442</td>\n",
       "      <td>0.786168</td>\n",
       "    </tr>\n",
       "    <tr>\n",
       "      <th>Adult_Mortality</th>\n",
       "      <td>-0.793102</td>\n",
       "      <td>1.000000</td>\n",
       "      <td>0.156231</td>\n",
       "      <td>-0.263692</td>\n",
       "      <td>-0.287232</td>\n",
       "      <td>-0.199859</td>\n",
       "      <td>0.040395</td>\n",
       "      <td>-0.404719</td>\n",
       "      <td>0.181439</td>\n",
       "      <td>-0.254602</td>\n",
       "      <td>-0.164331</td>\n",
       "      <td>-0.222582</td>\n",
       "      <td>0.624627</td>\n",
       "      <td>-0.313840</td>\n",
       "      <td>0.022158</td>\n",
       "      <td>0.246735</td>\n",
       "      <td>0.284775</td>\n",
       "      <td>-0.706643</td>\n",
       "      <td>-0.621257</td>\n",
       "    </tr>\n",
       "    <tr>\n",
       "      <th>infant_deaths</th>\n",
       "      <td>-0.195053</td>\n",
       "      <td>0.156231</td>\n",
       "      <td>1.000000</td>\n",
       "      <td>-0.044742</td>\n",
       "      <td>-0.103767</td>\n",
       "      <td>-0.057209</td>\n",
       "      <td>0.690798</td>\n",
       "      <td>-0.206088</td>\n",
       "      <td>0.995573</td>\n",
       "      <td>-0.088632</td>\n",
       "      <td>-0.175904</td>\n",
       "      <td>-0.057068</td>\n",
       "      <td>0.089708</td>\n",
       "      <td>-0.102764</td>\n",
       "      <td>0.860371</td>\n",
       "      <td>0.520461</td>\n",
       "      <td>0.598863</td>\n",
       "      <td>-0.170661</td>\n",
       "      <td>-0.198074</td>\n",
       "    </tr>\n",
       "    <tr>\n",
       "      <th>Alcohol</th>\n",
       "      <td>0.456352</td>\n",
       "      <td>-0.263692</td>\n",
       "      <td>-0.044742</td>\n",
       "      <td>1.000000</td>\n",
       "      <td>0.449911</td>\n",
       "      <td>-0.032923</td>\n",
       "      <td>0.109102</td>\n",
       "      <td>0.289271</td>\n",
       "      <td>-0.055413</td>\n",
       "      <td>0.037630</td>\n",
       "      <td>0.326574</td>\n",
       "      <td>0.099286</td>\n",
       "      <td>-0.185373</td>\n",
       "      <td>0.382107</td>\n",
       "      <td>0.023025</td>\n",
       "      <td>-0.321867</td>\n",
       "      <td>-0.328696</td>\n",
       "      <td>0.533650</td>\n",
       "      <td>0.511425</td>\n",
       "    </tr>\n",
       "    <tr>\n",
       "      <th>percentage_expenditure</th>\n",
       "      <td>0.409644</td>\n",
       "      <td>-0.287232</td>\n",
       "      <td>-0.103767</td>\n",
       "      <td>0.449911</td>\n",
       "      <td>1.000000</td>\n",
       "      <td>0.081194</td>\n",
       "      <td>-0.081789</td>\n",
       "      <td>0.322299</td>\n",
       "      <td>-0.105577</td>\n",
       "      <td>0.072772</td>\n",
       "      <td>0.339906</td>\n",
       "      <td>0.089483</td>\n",
       "      <td>-0.175240</td>\n",
       "      <td>0.889282</td>\n",
       "      <td>-0.052180</td>\n",
       "      <td>-0.240488</td>\n",
       "      <td>-0.254663</td>\n",
       "      <td>0.481669</td>\n",
       "      <td>0.511526</td>\n",
       "    </tr>\n",
       "    <tr>\n",
       "      <th>Hepatitis_B</th>\n",
       "      <td>0.227618</td>\n",
       "      <td>-0.199859</td>\n",
       "      <td>-0.057209</td>\n",
       "      <td>-0.032923</td>\n",
       "      <td>0.081194</td>\n",
       "      <td>1.000000</td>\n",
       "      <td>-0.001594</td>\n",
       "      <td>0.022392</td>\n",
       "      <td>-0.068415</td>\n",
       "      <td>0.714915</td>\n",
       "      <td>0.093203</td>\n",
       "      <td>0.889856</td>\n",
       "      <td>-0.242196</td>\n",
       "      <td>0.120225</td>\n",
       "      <td>-0.023063</td>\n",
       "      <td>0.076299</td>\n",
       "      <td>0.035755</td>\n",
       "      <td>0.160990</td>\n",
       "      <td>0.206307</td>\n",
       "    </tr>\n",
       "    <tr>\n",
       "      <th>Measles</th>\n",
       "      <td>-0.035850</td>\n",
       "      <td>0.040395</td>\n",
       "      <td>0.690798</td>\n",
       "      <td>0.109102</td>\n",
       "      <td>-0.081789</td>\n",
       "      <td>-0.001594</td>\n",
       "      <td>1.000000</td>\n",
       "      <td>-0.144472</td>\n",
       "      <td>0.660136</td>\n",
       "      <td>0.007020</td>\n",
       "      <td>-0.116528</td>\n",
       "      <td>-0.003619</td>\n",
       "      <td>-0.072101</td>\n",
       "      <td>-0.050631</td>\n",
       "      <td>0.685410</td>\n",
       "      <td>0.302517</td>\n",
       "      <td>0.400245</td>\n",
       "      <td>-0.017978</td>\n",
       "      <td>-0.049447</td>\n",
       "    </tr>\n",
       "    <tr>\n",
       "      <th>BMI</th>\n",
       "      <td>0.534602</td>\n",
       "      <td>-0.404719</td>\n",
       "      <td>-0.206088</td>\n",
       "      <td>0.289271</td>\n",
       "      <td>0.322299</td>\n",
       "      <td>0.022392</td>\n",
       "      <td>-0.144472</td>\n",
       "      <td>1.000000</td>\n",
       "      <td>-0.212341</td>\n",
       "      <td>0.056679</td>\n",
       "      <td>0.184429</td>\n",
       "      <td>0.058935</td>\n",
       "      <td>-0.360509</td>\n",
       "      <td>0.370753</td>\n",
       "      <td>-0.130938</td>\n",
       "      <td>-0.513234</td>\n",
       "      <td>-0.554920</td>\n",
       "      <td>0.609339</td>\n",
       "      <td>0.475702</td>\n",
       "    </tr>\n",
       "    <tr>\n",
       "      <th>under_five_deaths</th>\n",
       "      <td>-0.222776</td>\n",
       "      <td>0.181439</td>\n",
       "      <td>0.995573</td>\n",
       "      <td>-0.055413</td>\n",
       "      <td>-0.105577</td>\n",
       "      <td>-0.068415</td>\n",
       "      <td>0.660136</td>\n",
       "      <td>-0.212341</td>\n",
       "      <td>1.000000</td>\n",
       "      <td>-0.105497</td>\n",
       "      <td>-0.180019</td>\n",
       "      <td>-0.071247</td>\n",
       "      <td>0.121061</td>\n",
       "      <td>-0.105686</td>\n",
       "      <td>0.820952</td>\n",
       "      <td>0.492194</td>\n",
       "      <td>0.585501</td>\n",
       "      <td>-0.186697</td>\n",
       "      <td>-0.209497</td>\n",
       "    </tr>\n",
       "    <tr>\n",
       "      <th>Polio</th>\n",
       "      <td>0.302509</td>\n",
       "      <td>-0.254602</td>\n",
       "      <td>-0.088632</td>\n",
       "      <td>0.037630</td>\n",
       "      <td>0.072772</td>\n",
       "      <td>0.714915</td>\n",
       "      <td>0.007020</td>\n",
       "      <td>0.056679</td>\n",
       "      <td>-0.105497</td>\n",
       "      <td>1.000000</td>\n",
       "      <td>0.185204</td>\n",
       "      <td>0.804280</td>\n",
       "      <td>-0.224890</td>\n",
       "      <td>0.128262</td>\n",
       "      <td>-0.015965</td>\n",
       "      <td>0.022544</td>\n",
       "      <td>-0.022179</td>\n",
       "      <td>0.284949</td>\n",
       "      <td>0.323122</td>\n",
       "    </tr>\n",
       "    <tr>\n",
       "      <th>Total_expenditure</th>\n",
       "      <td>0.317548</td>\n",
       "      <td>-0.164331</td>\n",
       "      <td>-0.175904</td>\n",
       "      <td>0.326574</td>\n",
       "      <td>0.339906</td>\n",
       "      <td>0.093203</td>\n",
       "      <td>-0.116528</td>\n",
       "      <td>0.184429</td>\n",
       "      <td>-0.180019</td>\n",
       "      <td>0.185204</td>\n",
       "      <td>1.000000</td>\n",
       "      <td>0.219883</td>\n",
       "      <td>-0.083669</td>\n",
       "      <td>0.193617</td>\n",
       "      <td>-0.083946</td>\n",
       "      <td>-0.269588</td>\n",
       "      <td>-0.339322</td>\n",
       "      <td>0.264007</td>\n",
       "      <td>0.316814</td>\n",
       "    </tr>\n",
       "    <tr>\n",
       "      <th>Diphtheria</th>\n",
       "      <td>0.301166</td>\n",
       "      <td>-0.222582</td>\n",
       "      <td>-0.057068</td>\n",
       "      <td>0.099286</td>\n",
       "      <td>0.089483</td>\n",
       "      <td>0.889856</td>\n",
       "      <td>-0.003619</td>\n",
       "      <td>0.058935</td>\n",
       "      <td>-0.071247</td>\n",
       "      <td>0.804280</td>\n",
       "      <td>0.219883</td>\n",
       "      <td>1.000000</td>\n",
       "      <td>-0.237104</td>\n",
       "      <td>0.124082</td>\n",
       "      <td>-0.003143</td>\n",
       "      <td>0.037250</td>\n",
       "      <td>-0.004998</td>\n",
       "      <td>0.258609</td>\n",
       "      <td>0.280675</td>\n",
       "    </tr>\n",
       "    <tr>\n",
       "      <th>HIV_AIDS</th>\n",
       "      <td>-0.663313</td>\n",
       "      <td>0.624627</td>\n",
       "      <td>0.089708</td>\n",
       "      <td>-0.185373</td>\n",
       "      <td>-0.175240</td>\n",
       "      <td>-0.242196</td>\n",
       "      <td>-0.072101</td>\n",
       "      <td>-0.360509</td>\n",
       "      <td>0.121061</td>\n",
       "      <td>-0.224890</td>\n",
       "      <td>-0.083669</td>\n",
       "      <td>-0.237104</td>\n",
       "      <td>1.000000</td>\n",
       "      <td>-0.203700</td>\n",
       "      <td>-0.046411</td>\n",
       "      <td>0.136378</td>\n",
       "      <td>0.150345</td>\n",
       "      <td>-0.529047</td>\n",
       "      <td>-0.457325</td>\n",
       "    </tr>\n",
       "    <tr>\n",
       "      <th>GDP</th>\n",
       "      <td>0.453543</td>\n",
       "      <td>-0.313840</td>\n",
       "      <td>-0.102764</td>\n",
       "      <td>0.382107</td>\n",
       "      <td>0.889282</td>\n",
       "      <td>0.120225</td>\n",
       "      <td>-0.050631</td>\n",
       "      <td>0.370753</td>\n",
       "      <td>-0.105686</td>\n",
       "      <td>0.128262</td>\n",
       "      <td>0.193617</td>\n",
       "      <td>0.124082</td>\n",
       "      <td>-0.203700</td>\n",
       "      <td>1.000000</td>\n",
       "      <td>-0.058943</td>\n",
       "      <td>-0.282634</td>\n",
       "      <td>-0.294698</td>\n",
       "      <td>0.564627</td>\n",
       "      <td>0.574583</td>\n",
       "    </tr>\n",
       "    <tr>\n",
       "      <th>Population</th>\n",
       "      <td>-0.037952</td>\n",
       "      <td>0.022158</td>\n",
       "      <td>0.860371</td>\n",
       "      <td>0.023025</td>\n",
       "      <td>-0.052180</td>\n",
       "      <td>-0.023063</td>\n",
       "      <td>0.685410</td>\n",
       "      <td>-0.130938</td>\n",
       "      <td>0.820952</td>\n",
       "      <td>-0.015965</td>\n",
       "      <td>-0.083946</td>\n",
       "      <td>-0.003143</td>\n",
       "      <td>-0.046411</td>\n",
       "      <td>-0.058943</td>\n",
       "      <td>1.000000</td>\n",
       "      <td>0.543232</td>\n",
       "      <td>0.536709</td>\n",
       "      <td>-0.055621</td>\n",
       "      <td>-0.065594</td>\n",
       "    </tr>\n",
       "    <tr>\n",
       "      <th>thinness_1_19_years</th>\n",
       "      <td>-0.372451</td>\n",
       "      <td>0.246735</td>\n",
       "      <td>0.520461</td>\n",
       "      <td>-0.321867</td>\n",
       "      <td>-0.240488</td>\n",
       "      <td>0.076299</td>\n",
       "      <td>0.302517</td>\n",
       "      <td>-0.513234</td>\n",
       "      <td>0.492194</td>\n",
       "      <td>0.022544</td>\n",
       "      <td>-0.269588</td>\n",
       "      <td>0.037250</td>\n",
       "      <td>0.136378</td>\n",
       "      <td>-0.282634</td>\n",
       "      <td>0.543232</td>\n",
       "      <td>1.000000</td>\n",
       "      <td>0.940995</td>\n",
       "      <td>-0.439283</td>\n",
       "      <td>-0.427683</td>\n",
       "    </tr>\n",
       "    <tr>\n",
       "      <th>thinness_5_9_years</th>\n",
       "      <td>-0.410019</td>\n",
       "      <td>0.284775</td>\n",
       "      <td>0.598863</td>\n",
       "      <td>-0.328696</td>\n",
       "      <td>-0.254663</td>\n",
       "      <td>0.035755</td>\n",
       "      <td>0.400245</td>\n",
       "      <td>-0.554920</td>\n",
       "      <td>0.585501</td>\n",
       "      <td>-0.022179</td>\n",
       "      <td>-0.339322</td>\n",
       "      <td>-0.004998</td>\n",
       "      <td>0.150345</td>\n",
       "      <td>-0.294698</td>\n",
       "      <td>0.536709</td>\n",
       "      <td>0.940995</td>\n",
       "      <td>1.000000</td>\n",
       "      <td>-0.448930</td>\n",
       "      <td>-0.443726</td>\n",
       "    </tr>\n",
       "    <tr>\n",
       "      <th>Income_composition_of_resources</th>\n",
       "      <td>0.884442</td>\n",
       "      <td>-0.706643</td>\n",
       "      <td>-0.170661</td>\n",
       "      <td>0.533650</td>\n",
       "      <td>0.481669</td>\n",
       "      <td>0.160990</td>\n",
       "      <td>-0.017978</td>\n",
       "      <td>0.609339</td>\n",
       "      <td>-0.186697</td>\n",
       "      <td>0.284949</td>\n",
       "      <td>0.264007</td>\n",
       "      <td>0.258609</td>\n",
       "      <td>-0.529047</td>\n",
       "      <td>0.564627</td>\n",
       "      <td>-0.055621</td>\n",
       "      <td>-0.439283</td>\n",
       "      <td>-0.448930</td>\n",
       "      <td>1.000000</td>\n",
       "      <td>0.897739</td>\n",
       "    </tr>\n",
       "    <tr>\n",
       "      <th>Schooling</th>\n",
       "      <td>0.786168</td>\n",
       "      <td>-0.621257</td>\n",
       "      <td>-0.198074</td>\n",
       "      <td>0.511425</td>\n",
       "      <td>0.511526</td>\n",
       "      <td>0.206307</td>\n",
       "      <td>-0.049447</td>\n",
       "      <td>0.475702</td>\n",
       "      <td>-0.209497</td>\n",
       "      <td>0.323122</td>\n",
       "      <td>0.316814</td>\n",
       "      <td>0.280675</td>\n",
       "      <td>-0.457325</td>\n",
       "      <td>0.574583</td>\n",
       "      <td>-0.065594</td>\n",
       "      <td>-0.427683</td>\n",
       "      <td>-0.443726</td>\n",
       "      <td>0.897739</td>\n",
       "      <td>1.000000</td>\n",
       "    </tr>\n",
       "  </tbody>\n",
       "</table>\n",
       "</div>"
      ],
      "text/plain": [
       "                                 Life_expectancy  Adult_Mortality  \\\n",
       "Life_expectancy                         1.000000        -0.793102   \n",
       "Adult_Mortality                        -0.793102         1.000000   \n",
       "infant_deaths                          -0.195053         0.156231   \n",
       "Alcohol                                 0.456352        -0.263692   \n",
       "percentage_expenditure                  0.409644        -0.287232   \n",
       "Hepatitis_B                             0.227618        -0.199859   \n",
       "Measles                                -0.035850         0.040395   \n",
       "BMI                                     0.534602        -0.404719   \n",
       "under_five_deaths                      -0.222776         0.181439   \n",
       "Polio                                   0.302509        -0.254602   \n",
       "Total_expenditure                       0.317548        -0.164331   \n",
       "Diphtheria                              0.301166        -0.222582   \n",
       "HIV_AIDS                               -0.663313         0.624627   \n",
       "GDP                                     0.453543        -0.313840   \n",
       "Population                             -0.037952         0.022158   \n",
       "thinness_1_19_years                    -0.372451         0.246735   \n",
       "thinness_5_9_years                     -0.410019         0.284775   \n",
       "Income_composition_of_resources         0.884442        -0.706643   \n",
       "Schooling                               0.786168        -0.621257   \n",
       "\n",
       "                                 infant_deaths   Alcohol  \\\n",
       "Life_expectancy                      -0.195053  0.456352   \n",
       "Adult_Mortality                       0.156231 -0.263692   \n",
       "infant_deaths                         1.000000 -0.044742   \n",
       "Alcohol                              -0.044742  1.000000   \n",
       "percentage_expenditure               -0.103767  0.449911   \n",
       "Hepatitis_B                          -0.057209 -0.032923   \n",
       "Measles                               0.690798  0.109102   \n",
       "BMI                                  -0.206088  0.289271   \n",
       "under_five_deaths                     0.995573 -0.055413   \n",
       "Polio                                -0.088632  0.037630   \n",
       "Total_expenditure                    -0.175904  0.326574   \n",
       "Diphtheria                           -0.057068  0.099286   \n",
       "HIV_AIDS                              0.089708 -0.185373   \n",
       "GDP                                  -0.102764  0.382107   \n",
       "Population                            0.860371  0.023025   \n",
       "thinness_1_19_years                   0.520461 -0.321867   \n",
       "thinness_5_9_years                    0.598863 -0.328696   \n",
       "Income_composition_of_resources      -0.170661  0.533650   \n",
       "Schooling                            -0.198074  0.511425   \n",
       "\n",
       "                                 percentage_expenditure  Hepatitis_B  \\\n",
       "Life_expectancy                                0.409644     0.227618   \n",
       "Adult_Mortality                               -0.287232    -0.199859   \n",
       "infant_deaths                                 -0.103767    -0.057209   \n",
       "Alcohol                                        0.449911    -0.032923   \n",
       "percentage_expenditure                         1.000000     0.081194   \n",
       "Hepatitis_B                                    0.081194     1.000000   \n",
       "Measles                                       -0.081789    -0.001594   \n",
       "BMI                                            0.322299     0.022392   \n",
       "under_five_deaths                             -0.105577    -0.068415   \n",
       "Polio                                          0.072772     0.714915   \n",
       "Total_expenditure                              0.339906     0.093203   \n",
       "Diphtheria                                     0.089483     0.889856   \n",
       "HIV_AIDS                                      -0.175240    -0.242196   \n",
       "GDP                                            0.889282     0.120225   \n",
       "Population                                    -0.052180    -0.023063   \n",
       "thinness_1_19_years                           -0.240488     0.076299   \n",
       "thinness_5_9_years                            -0.254663     0.035755   \n",
       "Income_composition_of_resources                0.481669     0.160990   \n",
       "Schooling                                      0.511526     0.206307   \n",
       "\n",
       "                                  Measles       BMI  under_five_deaths  \\\n",
       "Life_expectancy                 -0.035850  0.534602          -0.222776   \n",
       "Adult_Mortality                  0.040395 -0.404719           0.181439   \n",
       "infant_deaths                    0.690798 -0.206088           0.995573   \n",
       "Alcohol                          0.109102  0.289271          -0.055413   \n",
       "percentage_expenditure          -0.081789  0.322299          -0.105577   \n",
       "Hepatitis_B                     -0.001594  0.022392          -0.068415   \n",
       "Measles                          1.000000 -0.144472           0.660136   \n",
       "BMI                             -0.144472  1.000000          -0.212341   \n",
       "under_five_deaths                0.660136 -0.212341           1.000000   \n",
       "Polio                            0.007020  0.056679          -0.105497   \n",
       "Total_expenditure               -0.116528  0.184429          -0.180019   \n",
       "Diphtheria                      -0.003619  0.058935          -0.071247   \n",
       "HIV_AIDS                        -0.072101 -0.360509           0.121061   \n",
       "GDP                             -0.050631  0.370753          -0.105686   \n",
       "Population                       0.685410 -0.130938           0.820952   \n",
       "thinness_1_19_years              0.302517 -0.513234           0.492194   \n",
       "thinness_5_9_years               0.400245 -0.554920           0.585501   \n",
       "Income_composition_of_resources -0.017978  0.609339          -0.186697   \n",
       "Schooling                       -0.049447  0.475702          -0.209497   \n",
       "\n",
       "                                    Polio  Total_expenditure  Diphtheria  \\\n",
       "Life_expectancy                  0.302509           0.317548    0.301166   \n",
       "Adult_Mortality                 -0.254602          -0.164331   -0.222582   \n",
       "infant_deaths                   -0.088632          -0.175904   -0.057068   \n",
       "Alcohol                          0.037630           0.326574    0.099286   \n",
       "percentage_expenditure           0.072772           0.339906    0.089483   \n",
       "Hepatitis_B                      0.714915           0.093203    0.889856   \n",
       "Measles                          0.007020          -0.116528   -0.003619   \n",
       "BMI                              0.056679           0.184429    0.058935   \n",
       "under_five_deaths               -0.105497          -0.180019   -0.071247   \n",
       "Polio                            1.000000           0.185204    0.804280   \n",
       "Total_expenditure                0.185204           1.000000    0.219883   \n",
       "Diphtheria                       0.804280           0.219883    1.000000   \n",
       "HIV_AIDS                        -0.224890          -0.083669   -0.237104   \n",
       "GDP                              0.128262           0.193617    0.124082   \n",
       "Population                      -0.015965          -0.083946   -0.003143   \n",
       "thinness_1_19_years              0.022544          -0.269588    0.037250   \n",
       "thinness_5_9_years              -0.022179          -0.339322   -0.004998   \n",
       "Income_composition_of_resources  0.284949           0.264007    0.258609   \n",
       "Schooling                        0.323122           0.316814    0.280675   \n",
       "\n",
       "                                 HIV_AIDS       GDP  Population  \\\n",
       "Life_expectancy                 -0.663313  0.453543   -0.037952   \n",
       "Adult_Mortality                  0.624627 -0.313840    0.022158   \n",
       "infant_deaths                    0.089708 -0.102764    0.860371   \n",
       "Alcohol                         -0.185373  0.382107    0.023025   \n",
       "percentage_expenditure          -0.175240  0.889282   -0.052180   \n",
       "Hepatitis_B                     -0.242196  0.120225   -0.023063   \n",
       "Measles                         -0.072101 -0.050631    0.685410   \n",
       "BMI                             -0.360509  0.370753   -0.130938   \n",
       "under_five_deaths                0.121061 -0.105686    0.820952   \n",
       "Polio                           -0.224890  0.128262   -0.015965   \n",
       "Total_expenditure               -0.083669  0.193617   -0.083946   \n",
       "Diphtheria                      -0.237104  0.124082   -0.003143   \n",
       "HIV_AIDS                         1.000000 -0.203700   -0.046411   \n",
       "GDP                             -0.203700  1.000000   -0.058943   \n",
       "Population                      -0.046411 -0.058943    1.000000   \n",
       "thinness_1_19_years              0.136378 -0.282634    0.543232   \n",
       "thinness_5_9_years               0.150345 -0.294698    0.536709   \n",
       "Income_composition_of_resources -0.529047  0.564627   -0.055621   \n",
       "Schooling                       -0.457325  0.574583   -0.065594   \n",
       "\n",
       "                                 thinness_1_19_years  thinness_5_9_years  \\\n",
       "Life_expectancy                            -0.372451           -0.410019   \n",
       "Adult_Mortality                             0.246735            0.284775   \n",
       "infant_deaths                               0.520461            0.598863   \n",
       "Alcohol                                    -0.321867           -0.328696   \n",
       "percentage_expenditure                     -0.240488           -0.254663   \n",
       "Hepatitis_B                                 0.076299            0.035755   \n",
       "Measles                                     0.302517            0.400245   \n",
       "BMI                                        -0.513234           -0.554920   \n",
       "under_five_deaths                           0.492194            0.585501   \n",
       "Polio                                       0.022544           -0.022179   \n",
       "Total_expenditure                          -0.269588           -0.339322   \n",
       "Diphtheria                                  0.037250           -0.004998   \n",
       "HIV_AIDS                                    0.136378            0.150345   \n",
       "GDP                                        -0.282634           -0.294698   \n",
       "Population                                  0.543232            0.536709   \n",
       "thinness_1_19_years                         1.000000            0.940995   \n",
       "thinness_5_9_years                          0.940995            1.000000   \n",
       "Income_composition_of_resources            -0.439283           -0.448930   \n",
       "Schooling                                  -0.427683           -0.443726   \n",
       "\n",
       "                                 Income_composition_of_resources  Schooling  \n",
       "Life_expectancy                                         0.884442   0.786168  \n",
       "Adult_Mortality                                        -0.706643  -0.621257  \n",
       "infant_deaths                                          -0.170661  -0.198074  \n",
       "Alcohol                                                 0.533650   0.511425  \n",
       "percentage_expenditure                                  0.481669   0.511526  \n",
       "Hepatitis_B                                             0.160990   0.206307  \n",
       "Measles                                                -0.017978  -0.049447  \n",
       "BMI                                                     0.609339   0.475702  \n",
       "under_five_deaths                                      -0.186697  -0.209497  \n",
       "Polio                                                   0.284949   0.323122  \n",
       "Total_expenditure                                       0.264007   0.316814  \n",
       "Diphtheria                                              0.258609   0.280675  \n",
       "HIV_AIDS                                               -0.529047  -0.457325  \n",
       "GDP                                                     0.564627   0.574583  \n",
       "Population                                             -0.055621  -0.065594  \n",
       "thinness_1_19_years                                    -0.439283  -0.427683  \n",
       "thinness_5_9_years                                     -0.448930  -0.443726  \n",
       "Income_composition_of_resources                         1.000000   0.897739  \n",
       "Schooling                                               0.897739   1.000000  "
      ]
     },
     "execution_count": 12,
     "metadata": {},
     "output_type": "execute_result"
    }
   ],
   "source": [
    "# 1.3.a\n",
    "train_combined, dummytest = train_test_split(numerical_df_na_drop_row,test_size=0.3,random_state=42)\n",
    "corr_matrix = train_combined.corr()\n",
    "corr_matrix"
   ]
  },
  {
   "cell_type": "code",
   "execution_count": 13,
   "metadata": {},
   "outputs": [
    {
     "name": "stdout",
     "output_type": "stream",
     "text": [
      "[0.7931022073964489, 0.5346023396754936, 0.7861684070826337, 0.8844420102499087, 0.6633128940576278]\n",
      "['Adult_Mortality', 'BMI', 'Schooling', 'Income_composition_of_resources', 'HIV_AIDS']\n"
     ]
    }
   ],
   "source": [
    "highest_corr = [0,0,0,0,0]\n",
    "highest_corridx = [-1,-1,-1,-1,-1]\n",
    "#find 5 highest\n",
    "for i in range(len(train_combined.columns)):\n",
    "    correlation = np.abs(corr_matrix['Life_expectancy'][i])\n",
    "    if correlation > np.min(highest_corr) and correlation < 1:\n",
    "        idx = np.argmin(highest_corr)\n",
    "        highest_corr[idx] = correlation\n",
    "        highest_corridx[idx] = corr_matrix.columns[i]\n",
    "    \n",
    "print(highest_corr)\n",
    "print(highest_corridx)"
   ]
  },
  {
   "cell_type": "code",
   "execution_count": 14,
   "metadata": {},
   "outputs": [
    {
     "data": {
      "text/plain": [
       "SequentialFeatureSelector(estimator=LinearRegression(), n_features_to_select=5)"
      ]
     },
     "execution_count": 14,
     "metadata": {},
     "output_type": "execute_result"
    }
   ],
   "source": [
    "#1.3.b\n",
    "sfs = SequentialFeatureSelector(LinearRegression(),n_features_to_select=5,direction='forward')\n",
    "sfs.fit(X_train_2014,y_train_2014)"
   ]
  },
  {
   "cell_type": "code",
   "execution_count": 15,
   "metadata": {},
   "outputs": [
    {
     "data": {
      "text/plain": [
       "['Adult_Mortality',\n",
       " 'Alcohol',\n",
       " 'HIV_AIDS',\n",
       " 'GDP',\n",
       " 'Income_composition_of_resources']"
      ]
     },
     "execution_count": 15,
     "metadata": {},
     "output_type": "execute_result"
    }
   ],
   "source": [
    "boolarray = sfs.get_support()\n",
    "features = []\n",
    "for i in range(len(X_train_2014.columns)):\n",
    "    if boolarray[i]:\n",
    "        features.append(X_train_2014.columns[i])\n",
    "        \n",
    "features"
   ]
  },
  {
   "cell_type": "code",
   "execution_count": 16,
   "metadata": {},
   "outputs": [
    {
     "data": {
      "text/plain": [
       "array([1.93932430e-02, 4.38973250e-03, 1.83020948e-02, 1.16492338e-02,\n",
       "       5.26167019e-04, 2.84490963e-02, 1.22432780e-02, 6.46934932e-02,\n",
       "       3.55785362e-05, 3.80637628e-03, 9.27677388e-05, 6.28251884e-01,\n",
       "       4.32081556e-04, 1.63046425e-03, 3.42076930e-03, 1.57769536e-03,\n",
       "       1.93103427e-01, 8.00261730e-03])"
      ]
     },
     "execution_count": 16,
     "metadata": {},
     "output_type": "execute_result"
    }
   ],
   "source": [
    "#1.3.c\n",
    "dtc = DecisionTreeRegressor(random_state=20).fit(X_train_2014, y_train_2014)\n",
    "dtc.feature_importances_"
   ]
  },
  {
   "cell_type": "code",
   "execution_count": 17,
   "metadata": {},
   "outputs": [
    {
     "name": "stdout",
     "output_type": "stream",
     "text": [
      "[0.019393242998918436, 0.628251884447212, 0.19310342653742524, 0.06469349324625781, 0.02844909625580568]\n",
      "['Adult_Mortality', 'HIV_AIDS', 'Income_composition_of_resources', 'under_five_deaths', 'Measles']\n"
     ]
    }
   ],
   "source": [
    "ftrimps = dtc.feature_importances_\n",
    "highest_imp = [0,0,0,0,0]\n",
    "highest_imps = ['','','','','']\n",
    "for i in range(len(ftrimps)):\n",
    "    ftrimp = ftrimps[i]\n",
    "    if ftrimp > np.min(highest_imp):\n",
    "        idx = np.argmin(highest_imp)\n",
    "        highest_imp[idx] = ftrimp\n",
    "        highest_imps[idx] = X_train_2014.columns[i]\n",
    "        \n",
    "print(highest_imp)\n",
    "print(highest_imps)"
   ]
  },
  {
   "cell_type": "code",
   "execution_count": 18,
   "metadata": {},
   "outputs": [
    {
     "data": {
      "text/html": [
       "<div>\n",
       "<style scoped>\n",
       "    .dataframe tbody tr th:only-of-type {\n",
       "        vertical-align: middle;\n",
       "    }\n",
       "\n",
       "    .dataframe tbody tr th {\n",
       "        vertical-align: top;\n",
       "    }\n",
       "\n",
       "    .dataframe thead th {\n",
       "        text-align: right;\n",
       "    }\n",
       "</style>\n",
       "<table border=\"1\" class=\"dataframe\">\n",
       "  <thead>\n",
       "    <tr style=\"text-align: right;\">\n",
       "      <th></th>\n",
       "      <th>Adult_Mortality</th>\n",
       "      <th>BMI</th>\n",
       "      <th>HIV_AIDS</th>\n",
       "      <th>Income_composition_of_resources</th>\n",
       "    </tr>\n",
       "  </thead>\n",
       "  <tbody>\n",
       "    <tr>\n",
       "      <th>979</th>\n",
       "      <td>125.0</td>\n",
       "      <td>55.3</td>\n",
       "      <td>0.1</td>\n",
       "      <td>0.759</td>\n",
       "    </tr>\n",
       "    <tr>\n",
       "      <th>1443</th>\n",
       "      <td>156.0</td>\n",
       "      <td>6.7</td>\n",
       "      <td>0.1</td>\n",
       "      <td>0.822</td>\n",
       "    </tr>\n",
       "    <tr>\n",
       "      <th>2024</th>\n",
       "      <td>214.0</td>\n",
       "      <td>24.8</td>\n",
       "      <td>0.1</td>\n",
       "      <td>0.676</td>\n",
       "    </tr>\n",
       "    <tr>\n",
       "      <th>593</th>\n",
       "      <td>23.0</td>\n",
       "      <td>23.7</td>\n",
       "      <td>0.8</td>\n",
       "      <td>0.497</td>\n",
       "    </tr>\n",
       "    <tr>\n",
       "      <th>1347</th>\n",
       "      <td>22.0</td>\n",
       "      <td>52.3</td>\n",
       "      <td>0.1</td>\n",
       "      <td>0.789</td>\n",
       "    </tr>\n",
       "  </tbody>\n",
       "</table>\n",
       "</div>"
      ],
      "text/plain": [
       "      Adult_Mortality   BMI  HIV_AIDS  Income_composition_of_resources\n",
       "979             125.0  55.3       0.1                            0.759\n",
       "1443            156.0   6.7       0.1                            0.822\n",
       "2024            214.0  24.8       0.1                            0.676\n",
       "593              23.0  23.7       0.8                            0.497\n",
       "1347             22.0  52.3       0.1                            0.789"
      ]
     },
     "execution_count": 18,
     "metadata": {},
     "output_type": "execute_result"
    }
   ],
   "source": [
    "# most commonly selected features: Adult_Mortality, HIV_AIDS, and Income_composition_of_resources\n",
    "X_bestftrs = X_train_2014.drop(['infant_deaths','Alcohol','percentage_expenditure','Hepatitis_B','Measles','under_five_deaths',\n",
    "                         'Polio', 'Total_expenditure', 'Diphtheria', 'GDP', 'Population', 'thinness_1_19_years',\n",
    "                         'thinness_5_9_years','Schooling'],axis=1)\n",
    "X_bestftrs_test = X_test_2014.drop(['infant_deaths','Alcohol','percentage_expenditure','Hepatitis_B','Measles','under_five_deaths',\n",
    "                         'Polio', 'Total_expenditure', 'Diphtheria', 'GDP', 'Population', 'thinness_1_19_years',\n",
    "                         'thinness_5_9_years','Schooling'],axis=1)\n",
    "X_bestftrs.head()"
   ]
  },
  {
   "cell_type": "code",
   "execution_count": 19,
   "metadata": {},
   "outputs": [
    {
     "name": "stdout",
     "output_type": "stream",
     "text": [
      "R^2 score: 0.8614809029751371\n",
      "R^2 adjusted score: 0.8456501490294386\n"
     ]
    }
   ],
   "source": [
    "linreg_bestftrs = LinearRegression().fit(X_bestftrs,y_train_2014)\n",
    "score = linreg_bestftrs.score(X_bestftrs_test,y_test_2014)\n",
    "print('R^2 score:', score)\n",
    "print('R^2 adjusted score:', 1 - (1-score)*(len(y_test_2014)-1)/(len(y_test_2014)-X_bestftrs_test.shape[1]-1))"
   ]
  },
  {
   "cell_type": "markdown",
   "metadata": {},
   "source": [
    "Feature selection can be useful to obtain a more accurate model, as we see in this example we got the best score using only the 3 best selected features. A linear regressor is a very simple model though and additional features can pretty easily skew the result, so it makes sense that feature selection helps a lot with a linear regression."
   ]
  },
  {
   "cell_type": "markdown",
   "metadata": {
    "id": "acLvny9VYBYa"
   },
   "source": [
    "# Question 2 (15 pts) - Principal Component Analysis\n",
    "\n",
    "In this problem we will be applying PCA on the Superconductivity Dataset. More details on the dataset is present [here](https://archive.ics.uci.edu/ml/datasets/Superconductivty+Data#). The goal here is to predict the critical temperature of a superconductor based on the features extracted.\n",
    "\n",
    "Use Principal Component Analysis (PCA) to solve this problem.  \n",
    "\n",
    "* **2.1 (1 pt)** Perform the following steps to prepare the dataset:\n",
    "    * Load the dataset from the \"Q2data.csv\" file provided as a dataframe df. \n",
    "\n",
    "    * Select the **'critical_temp'** column as the target column and the rest of the columns from the dataframe df as X. \n",
    "\n",
    "    * Split the dataset into train and test set with 35% data in test set and random_state = 42\n",
    "\n",
    "    * Perform [Standard Scaling](https://scikit-learn.org/stable/modules/generated/sklearn.preprocessing.StandardScaler.html#sklearn.preprocessing.StandardScaler) on the dataset. Remember that when we have training and testing data, we fit preprocessing parameters on training data and apply them to all testing data. You should scale only the features (independent variables), not the target variable y.\n",
    "    \n",
    "    `Note: X should have 81 features.`\n",
    "    \n",
    "* **2.2 (3 pts)** Use [PCA](https://scikit-learn.org/stable/modules/generated/sklearn.decomposition.PCA.html) and reduce the dimension of X_train to the following number of components: `[3,20,40,60,81]`. For each of the five datasets, print the cumulative variance explained by the principal components`N = [3,20,40,60,81]`.(i.e. what percentage of variance in the original dataset is explained if we transform the dataset to have 3,20,40,60 and 81 principal components respectively). \n",
    "\n",
    "  `Note : PCA should be fit on X_train and the components thus learnt should be later used to transform X_test`\n",
    "\n",
    "* **2.3 (4 pts)** Plot the cumulative variance explained by the principal components using the training data. The plot should display the number of components on X-axis and the cumulative explained variance on the y-axis. What do you understand from the plot obtained?\n",
    "\n",
    "* **2.4 (4 pts)** For each of the reduced dataset, obtained in part 2.2, fit a linear regression model on the train data and report the adjusted ${R^2}$ score on the test dataset. Comment on how the score varies as the number of components increase.(There will be a total of 5 adjusted ${R^2}$ score).\n",
    "\n",
    "* **2.5 (3 pts)** Visualizing principal components : For this part use a small subset of 50 samples of the training dataset and plot the first three principal components, i.e first plot PC1 vs. PC2 (i.e. the projection of the data onto the 2-D space defined by the first two Principal Components) and also PC2 vs PC3 in both these plot color the projected points according to the corresponding ground truth labels. Do you observe any pattern in the plot?\n",
    "\n",
    "  `Note : You will have two scatter plots for part 2.4`"
   ]
  },
  {
   "cell_type": "markdown",
   "metadata": {
    "id": "tistaqQeh6rp"
   },
   "source": [
    "# Solution 2"
   ]
  },
  {
   "cell_type": "markdown",
   "metadata": {},
   "source": [
    "### Solution 2.1"
   ]
  },
  {
   "cell_type": "code",
   "execution_count": 20,
   "metadata": {
    "id": "_EnDPkLH-Cxo"
   },
   "outputs": [],
   "source": [
    "#2.1\n",
    "df = pd.read_csv('Q2data.csv')\n",
    "y = df['critical_temp']\n",
    "X = df.drop('critical_temp', axis=1)\n",
    "X_train, X_test, y_train, y_test = train_test_split(X, y, test_size = 0.35, random_state=42)\n",
    "scaler = StandardScaler()\n",
    "scaler.fit(X_train)\n",
    "X_train_s = scaler.transform(X_train)\n",
    "X_test_s = scaler.transform(X_test)"
   ]
  },
  {
   "cell_type": "markdown",
   "metadata": {},
   "source": [
    "### Solution 2.2"
   ]
  },
  {
   "cell_type": "code",
   "execution_count": 21,
   "metadata": {},
   "outputs": [
    {
     "name": "stdout",
     "output_type": "stream",
     "text": [
      "0.5894367932307188\n",
      "0.969424998724444\n",
      "0.9961464512117504\n",
      "0.9995333314100111\n",
      "0.9999999999999999\n"
     ]
    }
   ],
   "source": [
    "#2.2\n",
    "from sklearn.decomposition import PCA\n",
    "N = [3,20,40,60,81]\n",
    "#N = np.arange(3,81,1)\n",
    "reduced_Xs = []\n",
    "reduced_Xtests = []\n",
    "ys = []\n",
    "for n in N:\n",
    "    pca = PCA(n_components=n)\n",
    "    reduced_Xs.append(pca.fit_transform(X_train_s))\n",
    "    print(pca.explained_variance_ratio_.sum())\n",
    "    ys.append(pca.explained_variance_ratio_.sum())\n",
    "    reduced_Xtests.append(pca.transform(X_test_s))"
   ]
  },
  {
   "cell_type": "markdown",
   "metadata": {},
   "source": [
    "### Solution 2.3"
   ]
  },
  {
   "cell_type": "code",
   "execution_count": 22,
   "metadata": {},
   "outputs": [
    {
     "data": {
      "text/plain": [
       "Text(0, 0.5, 'Cumulative Explained Variance')"
      ]
     },
     "execution_count": 22,
     "metadata": {},
     "output_type": "execute_result"
    },
    {
     "data": {
      "image/png": "[encoded data removed]",
      "text/plain": [
       "<Figure size 432x288 with 1 Axes>"
      ]
     },
     "metadata": {
      "needs_background": "light"
     },
     "output_type": "display_data"
    }
   ],
   "source": [
    "#2.3\n",
    "import matplotlib.pyplot as plt\n",
    "plt.plot(N,ys)\n",
    "plt.xlabel('Number of Components')\n",
    "plt.ylabel('Cumulative Explained Variance')"
   ]
  },
  {
   "cell_type": "markdown",
   "metadata": {},
   "source": []
  },
  {
   "cell_type": "markdown",
   "metadata": {},
   "source": [
    "### Solution 2.4"
   ]
  },
  {
   "cell_type": "code",
   "execution_count": 23,
   "metadata": {},
   "outputs": [
    {
     "name": "stdout",
     "output_type": "stream",
     "text": [
      "Adjusted R^2 for 3 : 0.4927514889588822\n",
      "Adjusted R^2 for 20 : 0.6240423247621445\n",
      "Adjusted R^2 for 40 : 0.6882631356047282\n",
      "Adjusted R^2 for 60 : 0.7155758363085698\n",
      "Adjusted R^2 for 81 : 0.7277522695494444\n"
     ]
    }
   ],
   "source": [
    "for i in range(len(reduced_Xs)):\n",
    "    linreg = LinearRegression().fit(reduced_Xs[i],y_train)\n",
    "    score = linreg.score(reduced_Xtests[i],y_test)\n",
    "    print(\"Adjusted R^2 for\", N[i], \":\", 1 - (1-score)*(len(y_test)-1)/(len(y_test)-reduced_Xtests[i].shape[1]-1))"
   ]
  },
  {
   "cell_type": "markdown",
   "metadata": {},
   "source": [
    "The score increases as the number of components increases."
   ]
  },
  {
   "cell_type": "markdown",
   "metadata": {},
   "source": [
    "### Solution 2.5"
   ]
  },
  {
   "cell_type": "code",
   "execution_count": 26,
   "metadata": {},
   "outputs": [],
   "source": [
    "# to project 81 dim X onto 2 dim B, we need B*(B^T*B)^-1*B^T*X\n",
    "# ignore this\n",
    "#BTBinv = np.linalg.inv( np.dot(pc2X.T,pc2X) )\n",
    "#print(BTBinv.shape)\n",
    "#BBTBinv = np.dot(pc2X, BTBinv)\n",
    "#print(BBTBinv.shape)\n",
    "#BTX = np.dot(pc2X.T, X_train_50)\n",
    "#print(BTX.shape)\n",
    "#proj2D = np.dot( BBTBinv, BTX)\n",
    "#print(proj2D.shape)\n"
   ]
  },
  {
   "cell_type": "code",
   "execution_count": 27,
   "metadata": {},
   "outputs": [
    {
     "name": "stdout",
     "output_type": "stream",
     "text": [
      "(13820, 81)\n",
      "10660      2.050\n",
      "20553      2.850\n",
      "4802      45.700\n",
      "17303      0.545\n",
      "14304     22.600\n",
      "6156      40.900\n",
      "9763      23.200\n",
      "12809      8.800\n",
      "16790      0.130\n",
      "16041      7.120\n",
      "10674     27.300\n",
      "20746      0.360\n",
      "7058      21.000\n",
      "15307      6.260\n",
      "20113      0.955\n",
      "16628      6.430\n",
      "13374      8.400\n",
      "18443      8.740\n",
      "8770      32.200\n",
      "16748      2.800\n",
      "12263      5.600\n",
      "19280      8.400\n",
      "17923      2.440\n",
      "9069      75.000\n",
      "13792      5.200\n",
      "6016      15.400\n",
      "1103      85.500\n",
      "5114      34.500\n",
      "16507      2.660\n",
      "4893      82.500\n",
      "18690     26.400\n",
      "4718      18.000\n",
      "3881      84.000\n",
      "15993      4.460\n",
      "11851      1.300\n",
      "597       87.000\n",
      "9866      45.000\n",
      "17870     34.000\n",
      "14782     38.400\n",
      "9007     124.000\n",
      "14404      4.620\n",
      "9648      45.000\n",
      "4055      28.000\n",
      "258       88.500\n",
      "4760      90.300\n",
      "8183       9.000\n",
      "1081      86.000\n",
      "13637      5.900\n",
      "12117     11.250\n",
      "8761      35.000\n",
      "Name: critical_temp, dtype: float64\n"
     ]
    }
   ],
   "source": [
    "#2.5\n",
    "\n",
    "print(X_train_s.shape)\n",
    "#take 50 samples\n",
    "X_train_50, dummyXtest, y_train_50, dummyYtest = train_test_split(X_train_s, y_train, test_size=13770, random_state=42)\n",
    "print(y_train_50)"
   ]
  },
  {
   "cell_type": "code",
   "execution_count": 28,
   "metadata": {},
   "outputs": [
    {
     "name": "stdout",
     "output_type": "stream",
     "text": [
      "['green', 'green', 'orangered', 'green', 'orange', 'orangered', 'orange', 'yellowgreen', 'green', 'yellowgreen', 'orange', 'green', 'orange', 'yellowgreen', 'green', 'yellowgreen', 'yellowgreen', 'yellowgreen', 'orangered', 'green', 'yellowgreen', 'yellowgreen', 'green', 'red', 'yellowgreen', 'yellow', 'red', 'orangered', 'green', 'red', 'orange', 'yellow', 'red', 'green', 'green', 'red', 'orangered', 'orangered', 'orangered', 'red', 'green', 'orangered', 'orange', 'red', 'red', 'yellowgreen', 'red', 'yellowgreen', 'yellow', 'orangered']\n"
     ]
    }
   ],
   "source": [
    "X_colors = []\n",
    "for i in range(len(y_train_50)):\n",
    "    if y_train_50.iloc[i] < 5:\n",
    "        X_colors.append('green')\n",
    "    elif y_train_50.iloc[i] < 10:\n",
    "        X_colors.append('yellowgreen')\n",
    "    elif y_train_50.iloc[i] < 20:\n",
    "        X_colors.append('yellow')\n",
    "    elif y_train_50.iloc[i] < 30:\n",
    "        X_colors.append('orange')\n",
    "    elif y_train_50.iloc[i] < 50:\n",
    "        X_colors.append('orangered')\n",
    "    else: #if y_train_50.iloc[i] < 100:\n",
    "        X_colors.append('red')\n",
    "        \n",
    "print(X_colors)"
   ]
  },
  {
   "cell_type": "code",
   "execution_count": 29,
   "metadata": {},
   "outputs": [],
   "source": [
    "pc1 = PCA(n_components = 1)\n",
    "pc2 = PCA(n_components = 2)\n",
    "pc3 = PCA(n_components = 3)\n",
    "pc1X = pc1.fit_transform(X_train_50)\n",
    "pc2X = pc2.fit_transform(X_train_50)\n",
    "pc3X = pc3.fit_transform(X_train_50)"
   ]
  },
  {
   "cell_type": "code",
   "execution_count": 30,
   "metadata": {},
   "outputs": [],
   "source": [
    "#print(pc2X)"
   ]
  },
  {
   "cell_type": "code",
   "execution_count": 31,
   "metadata": {},
   "outputs": [
    {
     "data": {
      "text/plain": [
       "Text(0, 0.5, 'PC2')"
      ]
     },
     "execution_count": 31,
     "metadata": {},
     "output_type": "execute_result"
    },
    {
     "data": {
      "image/png": "[encoded data removed]",
      "text/plain": [
       "<Figure size 432x288 with 1 Axes>"
      ]
     },
     "metadata": {
      "needs_background": "light"
     },
     "output_type": "display_data"
    }
   ],
   "source": [
    "#color according to ground truth labels? So what, each \"critical temp\" value gets its own colored point on the graph?\n",
    "# Each point is gonna have a unique crit temp so how is each point gonna have a unique color?\n",
    "for i in range(len(pc2X)):\n",
    "    plt.scatter(pc2X[i,0], pc2X[i,1],color=X_colors[i])\n",
    "plt.title('PC1 vs PC2 (red=highest crit_temp / green=lowest crit_temp)')\n",
    "plt.xlabel('PC1')\n",
    "plt.ylabel('PC2')"
   ]
  },
  {
   "cell_type": "code",
   "execution_count": 32,
   "metadata": {},
   "outputs": [
    {
     "data": {
      "text/plain": [
       "Text(0, 0.5, 'PC3')"
      ]
     },
     "execution_count": 32,
     "metadata": {},
     "output_type": "execute_result"
    },
    {
     "data": {
      "image/png": "[encoded data removed]",
      "text/plain": [
       "<Figure size 432x288 with 1 Axes>"
      ]
     },
     "metadata": {
      "needs_background": "light"
     },
     "output_type": "display_data"
    }
   ],
   "source": [
    "for i in range(len(pc2X)):\n",
    "    plt.scatter(pc3X[i,1], pc3X[i,2],color=X_colors[i])\n",
    "plt.title('PC2 vs PC3 (red=highest crit_temp / green=lowest crit_temp)')\n",
    "plt.xlabel('PC2')\n",
    "plt.ylabel('PC3')\n",
    "#plt.legend(['y > 50','30<y<50','20<y<30','10<y<20','5<y<10'])\n"
   ]
  },
  {
   "cell_type": "markdown",
   "metadata": {},
   "source": [
    "\"Do you observe any pattern in the plots?\" Not really. PC1 seems to show a higher y value the more negative PC1 is, but PC2 and PC3 don't appear to have any real correlation with the y value. Both plots don't show a clear correlation between PC1 and PC2 or PC2 and PC3."
   ]
  },
  {
   "cell_type": "markdown",
   "metadata": {
    "id": "v9DCGqMtwyMs"
   },
   "source": [
    "# Question 3 - Expected Loss Minimization (15 pts)\n",
    "Consider a binary classification problem with the following loss matrix -\n",
    "$$\n",
    "   {\\begin{array}{ccccc}\n",
    "   & & \\text{Predicted class} & \\text{           } &\\\\\n",
    "   & & C1 & C2 & Reject\\\\\n",
    "   \\text{True class} & C1 & 0 & 3 & c  \\\\\n",
    "   & C2 & 2 & 0 & c \\\\\n",
    "  \\end{array} } \n",
    "$$\n",
    "where the cost of rejection is a constant. Determine the prediction that minimizes the expected loss in different ranges of $P(C1|x)$ for the following three cases - \n",
    "1. c = 0\n",
    "2. c = 2\n",
    "3. c = 1"
   ]
  },
  {
   "cell_type": "markdown",
   "metadata": {
    "id": "ySBxIpvjepOT"
   },
   "source": [
    "# Answer 3"
   ]
  },
  {
   "cell_type": "markdown",
   "metadata": {
    "id": "BdOAn7Qfeq-S"
   },
   "source": [
    "\n",
    "1. Reject for all ranges of P(C1|X)\n",
    "2. If P(C1|X) >= 0.6 choose C1. Otherwise, chose C2\n",
    "3. If P(C1|X) >= 0.666 chose C1. Else, if P(C1|X) >= 0.5 and < 0.666, reject. Else, choose C2.  \n"
   ]
  },
  {
   "cell_type": "code",
   "execution_count": 5,
   "metadata": {},
   "outputs": [
    {
     "name": "stdout",
     "output_type": "stream",
     "text": [
      "With a rejection loss of 0, you want to reject for all ranges.\n",
      "With a rejection loss of 2, you want to choose C2 from 0:0.6 and chose C1 from 0.6:1.\n",
      "With a rejection loss of 1, you want to choose C2 from 0:0.5, reject from 0.5 to 0.666, and choose C1 from 0.666 to 1.\n"
     ]
    },
    {
     "data": {
      "image/png": "[encoded data removed]",
      "text/plain": [
       "<Figure size 432x288 with 1 Axes>"
      ]
     },
     "metadata": {
      "needs_background": "light"
     },
     "output_type": "display_data"
    },
    {
     "data": {
      "image/png": "[encoded data removed]",
      "text/plain": [
       "<Figure size 432x288 with 1 Axes>"
      ]
     },
     "metadata": {
      "needs_background": "light"
     },
     "output_type": "display_data"
    },
    {
     "data": {
      "image/png": "[encoded data removed]",
      "text/plain": [
       "<Figure size 432x288 with 1 Axes>"
      ]
     },
     "metadata": {
      "needs_background": "light"
     },
     "output_type": "display_data"
    }
   ],
   "source": [
    "import matplotlib.pyplot as plt\n",
    "c1 = [2, 0]\n",
    "c2 = [0, 3]\n",
    "r1 = [0,0]\n",
    "r2 = [2,2]\n",
    "r3 = [1,1]\n",
    "plt.figure(1)\n",
    "plt.plot(c1)\n",
    "plt.plot(c2)\n",
    "plt.plot(r1)\n",
    "print(\"With a rejection loss of 0, you want to reject for all ranges.\")\n",
    "plt.figure(2)\n",
    "plt.plot(c1)\n",
    "plt.plot(c2)\n",
    "plt.plot(r2)\n",
    "print(\"With a rejection loss of 2, you want to choose C2 from 0:0.6 and chose C1 from 0.6:1.\")\n",
    "plt.figure(3)\n",
    "plt.plot(c1)\n",
    "plt.plot(c2)\n",
    "plt.plot(r3)\n",
    "print(\"With a rejection loss of 1, you want to choose C2 from 0:0.5, reject from 0.5 to 0.666, and choose C1 from 0.666 to 1.\")"
   ]
  },
  {
   "cell_type": "markdown",
   "metadata": {
    "id": "KMYbNZ9Y3uvr"
   },
   "source": [
    "# Question 4 (20 pts) - Decision Tree Classifier using sklearn\n",
    "\n",
    "**Customer Eligibility for Deposits**\n",
    "\n",
    "We will build a Decision Tree classification model to predict if a customer will subscribe or no (yes/no)."
   ]
  },
  {
   "cell_type": "code",
   "execution_count": 34,
   "metadata": {
    "colab": {
     "base_uri": "https://localhost:8080/",
     "height": 204
    },
    "id": "r0M1HnOmw7kC",
    "outputId": "2ef5749b-af6e-419b-b331-2e34959bdd57"
   },
   "outputs": [
    {
     "data": {
      "text/html": [
       "<div>\n",
       "<style scoped>\n",
       "    .dataframe tbody tr th:only-of-type {\n",
       "        vertical-align: middle;\n",
       "    }\n",
       "\n",
       "    .dataframe tbody tr th {\n",
       "        vertical-align: top;\n",
       "    }\n",
       "\n",
       "    .dataframe thead th {\n",
       "        text-align: right;\n",
       "    }\n",
       "</style>\n",
       "<table border=\"1\" class=\"dataframe\">\n",
       "  <thead>\n",
       "    <tr style=\"text-align: right;\">\n",
       "      <th></th>\n",
       "      <th>age</th>\n",
       "      <th>job</th>\n",
       "      <th>marital</th>\n",
       "      <th>education</th>\n",
       "      <th>default</th>\n",
       "      <th>balance</th>\n",
       "      <th>housing</th>\n",
       "      <th>loan</th>\n",
       "      <th>contact</th>\n",
       "      <th>day</th>\n",
       "      <th>month</th>\n",
       "      <th>duration</th>\n",
       "      <th>campaign</th>\n",
       "      <th>pdays</th>\n",
       "      <th>previous</th>\n",
       "      <th>poutcome</th>\n",
       "      <th>deposit</th>\n",
       "    </tr>\n",
       "  </thead>\n",
       "  <tbody>\n",
       "    <tr>\n",
       "      <th>0</th>\n",
       "      <td>59</td>\n",
       "      <td>admin.</td>\n",
       "      <td>married</td>\n",
       "      <td>secondary</td>\n",
       "      <td>no</td>\n",
       "      <td>2343</td>\n",
       "      <td>yes</td>\n",
       "      <td>no</td>\n",
       "      <td>unknown</td>\n",
       "      <td>5</td>\n",
       "      <td>may</td>\n",
       "      <td>1042</td>\n",
       "      <td>1</td>\n",
       "      <td>-1</td>\n",
       "      <td>0</td>\n",
       "      <td>unknown</td>\n",
       "      <td>yes</td>\n",
       "    </tr>\n",
       "    <tr>\n",
       "      <th>1</th>\n",
       "      <td>56</td>\n",
       "      <td>admin.</td>\n",
       "      <td>married</td>\n",
       "      <td>secondary</td>\n",
       "      <td>no</td>\n",
       "      <td>45</td>\n",
       "      <td>no</td>\n",
       "      <td>no</td>\n",
       "      <td>unknown</td>\n",
       "      <td>5</td>\n",
       "      <td>may</td>\n",
       "      <td>1467</td>\n",
       "      <td>1</td>\n",
       "      <td>-1</td>\n",
       "      <td>0</td>\n",
       "      <td>unknown</td>\n",
       "      <td>yes</td>\n",
       "    </tr>\n",
       "    <tr>\n",
       "      <th>2</th>\n",
       "      <td>41</td>\n",
       "      <td>technician</td>\n",
       "      <td>married</td>\n",
       "      <td>secondary</td>\n",
       "      <td>no</td>\n",
       "      <td>1270</td>\n",
       "      <td>yes</td>\n",
       "      <td>no</td>\n",
       "      <td>unknown</td>\n",
       "      <td>5</td>\n",
       "      <td>may</td>\n",
       "      <td>1389</td>\n",
       "      <td>1</td>\n",
       "      <td>-1</td>\n",
       "      <td>0</td>\n",
       "      <td>unknown</td>\n",
       "      <td>yes</td>\n",
       "    </tr>\n",
       "    <tr>\n",
       "      <th>3</th>\n",
       "      <td>55</td>\n",
       "      <td>services</td>\n",
       "      <td>married</td>\n",
       "      <td>secondary</td>\n",
       "      <td>no</td>\n",
       "      <td>2476</td>\n",
       "      <td>yes</td>\n",
       "      <td>no</td>\n",
       "      <td>unknown</td>\n",
       "      <td>5</td>\n",
       "      <td>may</td>\n",
       "      <td>579</td>\n",
       "      <td>1</td>\n",
       "      <td>-1</td>\n",
       "      <td>0</td>\n",
       "      <td>unknown</td>\n",
       "      <td>yes</td>\n",
       "    </tr>\n",
       "    <tr>\n",
       "      <th>4</th>\n",
       "      <td>54</td>\n",
       "      <td>admin.</td>\n",
       "      <td>married</td>\n",
       "      <td>tertiary</td>\n",
       "      <td>no</td>\n",
       "      <td>184</td>\n",
       "      <td>no</td>\n",
       "      <td>no</td>\n",
       "      <td>unknown</td>\n",
       "      <td>5</td>\n",
       "      <td>may</td>\n",
       "      <td>673</td>\n",
       "      <td>2</td>\n",
       "      <td>-1</td>\n",
       "      <td>0</td>\n",
       "      <td>unknown</td>\n",
       "      <td>yes</td>\n",
       "    </tr>\n",
       "  </tbody>\n",
       "</table>\n",
       "</div>"
      ],
      "text/plain": [
       "   age         job  marital  education default  balance housing loan  contact  \\\n",
       "0   59      admin.  married  secondary      no     2343     yes   no  unknown   \n",
       "1   56      admin.  married  secondary      no       45      no   no  unknown   \n",
       "2   41  technician  married  secondary      no     1270     yes   no  unknown   \n",
       "3   55    services  married  secondary      no     2476     yes   no  unknown   \n",
       "4   54      admin.  married   tertiary      no      184      no   no  unknown   \n",
       "\n",
       "   day month  duration  campaign  pdays  previous poutcome deposit  \n",
       "0    5   may      1042         1     -1         0  unknown     yes  \n",
       "1    5   may      1467         1     -1         0  unknown     yes  \n",
       "2    5   may      1389         1     -1         0  unknown     yes  \n",
       "3    5   may       579         1     -1         0  unknown     yes  \n",
       "4    5   may       673         2     -1         0  unknown     yes  "
      ]
     },
     "execution_count": 34,
     "metadata": {},
     "output_type": "execute_result"
    }
   ],
   "source": [
    "import pandas as pd\n",
    "import numpy as np\n",
    "import matplotlib.pyplot as plt\n",
    "import seaborn as sns\n",
    "from sklearn.cluster import KMeans\n",
    "from sklearn import datasets\n",
    "from io import StringIO\n",
    "from sklearn.tree import export_graphviz\n",
    "from sklearn.model_selection import train_test_split\n",
    "from sklearn import tree\n",
    "from sklearn import metrics\n",
    "%matplotlib inline\n",
    "\n",
    "# Loading the data file\n",
    "bank=pd.read_csv('bank.csv')\n",
    "bank.head()"
   ]
  },
  {
   "cell_type": "markdown",
   "metadata": {
    "id": "uu4A3d_X6I6l"
   },
   "source": [
    "Input variables:\n",
    "# bank client data:\n",
    "1 - `age` (numeric)\n",
    "\n",
    "2 - `job` : type of job (categorical: 'admin', 'blue-collar', 'entrepreneur', 'housemaid', 'management', 'retired', 'self-employed', 'services', 'student', 'technician', 'unemployed', 'unknown')\n",
    "\n",
    "3 - `marital` : marital status (categorical: 'divorced','married','single'; note: 'divorced' means divorced or widowed)\n",
    "\n",
    "4 - `education` (categorical: 'primary', 'secondary','tertiary')\n",
    "\n",
    "5 - `default`: has credit in default? (categorical: 'no','yes','unknown')\n",
    "\n",
    "6 - `balance`: account balance\n",
    "\n",
    "7 - `housing`: has housing loan? (categorical: 'no','yes','unknown')\n",
    "\n",
    "8 - `loan`: has personal loan? (categorical: 'no','yes','unknown')\n",
    "\n",
    "# related with the last contact of the current campaign:\n",
    "9 - `contact`: contact communication type (categorical: 'cellular','telephone')\n",
    "\n",
    "10 - `day_of_month` : 1,2....31\n",
    "\n",
    "11 - `month`: last contact month of year (categorical: 'jan', 'feb', 'mar', ..., 'nov', 'dec')\n",
    "\n",
    "12 - `duration`: last contact duration, in seconds (numeric). Important note: this attribute highly affects the output target (e.g., if duration=0 then y='no'). Yet, the duration is not known before a call is performed. Also, after the end of the call y is obviously known. Thus, this input should only be included for benchmark purposes and should be discarded if the intention is to have a realistic predictive model.\n",
    "# other attributes:\n",
    "13 - `campaign`: number of contacts performed during this campaign and for this client (numeric, includes last contact)\n",
    "\n",
    "14 - `pdays`: number of days that passed by after the client was last contacted from a previous campaign (numeric; 10000 means client was not previously contacted)\n",
    "\n",
    "15 - `previous`: number of contacts performed before this campaign and for this client (numeric)\n",
    "\n",
    "16 - `poutcome`: outcome of the previous marketing campaign (categorical: 'failure','other','success','unknown')\n",
    "\n",
    "# Output variable (desired target):\n",
    "17 - `y` - has the client subscribed a term deposit? (binary: 'yes','no')\n",
    "\n",
    "**All pre-processing is done where categorical variables are converted to numeric values and unnecessary columns are dropped.**"
   ]
  },
  {
   "cell_type": "code",
   "execution_count": 35,
   "metadata": {
    "colab": {
     "base_uri": "https://localhost:8080/",
     "height": 241
    },
    "id": "tLGM27XY6EQe",
    "outputId": "7deea13c-4c87-4fe2-9840-5e08816677b9"
   },
   "outputs": [
    {
     "data": {
      "text/html": [
       "<div>\n",
       "<style scoped>\n",
       "    .dataframe tbody tr th:only-of-type {\n",
       "        vertical-align: middle;\n",
       "    }\n",
       "\n",
       "    .dataframe tbody tr th {\n",
       "        vertical-align: top;\n",
       "    }\n",
       "\n",
       "    .dataframe thead th {\n",
       "        text-align: right;\n",
       "    }\n",
       "</style>\n",
       "<table border=\"1\" class=\"dataframe\">\n",
       "  <thead>\n",
       "    <tr style=\"text-align: right;\">\n",
       "      <th></th>\n",
       "      <th>age</th>\n",
       "      <th>balance</th>\n",
       "      <th>duration</th>\n",
       "      <th>campaign</th>\n",
       "      <th>previous</th>\n",
       "      <th>default_cat</th>\n",
       "      <th>housing_cat</th>\n",
       "      <th>loan_cat</th>\n",
       "      <th>deposit_cat</th>\n",
       "      <th>job_admin.</th>\n",
       "      <th>...</th>\n",
       "      <th>marital_single</th>\n",
       "      <th>education_primary</th>\n",
       "      <th>education_secondary</th>\n",
       "      <th>education_tertiary</th>\n",
       "      <th>education_unknown</th>\n",
       "      <th>poutcome_failure</th>\n",
       "      <th>poutcome_other</th>\n",
       "      <th>poutcome_success</th>\n",
       "      <th>poutcome_unknown</th>\n",
       "      <th>recent_pdays</th>\n",
       "    </tr>\n",
       "  </thead>\n",
       "  <tbody>\n",
       "    <tr>\n",
       "      <th>0</th>\n",
       "      <td>59</td>\n",
       "      <td>2343</td>\n",
       "      <td>1042</td>\n",
       "      <td>1</td>\n",
       "      <td>0</td>\n",
       "      <td>0</td>\n",
       "      <td>1</td>\n",
       "      <td>0</td>\n",
       "      <td>1</td>\n",
       "      <td>1</td>\n",
       "      <td>...</td>\n",
       "      <td>0</td>\n",
       "      <td>0</td>\n",
       "      <td>1</td>\n",
       "      <td>0</td>\n",
       "      <td>0</td>\n",
       "      <td>0</td>\n",
       "      <td>0</td>\n",
       "      <td>0</td>\n",
       "      <td>1</td>\n",
       "      <td>-1.0</td>\n",
       "    </tr>\n",
       "    <tr>\n",
       "      <th>1</th>\n",
       "      <td>56</td>\n",
       "      <td>45</td>\n",
       "      <td>1467</td>\n",
       "      <td>1</td>\n",
       "      <td>0</td>\n",
       "      <td>0</td>\n",
       "      <td>0</td>\n",
       "      <td>0</td>\n",
       "      <td>1</td>\n",
       "      <td>1</td>\n",
       "      <td>...</td>\n",
       "      <td>0</td>\n",
       "      <td>0</td>\n",
       "      <td>1</td>\n",
       "      <td>0</td>\n",
       "      <td>0</td>\n",
       "      <td>0</td>\n",
       "      <td>0</td>\n",
       "      <td>0</td>\n",
       "      <td>1</td>\n",
       "      <td>-1.0</td>\n",
       "    </tr>\n",
       "    <tr>\n",
       "      <th>2</th>\n",
       "      <td>41</td>\n",
       "      <td>1270</td>\n",
       "      <td>1389</td>\n",
       "      <td>1</td>\n",
       "      <td>0</td>\n",
       "      <td>0</td>\n",
       "      <td>1</td>\n",
       "      <td>0</td>\n",
       "      <td>1</td>\n",
       "      <td>0</td>\n",
       "      <td>...</td>\n",
       "      <td>0</td>\n",
       "      <td>0</td>\n",
       "      <td>1</td>\n",
       "      <td>0</td>\n",
       "      <td>0</td>\n",
       "      <td>0</td>\n",
       "      <td>0</td>\n",
       "      <td>0</td>\n",
       "      <td>1</td>\n",
       "      <td>-1.0</td>\n",
       "    </tr>\n",
       "    <tr>\n",
       "      <th>3</th>\n",
       "      <td>55</td>\n",
       "      <td>2476</td>\n",
       "      <td>579</td>\n",
       "      <td>1</td>\n",
       "      <td>0</td>\n",
       "      <td>0</td>\n",
       "      <td>1</td>\n",
       "      <td>0</td>\n",
       "      <td>1</td>\n",
       "      <td>0</td>\n",
       "      <td>...</td>\n",
       "      <td>0</td>\n",
       "      <td>0</td>\n",
       "      <td>1</td>\n",
       "      <td>0</td>\n",
       "      <td>0</td>\n",
       "      <td>0</td>\n",
       "      <td>0</td>\n",
       "      <td>0</td>\n",
       "      <td>1</td>\n",
       "      <td>-1.0</td>\n",
       "    </tr>\n",
       "    <tr>\n",
       "      <th>4</th>\n",
       "      <td>54</td>\n",
       "      <td>184</td>\n",
       "      <td>673</td>\n",
       "      <td>2</td>\n",
       "      <td>0</td>\n",
       "      <td>0</td>\n",
       "      <td>0</td>\n",
       "      <td>0</td>\n",
       "      <td>1</td>\n",
       "      <td>1</td>\n",
       "      <td>...</td>\n",
       "      <td>0</td>\n",
       "      <td>0</td>\n",
       "      <td>0</td>\n",
       "      <td>1</td>\n",
       "      <td>0</td>\n",
       "      <td>0</td>\n",
       "      <td>0</td>\n",
       "      <td>0</td>\n",
       "      <td>1</td>\n",
       "      <td>-1.0</td>\n",
       "    </tr>\n",
       "  </tbody>\n",
       "</table>\n",
       "<p>5 rows × 33 columns</p>\n",
       "</div>"
      ],
      "text/plain": [
       "   age  balance  duration  campaign  previous  default_cat  housing_cat  \\\n",
       "0   59     2343      1042         1         0            0            1   \n",
       "1   56       45      1467         1         0            0            0   \n",
       "2   41     1270      1389         1         0            0            1   \n",
       "3   55     2476       579         1         0            0            1   \n",
       "4   54      184       673         2         0            0            0   \n",
       "\n",
       "   loan_cat  deposit_cat  job_admin.  ...  marital_single  education_primary  \\\n",
       "0         0            1           1  ...               0                  0   \n",
       "1         0            1           1  ...               0                  0   \n",
       "2         0            1           0  ...               0                  0   \n",
       "3         0            1           0  ...               0                  0   \n",
       "4         0            1           1  ...               0                  0   \n",
       "\n",
       "   education_secondary  education_tertiary  education_unknown  \\\n",
       "0                    1                   0                  0   \n",
       "1                    1                   0                  0   \n",
       "2                    1                   0                  0   \n",
       "3                    1                   0                  0   \n",
       "4                    0                   1                  0   \n",
       "\n",
       "   poutcome_failure  poutcome_other  poutcome_success  poutcome_unknown  \\\n",
       "0                 0               0                 0                 1   \n",
       "1                 0               0                 0                 1   \n",
       "2                 0               0                 0                 1   \n",
       "3                 0               0                 0                 1   \n",
       "4                 0               0                 0                 1   \n",
       "\n",
       "   recent_pdays  \n",
       "0          -1.0  \n",
       "1          -1.0  \n",
       "2          -1.0  \n",
       "3          -1.0  \n",
       "4          -1.0  \n",
       "\n",
       "[5 rows x 33 columns]"
      ]
     },
     "execution_count": 35,
     "metadata": {},
     "output_type": "execute_result"
    }
   ],
   "source": [
    "# Make a copy for parsing\n",
    "bank_data = bank.copy()\n",
    "\n",
    "# Drop 'contact', as every participant has been contacted. \n",
    "bank_data.drop('contact', axis=1, inplace=True)\n",
    "# Drop 'month' and 'day' as they don't have any intrinsic meaning\n",
    "bank_data.drop('month', axis=1, inplace=True)\n",
    "bank_data.drop('day', axis=1, inplace=True)\n",
    "\n",
    "#Convert categorical values to numeric values\n",
    "# values for \"default\" : yes/no\n",
    "bank_data[\"default\"]\n",
    "bank_data['default_cat'] = bank_data['default'].map( {'yes':1, 'no':0} )\n",
    "bank_data.drop('default', axis=1,inplace = True)\n",
    "# values for \"housing\" : yes/no\n",
    "bank_data[\"housing_cat\"]=bank_data['housing'].map({'yes':1, 'no':0})\n",
    "bank_data.drop('housing', axis=1,inplace = True)\n",
    "# values for \"loan\" : yes/no\n",
    "bank_data[\"loan_cat\"] = bank_data['loan'].map({'yes':1, 'no':0})\n",
    "bank_data.drop('loan', axis=1, inplace=True)\n",
    "# values for \"deposit\" : yes/no\n",
    "bank_data[\"deposit_cat\"] = bank_data['deposit'].map({'yes':1, 'no':0})\n",
    "bank_data.drop('deposit', axis=1, inplace=True)\n",
    "\n",
    "# Convert categorical variables to dummies\n",
    "bank_data = pd.get_dummies(data=bank_data, columns = ['job', 'marital', 'education', 'poutcome'], \\\n",
    "                                   prefix = ['job', 'marital', 'education', 'poutcome'])\n",
    "\n",
    "# Convert p_days to a probability value\n",
    "bank_data['recent_pdays'] = np.where(bank_data['pdays'], 1/bank_data.pdays, 1/bank_data.pdays)\n",
    "# Drop 'pdays'\n",
    "bank_data.drop('pdays', axis=1, inplace = True)\n",
    "bank_data.head()"
   ]
  },
  {
   "cell_type": "code",
   "execution_count": 36,
   "metadata": {
    "id": "ATM7Dz-36Mcl"
   },
   "outputs": [],
   "source": [
    "# Splitting the data into training and test data with 80:20 ratio with random_state=50.\n",
    "# Building the data model\n",
    "# Train-Test split: 20% test data\n",
    "X = bank_data.drop('deposit_cat', 1)\n",
    "Y = bank_data.deposit_cat\n",
    "X_train, X_test, Y_train, Y_test = train_test_split(X, Y, test_size = 0.2, random_state = 50)"
   ]
  },
  {
   "cell_type": "markdown",
   "metadata": {
    "id": "-LbqSv_66Qk-"
   },
   "source": [
    "a. **(8 pts)** Build decision trees with depths 2, 5, 10, 20 and max depth using gini and entropy criterion; report the train and test errors. Refer to [Decision Tree](https://scikit-learn.org/stable/modules/generated/sklearn.tree.DecisionTreeClassifier.html#sklearn.tree.DecisionTreeClassifier) for more information on how to implement using sklearn.\n",
    "\n",
    "b. **(2 pts)** Explain how the train and test accuracy varies as we increase the depth of the tree.\n",
    "\n",
    "c. **(4 pts)** List the most [important feature](https://scikit-learn.org/stable/modules/generated/sklearn.tree.DecisionTreeClassifier.html#sklearn.tree.DecisionTreeClassifier.feature_importances_) for the tree with depth=2 and criterion=gini and [plot the tree](https://scikit-learn.org/stable/auto_examples/tree/plot_unveil_tree_structure.html#sphx-glr-auto-examples-tree-plot-unveil-tree-structure-py). Name this tree model as `dt2`."
   ]
  },
  {
   "cell_type": "markdown",
   "metadata": {
    "id": "fN5tE9Ac6lmv"
   },
   "source": [
    "# Answer 4"
   ]
  },
  {
   "cell_type": "code",
   "execution_count": 37,
   "metadata": {
    "id": "LmMSNIfMeiVV"
   },
   "outputs": [
    {
     "name": "stdout",
     "output_type": "stream",
     "text": [
      "MSE with training dataset, entropy criteria, max depth = 2 : 0.2880501735916676\n",
      "MSE with test dataset, entropy criteria, max depth = 2 : 0.29108822212270485\n",
      "MSE with training dataset, gini criteria, max depth = 2 : 0.27147496920147834\n",
      "MSE with test dataset, gini criteria, max depth = 2 : 0.27317510076130763\n",
      "MSE with training dataset, entropy criteria, max depth = 5 : 0.20013439354910964\n",
      "MSE with test dataset, entropy criteria, max depth = 5 : 0.22167487684729065\n",
      "MSE with training dataset, gini criteria, max depth = 5 : 0.20237428603427035\n",
      "MSE with test dataset, gini criteria, max depth = 5 : 0.2239140170174653\n",
      "MSE with training dataset, entropy criteria, max depth = 10 : 0.14996080188150968\n",
      "MSE with test dataset, entropy criteria, max depth = 10 : 0.20824003582624273\n",
      "MSE with training dataset, gini criteria, max depth = 10 : 0.1367454362190615\n",
      "MSE with test dataset, gini criteria, max depth = 10 : 0.21137483206448723\n",
      "MSE with training dataset, entropy criteria, max depth = 20 : 0.035950274386829434\n",
      "MSE with test dataset, entropy criteria, max depth = 20 : 0.25839677563815494\n",
      "MSE with training dataset, gini criteria, max depth = 20 : 0.016239220517415165\n",
      "MSE with test dataset, gini criteria, max depth = 20 : 0.2597402597402597\n"
     ]
    }
   ],
   "source": [
    "# a\n",
    "from sklearn.metrics import mean_squared_error\n",
    "arr = np.array([2, 5, 10, 20])\n",
    "for i in arr:\n",
    "    y = tree.DecisionTreeClassifier(criterion='entropy', max_depth=i).fit(X_train, Y_train).predict(X_train)\n",
    "    print(\"MSE with training dataset, entropy criteria, max depth = {} : {}\".format(i, mean_squared_error(Y_train, y)))\n",
    "    y = tree.DecisionTreeClassifier(criterion='entropy', max_depth=i).fit(X_train, Y_train).predict(X_test)\n",
    "    print(\"MSE with test dataset, entropy criteria, max depth = {} : {}\".format(i, mean_squared_error(Y_test, y)))\n",
    "    y = tree.DecisionTreeClassifier(criterion='gini', max_depth=i).fit(X_train, Y_train).predict(X_train)\n",
    "    print(\"MSE with training dataset, gini criteria, max depth = {} : {}\".format(i, mean_squared_error(Y_train, y)))\n",
    "    y= tree.DecisionTreeClassifier(criterion='gini', max_depth=i).fit(X_train, Y_train).predict(X_test)\n",
    "    print(\"MSE with test dataset, gini criteria, max depth = {} : {}\".format(i, mean_squared_error(Y_test, y)))\n"
   ]
  },
  {
   "cell_type": "code",
   "execution_count": 38,
   "metadata": {},
   "outputs": [
    {
     "name": "stdout",
     "output_type": "stream",
     "text": [
      "For both criterion, the training data set error continues to decrease as depth increases. \n",
      "However, since the test data starts to increase after depth = 10, it's likely that we are overfitting and that ~10 features is the optimal modal.\n"
     ]
    }
   ],
   "source": [
    "# b - \n",
    "\n",
    "# ENTROPY MSE with training data set - decreases as depth increases\n",
    "# ENTROPY MSE with test data set - decreases as depth uncreases until depth = 10, then increases\n",
    "# GINI MSE with training data set - decreases as depth increases (at a slower rate than ENTROPY)\n",
    "# GINI MSE with test data set - decreases as depth uncreases until depth = 10, then increases\n",
    "\n",
    "print(\"For both criterion, the training data set error continues to decrease as depth increases. \\nHowever, since the test data starts to increase after depth = 10, it's likely that we are overfitting and that ~10 features is the optimal modal.\")"
   ]
  },
  {
   "cell_type": "code",
   "execution_count": 39,
   "metadata": {},
   "outputs": [
    {
     "name": "stdout",
     "output_type": "stream",
     "text": [
      "The most important feature is duration.\n",
      "\n",
      "\n",
      "\n",
      "List of Feature Importances\n",
      " [0.         0.         0.84930612 0.         0.         0.\n",
      " 0.         0.         0.         0.         0.         0.\n",
      " 0.         0.         0.         0.         0.         0.\n",
      " 0.         0.         0.         0.         0.         0.\n",
      " 0.         0.         0.         0.         0.         0.15069388\n",
      " 0.         0.        ]\n",
      "List of Features\n",
      " ['age' 'balance' 'duration' 'campaign' 'previous' 'default_cat'\n",
      " 'housing_cat' 'loan_cat' 'job_admin.' 'job_blue-collar'\n",
      " 'job_entrepreneur' 'job_housemaid' 'job_management' 'job_retired'\n",
      " 'job_self-employed' 'job_services' 'job_student' 'job_technician'\n",
      " 'job_unemployed' 'job_unknown' 'marital_divorced' 'marital_married'\n",
      " 'marital_single' 'education_primary' 'education_secondary'\n",
      " 'education_tertiary' 'education_unknown' 'poutcome_failure'\n",
      " 'poutcome_other' 'poutcome_success' 'poutcome_unknown' 'recent_pdays']\n"
     ]
    }
   ],
   "source": [
    "# c - finding most important feature\n",
    "model = tree.DecisionTreeClassifier(criterion='gini', max_depth=2).fit(X_train, Y_train)\n",
    "print(\"The most important feature is duration.\\n\\n\\n\")\n",
    "print(\"List of Feature Importances\\n\", model.feature_importances_)\n",
    "print(\"List of Features\\n\", X_train.columns.values)"
   ]
  },
  {
   "cell_type": "code",
   "execution_count": 40,
   "metadata": {},
   "outputs": [
    {
     "data": {
      "image/png": "[encoded data removed]",
      "text/plain": [
       "<Figure size 432x288 with 1 Axes>"
      ]
     },
     "metadata": {
      "needs_background": "light"
     },
     "output_type": "display_data"
    }
   ],
   "source": [
    "# c - plot\n",
    "tree.plot_tree(model)\n",
    "plt.show()"
   ]
  },
  {
   "cell_type": "code",
   "execution_count": null,
   "metadata": {},
   "outputs": [],
   "source": []
  },
  {
   "cell_type": "code",
   "execution_count": null,
   "metadata": {},
   "outputs": [],
   "source": []
  }
 ],
 "metadata": {
  "colab": {
   "collapsed_sections": [],
   "name": "hw4qns.ipynb",
   "provenance": [],
   "toc_visible": true
  },
  "kernelspec": {
   "display_name": "Python 3",
   "language": "python",
   "name": "python3"
  },
  "language_info": {
   "codemirror_mode": {
    "name": "ipython",
    "version": 3
   },
   "file_extension": ".py",
   "mimetype": "text/x-python",
   "name": "python",
   "nbconvert_exporter": "python",
   "pygments_lexer": "ipython3",
   "version": "3.8.3"
  }
 },
 "nbformat": 4,
 "nbformat_minor": 1
}
