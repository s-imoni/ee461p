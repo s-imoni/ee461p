{
 "cells": [
  {
   "cell_type": "markdown",
   "metadata": {
    "id": "MzWJ0hrg7z77"
   },
   "source": [
    "## EE 461P: Data Science Principles  \n",
    "### Assignment 3 \n",
    "### Total points: 75\n",
    "### Due: Thursday, Mar 11, 2021, submitted via Canvas by 11:59 pm  \n",
    "\n",
    "Your homework should be written in a **Jupyter notebook**. You may work in groups of two if you wish. Only one student per team needs to submit the assignment on Canvas.  But be sure to include name and UT eID for both students.  Homework groups will be created and managed through Canvas, so please do not arbitrarily change your homework group. If you do change, let the TAs know.\n",
    "\n",
    "Also, please make sure your code runs and the graphics (and anything else) are displayed in your notebook before submitting. (%matplotlib inline)\n",
    "\n",
    "### Name(s) and EID(s):\n",
    "1. Julian Fritz jjf2459\n",
    "2. \n",
    "\n",
    "### Homework group No.: "
   ]
  },
  {
   "cell_type": "code",
   "execution_count": null,
   "metadata": {
    "id": "Fce1WkbMOWRC"
   },
   "outputs": [],
   "source": []
  },
  {
   "cell_type": "markdown",
   "metadata": {
    "id": "MGkiu-dcHHi3"
   },
   "source": [
    "# Question 1 : Tensor Playground (15 points)\n",
    "Visit https://playground.tensorflow.org for this problem\n",
    "\n",
    "**NOTE** : Make sure to attach screen shots of your network,train and test loss, parameters in the notebook. \n",
    " \n",
    "From the far right, select \"Classification\" as the problem type, and select the data set on the top right (alternate colored squares).\n",
    "\n",
    "Use these settings as the DEFAULT settings for all subquestions: test/training ratio = 50%, Noise = 0, Batch Size = 30, learning rate = 0.03, activation = tanh, one hidden layer with 2 neurons, input as $X_1$, $X_2$ and no Regularization.\n",
    "\n",
    "1) Use the DEFAULT setting and run two experiments - one using Relu as the activation function and one using the linear activation function. Report the train, test losses for both these experiments at the end of 1000 epochs. What  do you observe in the decision boundaries obtained? Why? (**3 pts**)\n",
    "\n",
    "2)Using the same DEFAULT setting as above, increase the number of neurons to 3 train the network multiple times(5-10 times), to reset the network use the RESET button left of the PLAY button. What do you observe in the loss values, as well as the decision boundary across the different training runs ? Could you say the training is stable(uniform) across the mutliple runs, if not why. Provide reasoning (**3 pts**)\n",
    "\n",
    "We will now study the effect of certain variations in the network structure or training, keeping all other aspects the same as in the default configuration specified above, and with tanh as the activation for hidden units.\n",
    "\n",
    "3) ```Effect of number of hidden units```: Go back to DEFAULT settings and report the train, test losses at the end of 1000 epochs for 4 and 8 neurons in the hidden layer (2 pairs of results). What do you observe regarding the decision boundary as the number of neurons increases? Why? (**3 pts**)\n",
    "\n",
    "4) ```Effect of learning rate and number of epochs```: Go back to DEFAULT settings and set the activation to be Relu and have four neurons in the hidden layer. Report the train, test losses at the end of 100 epochs and 1000 epochs for learning rates of 10, 0.1, 0.01 and 0.001 (8 pairs of results). What do you observe in the loss curves? Explain. (**3 pts**)\n",
    "\n",
    "5)Use the same default setting, if you are asked to vary the number of neurons or number of hidden layers for this problem and train the network for 500 epochs with all the other settings constant. i.e you can change only the number of neurons or number of hidden layers which decision you would take, to reduce the test loss (test loss should be at most 0.06). Justify your decisions\n",
    "and briefly comment on difficulties/tradeoffs, what helps/what doesn't, etc. (**3 pts**)"
   ]
  },
  {
   "cell_type": "markdown",
   "metadata": {
    "id": "8sYj8TlJOZsN"
   },
   "source": [
    "# Answer 1"
   ]
  },
  {
   "cell_type": "code",
   "execution_count": null,
   "metadata": {
    "id": "_662n1r6PWT7"
   },
   "outputs": [],
   "source": []
  },
  {
   "cell_type": "markdown",
   "metadata": {
    "id": "El0xfptHTjty"
   },
   "source": [
    "# Question 2 - Stochastic Gradient Descent (25 pts)\n",
    "1. (**5pts**) Using stochastic gradient descent, derive the coefficent updates for all coefficients of the model (assuming squared error as your loss function): \n",
    "$$ y = w_0 + w_1x_1 + w_2x_1^{2}x_2 + w_3e^{-x_1}+ w_4log(x_3) $$ \n",
    "\n",
    "\n",
    "2. (**20pts**) Write Python code for an SGD solution to the non-linear model$$ y = w_0 + w_1x_1 + w_2x_1^{2}x_2 + w_3e^{-x_1}+ w_4log(x_3) $$   Try to format similarly to scikit-learn's models. The template of the class is given. The init function of the class takes as input the learning_rate, regularization_constant and number of epochs. The fit method must take as input X,y. The _predict_ method takes an X value (optionally, an array of values). \n",
    "\n",
    "  **a**) Use your new gradient descent regression to predict the data given in ```'samples.csv'```, for 15 epochs, using learning rates: ```[0, .0001, .001, .01, 0.1, 1, 10, 100]``` and regularization (ridge regression) parameters: ```[0,10,100]```. (**13pts**)\n",
    "\n",
    "  **b**) Plot MSE and the $w$ parameters as a function of epoch (for 15 epochs) for the two best combinations of learning_rate and regularization for SGD. Here \"best\" means lowest MSE at the end of 15 epochs. (**5pts**)\n",
    "\n",
    "  ```NOTE``` : In this setting there is no validation/test data, and stopping after a pre-determined number of epochs is an example of an \"early stopping\" approch to avoid overfitting.(This approach is not ideal, but is sometimes employed in the absence of a validation dataset).\n",
    "\n",
    "  **c**) Also report the MSE at the end of 15 epochs that you obtained for these two \"best\" combinations. (**2pts**)\n"
   ]
  },
  {
   "cell_type": "code",
   "execution_count": null,
   "metadata": {
    "id": "qTalYijUOCdP"
   },
   "outputs": [],
   "source": [
    "%matplotlib inline\n",
    "import random\n",
    "import numpy as np\n",
    "import matplotlib.pyplot as plt\n",
    "import pandas as pd\n",
    "\n",
    "class Regression:\n",
    "    \n",
    "    def __init__(self, learning_rate, regularization, n_epoch):\n",
    "        self.learning_rate = learning_rate\n",
    "        self.n_epoch = n_epoch\n",
    "        self.regularization = regularization\n",
    "        \n",
    "    def sgd(self, gradient):\n",
    "        self.coef # = please fill this to update self.coef using SGD\n",
    "    \n",
    "        \n",
    "    def fit(self, X, y, update_rule='sgd', plot=False):\n",
    "        mse = []\n",
    "        coefs = []\n",
    "        X = self.get_features(X)\n",
    "        for epoch in range(self.n_epoch):\n",
    "            for i in range(X.shape[0]):\n",
    "                # Compute error\n",
    "                   #please fill this\n",
    "                # Compute gradients\n",
    "                    #please fill this\n",
    "               \n",
    "                # Update weights\n",
    "                self.sgd(gradient)\n",
    "\n",
    "            coefs.append(self.coef)\n",
    "            residuals = y - self.linearPredict(X)         \n",
    "            mse.append(np.mean(residuals**2))\n",
    "            \n",
    "        self.lowest_mse = mse[-1]\n",
    "        if plot == True:\n",
    "            plt.figure()\n",
    "            plt.plot(range(self.n_epoch),mse)\n",
    "            plt.xlabel('epoch')\n",
    "            plt.ylabel('MSE')\n",
    "            plt.figure()\n",
    "            coefs = np.array(coefs)\n",
    "            plt.plot(range(self.n_epoch),coefs[:,0],label='w0')\n",
    "            plt.plot(range(self.n_epoch),coefs[:,1],label='w1')\n",
    "            plt.plot(range(self.n_epoch),coefs[:,2],label='w2')\n",
    "            plt.plot(range(self.n_epoch),coefs[:,3],label='w3')\n",
    "            plt.plot(range(self.n_epoch),coefs[:,4],label='w4')\n",
    "            plt.legend()\n",
    "            plt.xlabel('epoch')\n",
    "            plt.ylabel('parameter value')\n",
    "\n",
    "    def get_features(self, X):\n",
    "        '''\n",
    "        this output of this function can be used to compute the gradient in `fit`\n",
    "        '''\n",
    "        x = np.zeros((X.shape[0], 5))\n",
    "        x[:,0] = 1\n",
    "        x[:,1] = (X[:,0])\n",
    "        x[:,2] = (X[:,0]**2)*X[:,1]\n",
    "        x[:,3] = np.exp(-X[:,0])\n",
    "        x[:,4] = np.log(X[:,2])\n",
    "        \n",
    "        return x\n",
    "        \n",
    "    #def linearPredict(self, X):  \n",
    "        #compute dot product of self.coef and X\n",
    "        \n",
    "        "
   ]
  },
  {
   "cell_type": "code",
   "execution_count": null,
   "metadata": {
    "colab": {
     "base_uri": "https://localhost:8080/",
     "height": 391
    },
    "id": "2O9WiylTODsc",
    "outputId": "b7aa78cf-ab97-4ce2-ba2e-498929c40f80"
   },
   "outputs": [
    {
     "data": {
      "text/html": [
       "<div>\n",
       "<style scoped>\n",
       "    .dataframe tbody tr th:only-of-type {\n",
       "        vertical-align: middle;\n",
       "    }\n",
       "\n",
       "    .dataframe tbody tr th {\n",
       "        vertical-align: top;\n",
       "    }\n",
       "\n",
       "    .dataframe thead th {\n",
       "        text-align: right;\n",
       "    }\n",
       "</style>\n",
       "<table border=\"1\" class=\"dataframe\">\n",
       "  <thead>\n",
       "    <tr style=\"text-align: right;\">\n",
       "      <th></th>\n",
       "      <th>x1</th>\n",
       "      <th>x2</th>\n",
       "      <th>x3</th>\n",
       "      <th>y</th>\n",
       "    </tr>\n",
       "  </thead>\n",
       "  <tbody>\n",
       "    <tr>\n",
       "      <th>0</th>\n",
       "      <td>0.050816</td>\n",
       "      <td>0.295442</td>\n",
       "      <td>0.305858</td>\n",
       "      <td>2.517320</td>\n",
       "    </tr>\n",
       "    <tr>\n",
       "      <th>1</th>\n",
       "      <td>0.038277</td>\n",
       "      <td>0.606797</td>\n",
       "      <td>0.855657</td>\n",
       "      <td>2.537360</td>\n",
       "    </tr>\n",
       "    <tr>\n",
       "      <th>2</th>\n",
       "      <td>0.761375</td>\n",
       "      <td>0.421169</td>\n",
       "      <td>0.232194</td>\n",
       "      <td>2.047563</td>\n",
       "    </tr>\n",
       "    <tr>\n",
       "      <th>3</th>\n",
       "      <td>0.763610</td>\n",
       "      <td>0.537137</td>\n",
       "      <td>0.820876</td>\n",
       "      <td>2.095084</td>\n",
       "    </tr>\n",
       "    <tr>\n",
       "      <th>4</th>\n",
       "      <td>0.525309</td>\n",
       "      <td>0.859292</td>\n",
       "      <td>0.161640</td>\n",
       "      <td>2.164664</td>\n",
       "    </tr>\n",
       "    <tr>\n",
       "      <th>...</th>\n",
       "      <td>...</td>\n",
       "      <td>...</td>\n",
       "      <td>...</td>\n",
       "      <td>...</td>\n",
       "    </tr>\n",
       "    <tr>\n",
       "      <th>495</th>\n",
       "      <td>0.396302</td>\n",
       "      <td>0.610169</td>\n",
       "      <td>0.291709</td>\n",
       "      <td>2.166131</td>\n",
       "    </tr>\n",
       "    <tr>\n",
       "      <th>496</th>\n",
       "      <td>0.204226</td>\n",
       "      <td>0.393554</td>\n",
       "      <td>0.828117</td>\n",
       "      <td>2.313066</td>\n",
       "    </tr>\n",
       "    <tr>\n",
       "      <th>497</th>\n",
       "      <td>0.970607</td>\n",
       "      <td>0.512186</td>\n",
       "      <td>0.109008</td>\n",
       "      <td>2.161382</td>\n",
       "    </tr>\n",
       "    <tr>\n",
       "      <th>498</th>\n",
       "      <td>0.503045</td>\n",
       "      <td>0.877230</td>\n",
       "      <td>0.816781</td>\n",
       "      <td>2.169543</td>\n",
       "    </tr>\n",
       "    <tr>\n",
       "      <th>499</th>\n",
       "      <td>0.244220</td>\n",
       "      <td>0.614174</td>\n",
       "      <td>0.110920</td>\n",
       "      <td>2.279306</td>\n",
       "    </tr>\n",
       "  </tbody>\n",
       "</table>\n",
       "<p>500 rows × 4 columns</p>\n",
       "</div>"
      ],
      "text/plain": [
       "           x1        x2        x3         y\n",
       "0    0.050816  0.295442  0.305858  2.517320\n",
       "1    0.038277  0.606797  0.855657  2.537360\n",
       "2    0.761375  0.421169  0.232194  2.047563\n",
       "3    0.763610  0.537137  0.820876  2.095084\n",
       "4    0.525309  0.859292  0.161640  2.164664\n",
       "..        ...       ...       ...       ...\n",
       "495  0.396302  0.610169  0.291709  2.166131\n",
       "496  0.204226  0.393554  0.828117  2.313066\n",
       "497  0.970607  0.512186  0.109008  2.161382\n",
       "498  0.503045  0.877230  0.816781  2.169543\n",
       "499  0.244220  0.614174  0.110920  2.279306\n",
       "\n",
       "[500 rows x 4 columns]"
      ]
     },
     "execution_count": 13,
     "metadata": {
      "tags": []
     },
     "output_type": "execute_result"
    }
   ],
   "source": [
    "df = pd.read_csv(\"samples.csv\",index_col=0)\n",
    "X = np.array([df['x1'].values, df['x2'].values,df['x3'].values]).T\n",
    "y = df['y'].values\n",
    "n_epochs = 15\n",
    "learning_rate = [0.0001, 0.001, 0.01, 0.1, 1, 10, 100]\n",
    "regularization = [0, 10, 100]\n",
    "df"
   ]
  },
  {
   "cell_type": "markdown",
   "metadata": {
    "id": "eYLeKkn88Byc"
   },
   "source": [
    "# Answer 2"
   ]
  },
  {
   "cell_type": "code",
   "execution_count": null,
   "metadata": {
    "id": "KvRFbXRFWq1y"
   },
   "outputs": [],
   "source": []
  },
  {
   "cell_type": "code",
   "execution_count": null,
   "metadata": {
    "id": "29K6H6feWqv8"
   },
   "outputs": [],
   "source": []
  },
  {
   "cell_type": "markdown",
   "metadata": {
    "id": "8eHA14kQxPgr"
   },
   "source": [
    "# Question 3: Compute the weights (20 pts)\n",
    "\n",
    "For the given network, $i$, $W$ and $O$ represent the inputs, weights and output respectively and let $l$ be the learning rate.\n",
    "\n",
    "Activation: Logistic\n",
    "\n",
    "Loss: Squared Loss\n",
    "\n",
    "Q: Derive the equations to update the values of $w5$ and $w1$ after one iteration of backpropagation.\n",
    "\n",
    "![](https://drive.google.com/uc?id=1GvqRyv_cgS9xIcElF67UtlGoZyHPCHzL)"
   ]
  },
  {
   "cell_type": "markdown",
   "metadata": {
    "id": "kJX6uV03W1uZ"
   },
   "source": [
    "# Answer 3"
   ]
  },
  {
   "cell_type": "markdown",
   "metadata": {
    "id": "mZZ3WXjhW5JS"
   },
   "source": [
    "### For $w5$:  \n",
    "\n",
    "$$ w5^* = w5 - l * \\frac{\\delta Error}{\\delta w5}  $$   \n",
    "\n",
    "Chain Rule:\n",
    "$$ \\frac{\\delta Error}{\\delta w5} = \\frac{\\delta Error}{\\delta O} * \\frac{\\delta O}{\\delta w5} $$     \n",
    "\n",
    "$$ \\frac{\\delta Error}{\\delta O} = \\frac{\\delta (O - target)^2}{\\delta O} = 2 (O - target)    $$   \n",
    "\n",
    "O is our output, following the diagram and using logistic activation function on h1, h2 and h3:   \n",
    "$$ O = \\frac{1}{1 + e^{-(i1w1+i2w3)}} * w5 + \\frac{1}{1 + e^{-(i1w7+i2w8)}} + \\frac{1}{1 + e^{-(i1w2+i2w4)}} * w6  $$ \n",
    "\n",
    "Therefore:\n",
    "$$ \\frac{\\delta O}{\\delta w5} =  \\frac{1}{1 + e^{-(i1w1+i2w3)}}  $$    \n",
    "\n",
    "Plugging them in:\n",
    "$$ \\frac{\\delta Error}{\\delta w5} = 2 (O - target) * \\frac{1}{1 + e^{-(i1w1+i2w3)}} $$     \n",
    "\n",
    "Plugging that into the first equation:\n",
    "$$ w5^* = w5 - 2l * (O - target) * \\frac{1}{1 + e^{-(i1w1+i2w3)}}  $$     \n",
    "     \n"
   ]
  },
  {
   "cell_type": "markdown",
   "metadata": {},
   "source": [
    "### Now for $w1$:\n",
    "$$ w1^* = w1 - l * \\frac{\\delta Error}{\\delta w1}  $$ \n",
    "\n",
    "Chain Rule:\n",
    "$$ \\frac{\\delta Error}{\\delta w1} = \\frac{\\delta Error}{\\delta O} * \\frac{\\delta O}{\\delta w1} $$\n",
    "\n",
    "Once again:\n",
    "$$ \\frac{\\delta Error}{\\delta O} = \\frac{\\delta (O - target)^2}{\\delta O} = 2 (O - target)    $$\n",
    "\n",
    "Once again:   \n",
    "$$ O = \\frac{1}{1 + e^{-(i1w1+i2w3)}} * w5 + \\frac{1}{1 + e^{-(i1w7+i2w8)}} + \\frac{1}{1 + e^{-(i1w2+i2w4)}} * w6  $$\n",
    "\n",
    "Taking partial derivative w.r.t. $w1$ this time:\n",
    "$$ \\frac{\\delta O}{\\delta w1} =  \\frac{w5*i1*e^{-(i1w1+i2w3)}}{(1 + e^{-(i1w1+i2w3)})^2}  $$\n",
    "\n",
    "Plugging them in:\n",
    "$$ \\frac{\\delta Error}{\\delta w1} = 2 (O - target) * \\frac{w5*i1*e^{-(i1w1+i2w3)}}{(1 + e^{-(i1w1+i2w3)})^2} $$ \n",
    "\n",
    "Plugging that into the first equation:\n",
    "$$ w1^* = w1 - 2l * (O - target) * \\frac{w5*i1*e^{-(i1w1+i2w3)}}{(1 + e^{-(i1w1+i2w3)})^2}  $$    "
   ]
  },
  {
   "cell_type": "markdown",
   "metadata": {
    "id": "JbjhLbwz2rsp"
   },
   "source": [
    "# Question 4 - Multi-layer perceptron Regressor (15 pts)\n",
    "In this question, you will explore the application of Multi-layer Perceptron (MLP) regression using sklearn package in Python;\n",
    "http://scikit-learn.org/stable/modules/generated/sklearn.neural_network.MLPRegressor.html.\n",
    "\n",
    "\n",
    "We will use the OpenCL gemm kernel performance prediction dataset for this problem; https://archive.ics.uci.edu/ml/datasets/SGEMM+GPU+kernel+performance.\n",
    "\n",
    "The following code will pre-process the data and split the data into training and test sets using [train_test_split](http://scikit-learn.org/stable/modules/generated/sklearn.model_selection.train_test_split.html) with **random state 30** and **test_size = 0.25**."
   ]
  },
  {
   "cell_type": "code",
   "execution_count": 1,
   "metadata": {
    "colab": {
     "base_uri": "https://localhost:8080/"
    },
    "id": "UJDvB_Q-xaay",
    "outputId": "02a75a78-efdc-446b-93d0-d47e6f65b416"
   },
   "outputs": [
    {
     "name": "stdout",
     "output_type": "stream",
     "text": [
      "(181200, 14) (181200,) (60400, 14) (60400,)\n"
     ]
    }
   ],
   "source": [
    "import pandas as pd\n",
    "import numpy as np\n",
    "from sklearn.model_selection import (train_test_split,KFold)\n",
    "from sklearn.metrics import mean_squared_error\n",
    "from sklearn.neural_network import MLPRegressor\n",
    "from sklearn.preprocessing import StandardScaler\n",
    "import matplotlib.pyplot as plt\n",
    "import glob\n",
    "%matplotlib inline\n",
    "\n",
    "data = pd.read_csv('sgemm_product.csv') \n",
    "data['target'] = 0.25*(data['Run1 (ms)'] + data['Run2 (ms)']+ data['Run3 (ms)'] + data['Run4 (ms)'])\n",
    "y = data['target']\n",
    "y = y.to_numpy()\n",
    "X = data.drop(['target','Run1 (ms)', 'Run2 (ms)', 'Run3 (ms)', 'Run4 (ms)'], axis = 1)\n",
    "X_train, X_test, y_train, y_test = train_test_split(X,y,test_size = 0.25, random_state=30)\n",
    "\n",
    "print(X_train.shape, y_train.shape, X_test.shape, y_test.shape)"
   ]
  },
  {
   "cell_type": "markdown",
   "metadata": {
    "id": "R_QeLtnD3eLT"
   },
   "source": [
    "We also want to use [StandardScaler](http://scikit-learn.org/stable/modules/generated/sklearn.preprocessing.StandardScaler.html). Instead of fitting a model on the original data, we use StandardScaler to center each feature ([Example](http://scikit-learn.org/stable/auto_examples/applications/plot_prediction_latency.html#sphx-glr-auto-examples-applications-plot-prediction-latency-py)). Also remember that when we have training and testing data, we fit preprocessing parameters on training data and apply them to all testing data. You should scale only the features (independent variables), not the target variable y.\n",
    "\n",
    "1) (5pts) Use [sklearn.neural_nework.MLPRegressor](http://scikit-learn.org/stable/modules/generated/sklearn.neural_network.MLPRegressor.html#sklearn.neural_network.MLPRegressor) to do a 5-fold cross validation using sklearn's [KFold](http://scikit-learn.org/stable/modules/generated/sklearn.model_selection.KFold.html#sklearn.model_selection.KFold). The cross validation must be performed on the **training data**. Use following parameter settings for MLPRegressor:\n",
    "\n",
    "    activation = 'tanh', solver = 'sgd', learning_rate='constant', random_state=42,\n",
    "    batch_size=30, learning_rate_init = 0.005\n",
    "    \n",
    "Now, build four MLP Regressors containing one hidden layer with 2, 10, 20 and 30 hidden units respectively. To do that in scikit-learn, the following syntax needs to be used:\n",
    "    \n",
    "   (a) *hidden_layer_sizes = (2,)* \n",
    "   \n",
    "   (b) *hidden_layer_sizes = (10,)*\n",
    "   \n",
    "   (c) *hidden_layer_sizes = (20,)*\n",
    "   \n",
    "   (d) *hidden_layer_sizes = (30,)*\n",
    "   \n",
    "   Report the average Root Mean Squared Error (RMSE) value based on your 5-fold cross validation for each model.\n",
    "   \n",
    "   \n",
    "2) (5pts) Now, using the same parameters used in part 1), train MLPRegressor models on the entire training set and report the RMSE score for both the training and testing sets (again, use StandardScaler). Which of the four models ((a)-(d)) performs the best? Briefly analyze and discuss the results, commenting on the number of hidden units.\n",
    "\n",
    "\n",
    "3) (5pts) MLPRegressor has a built-in attribute *loss\\_curve\\_* which returns the loss at each epoch (misleadingly referred to as \"iteration\" in scikit documentation, though they use epoch in the actual code!). For example, if your model is named as *my_model* you can call it as *my\\_model.loss\\_curve\\_* ([example](http://scikit-learn.org/stable/auto_examples/neural_networks/plot_mlp_training_curves.html#sphx-glr-auto-examples-neural-networks-plot-mlp-training-curves-py)). Plot three curves using the following three conditions (a, b, c) in one figure, where *X-axis* is epoch  number and *Y-axis* is squared root of *loss\\_curve\\_*:\n",
    "\n",
    "   (a) *hidden_layer_sizes = (1,)* \n",
    "   \n",
    "   (b) *hidden_layer_sizes = (5,)*\n",
    "   \n",
    "   (c) *hidden_layer_sizes = (10,)*"
   ]
  },
  {
   "cell_type": "markdown",
   "metadata": {
    "id": "DeNBzmHc7kC3"
   },
   "source": [
    "# Answer 4"
   ]
  },
  {
   "cell_type": "code",
   "execution_count": 5,
   "metadata": {},
   "outputs": [
    {
     "name": "stdout",
     "output_type": "stream",
     "text": [
      "RMSE is 229.8053295764077 for hidden layer size 2\n",
      "RMSE is 178.55643955902715 for hidden layer size 10\n",
      "RMSE is 181.09629087164166 for hidden layer size 20\n",
      "RMSE is 153.46570494089562 for hidden layer size 30\n"
     ]
    }
   ],
   "source": [
    "# 1)\n",
    "scaler = StandardScaler().fit(X_train)\n",
    "X_train_scaled = scaler.transform(X_train)\n",
    "X_test_scaled = scaler.transform(X_test)\n",
    "\n",
    "n_splits = 5\n",
    "kf = KFold(n_splits=n_splits)\n",
    "\n",
    "hl_sizes = [2, 10, 20, 30]\n",
    "for i in hl_sizes:\n",
    "    total_rmse = 0\n",
    "    for train_index, test_index in kf.split(X_train_scaled):\n",
    "        X_train_fold, X_test_fold = X_train_scaled[train_index], X_train_scaled[test_index]\n",
    "        y_train_fold, y_test_fold = y_train[train_index], y_train[test_index]\n",
    "        \n",
    "        MLPreg = MLPRegressor(hidden_layer_sizes=(i,), activation = 'tanh', solver = 'sgd', learning_rate='constant', \n",
    "                          random_state=42, batch_size=30, learning_rate_init = 0.005).fit(X_train_fold,y_train_fold)\n",
    "        \n",
    "        rmse = mean_squared_error(y_test_fold, MLPreg.predict(X_test_fold), squared=False)\n",
    "        total_rmse += rmse\n",
    "    avg_rmse = total_rmse / n_splits\n",
    "    print(\"RMSE is {} for hidden layer size {}\".format(avg_rmse,i))\n"
   ]
  },
  {
   "cell_type": "code",
   "execution_count": 3,
   "metadata": {
    "id": "ps1v9Jx26CGE"
   },
   "outputs": [
    {
     "name": "stdout",
     "output_type": "stream",
     "text": [
      "Test RMSE is 211.4572621223227 for hidden layer size 2\n",
      "Train RMSE is 215.73189791612663 for hidden layer size 2\n",
      "Test RMSE is 145.23367136134348 for hidden layer size 10\n",
      "Train RMSE is 149.17818926125327 for hidden layer size 10\n",
      "Test RMSE is 205.99829777415934 for hidden layer size 20\n",
      "Train RMSE is 209.52739324613103 for hidden layer size 20\n",
      "Test RMSE is 173.18066043259884 for hidden layer size 30\n",
      "Train RMSE is 177.58002027206086 for hidden layer size 30\n"
     ]
    }
   ],
   "source": [
    "# 2)\n",
    "scaler = StandardScaler().fit(X_train)\n",
    "X_train_scaled = scaler.transform(X_train)\n",
    "X_test_scaled = scaler.transform(X_test)\n",
    "\n",
    "hl_sizes = [2, 10, 20, 30]\n",
    "for i in hl_sizes:\n",
    "    MLPreg = MLPRegressor(hidden_layer_sizes=(i,), activation = 'tanh', solver = 'sgd', learning_rate='constant', \n",
    "                          random_state=42, batch_size=30, learning_rate_init = 0.005).fit(X_train_scaled,y_train)\n",
    "    rmse_test = mean_squared_error(y_test, MLPreg.predict(X_test_scaled), squared=False)\n",
    "    rmse_train = mean_squared_error(y_train, MLPreg.predict(X_train_scaled), squared=False)\n",
    "    print(\"Test RMSE is {} for hidden layer size {}\".format(rmse_test,i))\n",
    "    print(\"Train RMSE is {} for hidden layer size {}\".format(rmse_train,i))\n"
   ]
  },
  {
   "cell_type": "markdown",
   "metadata": {},
   "source": [
    "Layer size 10 (model b) performed the best, but it's interesting that the error went down from model a to b, then it went up from b to c, then back down from c to d. Clearly increasing the number of hidden units does not appear to have a monotonic effect on the test/train error. Also worth noting that the Train RMSE was ~4 more than the Test RMSE for every model, which seems like a strange coincidence, and also the fact that the training error was larger than the testing error could mean our models are underfitting a bit."
   ]
  },
  {
   "cell_type": "code",
   "execution_count": 9,
   "metadata": {},
   "outputs": [
    {
     "data": {
      "image/png": "[encoded data removed]",
      "text/plain": [
       "<Figure size 432x288 with 1 Axes>"
      ]
     },
     "metadata": {
      "needs_background": "light"
     },
     "output_type": "display_data"
    }
   ],
   "source": [
    "#3)\n",
    "scaler = StandardScaler().fit(X_train)\n",
    "X_train_scaled = scaler.transform(X_train)\n",
    "X_test_scaled = scaler.transform(X_test)\n",
    "\n",
    "hl_sizes = [1, 5, 10]\n",
    "for i in hl_sizes:\n",
    "    MLPreg = MLPRegressor(hidden_layer_sizes=(i,), activation = 'tanh', solver = 'sgd', learning_rate='constant', \n",
    "                          random_state=42, batch_size=30, learning_rate_init = 0.005).fit(X_train_scaled,y_train)\n",
    "    loss_curve = MLPreg.loss_curve_\n",
    "    \n",
    "    plt.plot(np.sqrt(loss_curve))\n",
    "    plt.title(\"MLP Regressor Loss Curves\")\n",
    "    plt.xlabel(\"Epochs\")\n",
    "    plt.ylabel(\"Loss Values\")"
   ]
  },
  {
   "cell_type": "code",
   "execution_count": null,
   "metadata": {},
   "outputs": [],
   "source": []
  }
 ],
 "metadata": {
  "colab": {
   "collapsed_sections": [],
   "name": "HW3Qns.ipynb",
   "provenance": [],
   "toc_visible": true
  },
  "kernelspec": {
   "display_name": "Python 3",
   "language": "python",
   "name": "python3"
  },
  "language_info": {
   "codemirror_mode": {
    "name": "ipython",
    "version": 3
   },
   "file_extension": ".py",
   "mimetype": "text/x-python",
   "name": "python",
   "nbconvert_exporter": "python",
   "pygments_lexer": "ipython3",
   "version": "3.8.3"
  }
 },
 "nbformat": 4,
 "nbformat_minor": 1
}
