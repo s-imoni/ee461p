{
 "cells": [
  {
   "cell_type": "markdown",
   "metadata": {
    "id": "wPx0of7QbFIh"
   },
   "source": [
    "## EE 461P: Data Science Principles  \n",
    "### Assignment 4 \n",
    "### Total points: 80\n",
    "### Due: April 6, 2021 submitted via Canvas by 11:59 pm  \n",
    "\n",
    "Your homework should be written in a **Jupyter notebook**. You may work in groups of two if you wish. Only one student per team needs to submit the assignment on Canvas.  But be sure to include name and UT eID for both students.  Homework groups will be created and managed through Canvas, so please do not arbitrarily change your homework group. If you do change, let the TAs know.\n",
    "\n",
    "Also, please make sure your code runs and the graphics (and anything else) are displayed in your notebook before submitting. (%matplotlib inline). You can also follow the below steps to embed an image,\n",
    "* Set cell mode to Markdown\n",
    "* Drag and drop your image into the cell. The following command will be created:\n",
    "`![image.png](attachment:image.png)` \n",
    "* Execute/Run the cell and the image will be displayed. Once you submit make sure to download the notebook and verify if the image exists.\n",
    "\n",
    "### Name(s) and EID(s):\n",
    "1. Simoni Maniar (ssm3256)\n",
    "2. \n",
    "\n",
    "### Homework group No.:  2\n",
    "\n",
    "`NOTE : Fill the Name and EID section along with group number without fail.`"
   ]
  },
  {
   "cell_type": "code",
   "execution_count": 1,
   "metadata": {
    "id": "4EDfAS6UUiBl"
   },
   "outputs": [
    {
     "name": "stdout",
     "output_type": "stream",
     "text": [
      "Requirement already up-to-date: scikit-learn in c:\\users\\simoni\\anaconda3\\lib\\site-packages (0.24.1)\n",
      "Requirement already satisfied, skipping upgrade: threadpoolctl>=2.0.0 in c:\\users\\simoni\\anaconda3\\lib\\site-packages (from scikit-learn) (2.1.0)\n",
      "Requirement already satisfied, skipping upgrade: scipy>=0.19.1 in c:\\users\\simoni\\anaconda3\\lib\\site-packages (from scikit-learn) (1.5.0)\n",
      "Requirement already satisfied, skipping upgrade: joblib>=0.11 in c:\\users\\simoni\\anaconda3\\lib\\site-packages (from scikit-learn) (0.16.0)\n",
      "Requirement already satisfied, skipping upgrade: numpy>=1.13.3 in c:\\users\\simoni\\anaconda3\\lib\\site-packages (from scikit-learn) (1.18.5)\n"
     ]
    }
   ],
   "source": [
    "# Upgrade scikit learn to the latest version\n",
    "!pip install --upgrade scikit-learn"
   ]
  },
  {
   "cell_type": "markdown",
   "metadata": {
    "id": "czMinzQWUizy"
   },
   "source": [
    "# Question 1 (Data Imputation and Feature Selection) (15 pts)\n",
    "\n",
    "In this question, we will explore how to impute missing values in a given dataset and perform feature engineering. \n",
    "\n",
    "We will be using the WHO Life Expectancy Data, which measures the life expectancy from health factors for 193 countries collected from the WHO data repository website and its corresponding economic data collected from United Nation website. More information on the dataset can be found [here](https://www.kaggle.com/kumarajarshi/life-expectancy-who).Use the below code to load the dataset, the predictor variable is \"Life Expectancy\" and the rest are the feature variables. \n",
    "\n",
    "`orig_df` contains data from all years except 2014 and `orig_df_2014` contains data from only 2014. "
   ]
  },
  {
   "cell_type": "code",
   "execution_count": 2,
   "metadata": {
    "id": "kJHzI7cOUnZi"
   },
   "outputs": [],
   "source": [
    "from sklearn.linear_model import LinearRegression\n",
    "from sklearn.model_selection import train_test_split\n",
    "from sklearn.feature_selection import SequentialFeatureSelector\n",
    "import os, sys, re\n",
    "import time\n",
    "import numpy as np\n",
    "import pandas as pd\n",
    "from sklearn.model_selection import train_test_split\n",
    "from sklearn.preprocessing import MinMaxScaler,StandardScaler\n",
    "from sklearn.metrics import plot_roc_curve \n",
    "import matplotlib.pyplot as plt\n",
    "\n",
    "# Load the dataset from csv files\n",
    "orig_df = pd.read_csv(\"Life Expectancy Data.csv\")\n",
    "orig_df = orig_df[(orig_df['Life_expectancy'].notna()) & (orig_df['Year'] != 2015)]\n",
    "\n",
    "# Select only 2014 data\n",
    "orig_df_2014 = orig_df[orig_df['Year']== 2014]\n",
    "\n",
    "# Drop the year column\n",
    "orig_df_2014 = orig_df_2014.drop(columns=[\"Year\"])\n",
    "\n"
   ]
  },
  {
   "cell_type": "markdown",
   "metadata": {
    "id": "9Z0qTw2BUrJR"
   },
   "source": [
    "\n",
    "* **Part 1** : Report the datatype of the column values in the `orig_df_2014` dataframe, this helps to identify the categorical, numerical feature variables present in the dataset. Drop the categorical columns in the `orig_df_2014` dataset and create a new dataframe with only numerical valued columns and name it `numerical_df_2014`. Print the number of missing values(NaN) for each column in this `numerical_df_2014` dataframe.  **(1 pts)**\n",
    "\n",
    "* **Part 2** : In this part we will explore different ways to handle missing data, you can make use of the pandas dataframe's function available, refer [here](https://pandas.pydata.org/docs/reference/frame.html).\n",
    "  \n",
    "  * a) Create a copy of the numerical_df_2014 dataframe and name it `numerical_df_na_drop_row`. Drop all the NaN rows in `numerical_df_na_drop_row`, then split the dataframe into y(Life_expectancy) which is the predictor variable and the rest as X. Split the dataset using train_test_split with random_state = 42 and train:test split as 70:30. Fit a linear regression model on train data and evaluate the model on the test data by reporting the test ${R^2}$ score. **(2 pts)**\n",
    "\n",
    "  * b) Next, Create another copy of the numerical_df_2014 dataframe and name it `numerical_df_na_fill_zero`. Now, fill the NaN values with zeros in `numerical_df_na_fill_zero`, then split the dataframe into y(Life_expectancy) which is the predictor variable and the rest as X. Split the dataset using train_test_split with random_state = 42 and train:test split as 70:30. Fit a linear regression model on train data and evaluate the model on the test data by reporting the test ${R^2}$ score.**(2 pts)**\n",
    "\n",
    "  * c) Finally, Create a copy of the numerical_df_2014 dataframe and name it `numerical_df_na_drop_cols`. Drop all the features(columns) which contain NaN values in `numerical_df_na_drop_cols` then split the dataframe into y(Life_expectancy) which is the predictor variable and the rest as X. Split the dataset using train_test_split with random_state = 42 and train:test split as 70:30. Fit a linear regression model on train data and evaluate the model on the test data by reporting the test ${R^2}$ score.**(2 pts)**\n",
    "\n",
    "  * d) Compare the test ${R^2}$ score value obtained in part a), b) and c) explain what you observe in the scores, provide reasoning on which is your preferred method to handle missing data and why? **(2 pts)**\n",
    "\n",
    "* **Part 3** (Feature selection): In this part we will be using the  `numerical_df_na_drop_row` dataframe created by dropping all NaN samples in part 2a). Split this dataset into train:test split of 70:30 with random_state 42 and use the training data for the sub-parts below:\n",
    "\n",
    "  * a) Compute the correlation of all the feature variables with the predictor variable(Life_expectancy). Report the five most correlated feature variable with the predictor using training data. (**1pts**)\n",
    "\n",
    "  * b) Use Linear Regression as an estimator for Recursive Feature Selection. We will use Sequential Feature Selector to perform `forward` feature selection. Details on how to use Sequential Feature Selector is given [here](https://scikit-learn.org/stable/modules/generated/sklearn.feature_selection.SequentialFeatureSelector.html). Report the top five features selected after performing forward selection using training data.(**2pts**)\n",
    "\n",
    "  * c) Use Decision Tree Regressor with random_state=20 from [sklearn](https://scikit-learn.org/stable/modules/generated/sklearn.tree.DecisionTreeRegressor.html#sklearn.tree.DecisionTreeRegressor) with default parameters and fit the model on training data. Identify the feature importance from the fitted model and report the 5 most important features. (**1pts**)\n",
    "\n",
    "  * d) Use the most common set of features obtained from the feature selection methods in part a) b) and c). Train a linear regression model on this subset of features by fitting it on train data and reporting the ${R^2}$ score on test data. Briefly eplain what you understand by feature selection and how it affects the model performance based on the results obtained.(**2pts**)\n",
    "\n"
   ]
  },
  {
   "cell_type": "code",
   "execution_count": null,
   "metadata": {
    "id": "jZWiq8dleZCq"
   },
   "outputs": [],
   "source": []
  },
  {
   "cell_type": "markdown",
   "metadata": {
    "id": "acLvny9VYBYa"
   },
   "source": [
    "# Question 2 (15 pts) - Principal Component Analysis\n",
    "\n",
    "In this problem we will be applying PCA on the Superconductivity Dataset. More details on the dataset is present [here](https://archive.ics.uci.edu/ml/datasets/Superconductivty+Data#). The goal here is to predict the critical temperature of a superconductor based on the features extracted.\n",
    "\n",
    "Use Principal Component Analysis (PCA) to solve this problem.  \n",
    "\n",
    "* **2.1 (1 pt)** Perform the following steps to prepare the dataset:\n",
    "    * Load the dataset from the \"Q2data.csv\" file provided as a dataframe df. \n",
    "\n",
    "    * Select the **'critical_temp'** column as the target column and the rest of the columns from the dataframe df as X. \n",
    "\n",
    "    * Split the dataset into train and test set with 35% data in test set and random_state = 42\n",
    "\n",
    "    * Perform [Standard Scaling](https://scikit-learn.org/stable/modules/generated/sklearn.preprocessing.StandardScaler.html#sklearn.preprocessing.StandardScaler) on the dataset. Remember that when we have training and testing data, we fit preprocessing parameters on training data and apply them to all testing data. You should scale only the features (independent variables), not the target variable y.\n",
    "    \n",
    "    `Note: X should have 81 features.`\n",
    "    \n",
    "* **2.2 (3 pts)** Use [PCA](https://scikit-learn.org/stable/modules/generated/sklearn.decomposition.PCA.html) and reduce the dimension of X_train to the following number of components: `[3,20,40,60,81]`. For each of the five datasets, print the cumulative variance explained by the principal components`N = [3,20,40,60,81]`.(i.e. what percentage of variance in the original dataset is explained if we transform the dataset to have 3,20,40,60 and 81 principal components respectively). \n",
    "\n",
    "  `Note : PCA should be fit on X_train and the components thus learnt should be later used to transform X_test`\n",
    "\n",
    "* **2.3 (4 pts)** Plot the cumulative variance explained by the principal components using the training data. The plot should display the number of components on X-axis and the cumulative explained variance on the y-axis. What do you understand from the plot obtained?\n",
    "\n",
    "* **2.4 (4 pts)** For each of the reduced dataset, obtained in part 2.2, fit a linear regression model on the train data and report the ${R^2}$ score on the test dataset. Comment on how the score varies as the number of components increase.(There will be a total of 5 ${R^2}$ score).\n",
    "\n",
    "* **2.4 (3 pts)** Visualizing principal components : For this part use a small subset of 50 samples of the training dataset and plot the first three principal components, i.e first plot PC1 vs. PC2 (i.e. the projection of the data onto the 2-D space defined by the first two Principal Components) and also PC2 vs PC3 in both these plot color the projected points according to the corresponding ground truth labels. Do you observe any pattern in the plot?\n",
    "\n",
    "  `Note : You will have two scatter plots for part 2.4`"
   ]
  },
  {
   "cell_type": "markdown",
   "metadata": {
    "id": "tistaqQeh6rp"
   },
   "source": [
    "# Solution 2"
   ]
  },
  {
   "cell_type": "code",
   "execution_count": null,
   "metadata": {
    "id": "_EnDPkLH-Cxo"
   },
   "outputs": [],
   "source": []
  },
  {
   "cell_type": "markdown",
   "metadata": {
    "id": "v9DCGqMtwyMs"
   },
   "source": [
    "# Question 3 - Expected Loss Minimization (15 pts)\n",
    "Consider a binary classification problem with the following loss matrix -\n",
    "$$\n",
    "   {\\begin{array}{ccccc}\n",
    "   & & \\text{Predicted class} & \\text{           } &\\\\\n",
    "   & & C1 & C2 & Reject\\\\\n",
    "   \\text{True class} & C1 & 0 & 3 & c  \\\\\n",
    "   & C2 & 2 & 0 & c \\\\\n",
    "  \\end{array} } \n",
    "$$\n",
    "where the cost of rejection is a constant. Determine the prediction that minimizes the expected loss in different ranges of $P(C1|x)$ for the following three cases - \n",
    "1. c = 0\n",
    "2. c = 2\n",
    "3. c = 1"
   ]
  },
  {
   "cell_type": "markdown",
   "metadata": {
    "id": "ySBxIpvjepOT"
   },
   "source": [
    "# Answer 3"
   ]
  },
  {
   "cell_type": "markdown",
   "metadata": {},
   "source": [
    "\n",
    "1. Reject for all ranges of P(C1|X)\n",
    "2. If P(C1|X) >= 0.6 choose C1. Otherwise, chose C2\n",
    "3. If P(C1|X) >= 0.666 chose C1. Else, if P(C1|X) >= 0.5 and < 0.666, reject. Else, choose C2.  \n"
   ]
  },
  {
   "cell_type": "code",
   "execution_count": 3,
   "metadata": {
    "id": "BdOAn7Qfeq-S"
   },
   "outputs": [
    {
     "name": "stdout",
     "output_type": "stream",
     "text": [
      "With a rejection loss of 0, you want to reject for all ranges.\n",
      "With a rejection loss of 2, you want to choose C2 from 0:0.6 and chose C1 from 0.6:1.\n",
      "With a rejection loss of 1, you want to choose C2 from 0:0.5, reject from 0.5 to 0.666, and choose C1 from 0.666 to 1.\n"
     ]
    },
    {
     "data": {
      "image/png": "[encoded data removed]",
      "text/plain": [
       "<Figure size 432x288 with 1 Axes>"
      ]
     },
     "metadata": {
      "needs_background": "light"
     },
     "output_type": "display_data"
    },
    {
     "data": {
      "image/png": "[encoded data removed]",
      "text/plain": [
       "<Figure size 432x288 with 1 Axes>"
      ]
     },
     "metadata": {
      "needs_background": "light"
     },
     "output_type": "display_data"
    },
    {
     "data": {
      "image/png": "[encoded data removed]",
      "text/plain": [
       "<Figure size 432x288 with 1 Axes>"
      ]
     },
     "metadata": {
      "needs_background": "light"
     },
     "output_type": "display_data"
    }
   ],
   "source": [
    "import matplotlib.pyplot as plt\n",
    "c1 = [3,0]\n",
    "c2 = [0,2]\n",
    "r1 = [0,0]\n",
    "r2 = [2,2]\n",
    "r3 = [1,1]\n",
    "plt.figure(1)\n",
    "plt.plot(c1)\n",
    "plt.plot(c2)\n",
    "plt.plot(r1)\n",
    "print(\"With a rejection loss of 0, you want to reject for all ranges.\")\n",
    "plt.figure(2)\n",
    "plt.plot(c1)\n",
    "plt.plot(c2)\n",
    "plt.plot(r2)\n",
    "print(\"With a rejection loss of 2, you want to choose C2 from 0:0.6 and chose C1 from 0.6:1.\")\n",
    "plt.figure(3)\n",
    "plt.plot(c1)\n",
    "plt.plot(c2)\n",
    "plt.plot(r3)\n",
    "print(\"With a rejection loss of 1, you want to choose C2 from 0:0.5, reject from 0.5 to 0.666, and choose C1 from 0.666 to 1.\")"
   ]
  },
  {
   "cell_type": "markdown",
   "metadata": {
    "id": "KMYbNZ9Y3uvr"
   },
   "source": [
    "# Question 4 (20 pts) - Decision Tree Classifier using sklearn\n",
    "\n",
    "**Customer Eligibility for Deposits**\n",
    "\n",
    "We will build a Decision Tree classification model to predict if a customer will subscribe or no (yes/no)."
   ]
  },
  {
   "cell_type": "code",
   "execution_count": 4,
   "metadata": {
    "colab": {
     "base_uri": "https://localhost:8080/",
     "height": 204
    },
    "id": "r0M1HnOmw7kC",
    "outputId": "2ef5749b-af6e-419b-b331-2e34959bdd57"
   },
   "outputs": [
    {
     "data": {
      "text/html": [
       "<div>\n",
       "<style scoped>\n",
       "    .dataframe tbody tr th:only-of-type {\n",
       "        vertical-align: middle;\n",
       "    }\n",
       "\n",
       "    .dataframe tbody tr th {\n",
       "        vertical-align: top;\n",
       "    }\n",
       "\n",
       "    .dataframe thead th {\n",
       "        text-align: right;\n",
       "    }\n",
       "</style>\n",
       "<table border=\"1\" class=\"dataframe\">\n",
       "  <thead>\n",
       "    <tr style=\"text-align: right;\">\n",
       "      <th></th>\n",
       "      <th>age</th>\n",
       "      <th>job</th>\n",
       "      <th>marital</th>\n",
       "      <th>education</th>\n",
       "      <th>default</th>\n",
       "      <th>balance</th>\n",
       "      <th>housing</th>\n",
       "      <th>loan</th>\n",
       "      <th>contact</th>\n",
       "      <th>day</th>\n",
       "      <th>month</th>\n",
       "      <th>duration</th>\n",
       "      <th>campaign</th>\n",
       "      <th>pdays</th>\n",
       "      <th>previous</th>\n",
       "      <th>poutcome</th>\n",
       "      <th>deposit</th>\n",
       "    </tr>\n",
       "  </thead>\n",
       "  <tbody>\n",
       "    <tr>\n",
       "      <th>0</th>\n",
       "      <td>59</td>\n",
       "      <td>admin.</td>\n",
       "      <td>married</td>\n",
       "      <td>secondary</td>\n",
       "      <td>no</td>\n",
       "      <td>2343</td>\n",
       "      <td>yes</td>\n",
       "      <td>no</td>\n",
       "      <td>unknown</td>\n",
       "      <td>5</td>\n",
       "      <td>may</td>\n",
       "      <td>1042</td>\n",
       "      <td>1</td>\n",
       "      <td>-1</td>\n",
       "      <td>0</td>\n",
       "      <td>unknown</td>\n",
       "      <td>yes</td>\n",
       "    </tr>\n",
       "    <tr>\n",
       "      <th>1</th>\n",
       "      <td>56</td>\n",
       "      <td>admin.</td>\n",
       "      <td>married</td>\n",
       "      <td>secondary</td>\n",
       "      <td>no</td>\n",
       "      <td>45</td>\n",
       "      <td>no</td>\n",
       "      <td>no</td>\n",
       "      <td>unknown</td>\n",
       "      <td>5</td>\n",
       "      <td>may</td>\n",
       "      <td>1467</td>\n",
       "      <td>1</td>\n",
       "      <td>-1</td>\n",
       "      <td>0</td>\n",
       "      <td>unknown</td>\n",
       "      <td>yes</td>\n",
       "    </tr>\n",
       "    <tr>\n",
       "      <th>2</th>\n",
       "      <td>41</td>\n",
       "      <td>technician</td>\n",
       "      <td>married</td>\n",
       "      <td>secondary</td>\n",
       "      <td>no</td>\n",
       "      <td>1270</td>\n",
       "      <td>yes</td>\n",
       "      <td>no</td>\n",
       "      <td>unknown</td>\n",
       "      <td>5</td>\n",
       "      <td>may</td>\n",
       "      <td>1389</td>\n",
       "      <td>1</td>\n",
       "      <td>-1</td>\n",
       "      <td>0</td>\n",
       "      <td>unknown</td>\n",
       "      <td>yes</td>\n",
       "    </tr>\n",
       "    <tr>\n",
       "      <th>3</th>\n",
       "      <td>55</td>\n",
       "      <td>services</td>\n",
       "      <td>married</td>\n",
       "      <td>secondary</td>\n",
       "      <td>no</td>\n",
       "      <td>2476</td>\n",
       "      <td>yes</td>\n",
       "      <td>no</td>\n",
       "      <td>unknown</td>\n",
       "      <td>5</td>\n",
       "      <td>may</td>\n",
       "      <td>579</td>\n",
       "      <td>1</td>\n",
       "      <td>-1</td>\n",
       "      <td>0</td>\n",
       "      <td>unknown</td>\n",
       "      <td>yes</td>\n",
       "    </tr>\n",
       "    <tr>\n",
       "      <th>4</th>\n",
       "      <td>54</td>\n",
       "      <td>admin.</td>\n",
       "      <td>married</td>\n",
       "      <td>tertiary</td>\n",
       "      <td>no</td>\n",
       "      <td>184</td>\n",
       "      <td>no</td>\n",
       "      <td>no</td>\n",
       "      <td>unknown</td>\n",
       "      <td>5</td>\n",
       "      <td>may</td>\n",
       "      <td>673</td>\n",
       "      <td>2</td>\n",
       "      <td>-1</td>\n",
       "      <td>0</td>\n",
       "      <td>unknown</td>\n",
       "      <td>yes</td>\n",
       "    </tr>\n",
       "  </tbody>\n",
       "</table>\n",
       "</div>"
      ],
      "text/plain": [
       "   age         job  marital  education default  balance housing loan  contact  \\\n",
       "0   59      admin.  married  secondary      no     2343     yes   no  unknown   \n",
       "1   56      admin.  married  secondary      no       45      no   no  unknown   \n",
       "2   41  technician  married  secondary      no     1270     yes   no  unknown   \n",
       "3   55    services  married  secondary      no     2476     yes   no  unknown   \n",
       "4   54      admin.  married   tertiary      no      184      no   no  unknown   \n",
       "\n",
       "   day month  duration  campaign  pdays  previous poutcome deposit  \n",
       "0    5   may      1042         1     -1         0  unknown     yes  \n",
       "1    5   may      1467         1     -1         0  unknown     yes  \n",
       "2    5   may      1389         1     -1         0  unknown     yes  \n",
       "3    5   may       579         1     -1         0  unknown     yes  \n",
       "4    5   may       673         2     -1         0  unknown     yes  "
      ]
     },
     "execution_count": 4,
     "metadata": {},
     "output_type": "execute_result"
    }
   ],
   "source": [
    "import pandas as pd\n",
    "import numpy as np\n",
    "import matplotlib.pyplot as plt\n",
    "import seaborn as sns\n",
    "from sklearn.cluster import KMeans\n",
    "from sklearn import datasets\n",
    "from io import StringIO\n",
    "from sklearn.tree import export_graphviz\n",
    "from sklearn.model_selection import train_test_split\n",
    "from sklearn import tree\n",
    "from sklearn import metrics\n",
    "%matplotlib inline\n",
    "\n",
    "# Loading the data file\n",
    "bank=pd.read_csv('bank.csv')\n",
    "bank.head()"
   ]
  },
  {
   "cell_type": "markdown",
   "metadata": {
    "id": "uu4A3d_X6I6l"
   },
   "source": [
    "Input variables:\n",
    "# bank client data:\n",
    "1 - `age` (numeric)\n",
    "\n",
    "2 - `job` : type of job (categorical: 'admin', 'blue-collar', 'entrepreneur', 'housemaid', 'management', 'retired', 'self-employed', 'services', 'student', 'technician', 'unemployed', 'unknown')\n",
    "\n",
    "3 - `marital` : marital status (categorical: 'divorced','married','single'; note: 'divorced' means divorced or widowed)\n",
    "\n",
    "4 - `education` (categorical: 'primary', 'secondary','tertiary')\n",
    "\n",
    "5 - `default`: has credit in default? (categorical: 'no','yes','unknown')\n",
    "\n",
    "6 - `balance`: account balance\n",
    "\n",
    "7 - `housing`: has housing loan? (categorical: 'no','yes','unknown')\n",
    "\n",
    "8 - `loan`: has personal loan? (categorical: 'no','yes','unknown')\n",
    "\n",
    "# related with the last contact of the current campaign:\n",
    "9 - `contact`: contact communication type (categorical: 'cellular','telephone')\n",
    "\n",
    "10 - `day_of_month` : 1,2....31\n",
    "\n",
    "11 - `month`: last contact month of year (categorical: 'jan', 'feb', 'mar', ..., 'nov', 'dec')\n",
    "\n",
    "12 - `duration`: last contact duration, in seconds (numeric). Important note: this attribute highly affects the output target (e.g., if duration=0 then y='no'). Yet, the duration is not known before a call is performed. Also, after the end of the call y is obviously known. Thus, this input should only be included for benchmark purposes and should be discarded if the intention is to have a realistic predictive model.\n",
    "# other attributes:\n",
    "13 - `campaign`: number of contacts performed during this campaign and for this client (numeric, includes last contact)\n",
    "\n",
    "14 - `pdays`: number of days that passed by after the client was last contacted from a previous campaign (numeric; 10000 means client was not previously contacted)\n",
    "\n",
    "15 - `previous`: number of contacts performed before this campaign and for this client (numeric)\n",
    "\n",
    "16 - `poutcome`: outcome of the previous marketing campaign (categorical: 'failure','other','success','unknown')\n",
    "\n",
    "# Output variable (desired target):\n",
    "17 - `y` - has the client subscribed a term deposit? (binary: 'yes','no')\n",
    "\n",
    "**All pre-processing is done where categorical variables are converted to numeric values and unnecessary columns are dropped.**"
   ]
  },
  {
   "cell_type": "code",
   "execution_count": 5,
   "metadata": {
    "colab": {
     "base_uri": "https://localhost:8080/",
     "height": 241
    },
    "id": "tLGM27XY6EQe",
    "outputId": "7deea13c-4c87-4fe2-9840-5e08816677b9"
   },
   "outputs": [
    {
     "data": {
      "text/html": [
       "<div>\n",
       "<style scoped>\n",
       "    .dataframe tbody tr th:only-of-type {\n",
       "        vertical-align: middle;\n",
       "    }\n",
       "\n",
       "    .dataframe tbody tr th {\n",
       "        vertical-align: top;\n",
       "    }\n",
       "\n",
       "    .dataframe thead th {\n",
       "        text-align: right;\n",
       "    }\n",
       "</style>\n",
       "<table border=\"1\" class=\"dataframe\">\n",
       "  <thead>\n",
       "    <tr style=\"text-align: right;\">\n",
       "      <th></th>\n",
       "      <th>age</th>\n",
       "      <th>balance</th>\n",
       "      <th>duration</th>\n",
       "      <th>campaign</th>\n",
       "      <th>previous</th>\n",
       "      <th>default_cat</th>\n",
       "      <th>housing_cat</th>\n",
       "      <th>loan_cat</th>\n",
       "      <th>deposit_cat</th>\n",
       "      <th>job_admin.</th>\n",
       "      <th>...</th>\n",
       "      <th>marital_single</th>\n",
       "      <th>education_primary</th>\n",
       "      <th>education_secondary</th>\n",
       "      <th>education_tertiary</th>\n",
       "      <th>education_unknown</th>\n",
       "      <th>poutcome_failure</th>\n",
       "      <th>poutcome_other</th>\n",
       "      <th>poutcome_success</th>\n",
       "      <th>poutcome_unknown</th>\n",
       "      <th>recent_pdays</th>\n",
       "    </tr>\n",
       "  </thead>\n",
       "  <tbody>\n",
       "    <tr>\n",
       "      <th>0</th>\n",
       "      <td>59</td>\n",
       "      <td>2343</td>\n",
       "      <td>1042</td>\n",
       "      <td>1</td>\n",
       "      <td>0</td>\n",
       "      <td>0</td>\n",
       "      <td>1</td>\n",
       "      <td>0</td>\n",
       "      <td>1</td>\n",
       "      <td>1</td>\n",
       "      <td>...</td>\n",
       "      <td>0</td>\n",
       "      <td>0</td>\n",
       "      <td>1</td>\n",
       "      <td>0</td>\n",
       "      <td>0</td>\n",
       "      <td>0</td>\n",
       "      <td>0</td>\n",
       "      <td>0</td>\n",
       "      <td>1</td>\n",
       "      <td>-1.0</td>\n",
       "    </tr>\n",
       "    <tr>\n",
       "      <th>1</th>\n",
       "      <td>56</td>\n",
       "      <td>45</td>\n",
       "      <td>1467</td>\n",
       "      <td>1</td>\n",
       "      <td>0</td>\n",
       "      <td>0</td>\n",
       "      <td>0</td>\n",
       "      <td>0</td>\n",
       "      <td>1</td>\n",
       "      <td>1</td>\n",
       "      <td>...</td>\n",
       "      <td>0</td>\n",
       "      <td>0</td>\n",
       "      <td>1</td>\n",
       "      <td>0</td>\n",
       "      <td>0</td>\n",
       "      <td>0</td>\n",
       "      <td>0</td>\n",
       "      <td>0</td>\n",
       "      <td>1</td>\n",
       "      <td>-1.0</td>\n",
       "    </tr>\n",
       "    <tr>\n",
       "      <th>2</th>\n",
       "      <td>41</td>\n",
       "      <td>1270</td>\n",
       "      <td>1389</td>\n",
       "      <td>1</td>\n",
       "      <td>0</td>\n",
       "      <td>0</td>\n",
       "      <td>1</td>\n",
       "      <td>0</td>\n",
       "      <td>1</td>\n",
       "      <td>0</td>\n",
       "      <td>...</td>\n",
       "      <td>0</td>\n",
       "      <td>0</td>\n",
       "      <td>1</td>\n",
       "      <td>0</td>\n",
       "      <td>0</td>\n",
       "      <td>0</td>\n",
       "      <td>0</td>\n",
       "      <td>0</td>\n",
       "      <td>1</td>\n",
       "      <td>-1.0</td>\n",
       "    </tr>\n",
       "    <tr>\n",
       "      <th>3</th>\n",
       "      <td>55</td>\n",
       "      <td>2476</td>\n",
       "      <td>579</td>\n",
       "      <td>1</td>\n",
       "      <td>0</td>\n",
       "      <td>0</td>\n",
       "      <td>1</td>\n",
       "      <td>0</td>\n",
       "      <td>1</td>\n",
       "      <td>0</td>\n",
       "      <td>...</td>\n",
       "      <td>0</td>\n",
       "      <td>0</td>\n",
       "      <td>1</td>\n",
       "      <td>0</td>\n",
       "      <td>0</td>\n",
       "      <td>0</td>\n",
       "      <td>0</td>\n",
       "      <td>0</td>\n",
       "      <td>1</td>\n",
       "      <td>-1.0</td>\n",
       "    </tr>\n",
       "    <tr>\n",
       "      <th>4</th>\n",
       "      <td>54</td>\n",
       "      <td>184</td>\n",
       "      <td>673</td>\n",
       "      <td>2</td>\n",
       "      <td>0</td>\n",
       "      <td>0</td>\n",
       "      <td>0</td>\n",
       "      <td>0</td>\n",
       "      <td>1</td>\n",
       "      <td>1</td>\n",
       "      <td>...</td>\n",
       "      <td>0</td>\n",
       "      <td>0</td>\n",
       "      <td>0</td>\n",
       "      <td>1</td>\n",
       "      <td>0</td>\n",
       "      <td>0</td>\n",
       "      <td>0</td>\n",
       "      <td>0</td>\n",
       "      <td>1</td>\n",
       "      <td>-1.0</td>\n",
       "    </tr>\n",
       "  </tbody>\n",
       "</table>\n",
       "<p>5 rows × 33 columns</p>\n",
       "</div>"
      ],
      "text/plain": [
       "   age  balance  duration  campaign  previous  default_cat  housing_cat  \\\n",
       "0   59     2343      1042         1         0            0            1   \n",
       "1   56       45      1467         1         0            0            0   \n",
       "2   41     1270      1389         1         0            0            1   \n",
       "3   55     2476       579         1         0            0            1   \n",
       "4   54      184       673         2         0            0            0   \n",
       "\n",
       "   loan_cat  deposit_cat  job_admin.  ...  marital_single  education_primary  \\\n",
       "0         0            1           1  ...               0                  0   \n",
       "1         0            1           1  ...               0                  0   \n",
       "2         0            1           0  ...               0                  0   \n",
       "3         0            1           0  ...               0                  0   \n",
       "4         0            1           1  ...               0                  0   \n",
       "\n",
       "   education_secondary  education_tertiary  education_unknown  \\\n",
       "0                    1                   0                  0   \n",
       "1                    1                   0                  0   \n",
       "2                    1                   0                  0   \n",
       "3                    1                   0                  0   \n",
       "4                    0                   1                  0   \n",
       "\n",
       "   poutcome_failure  poutcome_other  poutcome_success  poutcome_unknown  \\\n",
       "0                 0               0                 0                 1   \n",
       "1                 0               0                 0                 1   \n",
       "2                 0               0                 0                 1   \n",
       "3                 0               0                 0                 1   \n",
       "4                 0               0                 0                 1   \n",
       "\n",
       "   recent_pdays  \n",
       "0          -1.0  \n",
       "1          -1.0  \n",
       "2          -1.0  \n",
       "3          -1.0  \n",
       "4          -1.0  \n",
       "\n",
       "[5 rows x 33 columns]"
      ]
     },
     "execution_count": 5,
     "metadata": {},
     "output_type": "execute_result"
    }
   ],
   "source": [
    "# Make a copy for parsing\n",
    "bank_data = bank.copy()\n",
    "\n",
    "# Drop 'contact', as every participant has been contacted. \n",
    "bank_data.drop('contact', axis=1, inplace=True)\n",
    "# Drop 'month' and 'day' as they don't have any intrinsic meaning\n",
    "bank_data.drop('month', axis=1, inplace=True)\n",
    "bank_data.drop('day', axis=1, inplace=True)\n",
    "\n",
    "#Convert categorical values to numeric values\n",
    "# values for \"default\" : yes/no\n",
    "bank_data[\"default\"]\n",
    "bank_data['default_cat'] = bank_data['default'].map( {'yes':1, 'no':0} )\n",
    "bank_data.drop('default', axis=1,inplace = True)\n",
    "# values for \"housing\" : yes/no\n",
    "bank_data[\"housing_cat\"]=bank_data['housing'].map({'yes':1, 'no':0})\n",
    "bank_data.drop('housing', axis=1,inplace = True)\n",
    "# values for \"loan\" : yes/no\n",
    "bank_data[\"loan_cat\"] = bank_data['loan'].map({'yes':1, 'no':0})\n",
    "bank_data.drop('loan', axis=1, inplace=True)\n",
    "# values for \"deposit\" : yes/no\n",
    "bank_data[\"deposit_cat\"] = bank_data['deposit'].map({'yes':1, 'no':0})\n",
    "bank_data.drop('deposit', axis=1, inplace=True)\n",
    "\n",
    "# Convert categorical variables to dummies\n",
    "bank_data = pd.get_dummies(data=bank_data, columns = ['job', 'marital', 'education', 'poutcome'], \\\n",
    "                                   prefix = ['job', 'marital', 'education', 'poutcome'])\n",
    "\n",
    "# Convert p_days to a probability value\n",
    "bank_data['recent_pdays'] = np.where(bank_data['pdays'], 1/bank_data.pdays, 1/bank_data.pdays)\n",
    "# Drop 'pdays'\n",
    "bank_data.drop('pdays', axis=1, inplace = True)\n",
    "bank_data.head()"
   ]
  },
  {
   "cell_type": "code",
   "execution_count": 6,
   "metadata": {
    "id": "ATM7Dz-36Mcl"
   },
   "outputs": [],
   "source": [
    "# Splitting the data into training and test data with 80:20 ratio with random_state=50.\n",
    "# Building the data model\n",
    "# Train-Test split: 20% test data\n",
    "X = bank_data.drop('deposit_cat', 1)\n",
    "Y = bank_data.deposit_cat\n",
    "X_train, X_test, Y_train, Y_test = train_test_split(X, Y, test_size = 0.2, random_state = 50)"
   ]
  },
  {
   "cell_type": "markdown",
   "metadata": {
    "id": "fN5tE9Ac6lmv"
   },
   "source": [
    "# Answer 4"
   ]
  },
  {
   "cell_type": "markdown",
   "metadata": {
    "id": "-LbqSv_66Qk-"
   },
   "source": [
    "a. **(8 pts)** Build decision trees with depths 2, 5, 10, 20 and max depth using gini and entropy criterion; report the train and test errors. Refer to [Decision Tree](https://scikit-learn.org/stable/modules/generated/sklearn.tree.DecisionTreeClassifier.html#sklearn.tree.DecisionTreeClassifier) for more information on how to implement using sklearn.\n",
    "\n",
    "b. **(2 pts)** Explain how the train and test accuracy varies as we increase the depth of the tree.\n",
    "\n",
    "c. **(4 pts)** List the most [important feature](https://scikit-learn.org/stable/modules/generated/sklearn.tree.DecisionTreeClassifier.html#sklearn.tree.DecisionTreeClassifier.feature_importances_) for the tree with depth=2 and criterion=gini and [plot the tree](https://scikit-learn.org/stable/auto_examples/tree/plot_unveil_tree_structure.html#sphx-glr-auto-examples-tree-plot-unveil-tree-structure-py). Name this tree model as `dt2`.\n"
   ]
  },
  {
   "cell_type": "code",
   "execution_count": 7,
   "metadata": {
    "id": "LmMSNIfMeiVV"
   },
   "outputs": [
    {
     "name": "stdout",
     "output_type": "stream",
     "text": [
      "MSE with training dataset, entropy criteria, max depth = 2 : 0.2880501735916676\n",
      "MSE with test dataset, entropy criteria, max depth = 2 : 0.29108822212270485\n",
      "MSE with training dataset, gini criteria, max depth = 2 : 0.27147496920147834\n",
      "MSE with test dataset, gini criteria, max depth = 2 : 0.27317510076130763\n",
      "MSE with training dataset, entropy criteria, max depth = 5 : 0.20013439354910964\n",
      "MSE with test dataset, entropy criteria, max depth = 5 : 0.22167487684729065\n",
      "MSE with training dataset, gini criteria, max depth = 5 : 0.20237428603427035\n",
      "MSE with test dataset, gini criteria, max depth = 5 : 0.2239140170174653\n",
      "MSE with training dataset, entropy criteria, max depth = 10 : 0.14996080188150968\n",
      "MSE with test dataset, entropy criteria, max depth = 10 : 0.21182266009852216\n",
      "MSE with training dataset, gini criteria, max depth = 10 : 0.1367454362190615\n",
      "MSE with test dataset, gini criteria, max depth = 10 : 0.2122704881325571\n",
      "MSE with training dataset, entropy criteria, max depth = 20 : 0.03516631201702318\n",
      "MSE with test dataset, entropy criteria, max depth = 20 : 0.25884460367218987\n",
      "MSE with training dataset, gini criteria, max depth = 20 : 0.016239220517415165\n",
      "MSE with test dataset, gini criteria, max depth = 20 : 0.2597402597402597\n"
     ]
    }
   ],
   "source": [
    "# a\n",
    "from sklearn.metrics import mean_squared_error\n",
    "arr = np.array([2, 5, 10, 20])\n",
    "for i in arr:\n",
    "    y = tree.DecisionTreeClassifier(criterion='entropy', max_depth=i).fit(X_train, Y_train).predict(X_train)\n",
    "    print(\"MSE with training dataset, entropy criteria, max depth = {} : {}\".format(i, mean_squared_error(Y_train, y)))\n",
    "    y = tree.DecisionTreeClassifier(criterion='entropy', max_depth=i).fit(X_train, Y_train).predict(X_test)\n",
    "    print(\"MSE with test dataset, entropy criteria, max depth = {} : {}\".format(i, mean_squared_error(Y_test, y)))\n",
    "    y = tree.DecisionTreeClassifier(criterion='gini', max_depth=i).fit(X_train, Y_train).predict(X_train)\n",
    "    print(\"MSE with training dataset, gini criteria, max depth = {} : {}\".format(i, mean_squared_error(Y_train, y)))\n",
    "    y= tree.DecisionTreeClassifier(criterion='gini', max_depth=i).fit(X_train, Y_train).predict(X_test)\n",
    "    print(\"MSE with test dataset, gini criteria, max depth = {} : {}\".format(i, mean_squared_error(Y_test, y)))\n"
   ]
  },
  {
   "cell_type": "code",
   "execution_count": 8,
   "metadata": {},
   "outputs": [
    {
     "name": "stdout",
     "output_type": "stream",
     "text": [
      "For both criterion, the training data set error continues to decrease as depth increases. \n",
      "However, since the test data starts to increase after depth = 10, it's likely that we are overfitting and that ~10 features is the optimal modal.\n"
     ]
    }
   ],
   "source": [
    "# b - \n",
    "\n",
    "# ENTROPY MSE with training data set - decreases as depth increases\n",
    "# ENTROPY MSE with test data set - decreases as depth uncreases until depth = 10, then increases\n",
    "# GINI MSE with training data set - decreases as depth increases (at a slower rate than ENTROPY)\n",
    "# GINI MSE with test data set - decreases as depth uncreases until depth = 10, then increases\n",
    "\n",
    "print(\"For both criterion, the training data set error continues to decrease as depth increases. \\nHowever, since the test data starts to increase after depth = 10, it's likely that we are overfitting and that ~10 features is the optimal modal.\")"
   ]
  },
  {
   "cell_type": "code",
   "execution_count": 9,
   "metadata": {},
   "outputs": [
    {
     "name": "stdout",
     "output_type": "stream",
     "text": [
      "The most important feature is duration.\n",
      "\n",
      "\n",
      "\n",
      "List of Feature Importances\n",
      " [0.         0.         0.84930612 0.         0.         0.\n",
      " 0.         0.         0.         0.         0.         0.\n",
      " 0.         0.         0.         0.         0.         0.\n",
      " 0.         0.         0.         0.         0.         0.\n",
      " 0.         0.         0.         0.         0.         0.15069388\n",
      " 0.         0.        ]\n",
      "List of Features\n",
      " ['age' 'balance' 'duration' 'campaign' 'previous' 'default_cat'\n",
      " 'housing_cat' 'loan_cat' 'job_admin.' 'job_blue-collar'\n",
      " 'job_entrepreneur' 'job_housemaid' 'job_management' 'job_retired'\n",
      " 'job_self-employed' 'job_services' 'job_student' 'job_technician'\n",
      " 'job_unemployed' 'job_unknown' 'marital_divorced' 'marital_married'\n",
      " 'marital_single' 'education_primary' 'education_secondary'\n",
      " 'education_tertiary' 'education_unknown' 'poutcome_failure'\n",
      " 'poutcome_other' 'poutcome_success' 'poutcome_unknown' 'recent_pdays']\n"
     ]
    }
   ],
   "source": [
    "# c - finding most important feature\n",
    "model = tree.DecisionTreeClassifier(criterion='gini', max_depth=2).fit(X_train, Y_train)\n",
    "print(\"The most important feature is duration.\\n\\n\\n\")\n",
    "print(\"List of Feature Importances\\n\", model.feature_importances_)\n",
    "print(\"List of Features\\n\", X_train.columns.values)"
   ]
  },
  {
   "cell_type": "code",
   "execution_count": 10,
   "metadata": {},
   "outputs": [
    {
     "data": {
      "image/png": "[encoded data removed]",
      "text/plain": [
       "<Figure size 432x288 with 1 Axes>"
      ]
     },
     "metadata": {
      "needs_background": "light"
     },
     "output_type": "display_data"
    }
   ],
   "source": [
    "# c - plot\n",
    "tree.plot_tree(model)\n",
    "plt.show()"
   ]
  }
 ],
 "metadata": {
  "colab": {
   "collapsed_sections": [],
   "name": "hw4qns.ipynb",
   "provenance": [],
   "toc_visible": true
  },
  "kernelspec": {
   "display_name": "Python 3",
   "language": "python",
   "name": "python3"
  },
  "language_info": {
   "codemirror_mode": {
    "name": "ipython",
    "version": 3
   },
   "file_extension": ".py",
   "mimetype": "text/x-python",
   "name": "python",
   "nbconvert_exporter": "python",
   "pygments_lexer": "ipython3",
   "version": "3.8.3"
  }
 },
 "nbformat": 4,
 "nbformat_minor": 1
}
