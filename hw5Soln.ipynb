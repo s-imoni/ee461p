{
 "cells": [
  {
   "cell_type": "markdown",
   "metadata": {
    "id": "1MoxuQFknkJH"
   },
   "source": [
    "## EE 461P: Data Science Principles  \n",
    "### Assignment 5 \n",
    "### Total points: 115 pts\n",
    "### Due: April 22, 2021 submitted via Canvas by 11:59 pm  \n",
    "\n",
    "Your homework should be written in a **Jupyter notebook**. You may work in groups of two if you wish. Only one student per team needs to submit the assignment on Canvas.  But be sure to include name and UT eID for both students.  Homework groups will be created and managed through Canvas, so please do not arbitrarily change your homework group. If you do change, let the TAs know.\n",
    "\n",
    "Also, please make sure your code runs and the graphics (and anything else) are displayed in your notebook before submitting. (%matplotlib inline). You can also follow the below steps to embed an image,\n",
    "* Set cell mode to Markdown\n",
    "* Drag and drop your image into the cell. The following command will be created:\n",
    "`![image.png](attachment:image.png)` \n",
    "* Execute/Run the cell and the image will be displayed. Once you submit make sure to download the notebook and verify if the image exists.\n",
    "\n",
    "### Name(s) and EID(s):\n",
    "1. \n",
    "2. \n",
    "\n",
    "### Homework group No.: \n",
    "\n",
    "\n",
    "`NOTE : Fill the Name and EID section along with group number without fail.`"
   ]
  },
  {
   "cell_type": "markdown",
   "metadata": {
    "id": "SYFulpYpn2mZ"
   },
   "source": [
    "# Question 1 - Decision Tree (5 pts) \n",
    "Previous Homework Question Carried Forward"
   ]
  },
  {
   "cell_type": "markdown",
   "metadata": {
    "id": "ljEofjXXnwcb"
   },
   "source": [
    "In this question, we will use the same loan dataset from the previous homework, to predict if a customer will subscribe or no (yes/no)."
   ]
  },
  {
   "cell_type": "code",
   "execution_count": null,
   "metadata": {
    "colab": {
     "base_uri": "https://localhost:8080/",
     "height": 191
    },
    "id": "W5uXNCrZnvdG",
    "outputId": "957dfa41-f74f-45c9-d11d-58cf85811c3b"
   },
   "outputs": [
    {
     "data": {
      "text/html": [
       "<div>\n",
       "<style scoped>\n",
       "    .dataframe tbody tr th:only-of-type {\n",
       "        vertical-align: middle;\n",
       "    }\n",
       "\n",
       "    .dataframe tbody tr th {\n",
       "        vertical-align: top;\n",
       "    }\n",
       "\n",
       "    .dataframe thead th {\n",
       "        text-align: right;\n",
       "    }\n",
       "</style>\n",
       "<table border=\"1\" class=\"dataframe\">\n",
       "  <thead>\n",
       "    <tr style=\"text-align: right;\">\n",
       "      <th></th>\n",
       "      <th>age</th>\n",
       "      <th>job</th>\n",
       "      <th>marital</th>\n",
       "      <th>education</th>\n",
       "      <th>default</th>\n",
       "      <th>balance</th>\n",
       "      <th>housing</th>\n",
       "      <th>loan</th>\n",
       "      <th>contact</th>\n",
       "      <th>day</th>\n",
       "      <th>month</th>\n",
       "      <th>duration</th>\n",
       "      <th>campaign</th>\n",
       "      <th>pdays</th>\n",
       "      <th>previous</th>\n",
       "      <th>poutcome</th>\n",
       "      <th>deposit</th>\n",
       "    </tr>\n",
       "  </thead>\n",
       "  <tbody>\n",
       "    <tr>\n",
       "      <th>0</th>\n",
       "      <td>59</td>\n",
       "      <td>admin.</td>\n",
       "      <td>married</td>\n",
       "      <td>secondary</td>\n",
       "      <td>no</td>\n",
       "      <td>2343</td>\n",
       "      <td>yes</td>\n",
       "      <td>no</td>\n",
       "      <td>unknown</td>\n",
       "      <td>5</td>\n",
       "      <td>may</td>\n",
       "      <td>1042</td>\n",
       "      <td>1</td>\n",
       "      <td>-1</td>\n",
       "      <td>0</td>\n",
       "      <td>unknown</td>\n",
       "      <td>yes</td>\n",
       "    </tr>\n",
       "    <tr>\n",
       "      <th>1</th>\n",
       "      <td>56</td>\n",
       "      <td>admin.</td>\n",
       "      <td>married</td>\n",
       "      <td>secondary</td>\n",
       "      <td>no</td>\n",
       "      <td>45</td>\n",
       "      <td>no</td>\n",
       "      <td>no</td>\n",
       "      <td>unknown</td>\n",
       "      <td>5</td>\n",
       "      <td>may</td>\n",
       "      <td>1467</td>\n",
       "      <td>1</td>\n",
       "      <td>-1</td>\n",
       "      <td>0</td>\n",
       "      <td>unknown</td>\n",
       "      <td>yes</td>\n",
       "    </tr>\n",
       "    <tr>\n",
       "      <th>2</th>\n",
       "      <td>41</td>\n",
       "      <td>technician</td>\n",
       "      <td>married</td>\n",
       "      <td>secondary</td>\n",
       "      <td>no</td>\n",
       "      <td>1270</td>\n",
       "      <td>yes</td>\n",
       "      <td>no</td>\n",
       "      <td>unknown</td>\n",
       "      <td>5</td>\n",
       "      <td>may</td>\n",
       "      <td>1389</td>\n",
       "      <td>1</td>\n",
       "      <td>-1</td>\n",
       "      <td>0</td>\n",
       "      <td>unknown</td>\n",
       "      <td>yes</td>\n",
       "    </tr>\n",
       "    <tr>\n",
       "      <th>3</th>\n",
       "      <td>55</td>\n",
       "      <td>services</td>\n",
       "      <td>married</td>\n",
       "      <td>secondary</td>\n",
       "      <td>no</td>\n",
       "      <td>2476</td>\n",
       "      <td>yes</td>\n",
       "      <td>no</td>\n",
       "      <td>unknown</td>\n",
       "      <td>5</td>\n",
       "      <td>may</td>\n",
       "      <td>579</td>\n",
       "      <td>1</td>\n",
       "      <td>-1</td>\n",
       "      <td>0</td>\n",
       "      <td>unknown</td>\n",
       "      <td>yes</td>\n",
       "    </tr>\n",
       "    <tr>\n",
       "      <th>4</th>\n",
       "      <td>54</td>\n",
       "      <td>admin.</td>\n",
       "      <td>married</td>\n",
       "      <td>tertiary</td>\n",
       "      <td>no</td>\n",
       "      <td>184</td>\n",
       "      <td>no</td>\n",
       "      <td>no</td>\n",
       "      <td>unknown</td>\n",
       "      <td>5</td>\n",
       "      <td>may</td>\n",
       "      <td>673</td>\n",
       "      <td>2</td>\n",
       "      <td>-1</td>\n",
       "      <td>0</td>\n",
       "      <td>unknown</td>\n",
       "      <td>yes</td>\n",
       "    </tr>\n",
       "  </tbody>\n",
       "</table>\n",
       "</div>"
      ],
      "text/plain": [
       "   age         job  marital  education  ... pdays  previous poutcome deposit\n",
       "0   59      admin.  married  secondary  ...    -1         0  unknown     yes\n",
       "1   56      admin.  married  secondary  ...    -1         0  unknown     yes\n",
       "2   41  technician  married  secondary  ...    -1         0  unknown     yes\n",
       "3   55    services  married  secondary  ...    -1         0  unknown     yes\n",
       "4   54      admin.  married   tertiary  ...    -1         0  unknown     yes\n",
       "\n",
       "[5 rows x 17 columns]"
      ]
     },
     "execution_count": 2,
     "metadata": {
      "tags": []
     },
     "output_type": "execute_result"
    }
   ],
   "source": [
    "import pandas as pd\n",
    "import numpy as np\n",
    "import matplotlib.pyplot as plt\n",
    "import seaborn as sns\n",
    "from sklearn.cluster import KMeans\n",
    "from sklearn import datasets\n",
    "from io import StringIO\n",
    "from sklearn.tree import export_graphviz\n",
    "from sklearn.model_selection import train_test_split\n",
    "from sklearn import tree\n",
    "from sklearn import metrics\n",
    "%matplotlib inline\n",
    "\n",
    "# Loading the data file\n",
    "bank=pd.read_csv('bank.csv')\n",
    "bank.head()"
   ]
  },
  {
   "cell_type": "markdown",
   "metadata": {
    "id": "DRzXVqb4pCNE"
   },
   "source": [
    "Input variables:\n",
    "# bank client data:\n",
    "1 - `age` (numeric)\n",
    "\n",
    "2 - `job` : type of job (categorical: 'admin', 'blue-collar', 'entrepreneur', 'housemaid', 'management', 'retired', 'self-employed', 'services', 'student', 'technician', 'unemployed', 'unknown')\n",
    "\n",
    "3 - `marital` : marital status (categorical: 'divorced','married','single'; note: 'divorced' means divorced or widowed)\n",
    "\n",
    "4 - `education` (categorical: 'primary', 'secondary','tertiary')\n",
    "\n",
    "5 - `default`: has credit in default? (categorical: 'no','yes','unknown')\n",
    "\n",
    "6 - `balance`: account balance\n",
    "\n",
    "7 - `housing`: has housing loan? (categorical: 'no','yes','unknown')\n",
    "\n",
    "8 - `loan`: has personal loan? (categorical: 'no','yes','unknown')\n",
    "\n",
    "# related with the last contact of the current campaign:\n",
    "9 - `contact`: contact communication type (categorical: 'cellular','telephone')\n",
    "\n",
    "10 - `day_of_month` : 1,2....31\n",
    "\n",
    "11 - `month`: last contact month of year (categorical: 'jan', 'feb', 'mar', ..., 'nov', 'dec')\n",
    "\n",
    "12 - `duration`: last contact duration, in seconds (numeric). Important note: this attribute highly affects the output target (e.g., if duration=0 then y='no'). Yet, the duration is not known before a call is performed. Also, after the end of the call y is obviously known. Thus, this input should only be included for benchmark purposes and should be discarded if the intention is to have a realistic predictive model.\n",
    "# other attributes:\n",
    "13 - `campaign`: number of contacts performed during this campaign and for this client (numeric, includes last contact)\n",
    "\n",
    "14 - `pdays`: number of days that passed by after the client was last contacted from a previous campaign (numeric; 10000 means client was not previously contacted)\n",
    "\n",
    "15 - `previous`: number of contacts performed before this campaign and for this client (numeric)\n",
    "\n",
    "16 - `poutcome`: outcome of the previous marketing campaign (categorical: 'failure','other','success','unknown')\n",
    "\n",
    "# Output variable (desired target):\n",
    "17 - `y` - has the client subscribed a term deposit? (binary: 'yes','no')\n",
    "\n",
    "**All pre-processing is done where categorical variables are converted to numeric values and unnecessary columns are dropped.**"
   ]
  },
  {
   "cell_type": "code",
   "execution_count": null,
   "metadata": {
    "colab": {
     "base_uri": "https://localhost:8080/",
     "height": 227
    },
    "id": "dbpj4Grxo_Qp",
    "outputId": "7d3e86a1-c35a-4d0b-c564-0025645c4ce2"
   },
   "outputs": [
    {
     "data": {
      "text/html": [
       "<div>\n",
       "<style scoped>\n",
       "    .dataframe tbody tr th:only-of-type {\n",
       "        vertical-align: middle;\n",
       "    }\n",
       "\n",
       "    .dataframe tbody tr th {\n",
       "        vertical-align: top;\n",
       "    }\n",
       "\n",
       "    .dataframe thead th {\n",
       "        text-align: right;\n",
       "    }\n",
       "</style>\n",
       "<table border=\"1\" class=\"dataframe\">\n",
       "  <thead>\n",
       "    <tr style=\"text-align: right;\">\n",
       "      <th></th>\n",
       "      <th>age</th>\n",
       "      <th>balance</th>\n",
       "      <th>duration</th>\n",
       "      <th>campaign</th>\n",
       "      <th>previous</th>\n",
       "      <th>default_cat</th>\n",
       "      <th>housing_cat</th>\n",
       "      <th>loan_cat</th>\n",
       "      <th>deposit_cat</th>\n",
       "      <th>job_admin.</th>\n",
       "      <th>job_blue-collar</th>\n",
       "      <th>job_entrepreneur</th>\n",
       "      <th>job_housemaid</th>\n",
       "      <th>job_management</th>\n",
       "      <th>job_retired</th>\n",
       "      <th>job_self-employed</th>\n",
       "      <th>job_services</th>\n",
       "      <th>job_student</th>\n",
       "      <th>job_technician</th>\n",
       "      <th>job_unemployed</th>\n",
       "      <th>job_unknown</th>\n",
       "      <th>marital_divorced</th>\n",
       "      <th>marital_married</th>\n",
       "      <th>marital_single</th>\n",
       "      <th>education_primary</th>\n",
       "      <th>education_secondary</th>\n",
       "      <th>education_tertiary</th>\n",
       "      <th>education_unknown</th>\n",
       "      <th>poutcome_failure</th>\n",
       "      <th>poutcome_other</th>\n",
       "      <th>poutcome_success</th>\n",
       "      <th>poutcome_unknown</th>\n",
       "      <th>recent_pdays</th>\n",
       "    </tr>\n",
       "  </thead>\n",
       "  <tbody>\n",
       "    <tr>\n",
       "      <th>0</th>\n",
       "      <td>59</td>\n",
       "      <td>2343</td>\n",
       "      <td>1042</td>\n",
       "      <td>1</td>\n",
       "      <td>0</td>\n",
       "      <td>0</td>\n",
       "      <td>1</td>\n",
       "      <td>0</td>\n",
       "      <td>1</td>\n",
       "      <td>1</td>\n",
       "      <td>0</td>\n",
       "      <td>0</td>\n",
       "      <td>0</td>\n",
       "      <td>0</td>\n",
       "      <td>0</td>\n",
       "      <td>0</td>\n",
       "      <td>0</td>\n",
       "      <td>0</td>\n",
       "      <td>0</td>\n",
       "      <td>0</td>\n",
       "      <td>0</td>\n",
       "      <td>0</td>\n",
       "      <td>1</td>\n",
       "      <td>0</td>\n",
       "      <td>0</td>\n",
       "      <td>1</td>\n",
       "      <td>0</td>\n",
       "      <td>0</td>\n",
       "      <td>0</td>\n",
       "      <td>0</td>\n",
       "      <td>0</td>\n",
       "      <td>1</td>\n",
       "      <td>-1.0</td>\n",
       "    </tr>\n",
       "    <tr>\n",
       "      <th>1</th>\n",
       "      <td>56</td>\n",
       "      <td>45</td>\n",
       "      <td>1467</td>\n",
       "      <td>1</td>\n",
       "      <td>0</td>\n",
       "      <td>0</td>\n",
       "      <td>0</td>\n",
       "      <td>0</td>\n",
       "      <td>1</td>\n",
       "      <td>1</td>\n",
       "      <td>0</td>\n",
       "      <td>0</td>\n",
       "      <td>0</td>\n",
       "      <td>0</td>\n",
       "      <td>0</td>\n",
       "      <td>0</td>\n",
       "      <td>0</td>\n",
       "      <td>0</td>\n",
       "      <td>0</td>\n",
       "      <td>0</td>\n",
       "      <td>0</td>\n",
       "      <td>0</td>\n",
       "      <td>1</td>\n",
       "      <td>0</td>\n",
       "      <td>0</td>\n",
       "      <td>1</td>\n",
       "      <td>0</td>\n",
       "      <td>0</td>\n",
       "      <td>0</td>\n",
       "      <td>0</td>\n",
       "      <td>0</td>\n",
       "      <td>1</td>\n",
       "      <td>-1.0</td>\n",
       "    </tr>\n",
       "    <tr>\n",
       "      <th>2</th>\n",
       "      <td>41</td>\n",
       "      <td>1270</td>\n",
       "      <td>1389</td>\n",
       "      <td>1</td>\n",
       "      <td>0</td>\n",
       "      <td>0</td>\n",
       "      <td>1</td>\n",
       "      <td>0</td>\n",
       "      <td>1</td>\n",
       "      <td>0</td>\n",
       "      <td>0</td>\n",
       "      <td>0</td>\n",
       "      <td>0</td>\n",
       "      <td>0</td>\n",
       "      <td>0</td>\n",
       "      <td>0</td>\n",
       "      <td>0</td>\n",
       "      <td>0</td>\n",
       "      <td>1</td>\n",
       "      <td>0</td>\n",
       "      <td>0</td>\n",
       "      <td>0</td>\n",
       "      <td>1</td>\n",
       "      <td>0</td>\n",
       "      <td>0</td>\n",
       "      <td>1</td>\n",
       "      <td>0</td>\n",
       "      <td>0</td>\n",
       "      <td>0</td>\n",
       "      <td>0</td>\n",
       "      <td>0</td>\n",
       "      <td>1</td>\n",
       "      <td>-1.0</td>\n",
       "    </tr>\n",
       "    <tr>\n",
       "      <th>3</th>\n",
       "      <td>55</td>\n",
       "      <td>2476</td>\n",
       "      <td>579</td>\n",
       "      <td>1</td>\n",
       "      <td>0</td>\n",
       "      <td>0</td>\n",
       "      <td>1</td>\n",
       "      <td>0</td>\n",
       "      <td>1</td>\n",
       "      <td>0</td>\n",
       "      <td>0</td>\n",
       "      <td>0</td>\n",
       "      <td>0</td>\n",
       "      <td>0</td>\n",
       "      <td>0</td>\n",
       "      <td>0</td>\n",
       "      <td>1</td>\n",
       "      <td>0</td>\n",
       "      <td>0</td>\n",
       "      <td>0</td>\n",
       "      <td>0</td>\n",
       "      <td>0</td>\n",
       "      <td>1</td>\n",
       "      <td>0</td>\n",
       "      <td>0</td>\n",
       "      <td>1</td>\n",
       "      <td>0</td>\n",
       "      <td>0</td>\n",
       "      <td>0</td>\n",
       "      <td>0</td>\n",
       "      <td>0</td>\n",
       "      <td>1</td>\n",
       "      <td>-1.0</td>\n",
       "    </tr>\n",
       "    <tr>\n",
       "      <th>4</th>\n",
       "      <td>54</td>\n",
       "      <td>184</td>\n",
       "      <td>673</td>\n",
       "      <td>2</td>\n",
       "      <td>0</td>\n",
       "      <td>0</td>\n",
       "      <td>0</td>\n",
       "      <td>0</td>\n",
       "      <td>1</td>\n",
       "      <td>1</td>\n",
       "      <td>0</td>\n",
       "      <td>0</td>\n",
       "      <td>0</td>\n",
       "      <td>0</td>\n",
       "      <td>0</td>\n",
       "      <td>0</td>\n",
       "      <td>0</td>\n",
       "      <td>0</td>\n",
       "      <td>0</td>\n",
       "      <td>0</td>\n",
       "      <td>0</td>\n",
       "      <td>0</td>\n",
       "      <td>1</td>\n",
       "      <td>0</td>\n",
       "      <td>0</td>\n",
       "      <td>0</td>\n",
       "      <td>1</td>\n",
       "      <td>0</td>\n",
       "      <td>0</td>\n",
       "      <td>0</td>\n",
       "      <td>0</td>\n",
       "      <td>1</td>\n",
       "      <td>-1.0</td>\n",
       "    </tr>\n",
       "  </tbody>\n",
       "</table>\n",
       "</div>"
      ],
      "text/plain": [
       "   age  balance  duration  ...  poutcome_success  poutcome_unknown  recent_pdays\n",
       "0   59     2343      1042  ...                 0                 1          -1.0\n",
       "1   56       45      1467  ...                 0                 1          -1.0\n",
       "2   41     1270      1389  ...                 0                 1          -1.0\n",
       "3   55     2476       579  ...                 0                 1          -1.0\n",
       "4   54      184       673  ...                 0                 1          -1.0\n",
       "\n",
       "[5 rows x 33 columns]"
      ]
     },
     "execution_count": 3,
     "metadata": {
      "tags": []
     },
     "output_type": "execute_result"
    }
   ],
   "source": [
    "# Make a copy for parsing\n",
    "bank_data = bank.copy()\n",
    "\n",
    "# Drop 'contact', as every participant has been contacted. \n",
    "bank_data.drop('contact', axis=1, inplace=True)\n",
    "# Drop 'month' and 'day' as they don't have any intrinsic meaning\n",
    "bank_data.drop('month', axis=1, inplace=True)\n",
    "bank_data.drop('day', axis=1, inplace=True)\n",
    "\n",
    "#Convert categorical values to numeric values\n",
    "# values for \"default\" : yes/no\n",
    "bank_data[\"default\"]\n",
    "bank_data['default_cat'] = bank_data['default'].map( {'yes':1, 'no':0} )\n",
    "bank_data.drop('default', axis=1,inplace = True)\n",
    "# values for \"housing\" : yes/no\n",
    "bank_data[\"housing_cat\"]=bank_data['housing'].map({'yes':1, 'no':0})\n",
    "bank_data.drop('housing', axis=1,inplace = True)\n",
    "# values for \"loan\" : yes/no\n",
    "bank_data[\"loan_cat\"] = bank_data['loan'].map({'yes':1, 'no':0})\n",
    "bank_data.drop('loan', axis=1, inplace=True)\n",
    "# values for \"deposit\" : yes/no\n",
    "bank_data[\"deposit_cat\"] = bank_data['deposit'].map({'yes':1, 'no':0})\n",
    "bank_data.drop('deposit', axis=1, inplace=True)\n",
    "\n",
    "# Convert categorical variables to dummies\n",
    "bank_data = pd.get_dummies(data=bank_data, columns = ['job', 'marital', 'education', 'poutcome'], \\\n",
    "                                   prefix = ['job', 'marital', 'education', 'poutcome'])\n",
    "\n",
    "# Convert p_days to a probability value\n",
    "bank_data['recent_pdays'] = np.where(bank_data['pdays'], 1/bank_data.pdays, 1/bank_data.pdays)\n",
    "# Drop 'pdays'\n",
    "bank_data.drop('pdays', axis=1, inplace = True)\n",
    "bank_data.head()"
   ]
  },
  {
   "cell_type": "code",
   "execution_count": null,
   "metadata": {
    "id": "qZ4n4sVzo_OO"
   },
   "outputs": [],
   "source": [
    "# Splitting the data into training and test data with 80:20 ratio with random_state=50.\n",
    "# Building the data model\n",
    "# Train-Test split: 20% test data\n",
    "X = bank_data.drop('deposit_cat', 1)\n",
    "Y = bank_data.deposit_cat\n",
    "X_train, X_test, Y_train, Y_test = train_test_split(X, Y, test_size = 0.2, random_state = 50)"
   ]
  },
  {
   "cell_type": "markdown",
   "metadata": {
    "id": "g8f2LPiDpb6-"
   },
   "source": [
    "Same question from previous homework carried forward,\n",
    "\n",
    "**(5 pts)** Build decision tree with depth = 2 and criterion = Gini. Refer to [Decision Tree](https://scikit-learn.org/stable/modules/generated/sklearn.tree.DecisionTreeClassifier.html#sklearn.tree.DecisionTreeClassifier) for more information on how to implement using sklearn. Report the accuracy and AUC for the test data and [plot the ROC curve](https://github.com/justmarkham/scikit-learn-tips/blob/master/notebooks/21_plot_roc_curve.ipynb) using the decision tree.\n",
    "\n",
    "\n",
    "\n"
   ]
  },
  {
   "cell_type": "code",
   "execution_count": null,
   "metadata": {
    "colab": {
     "base_uri": "https://localhost:8080/",
     "height": 360
    },
    "id": "mXSuuzT5Q1WR",
    "outputId": "5ee1b138-c7f6-419a-9201-ffde71e574ec"
   },
   "outputs": [
    {
     "name": "stdout",
     "output_type": "stream",
     "text": [
      "\n",
      "Accuracy score: 0.727\n",
      "\n",
      "Area Under Curve: 0.788\n"
     ]
    },
    {
     "data": {
      "text/plain": [
       "<sklearn.metrics._plot.roc_curve.RocCurveDisplay at 0x7f93c4359650>"
      ]
     },
     "execution_count": 5,
     "metadata": {
      "tags": []
     },
     "output_type": "execute_result"
    },
    {
     "data": {
      "image/png": "[encoded data removed]",
      "text/plain": [
       "<Figure size 432x288 with 1 Axes>"
      ]
     },
     "metadata": {
      "needs_background": "light",
      "tags": []
     },
     "output_type": "display_data"
    }
   ],
   "source": [
    "dt = tree.DecisionTreeClassifier(max_depth=2)\n",
    "dt.fit(X_train, Y_train)\n",
    "Y_pred = dt.predict(X_test)\n",
    "\n",
    "print(f\"\\nAccuracy score: {metrics.accuracy_score(Y_test, Y_pred):.3f}\")\n",
    "\n",
    "# Make predictions on the test set using predict_proba\n",
    "Y_pred = dt.predict_proba(X_test)[:,1]\n",
    "\n",
    "# Calculate the AUC metric\n",
    "print(f\"\\nArea Under Curve: {metrics.roc_auc_score(Y_test, Y_pred):.3f}\")\n",
    "\n",
    "from sklearn.metrics import plot_roc_curve\n",
    "\n",
    "plot_roc_curve(dt,X_test,Y_test)"
   ]
  },
  {
   "cell_type": "markdown",
   "metadata": {
    "id": "ynCIHqG6PmWZ"
   },
   "source": [
    "# Question 2 - Concepts (15 pts)\n",
    "Previous Homework Question Carried Forward\n",
    "\n",
    "**(3+3+4 pts)** Part a). Briefly describe what you understand by a Lift curve/chart. How is it similar to an ROC curve and in what way is it different? Provide an example where you might prefer using Lift (for a certain decile) over AUROC (AUC) as a point measure of the performance of your classifier. (Point measure means evaluation using a single numeric value).\n",
    "\n",
    "**(5 pts)** Part b). Explain what it means to calibrate a classifier. Give an example of an application where having a well calibrated model is important, and it is not enough to just estimate what the most likely class label is for a given data point."
   ]
  },
  {
   "cell_type": "markdown",
   "metadata": {
    "id": "GJn2phwv9lh2"
   },
   "source": [
    "# Answer 2\n",
    "**2. a)** The Lift curve shows the curves for analysing the proportion of true positive data instances in relation to the classifier’s threshold or the number of instances that we classify as positive.\n",
    "\n",
    "Lift is dependent on total response rate of the population. Hence, if the response rate of the population changes, the same model will give a different lift chart. A solution to this concern can be true lift chart (finding the ratio of lift and perfect model lift at each decile). But such ratio rarely makes sense for the business.\n",
    "\n",
    "ROC curve on the other hand is almost independent of the response rate. This is because it has the two axis coming out from columnar calculations of confusion matrix. The numerator and denominator of both x and y axis will change on similar scale in case of response rate shift.\n",
    "\n",
    "In problem situations where the response rate for a category is very low anyway (for example, a direct mail response rate), the lift curve explains things with more detail than the ROC curve."
   ]
  },
  {
   "cell_type": "markdown",
   "metadata": {
    "id": "U6nrIg2G-VVp"
   },
   "source": [
    "**2. b)** Model calibration is the process of adjustment of the model parameters and forcing within the margins of the uncertainties (in model parameters and / or model forcing) to obtain a model representation of the processes of interest that satisfies pre-agreed criteria (Goodness-of-Fit or Cost Function)."
   ]
  },
  {
   "cell_type": "markdown",
   "metadata": {
    "id": "MLRiZShBVILb"
   },
   "source": [
    "# Question 3 - Multi-Class Classification - 10 pts \n",
    "\n",
    "In this problem, we will explore multi-class classification using different machine learning models. We will be predicting the glass type from the 10 features listed below, There are 7 class/category as highlighted, use the given code to load the dataset."
   ]
  },
  {
   "cell_type": "markdown",
   "metadata": {
    "id": "zFr2ZZVbY8fv"
   },
   "source": [
    "Attribute Information:\n",
    "   * Id number: 1 to 214\n",
    "   * RI: refractive index\n",
    "   * Na: Sodium (unit measurement: weight percent in corresponding oxide, as are attributes 4-10)\n",
    "   * Mg: Magnesium\n",
    "   * Al: Aluminum\n",
    "   * Si: Silicon\n",
    "   * K: Potassium\n",
    "   * Ca: Calcium\n",
    "   * Ba: Barium\n",
    "   * Fe: Iron\n",
    "\n",
    "Class Attribute : Type of glass\n",
    "  * 1 - building_windows_float_processed\n",
    "  * 2 - building_windows_non_float_processed\n",
    "  * 3 - vehicle_windows_float_processed\n",
    "  * 4 - vehicle_windows_non_float_processed (none in this database)\n",
    "  * 5 - containers\n",
    "  * 6 - tableware\n",
    "  * 7 - headlamps"
   ]
  },
  {
   "cell_type": "code",
   "execution_count": null,
   "metadata": {
    "id": "fMbul9XrS3L9"
   },
   "outputs": [],
   "source": [
    "from sklearn.linear_model import LogisticRegression\n",
    "\n",
    "df = pd.read_csv(\"glass.data\",header=None)\n",
    "y = df.iloc[:,10]\n",
    "X = df.iloc[:,1:10]\n",
    "\n",
    "X_train, X_test, Y_train, Y_test = train_test_split(X, y, test_size = 0.2, random_state = 50)"
   ]
  },
  {
   "cell_type": "markdown",
   "metadata": {
    "id": "iM58orudc0gi"
   },
   "source": [
    "* **Part 1)** Fit a decision tree with default parameters using train data. Refer to [Decision Tree](https://scikit-learn.org/stable/modules/generated/sklearn.tree.DecisionTreeClassifier.html#sklearn.tree.DecisionTreeClassifier) for more information on how to implement using sklearn. Report the accuracy and plot the confusion matrix for the test data using the decision tree. Refer [here](https://scikit-learn.org/stable/modules/generated/sklearn.metrics.plot_confusion_matrix.html) for plotting the confusion matrix.**[2.5pts]**\n",
    "\n",
    "* **Part 2)** Create a logistic regression model, with default parameters and max_iter = 10000. Fit the model on train data and report the accuracy and confusion matrix on test data. **[2.5pts]**\n",
    "\n",
    "* **Part 3)** Build a MLPCLassifier with 2 hidden layers and 256 hidden units each, and default values for the rest of the parameters. Fit the model on train data and report the accuracy and confusion matrix on test data. **[2.5pts]**\n",
    "\n",
    "\n",
    "* **Part 4)** Compare the accuracy score for the three models above and comment on their performance **[2.5pts]**"
   ]
  },
  {
   "cell_type": "code",
   "execution_count": null,
   "metadata": {
    "colab": {
     "base_uri": "https://localhost:8080/",
     "height": 331
    },
    "id": "GW0CISRLaPEw",
    "outputId": "8445e2ac-5dd8-49b7-ab7e-d7422c3a8892"
   },
   "outputs": [
    {
     "name": "stdout",
     "output_type": "stream",
     "text": [
      "0.7906976744186046\n",
      "<sklearn.metrics._plot.confusion_matrix.ConfusionMatrixDisplay object at 0x7f6c741227d0>\n",
      "10\n"
     ]
    },
    {
     "data": {
      "image/png": "[encoded data removed]",
      "text/plain": [
       "<Figure size 432x288 with 2 Axes>"
      ]
     },
     "metadata": {
      "needs_background": "light",
      "tags": []
     },
     "output_type": "display_data"
    }
   ],
   "source": [
    "#Part 1 \n",
    "dt = tree.DecisionTreeClassifier().fit(X_train,Y_train)\n",
    "\n",
    "print(metrics.accuracy_score(Y_test,dt.predict(X_test)))\n",
    "\n",
    "print(metrics.plot_confusion_matrix(dt,X_test,Y_test))\n",
    "\n",
    "print(dt.get_depth())"
   ]
  },
  {
   "cell_type": "code",
   "execution_count": null,
   "metadata": {
    "colab": {
     "base_uri": "https://localhost:8080/",
     "height": 315
    },
    "id": "eVnmbC1ga2QC",
    "outputId": "c8d4331e-818b-4045-d608-7d0f39cfcb77"
   },
   "outputs": [
    {
     "name": "stdout",
     "output_type": "stream",
     "text": [
      "0.6046511627906976\n",
      "<sklearn.metrics._plot.confusion_matrix.ConfusionMatrixDisplay object at 0x7f6c6e27d0d0>\n"
     ]
    },
    {
     "data": {
      "image/png": "[encoded data removed]",
      "text/plain": [
       "<Figure size 432x288 with 2 Axes>"
      ]
     },
     "metadata": {
      "needs_background": "light",
      "tags": []
     },
     "output_type": "display_data"
    }
   ],
   "source": [
    "#Part 2 \n",
    "lr = LogisticRegression(max_iter=10000).fit(X_train,Y_train)\n",
    "\n",
    "print(metrics.accuracy_score(Y_test,lr.predict(X_test)))\n",
    "\n",
    "print(metrics.plot_confusion_matrix(lr,X_test,Y_test))"
   ]
  },
  {
   "cell_type": "code",
   "execution_count": null,
   "metadata": {
    "colab": {
     "base_uri": "https://localhost:8080/",
     "height": 367
    },
    "id": "XB5Mr2a9bX2q",
    "outputId": "649ad080-997b-4034-b688-fbed272f6e43"
   },
   "outputs": [
    {
     "name": "stderr",
     "output_type": "stream",
     "text": [
      "/usr/local/lib/python3.7/dist-packages/sklearn/neural_network/_multilayer_perceptron.py:571: ConvergenceWarning: Stochastic Optimizer: Maximum iterations (200) reached and the optimization hasn't converged yet.\n",
      "  % self.max_iter, ConvergenceWarning)\n"
     ]
    },
    {
     "name": "stdout",
     "output_type": "stream",
     "text": [
      "0.6511627906976745\n",
      "<sklearn.metrics._plot.confusion_matrix.ConfusionMatrixDisplay object at 0x7f6c6e23b2d0>\n"
     ]
    },
    {
     "data": {
      "image/png": "[encoded data removed]",
      "text/plain": [
       "<Figure size 432x288 with 2 Axes>"
      ]
     },
     "metadata": {
      "needs_background": "light",
      "tags": []
     },
     "output_type": "display_data"
    }
   ],
   "source": [
    "#Part 3\n",
    "from sklearn.neural_network import MLPClassifier\n",
    "\n",
    "mlp = MLPClassifier(hidden_layer_sizes=(256,256,),).fit(X_train,Y_train)\n",
    "\n",
    "print(metrics.accuracy_score(Y_test,mlp.predict(X_test)))\n",
    "\n",
    "print(metrics.plot_confusion_matrix(mlp,X_test,Y_test))"
   ]
  },
  {
   "cell_type": "code",
   "execution_count": null,
   "metadata": {
    "id": "LyylRz_CeLjR"
   },
   "outputs": [],
   "source": [
    "#Part 4\n",
    "\n",
    "#The confusion matrix is used to evaluate the performance of a classifier model, It is a N*N matrix where N is the number of classes, The matrix compares the actual\n",
    "#target values with those of predicted values, can be used to identify the per class accuracy and overall performance of the classifier across all classes.\n",
    "#The best performing model is the Decision Tree, compared to MLP and Logistic Regression, decision trees are more powerful because of their characteristics of interpretability,\n",
    "#performance. "
   ]
  },
  {
   "cell_type": "code",
   "execution_count": null,
   "metadata": {
    "id": "sc1mH7mKeMv_"
   },
   "outputs": [],
   "source": []
  },
  {
   "cell_type": "markdown",
   "metadata": {
    "id": "4IMDecADNNwn"
   },
   "source": [
    "# Question 4 - Churn Prediction (50pts)\n",
    "\n",
    "Credit card churning is the practice of repeatedly opening and closing credit cards to earn cash, rewards points or miles. Often, you can qualify for a large intro bonus after opening a new credit card, which is something \"churners'' exploit to try to amass a lot of rewards. However, credit card companies may view the practice as gaming the system and take steps to prevent it.\n",
    "\n",
    "In this problem, you are provided with data from a bank. The objective is to process the data and build predictive models to classify if a customer is going to churn or not. You will be using sklearn [pipelines](https://scikit-learn.org/stable/modules/generated/sklearn.pipeline.Pipeline.html) and transformers in this exercise.\n",
    "\n",
    "\n",
    "1.   \n",
    "    a. What proportion of the users in the data churn? (2pts)  \n",
    "    b. Do credit card users churn more when compared to other users? (use a suitable plot) (3pts)\n",
    "2. Set up the transformer for min-max normalization. Other required transformers are provided. (5pts)  \n",
    "3. Scikit-learn provides the capability to create Machine Learning workflows by using a construct known as Pipeline. ML modeling pipelines can be viewed as directed acyclic graphs where each node is an \"operator\" performing some processing on the data frames or ndarrays. Use this [guide](https://medium.com/vickdata/a-simple-guide-to-scikit-learn-pipelines-4ac0d974bdcf) to understand how to create a pipeline and create a pipeline which has the following steps:<br>\n",
    "    a. One hot encoding transformer on the categorical variables.<br>\n",
    "    b. Min-max normalization transformer on the continuous variables.<br>\n",
    "    c. Logistic Regression model.<br>\n",
    "    Using the code for transformers given to you, fit this pipeline on the train set and report the F1 score and AUROC on the test set. (10pts)   \n",
    "4. Add the following features to the data:<br>\n",
    "    a. Ratio of balance to salary.<br>\n",
    "    b. Ratio of tenure to age.<br>\n",
    "    c. Ratio of credit score to age.<br>\n",
    "   Using this new data, build a similar Logistic Regression pipeline as in the previous question and report the F1 score and AUROC on the test set. We see that the performance of the model improves with these additional features, hence we will be using the new dataset with these additional features from now (this question and all the questions ahead). \n",
    "   We have seen that the two classes are imbalanced in the data. We can improve the logistic regression model by changing the importance given to the classes - use the class_weight='balanced' option (by default, both classes have equal importance). Report the F1 score and AUROC on the test set. (10 pts)\n",
    "5. Build a decision tree and Gaussian Naive Bayes pipelines. Plot an ROC for these two models, and the improved logistic regression model (in one plot). (5pts).\n",
    "6. The calibration curve gives you a way of testing if your model is well-calibrated or not. Use sklearn's [calibration_curve](https://scikit-learn.org/stable/modules/generated/sklearn.calibration.calibration_curve.html) function to plot the calibration curve for the Gaussian Naive Bayes model, and the improved logistic regression model and report which models are well-calibrated and which ones are not. (5 pts)"
   ]
  },
  {
   "cell_type": "markdown",
   "metadata": {
    "id": "Mh0zYCIPp6TC"
   },
   "source": [
    "## Features:\n",
    "1. CreditScore - Credit score of a user\n",
    "1. Geography - Country/Region of the user\n",
    "1. Gender - Gender of the user\n",
    "1. Age - Age of the user\n",
    "1. Tenure - Refers to the number of years that the customer has been a client of the bank\n",
    "1. Balance - Current bank balance of the user\n",
    "1. NumOfProducts - Number of products that the user has with the bank (e.g. debit card, mortgage loan, etc.)\n",
    "1. HasCrCard - 0 if the user does not have a credit card, 1 otherwise\n",
    "1. IsActiveMember - 0 if the user is not an active member, 1 otherwise\n",
    "1. EstimatedSalary — Estimated salary of the user.\n",
    "1. Exited — 0 if the user left the bank, 1 otherwise."
   ]
  },
  {
   "cell_type": "code",
   "execution_count": null,
   "metadata": {
    "id": "TRQ-7PCdyWMs"
   },
   "outputs": [],
   "source": [
    "import pandas as pd\n",
    "from sklearn.model_selection import train_test_split\n",
    "from sklearn.metrics import roc_curve, roc_auc_score, f1_score\n",
    "from sklearn.naive_bayes import GaussianNB\n",
    "from sklearn.linear_model import LogisticRegression\n",
    "from sklearn.neural_network import MLPClassifier\n",
    "from sklearn.tree import DecisionTreeClassifier\n",
    "import numpy as np\n",
    "import matplotlib.pyplot as plt\n",
    "import seaborn as sns\n",
    "from sklearn.pipeline import Pipeline, FeatureUnion\n",
    "import warnings\n",
    "warnings.filterwarnings('ignore')"
   ]
  },
  {
   "cell_type": "code",
   "execution_count": null,
   "metadata": {
    "colab": {
     "base_uri": "https://localhost:8080/",
     "height": 204
    },
    "id": "RcLr9WQJNceL",
    "outputId": "fc02e057-7fa4-4e66-af3e-700c010a644c"
   },
   "outputs": [
    {
     "data": {
      "text/html": [
       "<div>\n",
       "<style scoped>\n",
       "    .dataframe tbody tr th:only-of-type {\n",
       "        vertical-align: middle;\n",
       "    }\n",
       "\n",
       "    .dataframe tbody tr th {\n",
       "        vertical-align: top;\n",
       "    }\n",
       "\n",
       "    .dataframe thead th {\n",
       "        text-align: right;\n",
       "    }\n",
       "</style>\n",
       "<table border=\"1\" class=\"dataframe\">\n",
       "  <thead>\n",
       "    <tr style=\"text-align: right;\">\n",
       "      <th></th>\n",
       "      <th>CreditScore</th>\n",
       "      <th>Geography</th>\n",
       "      <th>Gender</th>\n",
       "      <th>Age</th>\n",
       "      <th>Tenure</th>\n",
       "      <th>Balance</th>\n",
       "      <th>NumOfProducts</th>\n",
       "      <th>HasCrCard</th>\n",
       "      <th>IsActiveMember</th>\n",
       "      <th>EstimatedSalary</th>\n",
       "      <th>Exited</th>\n",
       "    </tr>\n",
       "  </thead>\n",
       "  <tbody>\n",
       "    <tr>\n",
       "      <th>0</th>\n",
       "      <td>619</td>\n",
       "      <td>France</td>\n",
       "      <td>Female</td>\n",
       "      <td>42</td>\n",
       "      <td>2</td>\n",
       "      <td>0.00</td>\n",
       "      <td>1</td>\n",
       "      <td>1</td>\n",
       "      <td>1</td>\n",
       "      <td>101348.88</td>\n",
       "      <td>1</td>\n",
       "    </tr>\n",
       "    <tr>\n",
       "      <th>1</th>\n",
       "      <td>608</td>\n",
       "      <td>Spain</td>\n",
       "      <td>Female</td>\n",
       "      <td>41</td>\n",
       "      <td>1</td>\n",
       "      <td>83807.86</td>\n",
       "      <td>1</td>\n",
       "      <td>0</td>\n",
       "      <td>1</td>\n",
       "      <td>112542.58</td>\n",
       "      <td>0</td>\n",
       "    </tr>\n",
       "    <tr>\n",
       "      <th>2</th>\n",
       "      <td>502</td>\n",
       "      <td>France</td>\n",
       "      <td>Female</td>\n",
       "      <td>42</td>\n",
       "      <td>8</td>\n",
       "      <td>159660.80</td>\n",
       "      <td>3</td>\n",
       "      <td>1</td>\n",
       "      <td>0</td>\n",
       "      <td>113931.57</td>\n",
       "      <td>1</td>\n",
       "    </tr>\n",
       "    <tr>\n",
       "      <th>3</th>\n",
       "      <td>699</td>\n",
       "      <td>France</td>\n",
       "      <td>Female</td>\n",
       "      <td>39</td>\n",
       "      <td>1</td>\n",
       "      <td>0.00</td>\n",
       "      <td>2</td>\n",
       "      <td>0</td>\n",
       "      <td>0</td>\n",
       "      <td>93826.63</td>\n",
       "      <td>0</td>\n",
       "    </tr>\n",
       "    <tr>\n",
       "      <th>4</th>\n",
       "      <td>850</td>\n",
       "      <td>Spain</td>\n",
       "      <td>Female</td>\n",
       "      <td>43</td>\n",
       "      <td>2</td>\n",
       "      <td>125510.82</td>\n",
       "      <td>1</td>\n",
       "      <td>1</td>\n",
       "      <td>1</td>\n",
       "      <td>79084.10</td>\n",
       "      <td>0</td>\n",
       "    </tr>\n",
       "  </tbody>\n",
       "</table>\n",
       "</div>"
      ],
      "text/plain": [
       "   CreditScore Geography  Gender  ...  IsActiveMember  EstimatedSalary  Exited\n",
       "0          619    France  Female  ...               1        101348.88       1\n",
       "1          608     Spain  Female  ...               1        112542.58       0\n",
       "2          502    France  Female  ...               0        113931.57       1\n",
       "3          699    France  Female  ...               0         93826.63       0\n",
       "4          850     Spain  Female  ...               1         79084.10       0\n",
       "\n",
       "[5 rows x 11 columns]"
      ]
     },
     "execution_count": 2,
     "metadata": {
      "tags": []
     },
     "output_type": "execute_result"
    }
   ],
   "source": [
    "df = pd.read_csv('q3.csv', delimiter=',')\n",
    "df.shape\n",
    "df.head()"
   ]
  },
  {
   "cell_type": "code",
   "execution_count": null,
   "metadata": {
    "id": "p6G8qywdNt-I"
   },
   "outputs": [],
   "source": [
    "#DONOT CHANGE THIS\n",
    "df_train = df.sample(frac=0.8,random_state=11)\n",
    "df_test = df.drop(df_train.index)\n",
    "\n",
    "from sklearn.base import BaseEstimator, TransformerMixin\n",
    "#We provide the required transformers to build the pipeline.\n",
    "# Transfomer for performing one hot encoding on a specified categorical column\n",
    "class OneHotEncoder(BaseEstimator, TransformerMixin):\n",
    "    \n",
    "    def __init__(self,col):\n",
    "        self.col = col\n",
    "                \n",
    "    def transform(self, X):\n",
    "        return pd.get_dummies(X[self.col]) \n",
    "\n",
    "    def fit(self, X, y=None):\n",
    "        return self  \n",
    "    \n",
    "# Stateless transformer for selecting a specified columns\n",
    "class DFSubsetSelector(BaseEstimator,TransformerMixin):\n",
    "    \n",
    "    def __init__(self,cols):\n",
    "        self.cols = cols\n",
    "        \n",
    "    def transform(self ,X):\n",
    "        return X[self.cols]\n",
    "    \n",
    "    def fit(self, X, y=None):\n",
    "        return self\n",
    "    \n",
    "class ConcatFeatures(BaseEstimator, TransformerMixin):\n",
    "    \n",
    "    def __init__(self,cols,sep=\"_\"):\n",
    "        self.cols = cols\n",
    "        self.sep = sep\n",
    "                \n",
    "    def transform(self, X):\n",
    "        concat_col = self.sep.join(self.cols)\n",
    "        return X.apply(lambda x : self.sep.join([x[col] for col in self.cols]) ,axis=1).to_frame(name = concat_col)\n",
    "\n",
    "    def fit(self, X, y=None):\n",
    "        return self  "
   ]
  },
  {
   "cell_type": "markdown",
   "metadata": {
    "id": "gu0FIEMXNm6n"
   },
   "source": [
    "# Answer 4\n",
    "#### (1)"
   ]
  },
  {
   "cell_type": "code",
   "execution_count": null,
   "metadata": {
    "colab": {
     "base_uri": "https://localhost:8080/",
     "height": 212
    },
    "id": "SgWzw12-NlM9",
    "outputId": "78d55f61-60d1-4c60-8fc8-42b6e1466853"
   },
   "outputs": [
    {
     "data": {
      "image/png": "[encoded data removed]",
      "text/plain": [
       "<Figure size 216x216 with 1 Axes>"
      ]
     },
     "metadata": {
      "tags": []
     },
     "output_type": "display_data"
    }
   ],
   "source": [
    "labels = 'Churned', 'Retained'\n",
    "sizes = [df.Exited[df['Exited']==1].count(), df.Exited[df['Exited']==0].count()]\n",
    "explode = (0, 0.1)\n",
    "fig1, ax1 = plt.subplots(figsize=(3, 3))\n",
    "ax1.pie(sizes, explode=explode, labels=labels, autopct='%1.1f%%',\n",
    "        shadow=True, startangle=90)\n",
    "ax1.axis('equal')\n",
    "plt.title(\"Proportion of customer churned and retained\", size = 15)\n",
    "plt.show()"
   ]
  },
  {
   "cell_type": "code",
   "execution_count": null,
   "metadata": {
    "colab": {
     "base_uri": "https://localhost:8080/",
     "height": 368
    },
    "id": "vuDtFWcaNrGY",
    "outputId": "0d1c907b-5885-4dc2-d437-15d1ef6af4d5"
   },
   "outputs": [
    {
     "data": {
      "image/png": "[encoded data removed]",
      "text/plain": [
       "<Figure size 360x360 with 1 Axes>"
      ]
     },
     "metadata": {
      "needs_background": "light",
      "tags": []
     },
     "output_type": "display_data"
    },
    {
     "name": "stdout",
     "output_type": "stream",
     "text": [
      "proportion of credit card holders who churned: 0.20184266477675408\n",
      "proportion of people without credit card who churned: 0.20814940577249574\n"
     ]
    }
   ],
   "source": [
    "fig, axarr = plt.subplots(1, 1, figsize=(5, 5), squeeze=False)\n",
    "sns.countplot(x='HasCrCard', hue = 'Exited',data = df, ax=axarr[0][0])\n",
    "plt.show()\n",
    "\n",
    "df_hascard = df[df.HasCrCard == 1]\n",
    "df_nocard = df[df.HasCrCard == 0]\n",
    "df_exited_hascard = df_hascard[df.Exited == 1]\n",
    "df_exited_nocard = df_nocard[df.Exited == 1]\n",
    "\n",
    "print(\"proportion of credit card holders who churned: {}\".format(\\\n",
    "df_exited_hascard.shape[0]/ df_hascard.shape[0]))\n",
    "print(\"proportion of people without credit card who churned: {}\".format(\\\n",
    "df_exited_nocard.shape[0]/ df_nocard.shape[0]))"
   ]
  },
  {
   "cell_type": "markdown",
   "metadata": {
    "id": "32_snhljNw_a"
   },
   "source": [
    "Evethough the a large fraction of the people who exited seem to have a credit card, the proprtion of churn is almost equal among the credit card users and others."
   ]
  },
  {
   "cell_type": "markdown",
   "metadata": {
    "id": "QfHNSBWeN26O"
   },
   "source": [
    "#### (2)"
   ]
  },
  {
   "cell_type": "code",
   "execution_count": null,
   "metadata": {
    "id": "oM_RoqO_N1RK"
   },
   "outputs": [],
   "source": [
    "# Transformer that does min-max transform on the specified columns\n",
    "class MinMaxTransform(BaseEstimator, TransformerMixin):\n",
    "\n",
    "    def __init__(self,cols=None):\n",
    "        self.cols = cols\n",
    "        self.minVec = np.zeros(len(cols))\n",
    "        self.maxVec = np.zeros(len(cols))\n",
    "       \n",
    "    def transform(self, X):\n",
    "        X[self.cols] = ((X[self.cols] - self.minVec)/(self.maxVec-self.minVec))\n",
    "        return X\n",
    "\n",
    "    def fit(self, X, y=None):\n",
    "        self.minVec = (df_train[self.cols].min())\n",
    "        self.maxVec = (df_train[self.cols].max())\n",
    "        return self"
   ]
  },
  {
   "cell_type": "markdown",
   "metadata": {
    "id": "p5mocxg-N5wZ"
   },
   "source": [
    "#### (3)"
   ]
  },
  {
   "cell_type": "code",
   "execution_count": null,
   "metadata": {
    "colab": {
     "base_uri": "https://localhost:8080/"
    },
    "id": "bsWWNLh1N4Gy",
    "outputId": "9c99eeef-05b8-4a59-b12a-2d0bc64b2072"
   },
   "outputs": [
    {
     "name": "stdout",
     "output_type": "stream",
     "text": [
      "\tAUC = 0.7965\n",
      "\tF1 score = 0.31\n",
      "\n"
     ]
    }
   ],
   "source": [
    "X_train = df_train.drop(['Exited'],axis=1)\n",
    "y_train = df_train['Exited']\n",
    "X_test= df_test.drop(['Exited'],axis=1)\n",
    "y_test = df_test['Exited']\n",
    "\n",
    "continuous_vars = ['CreditScore','Age','Tenure','Balance','NumOfProducts','EstimatedSalary']\n",
    "cat_vars = ['HasCrCard','IsActiveMember',\"Geography\", \"Gender\"] \n",
    "\n",
    "#building the data-processing pipeline\n",
    "categorical_feature_pipeline = Pipeline([\n",
    "                                       ('categorical_selector' ,DFSubsetSelector(cat_vars)),\n",
    "                                        ('onehot',OneHotEncoder(cat_vars))])\n",
    "numerical_feature_pipeline = Pipeline([\n",
    "                                       ('numerical_selector' ,DFSubsetSelector(continuous_vars)),\n",
    "                                        ('normalization',MinMaxTransform(continuous_vars))])\n",
    "all_feature_preprocessor= FeatureUnion(transformer_list=[('numerical_preprocessor', numerical_feature_pipeline),\n",
    "                                                      ('categorical_preprocessor', categorical_feature_pipeline)])\n",
    "\n",
    "learner =  LogisticRegression()\n",
    "\n",
    "# Putting together the training pipeline\n",
    "clf_pipeline = Pipeline([('feature_preprocessor',all_feature_preprocessor),\n",
    "                           ('learner',learner)])\n",
    "\n",
    "                                                      \n",
    "clf_pipeline.fit(X_train, y_train)\n",
    "estimates_test = clf_pipeline.predict_proba(X_test)[:,1]\n",
    "fpr, tpr, threshholds = roc_curve(y_test, estimates_test)\n",
    "print('\\tAUC = %.4f' % roc_auc_score(y_test, estimates_test))\n",
    "# print('\\tAccuracy = %.2f\\n' % np.mean(y_test==(estimates_test > .5)))\n",
    "print('\\tF1 score = %.2f\\n' % f1_score(y_test, (estimates_test > .5)))\n",
    "# print(f1_score(y_test, (estimates_test > .5)))"
   ]
  },
  {
   "cell_type": "markdown",
   "metadata": {
    "id": "6d6sSToeN80_"
   },
   "source": [
    "#### (4)"
   ]
  },
  {
   "cell_type": "code",
   "execution_count": null,
   "metadata": {
    "colab": {
     "base_uri": "https://localhost:8080/"
    },
    "id": "Ott54c4NN7Na",
    "outputId": "05eb117b-41c3-4db8-90b0-4a87149bc5d9"
   },
   "outputs": [
    {
     "name": "stdout",
     "output_type": "stream",
     "text": [
      "\tAUC = 0.7994\n",
      "\tF1 score = 0.34\n",
      "\n",
      "changing the importance given to classes: \n",
      "\tAUC = 0.8003\n",
      "\tF1 score = 0.52\n",
      "\n"
     ]
    }
   ],
   "source": [
    "\n",
    "#Adding the additional features\n",
    "df_train['BalanceSalaryRatio'] = df_train.Balance/df_train.EstimatedSalary\n",
    "df_train['TenureByAge'] = df_train.Tenure/(df_train.Age)\n",
    "df_train['CreditScoreGivenAge'] = df_train.CreditScore/(df_train.Age)\n",
    "df_test['BalanceSalaryRatio'] = df_test.Balance/df_test.EstimatedSalary\n",
    "df_test['TenureByAge'] = df_test.Tenure/(df_test.Age)\n",
    "df_test['CreditScoreGivenAge'] = df_test.CreditScore/(df_test.Age)\n",
    "\n",
    "X_train = df_train.drop(['Exited'],axis=1)\n",
    "y_train = df_train['Exited']\n",
    "X_test= df_test.drop(['Exited'],axis=1)\n",
    "y_test = df_test['Exited']\n",
    "\n",
    "#setting up data processing pipleine\n",
    "continuous_vars = ['CreditScore','Age','Tenure','Balance','NumOfProducts','EstimatedSalary', 'BalanceSalaryRatio',\n",
    "                  'TenureByAge', 'CreditScoreGivenAge']\n",
    "cat_vars = ['HasCrCard','IsActiveMember',\"Geography\", \"Gender\"] \n",
    "\n",
    "#building the data-processing pipeline\n",
    "categorical_feature_pipeline = Pipeline([\n",
    "                                       ('categorical_selector' ,DFSubsetSelector(cat_vars)),\n",
    "                                        ('onehot',OneHotEncoder(cat_vars))])\n",
    "numerical_feature_pipeline = Pipeline([\n",
    "                                       ('numerical_selector' ,DFSubsetSelector(continuous_vars)),\n",
    "                                        ('normalization',MinMaxTransform(continuous_vars))])\n",
    "all_feature_preprocessor= FeatureUnion(transformer_list=[('numerical_preprocessor', numerical_feature_pipeline),\n",
    "                                                      ('categorical_preprocessor', categorical_feature_pipeline)])\n",
    "\n",
    "\n",
    "learner =  LogisticRegression()\n",
    "clf_pipeline = Pipeline([('feature_preprocessor',all_feature_preprocessor),\n",
    "                           ('learner',learner)])\n",
    "clf_pipeline.fit(X_train, y_train)\n",
    "estimates_test = clf_pipeline.predict_proba(X_test)[:,1]\n",
    "fpr, tpr, threshholds = roc_curve(y_test, estimates_test)\n",
    "print('\\tAUC = %.4f' % roc_auc_score(y_test, estimates_test))\n",
    "# print('\\tAccuracy = %.2f\\n' % np.mean(y_test==(estimates_test > .5)))\n",
    "print('\\tF1 score = %.2f\\n' % f1_score(y_test, (estimates_test > .5)))\n",
    "\n",
    "print(\"changing the importance given to classes: \")\n",
    "\n",
    "learner =  LogisticRegression(class_weight='balanced')\n",
    "clf_pipeline = Pipeline([('feature_preprocessor',all_feature_preprocessor),\n",
    "                           ('learner',learner)])\n",
    "clf_pipeline.fit(X_train, y_train)\n",
    "estimates_test = clf_pipeline.predict_proba(X_test)[:,1]\n",
    "fpr, tpr, threshholds = roc_curve(y_test, estimates_test)\n",
    "print('\\tAUC = %.4f' % roc_auc_score(y_test, estimates_test))\n",
    "# print('\\tAccuracy = %.2f\\n' % np.mean(y_test==(estimates_test > .5)))\n",
    "print('\\tF1 score = %.2f\\n' % f1_score(y_test, (estimates_test > .5)))"
   ]
  },
  {
   "cell_type": "markdown",
   "metadata": {
    "id": "2iEYo47XODbB"
   },
   "source": [
    "#### (5)"
   ]
  },
  {
   "cell_type": "code",
   "execution_count": null,
   "metadata": {
    "colab": {
     "base_uri": "https://localhost:8080/",
     "height": 298
    },
    "id": "x442PPejOA-y",
    "outputId": "22b6219b-f7b6-4a05-b6ec-c16ad27972cc"
   },
   "outputs": [
    {
     "data": {
      "text/plain": [
       "<matplotlib.legend.Legend at 0x7f326a3a1590>"
      ]
     },
     "execution_count": 9,
     "metadata": {
      "tags": []
     },
     "output_type": "execute_result"
    },
    {
     "data": {
      "image/png": "[encoded data removed]",
      "text/plain": [
       "<Figure size 432x288 with 1 Axes>"
      ]
     },
     "metadata": {
      "needs_background": "light",
      "tags": []
     },
     "output_type": "display_data"
    }
   ],
   "source": [
    "models = [GaussianNB(), LogisticRegression(class_weight='balanced'), DecisionTreeClassifier()]\n",
    "model_names = ['NB', 'Logistic', 'DecisionTree']\n",
    "for m_iter in range(len(models)):\n",
    "        clf_pipeline = Pipeline([('feature_preprocessor',all_feature_preprocessor),\n",
    "                           ('learner',models[m_iter])])\n",
    "        clf_pipeline.fit(X_train, y_train)\n",
    "        estimates_test = clf_pipeline.predict_proba(X_test)[:,1]\n",
    "        fpr, tpr, threshholds = roc_curve(y_test, estimates_test)\n",
    "        plt.plot(fpr, tpr, label=model_names[m_iter])\n",
    "plt.title('ROC curve')\n",
    "plt.legend()"
   ]
  },
  {
   "cell_type": "markdown",
   "metadata": {
    "id": "EKA8VPD5OGqK"
   },
   "source": [
    "#### (6)"
   ]
  },
  {
   "cell_type": "code",
   "execution_count": null,
   "metadata": {
    "colab": {
     "base_uri": "https://localhost:8080/",
     "height": 312
    },
    "id": "9uCXPuhHOE2o",
    "outputId": "2aab40a5-8702-428c-8523-2d97c3c431b5"
   },
   "outputs": [
    {
     "data": {
      "text/plain": [
       "<matplotlib.legend.Legend at 0x7f326a870a10>"
      ]
     },
     "execution_count": 10,
     "metadata": {
      "tags": []
     },
     "output_type": "execute_result"
    },
    {
     "data": {
      "image/png": "[encoded data removed]",
      "text/plain": [
       "<Figure size 432x288 with 1 Axes>"
      ]
     },
     "metadata": {
      "needs_background": "light",
      "tags": []
     },
     "output_type": "display_data"
    }
   ],
   "source": [
    "from sklearn.calibration import calibration_curve\n",
    "models = [GaussianNB(), LogisticRegression(),\\\n",
    "          LogisticRegression(class_weight='balanced')]\n",
    "model_names = ['NB', 'Logistic', 'Balanced Logistic regression', 'DecisionTree']\n",
    "for m_iter in range(len(models)):\n",
    "        clf_pipeline = Pipeline([('feature_preprocessor',all_feature_preprocessor),\n",
    "                           ('learner',models[m_iter])])\n",
    "        clf_pipeline.fit(X_train, y_train)\n",
    "        estimates_test = clf_pipeline.predict_proba(X_test)[:,1]\n",
    "        fraction_of_positives, mean_predicted_value = \\\n",
    "        calibration_curve(y_test, estimates_test, n_bins=10)\n",
    "        plt.plot(mean_predicted_value, fraction_of_positives, label=model_names[m_iter], marker='X')\n",
    "plt.title('Calibration curve')\n",
    "plt.xlabel(\"mean predicted probability\")\n",
    "plt.ylabel(\"fraction of positives\")\n",
    "plt.legend()"
   ]
  },
  {
   "cell_type": "markdown",
   "metadata": {
    "id": "Hg1mY7BOnzaM"
   },
   "source": [
    "# Question 5 : Bayesian Belief Networks (15 pts)\n",
    "\n",
    "![Question 1](https://i.imgur.com/3ayVbFi.jpeg) \n",
    "\n",
    "All nodes are binary and can take 0/1 values\n",
    "\n",
    "The probabilities are given below:\n",
    "\n",
    "P(Bark = 1) = 0.05   \n",
    "P(Rain = 1) = 0.01\n",
    "\n",
    "\n",
    "P(Scared = 1 | Bark = 0, Rain = 0) = 0.001  \n",
    "P(Scared = 1 | Bark = 0, Rain = 1) = 0.1  \n",
    "P(Scared = 1 | Bark = 1, Rain = 0) = 0.8  \n",
    "P(Scared = 1 | Bark = 1, Rain = 1) = 0.9  \n",
    "\n",
    "P(Hides = 1 | Scared = 1) = 0.95  \n",
    "P(Hides = 1 | Scared = 0) = 0.05  \n",
    "\n",
    "For the given Bayesian network, Compute the following probabilities :  \n",
    "\n",
    "\n",
    "**(a) (4 pts)** Find the probability that cat hides = 1.  \n",
    "**(b) (4 pts)** Given that cat got scared (Scared = 1), what is the probability that it rained (Rain = 1)?  \n",
    "**(c) (7 pts)** Given that cat got scared (Scared = 1) and the dog barked (Bark = 1), what is the probability that it rained (Rain = 1)?"
   ]
  },
  {
   "cell_type": "markdown",
   "metadata": {
    "id": "KOqqpd3sn3nF"
   },
   "source": [
    "# Answer 5"
   ]
  },
  {
   "cell_type": "markdown",
   "metadata": {
    "id": "WuUWszpAn5az"
   },
   "source": [
    "https://docs.google.com/document/d/1ARRXCRsNzKRULCqWwTxenTTRcjvhvBWPlSBTPco1YC0/edit?usp=sharing"
   ]
  },
  {
   "cell_type": "markdown",
   "metadata": {
    "id": "NGEJne27SGfq"
   },
   "source": [
    "# Question 6 - Comparison of different ensembles method for classification (20 pts)\n",
    "\n",
    "We will use the dataset from the kaggle competition [GiveMeSomeCredit](https://www.kaggle.com/c/GiveMeSomeCredit). We will work on a smaller version of this dataset. The dataset is available on canvas as ensemble-dataset.csv. \n",
    "We will predict the probability that somebody will experience financial distress in the next two years. The dataset has already been split into train and test sets for you."
   ]
  },
  {
   "cell_type": "code",
   "execution_count": null,
   "metadata": {
    "colab": {
     "base_uri": "https://localhost:8080/",
     "height": 211
    },
    "id": "cKXWaSd6OH4A",
    "outputId": "33e685a0-5392-4a73-d3db-dc94e8ade359"
   },
   "outputs": [
    {
     "data": {
      "text/html": [
       "<div>\n",
       "<style scoped>\n",
       "    .dataframe tbody tr th:only-of-type {\n",
       "        vertical-align: middle;\n",
       "    }\n",
       "\n",
       "    .dataframe tbody tr th {\n",
       "        vertical-align: top;\n",
       "    }\n",
       "\n",
       "    .dataframe thead th {\n",
       "        text-align: right;\n",
       "    }\n",
       "</style>\n",
       "<table border=\"1\" class=\"dataframe\">\n",
       "  <thead>\n",
       "    <tr style=\"text-align: right;\">\n",
       "      <th></th>\n",
       "      <th>SeriousDlqin2yrs</th>\n",
       "      <th>RevolvingUtilizationOfUnsecuredLines</th>\n",
       "      <th>age</th>\n",
       "      <th>NumberOfTime30.59DaysPastDueNotWorse</th>\n",
       "      <th>DebtRatio</th>\n",
       "      <th>MonthlyIncome</th>\n",
       "      <th>NumberOfOpenCreditLinesAndLoans</th>\n",
       "      <th>NumberOfTimes90DaysLate</th>\n",
       "      <th>NumberRealEstateLoansOrLines</th>\n",
       "      <th>NumberOfTime60.89DaysPastDueNotWorse</th>\n",
       "      <th>NumberOfDependents</th>\n",
       "    </tr>\n",
       "  </thead>\n",
       "  <tbody>\n",
       "    <tr>\n",
       "      <th>0</th>\n",
       "      <td>0</td>\n",
       "      <td>1.062646</td>\n",
       "      <td>50</td>\n",
       "      <td>2</td>\n",
       "      <td>0.179032</td>\n",
       "      <td>3490</td>\n",
       "      <td>8</td>\n",
       "      <td>1</td>\n",
       "      <td>0</td>\n",
       "      <td>1</td>\n",
       "      <td>1</td>\n",
       "    </tr>\n",
       "    <tr>\n",
       "      <th>1</th>\n",
       "      <td>0</td>\n",
       "      <td>0.003591</td>\n",
       "      <td>83</td>\n",
       "      <td>0</td>\n",
       "      <td>0.000869</td>\n",
       "      <td>10352</td>\n",
       "      <td>14</td>\n",
       "      <td>0</td>\n",
       "      <td>0</td>\n",
       "      <td>0</td>\n",
       "      <td>0</td>\n",
       "    </tr>\n",
       "    <tr>\n",
       "      <th>2</th>\n",
       "      <td>0</td>\n",
       "      <td>1.000000</td>\n",
       "      <td>22</td>\n",
       "      <td>0</td>\n",
       "      <td>0.000000</td>\n",
       "      <td>100</td>\n",
       "      <td>1</td>\n",
       "      <td>0</td>\n",
       "      <td>0</td>\n",
       "      <td>0</td>\n",
       "      <td>0</td>\n",
       "    </tr>\n",
       "    <tr>\n",
       "      <th>3</th>\n",
       "      <td>0</td>\n",
       "      <td>0.000000</td>\n",
       "      <td>52</td>\n",
       "      <td>0</td>\n",
       "      <td>0.336355</td>\n",
       "      <td>7060</td>\n",
       "      <td>10</td>\n",
       "      <td>0</td>\n",
       "      <td>2</td>\n",
       "      <td>0</td>\n",
       "      <td>3</td>\n",
       "    </tr>\n",
       "    <tr>\n",
       "      <th>4</th>\n",
       "      <td>0</td>\n",
       "      <td>0.220152</td>\n",
       "      <td>54</td>\n",
       "      <td>0</td>\n",
       "      <td>0.235064</td>\n",
       "      <td>4083</td>\n",
       "      <td>15</td>\n",
       "      <td>0</td>\n",
       "      <td>0</td>\n",
       "      <td>0</td>\n",
       "      <td>1</td>\n",
       "    </tr>\n",
       "  </tbody>\n",
       "</table>\n",
       "</div>"
      ],
      "text/plain": [
       "   SeriousDlqin2yrs  ...  NumberOfDependents\n",
       "0                 0  ...                   1\n",
       "1                 0  ...                   0\n",
       "2                 0  ...                   0\n",
       "3                 0  ...                   3\n",
       "4                 0  ...                   1\n",
       "\n",
       "[5 rows x 11 columns]"
      ]
     },
     "execution_count": 9,
     "metadata": {
      "tags": []
     },
     "output_type": "execute_result"
    }
   ],
   "source": [
    "data = pd.read_csv('ensemble-dataset.csv')\n",
    "data.head()"
   ]
  },
  {
   "cell_type": "code",
   "execution_count": null,
   "metadata": {
    "colab": {
     "base_uri": "https://localhost:8080/"
    },
    "id": "8gDtJv05SQ1a",
    "outputId": "b771da20-83f0-4c3e-8462-0c9b0feb2ac7"
   },
   "outputs": [
    {
     "name": "stdout",
     "output_type": "stream",
     "text": [
      "train (3382, 10) (3382,)\n",
      "test (1667, 10) (1667,)\n"
     ]
    }
   ],
   "source": [
    "from sklearn.model_selection import train_test_split\n",
    "y = data['SeriousDlqin2yrs']\n",
    "X = data.drop(['SeriousDlqin2yrs'],axis=1)\n",
    "X_train, X_test, y_train, y_test = train_test_split(X, y, test_size = 0.33, random_state = 42)\n",
    "\n",
    "print('train',X_train.shape,y_train.shape)\n",
    "print('test',X_test.shape,y_test.shape)"
   ]
  },
  {
   "cell_type": "markdown",
   "metadata": {
    "id": "y8go9I7xSVVJ"
   },
   "source": [
    "In this question, we will compare performance of different ensemble methods for classification problems: [Bagging](https://scikit-learn.org/stable/modules/generated/sklearn.ensemble.BaggingClassifier.html), [AdaBoost](https://scikit-learn.org/stable/modules/generated/sklearn.ensemble.AdaBoostClassifier.html), and [Random Forest](https://scikit-learn.org/stable/modules/generated/sklearn.ensemble.RandomForestClassifier.html) Classifiers.\n",
    "\n",
    "Part a) **2.5pts** Use a Decision Tree Classifier with random_state = 10 for the classification problem. Report the accuracy_score and roc_auc_score on the test data for the classifier.\n",
    "\n",
    "Part b) **2.5pts** Create an ensemble of 20 classifiers (i.e n_estimators = 20) with random_state = 10 for [bagging](https://scikit-learn.org/stable/modules/generated/sklearn.ensemble.BaggingClassifier.html) with base classifier as Decision Tree Classifier from part a). Report accuracy_score and roc_auc_score on the test data for the Bagging classifiers. \n",
    "\n",
    "Part c) **5pts** Use the training data and build a [Random Forest](http://scikit-learn.org/stable/modules/generated/sklearn.ensemble.RandomForestClassifier.html) model for the classification problem. Find the best parameters (including *n_estimators*, *max_features* and *criterion*) using [GridSearchCV](http://scikit-learn.org/stable/modules/generated/sklearn.model_selection.GridSearchCV.html). Report the optimal parameters obtained by GridSearch. Report the confusion matrix  and [roc_auc_score](http://scikit-learn.org/stable/modules/generated/sklearn.metrics.roc_auc_score.html#sklearn.metrics.roc_auc_score) on test data using the model fit with best parameters. (5pts)\n",
    "\n",
    "Part d) **5pts** Use [AdaBoost](http://scikit-learn.org/stable/modules/generated/sklearn.ensemble.AdaBoostClassifier.html#sklearn.ensemble.AdaBoostClassifier) for this problem. Again, find the best parameters (including *n_estimators, learning_rate*), and report the confusion matrix and roc_auc_score on test data for the classifier fit with best parameters found using training data. \n",
    "\n",
    "Part e) **5pts** Compare the performance of decision tree from part a) with the ensemble methods, Briefly explain which of the three ensemble method performed better and why?"
   ]
  },
  {
   "cell_type": "code",
   "execution_count": null,
   "metadata": {
    "id": "sbfLYzEESU29"
   },
   "outputs": [],
   "source": [
    "import matplotlib.pyplot as plt\n",
    "from sklearn.model_selection import (train_test_split,GridSearchCV)\n",
    "from sklearn.metrics import (accuracy_score,roc_auc_score)\n",
    "from sklearn.ensemble import (RandomForestClassifier,GradientBoostingClassifier,AdaBoostClassifier)\n",
    "from sklearn.ensemble import RandomForestClassifier, BaggingClassifier\n",
    "from sklearn.metrics import confusion_matrix\n",
    "from sklearn.tree import DecisionTreeClassifier\n",
    "from time import time\n",
    "%matplotlib inline"
   ]
  },
  {
   "cell_type": "code",
   "execution_count": null,
   "metadata": {
    "id": "Db2-Md7SSkn1"
   },
   "outputs": [],
   "source": [
    "columns_list = list(X.columns)"
   ]
  },
  {
   "cell_type": "code",
   "execution_count": null,
   "metadata": {
    "colab": {
     "base_uri": "https://localhost:8080/"
    },
    "id": "X7p84Jd6Sr5c",
    "outputId": "5e642300-1058-4aaa-965e-86e6ca48b21c"
   },
   "outputs": [
    {
     "name": "stdout",
     "output_type": "stream",
     "text": [
      "Decision Tree\n",
      "Accuracy: 0.8908218356328734\n",
      " AUC_ROC: 0.5882985294467014\n",
      "\n"
     ]
    }
   ],
   "source": [
    "# Part a)\n",
    "def clf_eval(clf):\n",
    "    clf.fit(X_train,y_train)\n",
    "    y_pred = clf.predict(X_test)\n",
    "    y_pred_proba = clf.predict_proba(X_test)[:,1]\n",
    "    acc_score = accuracy_score(y_test,y_pred)\n",
    "    auc_score = roc_auc_score(y_test,y_pred_proba)\n",
    "    print(\"Accuracy: {}\\n AUC_ROC: {}\\n\".format(acc_score,auc_score))\n",
    "\n",
    "print(\"Decision Tree\")\n",
    "dt = DecisionTreeClassifier(random_state=10)\n",
    "clf_eval(dt)"
   ]
  },
  {
   "cell_type": "code",
   "execution_count": null,
   "metadata": {
    "colab": {
     "base_uri": "https://localhost:8080/"
    },
    "id": "eu7882XwSubQ",
    "outputId": "56ac63a3-ea5f-4582-c479-b3cc519c82b3"
   },
   "outputs": [
    {
     "name": "stdout",
     "output_type": "stream",
     "text": [
      "Bagging DT\n",
      "Accuracy: 0.9322135572885423\n",
      " AUC_ROC: 0.7490616016914927\n",
      "\n"
     ]
    }
   ],
   "source": [
    "# Part b)\n",
    "print(\"Bagging DT\")\n",
    "bagClf = BaggingClassifier(DecisionTreeClassifier(random_state=10), n_estimators = 20, random_state = 10)\n",
    "clf_eval(bagClf)"
   ]
  },
  {
   "cell_type": "code",
   "execution_count": null,
   "metadata": {
    "colab": {
     "base_uri": "https://localhost:8080/"
    },
    "id": "1PEjQ1fJSxAB",
    "outputId": "888c320d-0b8f-4b59-f99b-59f87ceae0b1"
   },
   "outputs": [
    {
     "name": "stdout",
     "output_type": "stream",
     "text": [
      "{'criterion': 'entropy', 'max_features': 1, 'n_estimators': 100}\n",
      "training time 0.5 s\n",
      "predict time 0.037 s\n",
      "Random forest conf matrix: \n",
      "[[1555    4]\n",
      " [  99    9]]\n",
      "Accuracy: 0.9382123575284943\n",
      " AUC_ROC: 0.8078599767182192\n",
      "\n"
     ]
    }
   ],
   "source": [
    "# Part c)\n",
    "\n",
    "clf = RandomForestClassifier()\n",
    "\n",
    "param_grid = {\"n_estimators\": [1, 10, 50, 100],\n",
    "              \"max_features\": [1, 5, 10, \"auto\"],\n",
    "              \"criterion\": ['gini','entropy'],}\n",
    "\n",
    "# Grid search\n",
    "\n",
    "grid_search = GridSearchCV(clf, param_grid=param_grid)\n",
    "grid_search.fit(X_train, y_train)\n",
    "print(grid_search.best_params_)\n",
    "clf.set_params(**grid_search.best_params_)\n",
    "\n",
    "t0 = time()\n",
    "clf.fit(X_train, y_train)\n",
    "print(\"training time\", round(time()-t0, 3), \"s\")\n",
    "\n",
    "t0 = time()\n",
    "y_pred_forest =clf.predict(X_test)\n",
    "print(\"predict time\", round(time()-t0, 3), \"s\")\n",
    "\n",
    "print(\"Random forest conf matrix: \")\n",
    "print(confusion_matrix(y_test, y_pred_forest))\n",
    "\n",
    "y_pred_proba = clf.predict_proba(X_test)[:,1]\n",
    "\n",
    "acc_score = accuracy_score(y_test,y_pred_forest)\n",
    "auc_score = roc_auc_score(y_test,y_pred_proba)\n",
    "print(\"Accuracy: {}\\n AUC_ROC: {}\\n\".format(acc_score,auc_score))"
   ]
  },
  {
   "cell_type": "code",
   "execution_count": null,
   "metadata": {
    "colab": {
     "base_uri": "https://localhost:8080/"
    },
    "id": "BLPOnvuBSz6B",
    "outputId": "9080e19a-d247-448c-cde5-2cb797dc1d99"
   },
   "outputs": [
    {
     "name": "stdout",
     "output_type": "stream",
     "text": [
      "{'learning_rate': 0.1, 'n_estimators': 100, 'random_state': 42}\n",
      "training time 0.431 s\n",
      "predict time 0.038 s\n",
      "Adaboost conf matrix: \n",
      "[[1550    9]\n",
      " [  93   15]]\n",
      "Accuracy: 0.9388122375524895\n",
      " AUC_ROC: 0.8293599885966787\n",
      "\n"
     ]
    }
   ],
   "source": [
    "clf = AdaBoostClassifier()\n",
    "\n",
    "param_grid = {\"n_estimators\": [10,100],\n",
    "          \"learning_rate\": [0.01, 0.1,0.5],\n",
    "          \"random_state\": [42]\n",
    "          }\n",
    "# Grid search\n",
    "\n",
    "grid_search = GridSearchCV(clf, param_grid=param_grid)\n",
    "grid_search.fit(X_train, y_train)\n",
    "print(grid_search.best_params_)\n",
    "clf.set_params(**grid_search.best_params_)\n",
    "\n",
    "t0 = time()\n",
    "clf.fit(X_train, y_train)\n",
    "print(\"training time\", round(time()-t0, 3), \"s\")\n",
    "\n",
    "t0 = time()\n",
    "y_pred_gbt =clf.predict(X_test)\n",
    "print(\"predict time\", round(time()-t0, 3), \"s\")\n",
    "\n",
    "print(\"Adaboost conf matrix: \")\n",
    "print(confusion_matrix(y_test, y_pred_gbt))\n",
    "\n",
    "y_pred_proba = clf.predict_proba(X_test)[:,1]\n",
    "\n",
    "acc_score = accuracy_score(y_test,y_pred_gbt)\n",
    "auc_score = roc_auc_score(y_test,y_pred_proba)\n",
    "print(\"Accuracy: {}\\n AUC_ROC: {}\\n\".format(acc_score,auc_score))"
   ]
  },
  {
   "cell_type": "markdown",
   "metadata": {
    "id": "m-npcYbXUuDm"
   },
   "source": [
    "We can see that the ensemble models are performing much better than the individual decision tree, Boosting is using weak learners (high bias, low variance). For decision trees, weak learners are shallow trees or decision stumps(trees with two leaves). The error reduction is by reducing bias. Random Forest uses fully grown decision trees (low bias, high variance). Here the variance is reduced, and hence shows a better performance, this is due to the uncorrelated trees built using a subset of features in the ensembling.\n",
    "Overall, Adaboost had the highest ROC score on test data among the ensembling models. Since it iteratively corrects the mistakes of the weak classifier and improves accuracy by combining weak learners."
   ]
  },
  {
   "cell_type": "code",
   "execution_count": null,
   "metadata": {
    "id": "23M-42UEWUXn"
   },
   "outputs": [],
   "source": []
  }
 ],
 "metadata": {
  "colab": {
   "collapsed_sections": [
    "4IMDecADNNwn",
    "gu0FIEMXNm6n"
   ],
   "name": "hw5Soln.ipynb",
   "provenance": [],
   "toc_visible": true
  },
  "kernelspec": {
   "display_name": "Python 3",
   "language": "python",
   "name": "python3"
  },
  "language_info": {
   "codemirror_mode": {
    "name": "ipython",
    "version": 3
   },
   "file_extension": ".py",
   "mimetype": "text/x-python",
   "name": "python",
   "nbconvert_exporter": "python",
   "pygments_lexer": "ipython3",
   "version": "3.8.3"
  }
 },
 "nbformat": 4,
 "nbformat_minor": 1
}
