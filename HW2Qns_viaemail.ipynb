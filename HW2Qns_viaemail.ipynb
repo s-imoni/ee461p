{
 "cells": [
  {
   "cell_type": "markdown",
   "metadata": {
    "id": "SdVGS8oSjBkc"
   },
   "source": [
    "## EE 461P: Data Science Principles  \n",
    "### Assignment 2 \n",
    "### Total points: 60\n",
    "### Due: Thursday, Feb 25, 2021, submitted via Canvas by 11:59 pm  \n",
    "\n",
    "Your homework should be written in a **Jupyter notebook**. You may work in groups of two if you wish. Only one student per team needs to submit the assignment on Canvas.  But be sure to include name and UT eID for both students.  Homework groups will be created and managed through Canvas, so please do not arbitrarily change your homework group. If you do change, let the TAs know.\n",
    "\n",
    "Also, please make sure your code runs and the graphics (and anything else) are displayed in your notebook before submitting. (%matplotlib inline)\n",
    "\n",
    "### Name(s) and EID(s):\n",
    "1. \n",
    "2. \n",
    "\n",
    "### Homework group No.: "
   ]
  },
  {
   "cell_type": "markdown",
   "metadata": {
    "id": "eFAfdc7iTrO7"
   },
   "source": [
    "# Question 1 - Cross Validation (15 pts)\n",
    "\n",
    "Use the given code below to load the dataset from \"data.csv\". The dataset contains eight attributes (or features, denoted by X1...X8) and two responses (or outcomes, denoted by y1 and y2). This dataset was created for energy analysis using 12 different building shapes.The buildings differ with respect to the glazing area, the glazing area distribution, and the orientation, amongst other parameters. By simulating various settings as functions of the afore-mentioned characteristics in total there are 768 building shapes. For more information on the dataset refer this [link](https://archive.ics.uci.edu/ml/datasets/Energy+efficiency). The aim is to use the eight features to predict one of the two responses.In this question, we will predict only the y1 response. \n",
    "\n",
    "Specifically:\n",
    "* X1 - Relative Compactness\n",
    "* X2 - Surface Area\n",
    "* X3 - Wall Area\n",
    "* X4 - Roof Area\n",
    "* X5 - Overall Height\n",
    "* X6 - Orientation\n",
    "* X7 - Glazing Area\n",
    "* X8 - Glazing Area Distribution\n",
    "* y1 - Heating Load\n",
    "* y2 - Cooling Load\n",
    "\n",
    "\n",
    "\n",
    "\n"
   ]
  },
  {
   "cell_type": "code",
   "execution_count": 5,
   "metadata": {
    "id": "PfGn68OdWQC_"
   },
   "outputs": [],
   "source": [
    "import pandas as pd\n",
    "import numpy as np \n",
    "import sklearn\n",
    "\n",
    "data = pd.read_csv(\"data_qn1.csv\",delimiter=\",\")\n",
    "y = data[\"Y1\"]\n",
    "X = data.drop(columns=[\"Y1\",\"Y2\"])"
   ]
  },
  {
   "cell_type": "markdown",
   "metadata": {
    "id": "RE_2coqAWQZZ"
   },
   "source": [
    "\n",
    "We will be analyzing the following scenarios for the given dataset.\n",
    "\n",
    "* Compare hold-out(80:20) train-test split cross validation and K-Fold Cross Validation \n",
    "* What happens when the number of folds increase for K-Fold Cross Validation? \n",
    "* Variance in the prediction for each case - Hold Out Validation and K-Fold Validation?\n"
   ]
  },
  {
   "cell_type": "markdown",
   "metadata": {
    "id": "te7QQxe4XEkh"
   },
   "source": [
    "\n",
    "a) [**3 pts**] Split the original dataset(X,y) into 80:20 [train_test_split](https://scikit-learn.org/stable/modules/generated/sklearn.model_selection.train_test_split.html) split, use linear regression to fit the model on the training data and evaluate the model using the test data. Report the root mean squared error (RMSE) on the test data for five different runs, make sure to store the RMSE values, we will use these values later to plot in part (d).\n",
    "\n",
    "b) [**3 pts**] Now, we will use [K-Fold](https://scikit-learn.org/stable/modules/generated/sklearn.model_selection.KFold.html) validation from sklearn to split the original data(X,y) into 5 folds. For each fold use linear regression to fit the model on training data and evaluate the model on the test data. Compute the average RMSE of the 5 folds, repeat the same for five different random splits of K-Fold. You can refer to the following line of code to perform the split. Make sure to vary the random_state value for five different runs. Record the RMSE values we will use them later in part (d).\n",
    "\n",
    "```\n",
    "kf = KFold(n_splits=5,random_state=random_state,shuffle=True)\n",
    "```\n",
    "\n",
    "c) [**3 pts**] Repeat the same experiment as in part (b) by varying the number of folds as k = 100,768 and record the RMSE for each value of k.\n",
    "\n",
    "d) [**3 pts**] Now, we will plot the box plot of the RMSE values obtained from part a), b) and c) together in a single figure. To reiterate, Hold out Validation(from part a) and k = 5, 100 and 768(part b and c) each with 5 values of RMSE for the 5 random states of the k-fold split. You can refer [here](https://matplotlib.org/stable/gallery/pyplots/boxplot_demo_pyplot.html#sphx-glr-gallery-pyplots-boxplot-demo-pyplot-py) on how to plot the boxplots. Boxplots are used to understand the variance in the values of the RMSE. For more information on box plots refer this [link](https://en.wikipedia.org/wiki/Box_plot). \n",
    "\n",
    "e) [**3 pts**] Using the boxplot answer the following questions,\n",
    "\n",
    "* What do you observe in the variation for RMSE of hold out validation and k-Fold validation, explain with reasoning which one will you choose to evaluate the model.\n",
    "\n",
    "* What happens when the number of folds increase to larger values?\n",
    "\n"
   ]
  },
  {
   "cell_type": "markdown",
   "metadata": {},
   "source": [
    "### Part a)"
   ]
  },
  {
   "cell_type": "code",
   "execution_count": 6,
   "metadata": {},
   "outputs": [],
   "source": [
    "from sklearn.model_selection import train_test_split\n",
    "from sklearn.linear_model import LinearRegression\n",
    "from sklearn.metrics import mean_squared_error"
   ]
  },
  {
   "cell_type": "code",
   "execution_count": 7,
   "metadata": {},
   "outputs": [],
   "source": [
    "RMSE = []\n",
    "for i in range(5):\n",
    "    X_train, X_test, y_train, y_test = train_test_split(X, y, test_size = 0.2)\n",
    "    \n",
    "    linReg = LinearRegression().fit(X_train, y_train)\n",
    "    y_pred = linReg.predict(X_test)\n",
    "    rmse = mean_squared_error(y_pred, y_test, squared=False)\n",
    "    RMSE.append(rmse)"
   ]
  },
  {
   "cell_type": "code",
   "execution_count": 8,
   "metadata": {},
   "outputs": [
    {
     "data": {
      "text/plain": [
       "[3.045524816697529,\n",
       " 2.8994463819422696,\n",
       " 2.7531003279825264,\n",
       " 2.8147058772598013,\n",
       " 2.7611715460913424]"
      ]
     },
     "execution_count": 8,
     "metadata": {},
     "output_type": "execute_result"
    }
   ],
   "source": [
    "RMSE"
   ]
  },
  {
   "cell_type": "markdown",
   "metadata": {},
   "source": [
    "### Part b)"
   ]
  },
  {
   "cell_type": "code",
   "execution_count": 5,
   "metadata": {},
   "outputs": [],
   "source": [
    "from sklearn.model_selection import KFold"
   ]
  },
  {
   "cell_type": "code",
   "execution_count": 6,
   "metadata": {},
   "outputs": [],
   "source": [
    "Xnp = X.to_numpy()\n",
    "ynp = y.to_numpy()"
   ]
  },
  {
   "cell_type": "code",
   "execution_count": 7,
   "metadata": {},
   "outputs": [
    {
     "data": {
      "text/plain": [
       "(768,)"
      ]
     },
     "execution_count": 7,
     "metadata": {},
     "output_type": "execute_result"
    }
   ],
   "source": [
    "ynp.shape"
   ]
  },
  {
   "cell_type": "code",
   "execution_count": 8,
   "metadata": {},
   "outputs": [],
   "source": [
    "RMSE5folds = []\n",
    "\n",
    "for i in range(5):  #repeated for 5 different random splits of kfold\n",
    "    \n",
    "    kf = KFold(n_splits=5,random_state=None,shuffle=True) #None means random every time (its also the default)\n",
    "    avgrmse = 0\n",
    "    \n",
    "    for train_idx, test_idx in kf.split(Xnp, ynp):\n",
    "        X_train_fold, X_test_fold = Xnp[train_idx,:], Xnp[test_idx,:]\n",
    "        y_train_fold, y_test_fold = ynp[train_idx], ynp[test_idx]\n",
    "\n",
    "        linReg = LinearRegression().fit(Xnp[train_idx,:], ynp[train_idx])\n",
    "        y_pred = linReg.predict(Xnp[test_idx,:])\n",
    "        rmse = mean_squared_error(y_pred, ynp[test_idx], squared=False)\n",
    "        avgrmse += rmse\n",
    "        \n",
    "    avgrmse /= 5\n",
    "    RMSE5folds.append(avgrmse)\n"
   ]
  },
  {
   "cell_type": "code",
   "execution_count": 9,
   "metadata": {},
   "outputs": [
    {
     "data": {
      "text/plain": [
       "[2.9597886306230565,\n",
       " 2.9435545618833157,\n",
       " 2.9232699942755564,\n",
       " 2.920006412989149,\n",
       " 2.9469685599872775]"
      ]
     },
     "execution_count": 9,
     "metadata": {},
     "output_type": "execute_result"
    }
   ],
   "source": [
    "RMSE5folds"
   ]
  },
  {
   "cell_type": "markdown",
   "metadata": {},
   "source": [
    "### Part c)"
   ]
  },
  {
   "cell_type": "code",
   "execution_count": 10,
   "metadata": {},
   "outputs": [],
   "source": [
    "# exactly the same as part b except n_splits is 100 and 768\n",
    "RMSE100folds = []\n",
    "k = 100\n",
    "for i in range(5):  #repeated for 5 different random splits of kfold\n",
    "    \n",
    "    kf = KFold(n_splits = k, random_state=None, shuffle=True) #None means random every time (its also the default)\n",
    "    avgrmse = 0\n",
    "    \n",
    "    for train_idx, test_idx in kf.split(Xnp, ynp):\n",
    "        X_train_fold, X_test_fold = Xnp[train_idx,:], Xnp[test_idx,:]\n",
    "        y_train_fold, y_test_fold = ynp[train_idx], ynp[test_idx]\n",
    "\n",
    "        linReg = LinearRegression().fit(Xnp[train_idx,:], ynp[train_idx])\n",
    "        y_pred = linReg.predict(Xnp[test_idx,:])\n",
    "        rmse = mean_squared_error(y_pred, ynp[test_idx], squared=False)\n",
    "        avgrmse += rmse\n",
    "        \n",
    "    avgrmse /= k\n",
    "    RMSE100folds.append(avgrmse)\n",
    "    \n",
    "RMSE768folds = []\n",
    "k = 768\n",
    "for i in range(5):  #repeated for 5 different random splits of kfold\n",
    "    \n",
    "    kf = KFold(n_splits = k, random_state=None, shuffle=True) #None means random every time (its also the default)\n",
    "    avgrmse = 0\n",
    "    \n",
    "    for train_idx, test_idx in kf.split(Xnp, ynp):\n",
    "        X_train_fold, X_test_fold = Xnp[train_idx,:], Xnp[test_idx,:]\n",
    "        y_train_fold, y_test_fold = ynp[train_idx], ynp[test_idx]\n",
    "\n",
    "        linReg = LinearRegression().fit(Xnp[train_idx,:], ynp[train_idx])\n",
    "        y_pred = linReg.predict(Xnp[test_idx,:])\n",
    "        rmse = mean_squared_error(y_pred, ynp[test_idx], squared=False)\n",
    "        avgrmse += rmse\n",
    "        \n",
    "    avgrmse /= k\n",
    "    RMSE768folds.append(avgrmse)"
   ]
  },
  {
   "cell_type": "code",
   "execution_count": 11,
   "metadata": {},
   "outputs": [
    {
     "name": "stdout",
     "output_type": "stream",
     "text": [
      "[2.8225075637058166, 2.793022919586528, 2.791878391571851, 2.7946276742450813, 2.748273972899193]\n",
      "[2.120513780365925, 2.120513780365925, 2.1205137803659255, 2.120513780365928, 2.120513780365927]\n"
     ]
    }
   ],
   "source": [
    "print(RMSE100folds)\n",
    "print(RMSE768folds)"
   ]
  },
  {
   "cell_type": "markdown",
   "metadata": {},
   "source": [
    "### Part d)"
   ]
  },
  {
   "cell_type": "code",
   "execution_count": 12,
   "metadata": {},
   "outputs": [],
   "source": [
    "import matplotlib.pyplot as plt"
   ]
  },
  {
   "cell_type": "code",
   "execution_count": 13,
   "metadata": {},
   "outputs": [
    {
     "name": "stdout",
     "output_type": "stream",
     "text": [
      "\n"
     ]
    },
    {
     "data": {
      "image/png": "[encoded data removed]",
      "text/plain": [
       "<Figure size 1440x360 with 4 Axes>"
      ]
     },
     "metadata": {
      "needs_background": "light"
     },
     "output_type": "display_data"
    }
   ],
   "source": [
    "fig, (ax0,ax1,ax2,ax3) = plt.subplots(1, 4, figsize=(20,5))\n",
    "ax0.set_title('RMSE values w/ no folds')\n",
    "ax1.set_title('RMSE values w/ 5 folds')\n",
    "ax2.set_title('RMSE values w/ 100 folds')\n",
    "ax3.set_title('RMSE values w/ 768 folds')\n",
    "ax0.boxplot(RMSE)\n",
    "ax1.boxplot(RMSE5folds)\n",
    "ax2.boxplot(RMSE100folds)\n",
    "ax3.boxplot(RMSE768folds)\n",
    "print()"
   ]
  },
  {
   "cell_type": "markdown",
   "metadata": {},
   "source": [
    "### Part e)"
   ]
  },
  {
   "cell_type": "markdown",
   "metadata": {},
   "source": [
    "What do you observe in the variation for RMSE of hold out validation and k-Fold validation, explain with reasoning which one will you choose to evaluate the model.  \n",
    "What happens when the number of folds increase to larger values?  \n",
    "\n",
    "The variation in RMSE for the hold out validation is the greatest, and k-Fold reduces the variation as k increases. If we replot the box plots with a shared y axis (below), we can see visually how much more variation there is when there are fewer/no folds. For evaluating the model I would use k-Fold validation with 5 folds because 5 folds most likely has the best bias-variance tradeoff. Using 768 folds has low error and no variation in the error, but it's overfitting because for each fold the test set is only one sample, so the model only has to predict one sample each time so of course the error will be lower. If the model was then used to predict many samples, you don't know how well it would perform because you evaluated your model with only testing very few samples. So using 5 folds is the best evaluation because the RMSE is pretty consistent and it's testing using 20% of the data each time so that's enough samples for a fair evaluation of the model's error."
   ]
  },
  {
   "cell_type": "code",
   "execution_count": 14,
   "metadata": {},
   "outputs": [
    {
     "name": "stdout",
     "output_type": "stream",
     "text": [
      "\n"
     ]
    },
    {
     "data": {
      "image/png": "[encoded data removed]",
      "text/plain": [
       "<Figure size 1440x360 with 4 Axes>"
      ]
     },
     "metadata": {
      "needs_background": "light"
     },
     "output_type": "display_data"
    }
   ],
   "source": [
    "fig, (ax0,ax1,ax2,ax3) = plt.subplots(1, 4, figsize=(20,5), sharey='row')\n",
    "ax0.set_title('RMSE values w/ no folds')\n",
    "ax1.set_title('RMSE values w/ 5 folds')\n",
    "ax2.set_title('RMSE values w/ 100 folds')\n",
    "ax3.set_title('RMSE values w/ 768 folds')\n",
    "ax0.boxplot(RMSE)\n",
    "ax1.boxplot(RMSE5folds)\n",
    "ax2.boxplot(RMSE100folds)\n",
    "ax3.boxplot(RMSE768folds)\n",
    "print()"
   ]
  },
  {
   "cell_type": "code",
   "execution_count": null,
   "metadata": {},
   "outputs": [],
   "source": []
  },
  {
   "cell_type": "markdown",
   "metadata": {
    "id": "rrn3rt3wzMv7"
   },
   "source": [
    "# Question 2 - Bias Variance TradeOff (10 pts)\n",
    "\n",
    "a) [**5pts**] What is the difference between the notion of model bias (for example, a model that predicts age as a function of some other features) and the bias of a point estimator (for example, the mean age of students estimated from a sample of age values)?\n",
    "\n",
    "b) [**5pts**] a) Assume you have a model trained to solve a problem. How do you expect (i) the bias and (ii) the variance to change if you used a larger training dataset, but no other process changed?\n",
    "\n",
    "\n"
   ]
  },
  {
   "cell_type": "code",
   "execution_count": null,
   "metadata": {
    "id": "VaPpQFaiB39a"
   },
   "outputs": [],
   "source": []
  },
  {
   "cell_type": "markdown",
   "metadata": {
    "id": "xT0qzWQHB4RT"
   },
   "source": [
    "# Question 3: Ridge and Lasso Regression (15 points)\n",
    "\n",
    "In this question you will explore the application of Lasso and Ridge regression using sklearn package in Python. Use the following code to load the train and test data."
   ]
  },
  {
   "cell_type": "code",
   "execution_count": 15,
   "metadata": {
    "id": "twwroG3-P4fi"
   },
   "outputs": [],
   "source": [
    "import pandas as pd\n",
    "import numpy as np\n",
    "import matplotlib.pyplot as plt\n",
    "from tqdm import tqdm\n",
    "import seaborn as sns\n",
    "from sklearn.preprocessing import LabelEncoder\n",
    "from sklearn.model_selection import train_test_split\n",
    "from sklearn.linear_model import LinearRegression\n",
    "import warnings\n",
    "from sklearn.preprocessing import StandardScaler\n",
    "warnings.filterwarnings('ignore')\n",
    "\n",
    "df = pd.read_csv(\"data_qn3.csv\", index_col=0)\n",
    "df = df.loc[df['Year']==2014, :]\n",
    "df = df.drop('Year', axis=1)\n",
    "df = pd.get_dummies(df, columns=['Status'])\n",
    "df = df.dropna()\n",
    "\n",
    "# Creating training and testing dataset\n",
    "y = df.iloc[:, 0]\n",
    "X = df.iloc[:, 1:]\n",
    "\n",
    "X_train, X_test, y_train, y_test = train_test_split(X, y, test_size=0.20, random_state = 42)\n"
   ]
  },
  {
   "cell_type": "markdown",
   "metadata": {
    "id": "hHdoWCdqQDHz"
   },
   "source": [
    "## Question 3.1 (3 points) \n",
    "Run Linear regression on the train dataset and print the $R^2$ value using the test dataset.\n",
    "\n",
    "## Question 3.2 (6 points) \n",
    "Run linear regression using Lasso and determine the value of $\\alpha$ that results in best test set performance. Consider `alphas=10**np.linspace(1,-2,100)*0.5`. Display the best value of $\\alpha$ as well as the corresponsing $R^2$ score on test set. Use the following parameters in Lasso model. Finally, store the best model separately. Also, use the co-efficients obtained and select the [columns with non-zero weights](https://stackoverflow.com/questions/62323713/selecting-columns-of-dataframe-where-lasso-coefficient-is-nonzero) and use them to create `X_train_lasso` and `X_test_lasso`. Show how many non-zero columns are present. Plot the coefficients of the lasso model for different alpha values, you can use log scale to plot the alphas in the x_axis.\n",
    "\n",
    "    copy_X=True\n",
    "    normalize=True # Normalizes data using StandardScaler()\n",
    "    random_state=42\n",
    "\n",
    "## Question 3.3 (6 points) \n",
    "Run linear regression using Ridge and determine the value of $\\alpha$ that results in best test set performance. Consider `alphas=10**np.linspace(1,-2,100)*0.5`. Display the best value of $\\alpha$ as well as the corresponsing $R^2$ score on test set. Use the following parameters in Ridge model.Plot the coefficients of the ridge model for different alpha values, you can use log scale to plot the alphas in the x_axis.\n",
    "\n",
    "    copy_X=True\n",
    "    normalize=True # Normalizes data using StandardScaler()\n",
    "    random_state=42\n",
    "\n"
   ]
  },
  {
   "cell_type": "markdown",
   "metadata": {
    "id": "xzD571z_3hSz"
   },
   "source": [
    "### 3.1)"
   ]
  },
  {
   "cell_type": "code",
   "execution_count": 16,
   "metadata": {},
   "outputs": [
    {
     "name": "stdout",
     "output_type": "stream",
     "text": [
      "0.8355055233743603\n"
     ]
    }
   ],
   "source": [
    "linReg = LinearRegression().fit(X_train,y_train)\n",
    "Rsq = linReg.score(X_test,y_test)\n",
    "print(Rsq)"
   ]
  },
  {
   "cell_type": "markdown",
   "metadata": {},
   "source": [
    "### 3.2)"
   ]
  },
  {
   "cell_type": "code",
   "execution_count": 17,
   "metadata": {},
   "outputs": [],
   "source": [
    "from sklearn.linear_model import Ridge, Lasso"
   ]
  },
  {
   "cell_type": "code",
   "execution_count": 18,
   "metadata": {},
   "outputs": [],
   "source": [
    "alphas=10**np.linspace(1,-2,100)*0.5\n",
    "\n",
    "scores = [Lasso(alpha = a, copy_X=True, normalize=True, random_state=42).fit(X_train,y_train).score(X_test,y_test)\n",
    "          for a in alphas]"
   ]
  },
  {
   "cell_type": "code",
   "execution_count": 19,
   "metadata": {},
   "outputs": [
    {
     "name": "stdout",
     "output_type": "stream",
     "text": [
      "Best alpha value: 0.01424017934217901\n",
      "Corresponding best R^2 value: 0.8524831845218706\n"
     ]
    }
   ],
   "source": [
    "print(\"Best alpha value:\", alphas[np.argmax(scores)])\n",
    "print(\"Corresponding best R^2 value:\", np.max(scores))"
   ]
  },
  {
   "cell_type": "code",
   "execution_count": 20,
   "metadata": {},
   "outputs": [],
   "source": [
    "#storing best model\n",
    "model_lasso = Lasso(alpha = alphas[np.argmax(scores)], copy_X=True, normalize=True, random_state=42).fit(X_train,y_train)"
   ]
  },
  {
   "cell_type": "code",
   "execution_count": 21,
   "metadata": {},
   "outputs": [
    {
     "name": "stdout",
     "output_type": "stream",
     "text": [
      "Number of nonzero columns: 11\n"
     ]
    }
   ],
   "source": [
    "X_train_lasso = X_train.iloc[:,model_lasso.coef_!=0]\n",
    "X_test_lasso = X_test.iloc[:,model_lasso.coef_!=0]\n",
    "\n",
    "print(\"Number of nonzero columns:\" ,sum(model_lasso.coef_!=0))"
   ]
  },
  {
   "cell_type": "code",
   "execution_count": 22,
   "metadata": {},
   "outputs": [],
   "source": [
    "coefMatrix = np.array([])\n",
    "for a in alphas:\n",
    "    lassomodel = Lasso(alpha = a, copy_X=True, normalize=True, random_state=42).fit(X_train,y_train)\n",
    "    coefs = lassomodel.coef_\n",
    "    coefMatrix = np.append(coefMatrix, coefs)\n",
    "    "
   ]
  },
  {
   "cell_type": "code",
   "execution_count": 23,
   "metadata": {},
   "outputs": [],
   "source": [
    "coefMatrix = coefMatrix.reshape(100,20)"
   ]
  },
  {
   "cell_type": "code",
   "execution_count": 24,
   "metadata": {},
   "outputs": [
    {
     "ename": "NameError",
     "evalue": "name 'ax4' is not defined",
     "output_type": "error",
     "traceback": [
      "\u001b[1;31m---------------------------------------------------------------------------\u001b[0m",
      "\u001b[1;31mNameError\u001b[0m                                 Traceback (most recent call last)",
      "\u001b[1;32m<ipython-input-24-a99f4b0ee045>\u001b[0m in \u001b[0;36m<module>\u001b[1;34m\u001b[0m\n\u001b[1;32m----> 1\u001b[1;33m \u001b[0maxes\u001b[0m \u001b[1;33m=\u001b[0m \u001b[1;33m[\u001b[0m\u001b[1;33m[\u001b[0m\u001b[0max1\u001b[0m\u001b[1;33m,\u001b[0m\u001b[0max2\u001b[0m\u001b[1;33m,\u001b[0m\u001b[0max3\u001b[0m\u001b[1;33m,\u001b[0m\u001b[0max4\u001b[0m\u001b[1;33m,\u001b[0m\u001b[0max5\u001b[0m\u001b[1;33m]\u001b[0m\u001b[1;33m,\u001b[0m\u001b[1;33m[\u001b[0m\u001b[0max6\u001b[0m\u001b[1;33m,\u001b[0m\u001b[0max7\u001b[0m\u001b[1;33m,\u001b[0m\u001b[0max8\u001b[0m\u001b[1;33m,\u001b[0m\u001b[0max9\u001b[0m\u001b[1;33m,\u001b[0m\u001b[0max10\u001b[0m\u001b[1;33m]\u001b[0m\u001b[1;33m,\u001b[0m\u001b[1;33m[\u001b[0m\u001b[0max11\u001b[0m\u001b[1;33m,\u001b[0m\u001b[0max12\u001b[0m\u001b[1;33m,\u001b[0m\u001b[0max13\u001b[0m\u001b[1;33m,\u001b[0m\u001b[0max14\u001b[0m\u001b[1;33m,\u001b[0m\u001b[0max15\u001b[0m\u001b[1;33m]\u001b[0m\u001b[1;33m,\u001b[0m\u001b[1;33m[\u001b[0m\u001b[0max16\u001b[0m\u001b[1;33m,\u001b[0m\u001b[0max17\u001b[0m\u001b[1;33m,\u001b[0m\u001b[0max18\u001b[0m\u001b[1;33m,\u001b[0m\u001b[0max19\u001b[0m\u001b[1;33m,\u001b[0m\u001b[0max20\u001b[0m\u001b[1;33m]\u001b[0m\u001b[1;33m]\u001b[0m\u001b[1;33m\u001b[0m\u001b[1;33m\u001b[0m\u001b[0m\n\u001b[0m\u001b[0;32m      2\u001b[0m \u001b[0mfig1\u001b[0m\u001b[1;33m,\u001b[0m \u001b[0maxes\u001b[0m \u001b[1;33m=\u001b[0m \u001b[0mplt\u001b[0m\u001b[1;33m.\u001b[0m\u001b[0msubplots\u001b[0m\u001b[1;33m(\u001b[0m\u001b[1;36m4\u001b[0m\u001b[1;33m,\u001b[0m\u001b[1;36m5\u001b[0m\u001b[1;33m,\u001b[0m \u001b[0mfigsize\u001b[0m\u001b[1;33m=\u001b[0m\u001b[1;33m(\u001b[0m\u001b[1;36m20\u001b[0m\u001b[1;33m,\u001b[0m\u001b[1;36m15\u001b[0m\u001b[1;33m)\u001b[0m\u001b[1;33m)\u001b[0m\u001b[1;33m\u001b[0m\u001b[1;33m\u001b[0m\u001b[0m\n\u001b[0;32m      3\u001b[0m \u001b[1;33m\u001b[0m\u001b[0m\n\u001b[0;32m      4\u001b[0m \u001b[0mcoefidx\u001b[0m \u001b[1;33m=\u001b[0m \u001b[1;36m0\u001b[0m\u001b[1;33m\u001b[0m\u001b[1;33m\u001b[0m\u001b[0m\n\u001b[0;32m      5\u001b[0m \u001b[1;32mfor\u001b[0m \u001b[0mv\u001b[0m \u001b[1;32min\u001b[0m \u001b[0mrange\u001b[0m\u001b[1;33m(\u001b[0m\u001b[1;36m4\u001b[0m\u001b[1;33m)\u001b[0m\u001b[1;33m:\u001b[0m\u001b[1;33m\u001b[0m\u001b[1;33m\u001b[0m\u001b[0m\n",
      "\u001b[1;31mNameError\u001b[0m: name 'ax4' is not defined"
     ]
    }
   ],
   "source": [
    "axes = [[ax1,ax2,ax3,ax4,ax5],[ax6,ax7,ax8,ax9,ax10],[ax11,ax12,ax13,ax14,ax15],[ax16,ax17,ax18,ax19,ax20]]\n",
    "fig1, axes = plt.subplots(4,5, figsize=(20,15))\n",
    "\n",
    "coefidx = 0\n",
    "for v in range(4):\n",
    "    for h in range(5):\n",
    "        axes[v,h].set_xscale('log')\n",
    "        axes[v,h].set_title('Coefficient ' + str(coefidx) + ' vs. alpha')\n",
    "        axes[v,h].plot(alphas,coefMatrix[:,coefidx])\n",
    "        coefidx += 1\n"
   ]
  },
  {
   "cell_type": "markdown",
   "metadata": {},
   "source": [
    "### 3.3)"
   ]
  },
  {
   "cell_type": "code",
   "execution_count": null,
   "metadata": {},
   "outputs": [],
   "source": [
    "alphas=10**np.linspace(1,-2,100)*0.5\n",
    "\n",
    "scores = [Ridge(alpha = a, copy_X=True, normalize=True, random_state=42).fit(X_train,y_train).score(X_test,y_test)\n",
    "          for a in alphas]"
   ]
  },
  {
   "cell_type": "code",
   "execution_count": null,
   "metadata": {},
   "outputs": [],
   "source": [
    "print(\"Best alpha value:\", alphas[np.argmax(scores)])\n",
    "print(\"Corresponding best R^2 value:\", np.max(scores))"
   ]
  },
  {
   "cell_type": "code",
   "execution_count": null,
   "metadata": {},
   "outputs": [],
   "source": [
    "coefMatrix = np.array([])\n",
    "for a in alphas:\n",
    "    ridgemodel = Ridge(alpha = a, copy_X=True, normalize=True, random_state=42).fit(X_train,y_train)\n",
    "    coefs = ridgemodel.coef_\n",
    "    coefMatrix = np.append(coefMatrix, coefs)\n",
    "    "
   ]
  },
  {
   "cell_type": "code",
   "execution_count": null,
   "metadata": {},
   "outputs": [],
   "source": [
    "coefMatrix = coefMatrix.reshape(100,20)"
   ]
  },
  {
   "cell_type": "code",
   "execution_count": null,
   "metadata": {},
   "outputs": [],
   "source": [
    "axes = [[ax1,ax2,ax3,ax4,ax5],[ax6,ax7,ax8,ax9,ax10],[ax11,ax12,ax13,ax14,ax15],[ax16,ax17,ax18,ax19,ax20]]\n",
    "fig1, axes = plt.subplots(4,5, figsize=(20,15))\n",
    "\n",
    "coefidx = 0\n",
    "for v in range(4):\n",
    "    for h in range(5):\n",
    "        axes[v,h].set_xscale('log')\n",
    "        axes[v,h].set_title('Coefficient ' + str(coefidx) + ' vs. alpha')\n",
    "        axes[v,h].plot(alphas,coefMatrix[:,coefidx])\n",
    "        coefidx += 1\n"
   ]
  },
  {
   "cell_type": "code",
   "execution_count": null,
   "metadata": {},
   "outputs": [],
   "source": []
  },
  {
   "cell_type": "markdown",
   "metadata": {
    "id": "DzPjp2hd9qkH"
   },
   "source": [
    "# Question 4: Polynomial Feature Transformation (20 points) \n",
    "Often, you will find that transforming features into higher degrees will yield better models. In this question, we will see how to do non-linear regression using a linear model by using polynomial feature transformation. You will need to build only one plot for this entire question. So, plot everything on the same plot. Let us now consider the following dataset:\n",
    "\n"
   ]
  },
  {
   "cell_type": "code",
   "execution_count": null,
   "metadata": {
    "id": "A_jfDHNpL-0i"
   },
   "outputs": [],
   "source": [
    "import numpy as np\n",
    "import matplotlib.pyplot as plt\n",
    "\n",
    "from sklearn.linear_model import Ridge\n",
    "from sklearn.preprocessing import PolynomialFeatures\n",
    "from sklearn.pipeline import make_pipeline\n",
    "\n",
    "np.random.seed(2)\n",
    "\n",
    "def h(x):\n",
    "    \"\"\" function to approximate by polynomial interpolation\"\"\"\n",
    "    return np.sin(x) + np.log(x) \n",
    "\n",
    "\n",
    "# generate points used to plot\n",
    "x_plot = np.linspace(2, 12, 100)\n",
    "\n",
    "# generate points and keep a subset of them\n",
    "x = np.linspace(2, 12, 100)\n",
    "\n",
    "rng = np.random.RandomState(20)\n",
    "rng.shuffle(x)\n",
    "\n",
    "x_train = np.sort(x[:50])\n",
    "x_test = np.sort(x[50:80])\n",
    "\n",
    "\n",
    "\n",
    "# create matrix versions of these arrays\n",
    "x_train = x_train[:, np.newaxis]\n",
    "x_test = x_test[:,np.newaxis]\n",
    "x_plot = x_plot[:, np.newaxis]\n",
    "\n",
    "y_train = h(x_train) + np.random.normal(0, 0.5, size=x_train.shape) \n",
    "y_test = h(x_test)+ np.random.normal(0, 0.5, size=x_test.shape) \n",
    "\n"
   ]
  },
  {
   "cell_type": "markdown",
   "metadata": {
    "id": "YoQFk35CL-Bl"
   },
   "source": [
    "1. Build a scatter plot with `s=30` and `marker='o'` using x_train and y_train. Also, build a line plot using `x_plot` and `h(x_plot)` to show the trend. (5 pts)\n",
    "2. Transform `x_train` and `x_test` using [PolynomialFeatures](https://scikit-learn.org/stable/modules/generated/sklearn.preprocessing.PolynomialFeatures.html) with degrees 1,3,5,7,9,11 and save these transformed datasets. For example, if an input sample is two dimensional and of the form [$a$, $b$], the degree-2 polynomial features are [$1$, $a$, $b$, $a^2$, $ab$, $b^2$]. (5 pts)\n",
    "3. Use ridge regression with default parameters on each of these train datasets. Now, calculate the predicted target values for the fitted model using `.predict(X_plot)` and show line plots using `x_plot` and the predicted target values. Also, calculate the training MSE and test MSE for each of them using the model. (5 pts)\n",
    "4. Report your observations from the plot w.r.t how the evaluation metrics change on increasing the `degree` parameter. What do you think will happen if we keep on increasing the value of `degree`? (5 pts)"
   ]
  },
  {
   "cell_type": "code",
   "execution_count": null,
   "metadata": {
    "id": "UMJ_ZadzRGkG"
   },
   "outputs": [],
   "source": []
  }
 ],
 "metadata": {
  "colab": {
   "collapsed_sections": [],
   "name": "HW2Qns.ipynb",
   "provenance": []
  },
  "kernelspec": {
   "display_name": "Python 3",
   "language": "python",
   "name": "python3"
  },
  "language_info": {
   "codemirror_mode": {
    "name": "ipython",
    "version": 3
   },
   "file_extension": ".py",
   "mimetype": "text/x-python",
   "name": "python",
   "nbconvert_exporter": "python",
   "pygments_lexer": "ipython3",
   "version": "3.8.3"
  }
 },
 "nbformat": 4,
 "nbformat_minor": 1
}
