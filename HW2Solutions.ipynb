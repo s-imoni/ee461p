{
 "cells": [
  {
   "cell_type": "markdown",
   "metadata": {
    "id": "SdVGS8oSjBkc"
   },
   "source": [
    "## EE 461P: Data Science Principles  \n",
    "### Assignment 2 \n",
    "### Total points: 60\n",
    "### Due: Thursday, Feb 25, 2021, submitted via Canvas by 11:59 pm  \n",
    "\n",
    "Your homework should be written in a **Jupyter notebook**. You may work in groups of two if you wish. Only one student per team needs to submit the assignment on Canvas.  But be sure to include name and UT eID for both students.  Homework groups will be created and managed through Canvas, so please do not arbitrarily change your homework group. If you do change, let the TAs know.\n",
    "\n",
    "Also, please make sure your code runs and the graphics (and anything else) are displayed in your notebook before submitting. (%matplotlib inline)\n",
    "\n",
    "### Name(s) and EID(s):\n",
    "1. \n",
    "2. \n",
    "\n",
    "### Homework group No.: "
   ]
  },
  {
   "cell_type": "markdown",
   "metadata": {
    "id": "eFAfdc7iTrO7"
   },
   "source": [
    "# Question 1 - Cross Validation (15 pts)\n",
    "\n",
    "Use the given code below to load the dataset from \"data.csv\". The dataset contains eight attributes (or features, denoted by X1...X8) and two responses (or outcomes, denoted by y1 and y2). This dataset was created for energy analysis using 12 different building shapes.The buildings differ with respect to the glazing area, the glazing area distribution, and the orientation, amongst other parameters. By simulating various settings as functions of the afore-mentioned characteristics in total there are 768 building shapes. For more information on the dataset refer this [link](https://archive.ics.uci.edu/ml/datasets/Energy+efficiency). The aim is to use the eight features to predict one of the two responses.In this question, we will predict only the y1 response. \n",
    "\n",
    "Specifically:\n",
    "* X1 - Relative Compactness\n",
    "* X2 - Surface Area\n",
    "* X3 - Wall Area\n",
    "* X4 - Roof Area\n",
    "* X5 - Overall Height\n",
    "* X6 - Orientation\n",
    "* X7 - Glazing Area\n",
    "* X8 - Glazing Area Distribution\n",
    "* y1 - Heating Load\n",
    "* y2 - Cooling Load\n",
    "\n",
    "\n",
    "\n",
    "\n"
   ]
  },
  {
   "cell_type": "code",
   "execution_count": 21,
   "metadata": {
    "id": "PfGn68OdWQC_"
   },
   "outputs": [],
   "source": [
    "import pandas as pd\n",
    "import numpy as np \n",
    "import sklearn\n",
    "\n",
    "data = pd.read_csv(\"data_qn1.csv\",delimiter=\",\")\n",
    "y = data[\"Y1\"]\n",
    "X = data.drop(columns=[\"Y1\",\"Y2\"])"
   ]
  },
  {
   "cell_type": "code",
   "execution_count": 22,
   "metadata": {
    "colab": {
     "base_uri": "https://localhost:8080/"
    },
    "id": "mNFTCT04KHM3",
    "outputId": "21019e29-d21c-49bf-ee3e-8ed7c35d9f10"
   },
   "outputs": [
    {
     "data": {
      "text/plain": [
       "(768, 8)"
      ]
     },
     "execution_count": 22,
     "metadata": {},
     "output_type": "execute_result"
    }
   ],
   "source": [
    "X.shape"
   ]
  },
  {
   "cell_type": "markdown",
   "metadata": {
    "id": "RE_2coqAWQZZ"
   },
   "source": [
    "\n",
    "We will be analyzing the following scenarios for the given dataset.\n",
    "\n",
    "* Compare hold-out(80:20) train-test split cross validation and K-Fold Cross Validation \n",
    "* What happens when the number of folds increase for K-Fold Cross Validation? \n",
    "* Variance in the prediction for each case - Hold Out Validation and K-Fold Validation?\n"
   ]
  },
  {
   "cell_type": "markdown",
   "metadata": {
    "id": "te7QQxe4XEkh"
   },
   "source": [
    "\n",
    "a) [**3 pts**] Split the original dataset(X,y) into 80:20 [train_test_split](https://scikit-learn.org/stable/modules/generated/sklearn.model_selection.train_test_split.html) split, use linear regression to fit the model on the training data and evaluate the model using the test data. Report the root mean squared error (RMSE) on the test data for five different runs, make sure to store the RMSE values, we will use these values later to plot in part (d).\n",
    "\n",
    "b) [**3 pts**] Now, we will use [K-Fold](https://scikit-learn.org/stable/modules/generated/sklearn.model_selection.KFold.html) validation from sklearn to split the original data(X,y) into 5 folds. For each fold use linear regression to fit the model on training data and evaluate the model on the test data. Compute the average RMSE of the 5 folds, repeat the same for five different random splits of K-Fold. You can refer to the following line of code to perform the split. Make sure to vary the random_state value for five different runs. Record the RMSE values we will use them later in part (d).\n",
    "\n",
    "```\n",
    "kf = KFold(n_splits=5,random_state=random_state,shuffle=True)\n",
    "```\n",
    "\n",
    "c) [**3 pts**] Repeat the same experiment as in part (b) by varying the number of folds as k = 1,5,100,768 and record the RMSE for each value of k.\n",
    "\n",
    "d) [**3 pts**] Now, we will plot the box plot of the RMSE values obtained from part a), b) and c) together in a single figure. To reiterate, each part will have five values of RMSE. You can refer [here](https://matplotlib.org/stable/gallery/pyplots/boxplot_demo_pyplot.html#sphx-glr-gallery-pyplots-boxplot-demo-pyplot-py) on how to plot the boxplots. Boxplots are used to understand the variance in the values of the RMSE. For more information on box plots refer this [link](https://en.wikipedia.org/wiki/Box_plot).\n",
    "\n"
   ]
  },
  {
   "cell_type": "code",
   "execution_count": 25,
   "metadata": {
    "id": "TviHrhmdCZBI"
   },
   "outputs": [],
   "source": [
    "from sklearn.model_selection import train_test_split\n",
    "from sklearn.linear_model import LinearRegression\n",
    "from sklearn.metrics import mean_squared_error\n",
    "from sklearn.metrics import accuracy_score"
   ]
  },
  {
   "cell_type": "code",
   "execution_count": 37,
   "metadata": {
    "id": "EfvKGO90CY-8"
   },
   "outputs": [
    {
     "name": "stdout",
     "output_type": "stream",
     "text": [
      "[3.375313970073886, 2.891315776305199, 3.184415980595557, 3.0052446782133586, 2.9055042726374674]\n"
     ]
    }
   ],
   "source": [
    "mse_1 = []\n",
    "lr1 = LinearRegression()\n",
    "\n",
    "for i in range(5):\n",
    "  X_train, X_test, y_train, y_test = train_test_split(X, y, test_size=0.20)\n",
    "  \n",
    "  lr1.fit(X_train,y_train)\n",
    "  pred1 = lr1.predict(X_test)\n",
    "\n",
    "  mse_1.append(mean_squared_error(y_true=y_test,y_pred=pred1)**0.5)\n",
    "print(mse_1)"
   ]
  },
  {
   "cell_type": "code",
   "execution_count": null,
   "metadata": {
    "id": "06b67ZK_CYyo"
   },
   "outputs": [],
   "source": [
    "from sklearn.model_selection import KFold\n",
    "lr1 = LinearRegression()\n",
    "mse = {}\n",
    "k_values = [5,100,768]\n",
    "\n",
    "for k in k_values:\n",
    "  mse_k = []\n",
    "  for i in range(5):\n",
    "    err = []\n",
    "    kf = KFold(n_splits=k,random_state=i,shuffle=True)\n",
    "    for train_index, test_index in kf.split(X):\n",
    "        #print(\"TRAIN:\", train_index, \"TEST:\", test_index)\n",
    "        X_train, X_test = X.iloc[train_index], X.iloc[test_index]\n",
    "        y_train, y_test = y[train_index], y[test_index]\n",
    "        #print(X_train.shape,X_test.shape)\n",
    "\n",
    "        lr1.fit(X_train,y_train)\n",
    "        pred1 = lr1.predict(X_test)\n",
    "        error = (mean_squared_error(y_true=y_test,y_pred=pred1))**0.5\n",
    "        err.append(error)\n",
    "    res = sum(err)/len(err)\n",
    "    mse_k.append(res)\n",
    "  mse[k] = mse_k\n",
    "\n"
   ]
  },
  {
   "cell_type": "code",
   "execution_count": null,
   "metadata": {
    "colab": {
     "base_uri": "https://localhost:8080/",
     "height": 336
    },
    "id": "9SsaA17MCYre",
    "outputId": "bf1c001b-a4a4-43f0-fdd5-cb4a1f1869ae"
   },
   "outputs": [],
   "source": [
    "import matplotlib.pyplot as plt\n",
    "fig = plt.figure()\n",
    "ax = fig.add_axes([0, 0, 1, 1]) \n",
    "data = [mse_1,mse[5],mse[100],mse[768]]\n",
    "ax.boxplot(data,labels=(\"Hold-Out-Validation\",\"5-Fold\",\"100-Fold\",\"768-Fold\"))\n",
    "ax.set_ylabel(\"RMSE\")\n",
    "plt.show()\n"
   ]
  },
  {
   "cell_type": "markdown",
   "metadata": {
    "id": "xsIYzZS7xx3A"
   },
   "source": [
    "e) [**3 pts**] Using the boxplot answer the following questions,\n",
    "\n",
    "1) What do you observe in the variation for RMSE of hold out validation and k-Fold validation, explain with reasoning which one will you choose to evaluate the model.\n",
    "\n",
    "2) What happens when the number of folds increase to larger values?\n"
   ]
  },
  {
   "cell_type": "markdown",
   "metadata": {
    "id": "G5svIABHrZ6j"
   },
   "source": [
    "We can see that the variation in RMSE decreases as number of folds increases, this is because as the folds increase the model evaluation is performed on multiple evaluation sets, which captures a resonable variability in the estimate of RMSE. As K increases, the time to evaluate increases, so it is better to choose a nominal value of folds based on size of the dataset. For holdout validation , we can see that the 80-20 split is randomized and multiple random sets indicates outlier values as well."
   ]
  },
  {
   "cell_type": "code",
   "execution_count": null,
   "metadata": {
    "id": "2NlllrWv2JMJ"
   },
   "outputs": [],
   "source": []
  },
  {
   "cell_type": "markdown",
   "metadata": {
    "id": "rrn3rt3wzMv7"
   },
   "source": [
    "# Question 2 - Bias Variance TradeOff (10 pts)\n",
    "\n",
    "a) [**5pts**] What is the difference between the notion of model bias (for example, a model that predicts age as a function of some other features) and the bias of a point estimator (for example, the mean age of students estimated from a sample of age values)?\n",
    "\n",
    "b) [**5pts**] a) Assume you have a model trained to solve a problem. How do you expect (i) the bias and (ii) the variance to change if you used a larger training dataset, but no other process changed?"
   ]
  },
  {
   "cell_type": "markdown",
   "metadata": {
    "id": "pezexscyvK0h"
   },
   "source": [
    "# Answer 2\n",
    "\n",
    "a) Model bias is the extent to which the model matches the training set. If a model has high bias, it will not fit with the dataset well. The bias of a point estimator is the difference between the expected value of the estimator and the actual value for a given sample.\n",
    "\n",
    "b) The bias would stay the same since the average predic, but the variance would decrease due to less overfitting. To change the bias, you would need a different model."
   ]
  },
  {
   "cell_type": "code",
   "execution_count": null,
   "metadata": {
    "id": "VaPpQFaiB39a"
   },
   "outputs": [],
   "source": []
  },
  {
   "cell_type": "markdown",
   "metadata": {
    "id": "xT0qzWQHB4RT"
   },
   "source": [
    "# Question 3: Ridge and Lasso Regression (15 points)\n",
    "\n",
    "In this question you will explore the application of Lasso and Ridge regression using sklearn package in Python. Use the following code to load the train and test data."
   ]
  },
  {
   "cell_type": "code",
   "execution_count": 7,
   "metadata": {
    "colab": {
     "base_uri": "https://localhost:8080/"
    },
    "id": "twwroG3-P4fi",
    "outputId": "bdbdc98e-b1eb-41df-fd5e-6270bd25d9cf"
   },
   "outputs": [
    {
     "name": "stdout",
     "output_type": "stream",
     "text": [
      "(2938, 21)\n",
      "(131, 21)\n"
     ]
    }
   ],
   "source": [
    "import pandas as pd\n",
    "import numpy as np\n",
    "import matplotlib.pyplot as plt\n",
    "from tqdm import tqdm\n",
    "import seaborn as sns\n",
    "from sklearn.preprocessing import LabelEncoder\n",
    "from sklearn.model_selection import train_test_split\n",
    "from sklearn.linear_model import LinearRegression\n",
    "import warnings\n",
    "from sklearn.preprocessing import StandardScaler\n",
    "warnings.filterwarnings('ignore')\n",
    "\n",
    "df = pd.read_csv(\"data_qn3.csv\", index_col=0)\n",
    "print(df.shape)\n",
    "df = df.loc[df['Year']==2014, :]\n",
    "df = df.drop('Year', axis=1)\n",
    "df = pd.get_dummies(df, columns=['Status'])\n",
    "df = df.dropna()\n",
    "print(df.shape)\n",
    "\n",
    "# Creating training and testing dataset\n",
    "y = df.iloc[:, 0]\n",
    "X = df.iloc[:, 1:]\n",
    "scaler = StandardScaler()\n",
    "\n",
    "X_train, X_test, y_train, y_test = train_test_split(X, y, test_size=0.20, random_state = 42)\n"
   ]
  },
  {
   "cell_type": "markdown",
   "metadata": {
    "id": "hHdoWCdqQDHz"
   },
   "source": [
    "## Question 3.1 (3 points) \n",
    "Run Linear regression on the train dataset and print the $R^2$ value using the test dataset.\n",
    "\n",
    "## Question 3.2 (6 points) \n",
    "Run linear regression using Lasso and determine the value of $\\alpha$ that results in best test set performance. Consider `alphas=10**np.linspace(1,-2,100)*0.5`. Display the best value of $\\alpha$ as well as the corresponsing $R^2$ score on test set. Use the following parameters in Lasso model. Finally, store the best model separately. Also, use the co-efficients obtained and select the [columns with non-zero weights](https://stackoverflow.com/questions/62323713/selecting-columns-of-dataframe-where-lasso-coefficient-is-nonzero) and use them to create `X_train_lasso` and `X_test_lasso`. Show how many non-zero columns are present. Plot the coefficients of the lasso model for different alpha values, you can use log scale to plot the alphas in the x_axis.\n",
    "\n",
    "    copy_X=True\n",
    "    normalize=True # Normalizes data using StandardScaler()\n",
    "    random_state=42\n",
    "\n",
    "## Question 3.3 (6 points) \n",
    "Run linear regression using Ridge and determine the value of $\\alpha$ that results in best test set performance. Consider `alphas=10**np.linspace(1,-2,100)*0.5`. Display the best value of $\\alpha$ as well as the corresponsing $R^2$ score on test set. Use the following parameters in Ridge model.Plot the coefficients of the ridge model for different alpha values, you can use log scale to plot the alphas in the x_axis.\n",
    "\n",
    "    copy_X=True\n",
    "    normalize=True # Normalizes data using StandardScaler()\n",
    "    random_state=42\n",
    "\n"
   ]
  },
  {
   "cell_type": "markdown",
   "metadata": {
    "id": "PHhlvCpkrBvv"
   },
   "source": [
    "Linear regression"
   ]
  },
  {
   "cell_type": "code",
   "execution_count": 8,
   "metadata": {
    "colab": {
     "base_uri": "https://localhost:8080/"
    },
    "id": "XyOAM_OPQiRS",
    "outputId": "c6664a78-172c-46c1-d78e-93e8a2f531eb"
   },
   "outputs": [
    {
     "name": "stdout",
     "output_type": "stream",
     "text": [
      "0.836\n"
     ]
    }
   ],
   "source": [
    "lr = LinearRegression().fit(X_train,y_train)\n",
    "y_train_pred = lr.predict(X_train)\n",
    "y_test_pred = lr.predict(X_test)\n",
    "\n",
    "score = lr.score(X_test,y_test)\n",
    "print(f'{score:0.3f}')\n",
    "\n"
   ]
  },
  {
   "cell_type": "markdown",
   "metadata": {
    "id": "m35kkGdvrBI-"
   },
   "source": [
    "Lasso"
   ]
  },
  {
   "cell_type": "code",
   "execution_count": 9,
   "metadata": {
    "colab": {
     "base_uri": "https://localhost:8080/"
    },
    "id": "fGVNqBjvStzM",
    "outputId": "270c5c42-5e7c-4cb4-a6d7-3f8949b6e753"
   },
   "outputs": [
    {
     "name": "stdout",
     "output_type": "stream",
     "text": [
      "0.852 0.014\n",
      "(104, 20) (27, 11)\n"
     ]
    }
   ],
   "source": [
    "from sklearn import linear_model\n",
    "\n",
    "alphas=10**np.linspace(1,-2,100)*0.5\n",
    "best_score = 0\n",
    "best_alpha_lasso = 0\n",
    "best_clf = None \n",
    "\n",
    "for alpha in alphas: \n",
    "    clf = linear_model.Lasso(alpha=alpha, copy_X=True, normalize=True, random_state=42)\n",
    "    clf.fit(X_train, y_train)\n",
    "    score = clf.score(X_test, y_test)\n",
    "    if score > best_score:\n",
    "        best_score = score \n",
    "        best_alpha_lasso = alpha \n",
    "        best_clf = clf\n",
    "print(f'{best_score:0.3f}', f'{best_alpha_lasso:0.3f}')\n",
    "\n",
    "X_train_lasso = X_train.iloc[:, best_clf.coef_!=0]\n",
    "X_test_lasso = X_test.iloc[:, best_clf.coef_!=0]\n",
    "print(X_train.shape, X_test_lasso.shape)\n"
   ]
  },
  {
   "cell_type": "markdown",
   "metadata": {
    "id": "LsPMIgemq7kW"
   },
   "source": [
    "Best alpha ridge "
   ]
  },
  {
   "cell_type": "code",
   "execution_count": 10,
   "metadata": {
    "colab": {
     "base_uri": "https://localhost:8080/"
    },
    "id": "wV3PXgzbSycK",
    "outputId": "3cf59c78-9928-423b-dea4-2309cba8c774"
   },
   "outputs": [
    {
     "name": "stdout",
     "output_type": "stream",
     "text": [
      "0.834 0.005\n"
     ]
    }
   ],
   "source": [
    "best_score = 0\n",
    "best_alpha_ridge = 0\n",
    "\n",
    "for alpha in alphas: \n",
    "    clf = linear_model.Ridge(alpha=alpha, copy_X=True, normalize=True, random_state=42)\n",
    "    clf.fit(X_train, y_train)\n",
    "    score = clf.score(X_test, y_test)\n",
    "    if score > best_score:\n",
    "        best_score = score \n",
    "        best_alpha_ridge = alpha \n",
    "print(f'{best_score:0.3f}', f'{best_alpha_ridge:0.3f}')"
   ]
  },
  {
   "cell_type": "code",
   "execution_count": 11,
   "metadata": {
    "colab": {
     "base_uri": "https://localhost:8080/",
     "height": 298
    },
    "id": "MvB8b6LrSz75",
    "outputId": "14c9a90e-be63-4425-b55b-3b253f5f3ea4"
   },
   "outputs": [
    {
     "data": {
      "image/png": "[encoded data removed]",
      "text/plain": [
       "<Figure size 432x288 with 1 Axes>"
      ]
     },
     "metadata": {
      "needs_background": "light"
     },
     "output_type": "display_data"
    }
   ],
   "source": [
    "alphas = 10**np.linspace(10,-6,100)*0.5 \n",
    "\n",
    "ridge = linear_model.Ridge(alpha=alpha)\n",
    "coefs = []\n",
    "\n",
    "for a in alphas:\n",
    "    ridge.set_params(alpha=a)\n",
    "    ridge.fit(X_train, y_train)\n",
    "    coefs.append(ridge.coef_)\n",
    "\n",
    "ax = plt.gca()\n",
    "ax.plot(alphas, coefs)\n",
    "ax.set_xscale('log')\n",
    "ax.set_xlim(ax.get_xlim()[::-1])  # reverse axis\n",
    "plt.axis('tight')\n",
    "plt.xlabel('alpha')\n",
    "plt.ylabel('weights')\n",
    "plt.title('Ridge coefficients as a function of the regularization');"
   ]
  },
  {
   "cell_type": "code",
   "execution_count": 12,
   "metadata": {
    "colab": {
     "base_uri": "https://localhost:8080/",
     "height": 298
    },
    "id": "uex-e0yKS5Va",
    "outputId": "ed146bd1-1827-492c-d38a-93ada2e757f7"
   },
   "outputs": [
    {
     "data": {
      "image/png": "[encoded data removed]",
      "text/plain": [
       "<Figure size 432x288 with 1 Axes>"
      ]
     },
     "metadata": {
      "needs_background": "light"
     },
     "output_type": "display_data"
    }
   ],
   "source": [
    "alphas = 10**np.linspace(10,-6,100)*0.5  #start at 10 stop at -2 give 100 numbers\n",
    "\n",
    "lasso = linear_model.Lasso(alpha=alpha,tol=.1)\n",
    "coefs = []\n",
    "\n",
    "for a in alphas:\n",
    "    lasso.set_params(alpha=a,tol=.1)\n",
    "    lasso.fit(X_train, y_train)\n",
    "    coefs.append(lasso.coef_)\n",
    "\n",
    "ax = plt.gca()\n",
    "ax.plot(alphas, coefs)\n",
    "ax.set_xscale('log')\n",
    "ax.set_xlim(ax.get_xlim()[::-1])  # reverse axis\n",
    "plt.axis('tight')\n",
    "plt.xlabel('alpha')\n",
    "plt.ylabel('weights')\n",
    "plt.title('Lasso coefficients as a function of the regularization');"
   ]
  },
  {
   "cell_type": "markdown",
   "metadata": {
    "id": "DzPjp2hd9qkH"
   },
   "source": [
    "# Question 4: Polynomial Feature Transformation (20 points) \n",
    "Often, you will find that transforming features into higher degrees will yield better models. In this question, we will see how to do non-linear regression using a linear model by using polynomial feature transformation. You will need to build only one plot for this entire question. So, plot everything on the same plot. Let us now consider the following dataset:\n",
    "\n"
   ]
  },
  {
   "cell_type": "code",
   "execution_count": 13,
   "metadata": {
    "id": "A_jfDHNpL-0i"
   },
   "outputs": [],
   "source": [
    "import numpy as np\n",
    "import matplotlib.pyplot as plt\n",
    "\n",
    "from sklearn.linear_model import Ridge\n",
    "from sklearn.preprocessing import PolynomialFeatures\n",
    "from sklearn.pipeline import make_pipeline\n",
    "\n",
    "np.random.seed(2)\n",
    "\n",
    "def h(x):\n",
    "    \"\"\" function to approximate by polynomial interpolation\"\"\"\n",
    "    return np.sin(x) + np.log(x) \n",
    "\n",
    "\n",
    "# generate points used to plot\n",
    "x_plot = np.linspace(2, 12, 100)\n",
    "\n",
    "# generate points and keep a subset of them\n",
    "x = np.linspace(2, 12, 100)\n",
    "\n",
    "rng = np.random.RandomState(20)\n",
    "rng.shuffle(x)\n",
    "\n",
    "x_train = np.sort(x[:50])\n",
    "x_test = np.sort(x[50:80])\n",
    "\n",
    "\n",
    "\n",
    "# create matrix versions of these arrays\n",
    "x_train = x_train[:, np.newaxis]\n",
    "x_test = x_test[:,np.newaxis]\n",
    "x_plot = x_plot[:, np.newaxis]\n",
    "\n",
    "y_train = h(x_train) + np.random.normal(0, 0.5, size=x_train.shape) \n",
    "y_test = h(x_test)+ np.random.normal(0, 0.5, size=x_test.shape) \n",
    "\n"
   ]
  },
  {
   "cell_type": "markdown",
   "metadata": {
    "id": "YoQFk35CL-Bl"
   },
   "source": [
    "1. Build a scatter plot with `s=30` and `marker='o'` using x_train and y_train. Also, build a line plot using `x_plot` and `h(x_plot)` to show the trend. (5 pts)\n",
    "2. Transform `x_train` and `x_test` using [PolynomialFeatures](https://scikit-learn.org/stable/modules/generated/sklearn.preprocessing.PolynomialFeatures.html) with degrees 1,3,5,7,9,11 and save these transformed datasets. For example, if an input sample is two dimensional and of the form [$a$, $b$], the degree-2 polynomial features are [$1$, $a$, $b$, $a^2$, $ab$, $b^2$]. (5 pts)\n",
    "3. Use ridge regression with default parameters on each of these train datasets. Now, calculate the predicted target values for the fitted model using `.predict(X_plot)` and show line plots using `x_plot` and the predicted target values. Also, calculate the training MSE and test MSE for each of them using the model. (5 pts)\n",
    "4. Report your observations from the plot w.r.t how the evaluation metrics change on increasing the `degree` parameter. What do you think will happen if we keep on increasing the value of `degree`? (5 pts)"
   ]
  },
  {
   "cell_type": "code",
   "execution_count": 14,
   "metadata": {
    "colab": {
     "base_uri": "https://localhost:8080/"
    },
    "id": "TV8KWA-yj_g9",
    "outputId": "409321a6-a37a-4a1e-bda5-9164f8fd011b"
   },
   "outputs": [
    {
     "data": {
      "text/plain": [
       "((50, 1), (100, 1))"
      ]
     },
     "execution_count": 14,
     "metadata": {},
     "output_type": "execute_result"
    }
   ],
   "source": [
    "x_train.shape, x_plot.shape "
   ]
  },
  {
   "cell_type": "code",
   "execution_count": 15,
   "metadata": {
    "colab": {
     "base_uri": "https://localhost:8080/",
     "height": 677
    },
    "id": "GqbWiKIO9_17",
    "outputId": "5a15d90c-890a-4350-d647-1e986d7c1797"
   },
   "outputs": [
    {
     "name": "stdout",
     "output_type": "stream",
     "text": [
      "Degree = 1, Train MSE = 0.66\n",
      "Degree = 1, Test MSE = 0.80\n",
      "Degree = 3, Train MSE = 0.38\n",
      "Degree = 3, Test MSE = 0.53\n",
      "Degree = 5, Train MSE = 0.27\n",
      "Degree = 5, Test MSE = 0.38\n",
      "Degree = 7, Train MSE = 0.26\n",
      "Degree = 7, Test MSE = 0.34\n",
      "Degree = 9, Train MSE = 0.25\n",
      "Degree = 9, Test MSE = 0.27\n",
      "Degree = 11, Train MSE = 0.25\n",
      "Degree = 11, Test MSE = 0.30\n"
     ]
    },
    {
     "data": {
      "image/png": "[encoded data removed]",
      "text/plain": [
       "<Figure size 864x576 with 1 Axes>"
      ]
     },
     "metadata": {
      "needs_background": "light"
     },
     "output_type": "display_data"
    }
   ],
   "source": [
    "from sklearn.metrics import mean_squared_error, r2_score\n",
    "colors = ['red', 'yellowgreen', 'gold','cyan','green','black','brown']\n",
    "lw = 2\n",
    "plt.figure(figsize=(12,8))\n",
    "\n",
    "plt.plot(x_plot, h(x_plot), color='cornflowerblue', linewidth=lw,\n",
    "         label=\"best answer\")\n",
    "plt.scatter(x_train, y_train, color='navy', s=30, marker='o', label=\"training points\")\n",
    "train_mse = []\n",
    "test_mse = []\n",
    "\n",
    "for count, degree in enumerate([1,3,5,7,9,11]):\n",
    "    model = make_pipeline(PolynomialFeatures(degree), Ridge())\n",
    "    model.fit(x_train, y_train)\n",
    "    y_plot = model.predict(x_plot)\n",
    "    y_pred_train = model.predict(x_train)\n",
    "    y_pred_test = model.predict(x_test)\n",
    "    train_mse.append(mean_squared_error(y_train, y_pred_train))\n",
    "    test_mse.append(mean_squared_error(y_test, y_pred_test))\n",
    "    print(f'Degree = {degree}, Train MSE = {mean_squared_error(y_train, y_pred_train):.2f}')\n",
    "    print(f'Degree = {degree}, Test MSE = {mean_squared_error(y_test, y_pred_test):.2f}')\n",
    "\n",
    "    plt.plot(x_plot, y_plot, color=colors[count], linewidth=lw,\n",
    "             label=\"degree %d\" % degree)\n",
    "\n",
    "plt.legend(loc='lower left')\n",
    "\n",
    "plt.show()\n"
   ]
  },
  {
   "cell_type": "code",
   "execution_count": 16,
   "metadata": {
    "colab": {
     "base_uri": "https://localhost:8080/",
     "height": 281
    },
    "id": "RwdVXECo-6AM",
    "outputId": "addc8383-16a9-4f70-a7fe-195ede143724"
   },
   "outputs": [
    {
     "data": {
      "text/plain": [
       "<matplotlib.legend.Legend at 0x1c10c7a6a00>"
      ]
     },
     "execution_count": 16,
     "metadata": {},
     "output_type": "execute_result"
    },
    {
     "data": {
      "image/png": "[encoded data removed]",
      "text/plain": [
       "<Figure size 432x288 with 1 Axes>"
      ]
     },
     "metadata": {
      "needs_background": "light"
     },
     "output_type": "display_data"
    }
   ],
   "source": [
    "plt.plot([1,3,5,7,9,11],train_mse,label=\"Train MSE\")\n",
    "plt.plot([1,3,5,7,9,11],test_mse,label = \"Test MSE\")\n",
    "plt.legend()"
   ]
  },
  {
   "cell_type": "markdown",
   "metadata": {
    "id": "uWhrNPdwrSKY"
   },
   "source": [
    "As the degree of polynomials increases , we can see that the test MSE decreases upto a certain degree after which the test MSE increases indicating overfitting"
   ]
  },
  {
   "cell_type": "code",
   "execution_count": null,
   "metadata": {
    "id": "kelfkhO8rRRC"
   },
   "outputs": [],
   "source": []
  }
 ],
 "metadata": {
  "colab": {
   "collapsed_sections": [],
   "name": "HW2Solutions.ipynb",
   "provenance": []
  },
  "kernelspec": {
   "display_name": "Python 3",
   "language": "python",
   "name": "python3"
  },
  "language_info": {
   "codemirror_mode": {
    "name": "ipython",
    "version": 3
   },
   "file_extension": ".py",
   "mimetype": "text/x-python",
   "name": "python",
   "nbconvert_exporter": "python",
   "pygments_lexer": "ipython3",
   "version": "3.8.3"
  }
 },
 "nbformat": 4,
 "nbformat_minor": 1
}
