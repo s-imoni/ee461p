{
 "cells": [
  {
   "cell_type": "markdown",
   "metadata": {
    "id": "wPx0of7QbFIh"
   },
   "source": [
    "## EE 461P: Data Science Principles  \n",
    "### Assignment 4 \n",
    "### Total points: 80\n",
    "### Due: April 6, 2021 submitted via Canvas by 11:59 pm  \n",
    "\n",
    "Your homework should be written in a **Jupyter notebook**. You may work in groups of two if you wish. Only one student per team needs to submit the assignment on Canvas.  But be sure to include name and UT eID for both students.  Homework groups will be created and managed through Canvas, so please do not arbitrarily change your homework group. If you do change, let the TAs know.\n",
    "\n",
    "Also, please make sure your code runs and the graphics (and anything else) are displayed in your notebook before submitting. (%matplotlib inline). You can also follow the below steps to embed an image,\n",
    "* Set cell mode to Markdown\n",
    "* Drag and drop your image into the cell. The following command will be created:\n",
    "`![image.png](attachment:image.png)` \n",
    "* Execute/Run the cell and the image will be displayed. Once you submit make sure to download the notebook and verify if the image exists.\n",
    "\n",
    "### Name(s) and EID(s):\n",
    "1. \n",
    "2. \n",
    "\n",
    "### Homework group No.: \n",
    "\n",
    "\n",
    "`NOTE : Fill the Name and EID section along with group number without fail.`"
   ]
  },
  {
   "cell_type": "code",
   "execution_count": null,
   "metadata": {
    "id": "1dODb467qxiF"
   },
   "outputs": [],
   "source": []
  },
  {
   "cell_type": "code",
   "execution_count": null,
   "metadata": {
    "colab": {
     "base_uri": "https://localhost:8080/"
    },
    "id": "4EDfAS6UUiBl",
    "outputId": "28c03a6a-5861-4f11-a2e8-83c586cce294"
   },
   "outputs": [
    {
     "name": "stdout",
     "output_type": "stream",
     "text": [
      "Requirement already up-to-date: scikit-learn in /usr/local/lib/python3.7/dist-packages (0.24.1)\n",
      "Requirement already satisfied, skipping upgrade: numpy>=1.13.3 in /usr/local/lib/python3.7/dist-packages (from scikit-learn) (1.19.5)\n",
      "Requirement already satisfied, skipping upgrade: scipy>=0.19.1 in /usr/local/lib/python3.7/dist-packages (from scikit-learn) (1.4.1)\n",
      "Requirement already satisfied, skipping upgrade: joblib>=0.11 in /usr/local/lib/python3.7/dist-packages (from scikit-learn) (1.0.1)\n",
      "Requirement already satisfied, skipping upgrade: threadpoolctl>=2.0.0 in /usr/local/lib/python3.7/dist-packages (from scikit-learn) (2.1.0)\n"
     ]
    }
   ],
   "source": [
    "# Upgrade scikit learn to the latest version\n",
    "!pip install --upgrade scikit-learn"
   ]
  },
  {
   "cell_type": "markdown",
   "metadata": {
    "id": "czMinzQWUizy"
   },
   "source": [
    "# Question 1 (Data Imputation and Feature Selection) (15 pts)\n",
    "\n",
    "In this question, we will explore how to impute missing values in a given dataset and perform feature engineering. \n",
    "\n",
    "We will be using the WHO Life Expectancy Data, which measures the life expectancy from health factors for 193 countries collected from the WHO data repository website and its corresponding economic data collected from United Nation website. More information on the dataset can be found [here](https://www.kaggle.com/kumarajarshi/life-expectancy-who).Use the below code to load the dataset, the predictor variable is \"Life Expectancy\" and the rest are the feature variables. \n",
    "\n",
    "`orig_df` contains data from all years except 2014 and `orig_df_2014` contains data from only 2014. "
   ]
  },
  {
   "cell_type": "code",
   "execution_count": null,
   "metadata": {
    "id": "kJHzI7cOUnZi"
   },
   "outputs": [],
   "source": [
    "from sklearn.linear_model import LinearRegression\n",
    "from sklearn.model_selection import train_test_split\n",
    "from sklearn.feature_selection import SequentialFeatureSelector\n",
    "import os, sys, re\n",
    "import time\n",
    "import numpy as np\n",
    "import pandas as pd\n",
    "from sklearn.model_selection import train_test_split\n",
    "from sklearn.preprocessing import MinMaxScaler,StandardScaler\n",
    "from sklearn.metrics import plot_roc_curve \n",
    "import matplotlib.pyplot as plt\n",
    "\n",
    "# Load the dataset from csv files\n",
    "orig_df = pd.read_csv(\"Life Expectancy Data.csv\")\n",
    "orig_df = orig_df[(orig_df['Life_expectancy'].notna()) & (orig_df['Year'] != 2015)]\n",
    "\n",
    "# Select only 2014 data\n",
    "orig_df_2014 = orig_df[orig_df['Year']== 2014]\n",
    "\n",
    "# Drop the year column\n",
    "orig_df_2014 = orig_df_2014.drop(columns=[\"Year\"])\n",
    "\n"
   ]
  },
  {
   "cell_type": "markdown",
   "metadata": {
    "id": "9Z0qTw2BUrJR"
   },
   "source": [
    "\n",
    "* **Part 1** : Report the datatype of the column values in the `orig_df_2014` dataframe, this helps to identify the categorical, numerical feature variables present in the dataset. Drop the categorical columns in the `orig_df_2014` dataset and create a new dataframe with only numerical valued columns and name it `numerical_df_2014`. Print the number of missing values(NaN) for each column in this `numerical_df_2014` dataframe.  **(1 pts)**\n",
    "\n",
    "* **Part 2** : In this part we will explore different ways to handle missing data, you can make use of the pandas dataframe's function available, refer [here](https://pandas.pydata.org/docs/reference/frame.html).\n",
    "  \n",
    "  * a) Create a copy of the numerical_df_2014 dataframe and name it `numerical_df_na_drop_row`. Drop all the NaN rows in `numerical_df_na_drop_row`, then split the dataframe into y(Life_expectancy) which is the predictor variable and the rest as X. Split the dataset using train_test_split with random_state = 42 and train:test split as 70:30. Fit a linear regression model on train data and evaluate the model on the test data by reporting the test ${R^2}$ score. **(2 pts)**\n",
    "\n",
    "  * b) Next, Create another copy of the numerical_df_2014 dataframe and name it `numerical_df_na_fill_zero`. Now, fill the NaN values with zeros in `numerical_df_na_fill_zero`, then split the dataframe into y(Life_expectancy) which is the predictor variable and the rest as X. Split the dataset using train_test_split with random_state = 42 and train:test split as 70:30. Fit a linear regression model on train data and evaluate the model on the test data by reporting the test ${R^2}$ score.**(2 pts)**\n",
    "\n",
    "  * c) Finally, Create a copy of the numerical_df_2014 dataframe and name it `numerical_df_na_drop_cols`. Drop all the features(columns) which contain NaN values in `numerical_df_na_drop_cols` then split the dataframe into y(Life_expectancy) which is the predictor variable and the rest as X. Split the dataset using train_test_split with random_state = 42 and train:test split as 70:30. Fit a linear regression model on train data and evaluate the model on the test data by reporting the test ${R^2}$ score.**(2 pts)**\n",
    "\n",
    "  * d) Compare the test ${R^2}$ score value obtained in part a), b) and c) explain what you observe in the scores, provide reasoning on which is your preferred method to handle missing data and why? **(2 pts)**\n",
    "\n",
    "* **Part 3** (Feature selection): In this part we will be using the  `numerical_df_na_drop_row` dataframe created by dropping all NaN samples in part 2a). Split this dataset into train:test split of 70:30 with random_state 42 and use the training data for the sub-parts below:\n",
    "\n",
    "  * a) Compute the correlation of all the feature variables with the predictor variable(Life_expectancy). Report the five most correlated feature variable with the predictor using training data. (**1pts**)\n",
    "\n",
    "  * b) Use Linear Regression as an estimator for Recursive Feature Selection. We will use Sequential Feature Selector to perform `forward` feature selection. Details on how to use Sequential Feature Selector is given [here](https://scikit-learn.org/stable/modules/generated/sklearn.feature_selection.SequentialFeatureSelector.html). Report the top five features selected after performing forward selection using training data.(**2pts**)\n",
    "\n",
    "  * c) Use Decision Tree Regressor with random_state=20 from [sklearn](https://scikit-learn.org/stable/modules/generated/sklearn.tree.DecisionTreeRegressor.html#sklearn.tree.DecisionTreeRegressor) with default parameters and fit the model on training data. Identify the feature importance from the fitted model and report the 5 most important features. (**1pts**)\n",
    "\n",
    "  * d) Use the most common set of features obtained from the feature selection methods in part a) b) and c). Train a linear regression model on this subset of features by fitting it on train data and reporting the ${R^2}$ score on test data. Briefly eplain what you understand by feature selection and how it affects the model performance based on the results obtained.(**2pts**)\n",
    "\n",
    "      `NOTE : Most common set indicates most common feature intersection, i.e. features present in all three cases.`\n",
    "\n"
   ]
  },
  {
   "cell_type": "markdown",
   "metadata": {
    "id": "gaSgSs3sFf-S"
   },
   "source": [
    "# Part 1 "
   ]
  },
  {
   "cell_type": "code",
   "execution_count": null,
   "metadata": {
    "colab": {
     "base_uri": "https://localhost:8080/"
    },
    "id": "wDBcb9cwU05-",
    "outputId": "c1359b42-4163-4172-bfcf-364f8929de27"
   },
   "outputs": [
    {
     "name": "stdout",
     "output_type": "stream",
     "text": [
      "Column types present\n",
      "Country                             object\n",
      "Status                              object\n",
      "Life_expectancy                    float64\n",
      "Adult_Mortality                    float64\n",
      "infant_deaths                        int64\n",
      "Alcohol                            float64\n",
      "percentage_expenditure             float64\n",
      "Hepatitis_B                        float64\n",
      "Measles                              int64\n",
      "BMI                                float64\n",
      "under_five_deaths                    int64\n",
      "Polio                              float64\n",
      "Total_expenditure                  float64\n",
      "Diphtheria                         float64\n",
      "HIV_AIDS                           float64\n",
      "GDP                                float64\n",
      "Population                         float64\n",
      "thinness_1_19_years                float64\n",
      "thinness_5_9_years                 float64\n",
      "Income_composition_of_resources    float64\n",
      "Schooling                          float64\n",
      "dtype: object\n",
      "Missing values in columns\n",
      "Life_expectancy                     0\n",
      "Adult_Mortality                     0\n",
      "infant_deaths                       0\n",
      "Alcohol                             1\n",
      "percentage_expenditure              0\n",
      "Hepatitis_B                        10\n",
      "Measles                             0\n",
      "BMI                                 2\n",
      "under_five_deaths                   0\n",
      "Polio                               0\n",
      "Total_expenditure                   2\n",
      "Diphtheria                          0\n",
      "HIV_AIDS                            0\n",
      "GDP                                28\n",
      "Population                         41\n",
      "thinness_1_19_years                 2\n",
      "thinness_5_9_years                  2\n",
      "Income_composition_of_resources    10\n",
      "Schooling                          10\n",
      "dtype: int64\n"
     ]
    }
   ],
   "source": [
    "print(\"Column types present\")\n",
    "print(orig_df_2014.dtypes)\n",
    "\n",
    "numerical_df_2014 = orig_df_2014.drop(columns=[\"Country\",\"Status\"])\n",
    "print(\"Missing values in columns\")\n",
    "print(numerical_df_2014.isna().sum())"
   ]
  },
  {
   "cell_type": "markdown",
   "metadata": {
    "id": "p6WWFNADFiOz"
   },
   "source": [
    "# Part 2 a)"
   ]
  },
  {
   "cell_type": "code",
   "execution_count": null,
   "metadata": {
    "colab": {
     "base_uri": "https://localhost:8080/"
    },
    "id": "_bvV142BU0xz",
    "outputId": "e82585a9-c3d4-4cc7-de48-452dbf0021af"
   },
   "outputs": [
    {
     "name": "stdout",
     "output_type": "stream",
     "text": [
      "Dropped Nan Rows 0.8701727711225993\n",
      "Adjusted R^2 0.7588922892276844\n"
     ]
    }
   ],
   "source": [
    "# Drop Nan rows \n",
    "\n",
    "numerical_df_na_drop_row = numerical_df_2014.dropna()\n",
    "y = numerical_df_na_drop_row['Life_expectancy']\n",
    "X = numerical_df_na_drop_row.drop(columns=['Life_expectancy'])\n",
    "\n",
    "X_train, X_test, Y_train, Y_test = train_test_split(X, y, test_size=0.30, random_state=42)\n",
    "\n",
    "reg = LinearRegression()\n",
    "reg.fit(X_train,Y_train)\n",
    "print(\"Dropped Nan Rows\",reg.score(X_test,Y_test))\n",
    "r_squared = reg.score(X_test,Y_test)\n",
    "adjusted_r_squared = 1 - (1-r_squared)*(len(Y_test)-1)/(len(Y_test)-X_test.shape[1]-1)\n",
    "print(\"Adjusted R^2\",adjusted_r_squared)"
   ]
  },
  {
   "cell_type": "markdown",
   "metadata": {
    "id": "Ut5g8FuwFm58"
   },
   "source": [
    "# Part 2 b)"
   ]
  },
  {
   "cell_type": "code",
   "execution_count": null,
   "metadata": {
    "colab": {
     "base_uri": "https://localhost:8080/"
    },
    "id": "dE8b-pr2VAsi",
    "outputId": "a3012c7b-35d0-4fba-99e5-f642acb082d6"
   },
   "outputs": [
    {
     "name": "stdout",
     "output_type": "stream",
     "text": [
      "Filled Nan rows 0.8179646801641982\n",
      "Adjusted R^2 0.7269470202462973\n"
     ]
    }
   ],
   "source": [
    "# Drop Nan rows \n",
    "\n",
    "numerical_df_na_fill_zero = numerical_df_2014.fillna(value=0)\n",
    "y = numerical_df_na_fill_zero['Life_expectancy']\n",
    "X = numerical_df_na_fill_zero.drop(columns=['Life_expectancy'])\n",
    "\n",
    "X_train, X_test, Y_train, Y_test = train_test_split(X, y, test_size=0.30, random_state=42)\n",
    "\n",
    "\n",
    "reg = LinearRegression()\n",
    "reg.fit(X_train,Y_train)\n",
    "print(\"Filled Nan rows\",reg.score(X_test,Y_test))\n",
    "r_squared = reg.score(X_test,Y_test)\n",
    "adjusted_r_squared = 1 - (1-r_squared)*(len(Y_test)-1)/(len(Y_test)-X_test.shape[1]-1)\n",
    "print(\"Adjusted R^2\",adjusted_r_squared)"
   ]
  },
  {
   "cell_type": "markdown",
   "metadata": {
    "id": "TcgdE5kjFr3Z"
   },
   "source": [
    "#Part 2 c)"
   ]
  },
  {
   "cell_type": "code",
   "execution_count": null,
   "metadata": {
    "colab": {
     "base_uri": "https://localhost:8080/"
    },
    "id": "w6mtTBVvVDuD",
    "outputId": "151003e4-221a-4c7b-c5e1-3749c5a7e5ab"
   },
   "outputs": [
    {
     "name": "stdout",
     "output_type": "stream",
     "text": [
      "Dropped features Score 0.7023537475768191\n",
      "Adjusted R^2 0.6505891819380051\n"
     ]
    }
   ],
   "source": [
    "numerical_df_2014_drop_cols = numerical_df_2014.dropna(axis=1, how=\"any\")\n",
    "y = numerical_df_2014_drop_cols['Life_expectancy']\n",
    "X = numerical_df_2014_drop_cols.drop(columns=['Life_expectancy'])\n",
    "\n",
    "X_train, X_test, y_train, y_test = train_test_split(X, y, test_size=0.30, random_state=42)\n",
    "    \n",
    "regr = LinearRegression().fit(X_train, y_train)\n",
    "print(\"Dropped features Score {}\".format(regr.score(X_test, y_test)))\n",
    "r_squared = regr.score(X_test,y_test)\n",
    "adjusted_r_squared = 1 - (1-r_squared)*(len(y_test)-1)/(len(y_test)-X_test.shape[1]-1)\n",
    "print(\"Adjusted R^2\",adjusted_r_squared)"
   ]
  },
  {
   "cell_type": "markdown",
   "metadata": {
    "id": "ww4FxaT7Fwuz"
   },
   "source": [
    "# Part 2 d)\n",
    "\n",
    "The R^2 score values is summarized below, \n",
    "\n",
    "* Dropped NaN samples(rows) - 0.8701\n",
    "* Filled NaN samples(rows) value with zero - 0.8179\n",
    "* Dropped features - 0.7023\n",
    "\n",
    "We, can see that the when features are dropped the model performance drastically reduces, this is due to the loss of information caused by dropping the columns which contain NaN values. We can see the performance is best when we drop the NaN samples compared to filling it with zero. "
   ]
  },
  {
   "cell_type": "markdown",
   "metadata": {
    "id": "jJ3CPOAUHGv-"
   },
   "source": [
    "# Part 3 a)"
   ]
  },
  {
   "cell_type": "code",
   "execution_count": null,
   "metadata": {
    "colab": {
     "base_uri": "https://localhost:8080/"
    },
    "id": "VFZqbpJ1HIAf",
    "outputId": "0a40f817-3f1f-451c-94b6-b4df67f935f9"
   },
   "outputs": [
    {
     "name": "stdout",
     "output_type": "stream",
     "text": [
      "The top 5 correlated features are,Adult_Mortality,Schooling,Income_Composition,BMI,HIV_AIDS\n"
     ]
    }
   ],
   "source": [
    "\n",
    "y = numerical_df_na_drop_row['Life_expectancy']\n",
    "X = numerical_df_na_drop_row.drop(columns=['Life_expectancy'])\n",
    "X_train, X_test, y_train, y_test = train_test_split(X, y, test_size=0.30, random_state=42)\n",
    "\n",
    "df = X_train.copy()\n",
    "df[\"Life_expectancy\"] = y_train\n",
    "df.corr()\n",
    "print(\"The top 5 correlated features are,Adult_Mortality,Schooling,Income_Composition,BMI,HIV_AIDS\")"
   ]
  },
  {
   "cell_type": "markdown",
   "metadata": {
    "id": "_-CzbCZlIKth"
   },
   "source": [
    "# Part 3 b)"
   ]
  },
  {
   "cell_type": "code",
   "execution_count": null,
   "metadata": {
    "colab": {
     "base_uri": "https://localhost:8080/"
    },
    "id": "kodJxAFuVLdq",
    "outputId": "5e4902a3-2b3d-43f8-f711-cbb0610d88a2"
   },
   "outputs": [
    {
     "name": "stdout",
     "output_type": "stream",
     "text": [
      "Features selected by Sequential forward selection Index(['Adult_Mortality', 'Alcohol', 'HIV_AIDS', 'GDP',\n",
      "       'Income_composition_of_resources'],\n",
      "      dtype='object')\n"
     ]
    }
   ],
   "source": [
    "estimator = LinearRegression()\n",
    "selector = SequentialFeatureSelector(estimator, n_features_to_select=5, direction='forward')\n",
    "selector = selector.fit(X_train, y_train)\n",
    "X_train.iloc[:,selector.support_]\n",
    "print(\"Features selected by Sequential forward selection\",X_train.iloc[:,selector.support_].columns)"
   ]
  },
  {
   "cell_type": "markdown",
   "metadata": {
    "id": "LLQyGsnyIllj"
   },
   "source": [
    "# Part 3 c)"
   ]
  },
  {
   "cell_type": "code",
   "execution_count": null,
   "metadata": {
    "colab": {
     "base_uri": "https://localhost:8080/"
    },
    "id": "gFRBPKTWVOll",
    "outputId": "734d1487-8182-4cf0-d10d-2e77788fbd02"
   },
   "outputs": [
    {
     "name": "stdout",
     "output_type": "stream",
     "text": [
      "Features selected by decision tree feature importance selection Index(['HIV_AIDS', 'Income_composition_of_resources', 'under_five_deaths',\n",
      "       'Measles', 'Adult_Mortality'],\n",
      "      dtype='object')\n"
     ]
    }
   ],
   "source": [
    "from sklearn.tree import DecisionTreeRegressor\n",
    "\n",
    "tree_reg = DecisionTreeRegressor(random_state=20)\n",
    "tree_reg.fit(X_train,y_train)\n",
    "imp = tree_reg.feature_importances_\n",
    "\n",
    "ids = imp.argsort()[::-1][:5]\n",
    "print(\"Features selected by decision tree feature importance selection\",X_train.iloc[:,ids].columns)\n"
   ]
  },
  {
   "cell_type": "markdown",
   "metadata": {
    "id": "x_w1X8fYIk4n"
   },
   "source": [
    "# Part 3 d)"
   ]
  },
  {
   "cell_type": "code",
   "execution_count": null,
   "metadata": {
    "colab": {
     "base_uri": "https://localhost:8080/"
    },
    "id": "py8b6JmBXh9C",
    "outputId": "34bfc4be-8d01-4814-fe1b-66f9b20732d1"
   },
   "outputs": [
    {
     "name": "stdout",
     "output_type": "stream",
     "text": [
      "The common selected features by the above methods are, HIV_AIDS,Income_composition_of_resources,Adult_Mortality,Income_composition_of_resources\n",
      "Feature selected R^2 - Score 0.8615252395088692\n",
      "Adjusted R^2 0.8499856761346083\n"
     ]
    }
   ],
   "source": [
    "print(\"The common selected features by the above methods are, HIV_AIDS,Income_composition_of_resources,Adult_Mortality,Income_composition_of_resources\")\n",
    "\n",
    "y = numerical_df_na_drop_row['Life_expectancy']\n",
    "X = numerical_df_na_drop_row.drop(columns=['Life_expectancy'])\n",
    "\n",
    "X = X.iloc[:,[0,11,16]]\n",
    "X_train, X_test, y_train, y_test = train_test_split(X, y, test_size=0.30, random_state=42)\n",
    "\n",
    "\n",
    "reg = LinearRegression()\n",
    "reg.fit(X_train,y_train)\n",
    "print(\"Feature selected R^2 - Score\",reg.score(X_test,y_test))\n",
    "r_squared = reg.score(X_test,y_test)\n",
    "adjusted_r_squared = 1 - (1-r_squared)*(len(y_test)-1)/(len(y_test)-X_test.shape[1]-1)\n",
    "print(\"Adjusted R^2\",adjusted_r_squared)"
   ]
  },
  {
   "cell_type": "markdown",
   "metadata": {
    "id": "acLvny9VYBYa"
   },
   "source": [
    "# Question 2 (15 pts) - Principal Component Analysis\n",
    "\n",
    "In this problem we will be applying PCA on the Superconductivity Dataset. More details on the dataset is present [here](https://archive.ics.uci.edu/ml/datasets/Superconductivty+Data#). The goal here is to predict the critical temperature of a superconductor based on the features extracted.\n",
    "\n",
    "Use Principal Component Analysis (PCA) to solve this problem.  \n",
    "\n",
    "* **2.1 (1 pt)** Perform the following steps to prepare the dataset:\n",
    "    * Load the dataset from the \"Q2data.csv\" file provided as a dataframe df. \n",
    "\n",
    "    * Select the **'critical_temp'** column as the target column and the rest of the columns from the dataframe df as X. \n",
    "\n",
    "    * Split the dataset into train and test set with 35% data in test set and random_state = 42\n",
    "\n",
    "    * Perform [Standard Scaling](https://scikit-learn.org/stable/modules/generated/sklearn.preprocessing.StandardScaler.html#sklearn.preprocessing.StandardScaler) on the dataset. Remember that when we have training and testing data, we fit preprocessing parameters on training data and apply them to all testing data. You should scale only the features (independent variables), not the target variable y.\n",
    "    \n",
    "    `Note: X should have 81 features.`\n",
    "    \n",
    "* **2.2 (3 pts)** Use [PCA](https://scikit-learn.org/stable/modules/generated/sklearn.decomposition.PCA.html) and reduce the dimension of X_train to the following number of components: `[3,20,40,60,81]`. For each of the five datasets, print the cumulative variance explained by the principal components`N = [3,20,40,60,81]`.(i.e. what percentage of variance in the original dataset is explained if we transform the dataset to have 3,20,40,60 and 81 principal components respectively). \n",
    "\n",
    "  `Note : PCA should be fit on X_train and the components thus learnt should be later used to transform X_test`\n",
    "\n",
    "* **2.3 (4 pts)** Plot the cumulative variance explained by the principal components using the training data. The plot should display the number of components on X-axis and the cumulative explained variance on the y-axis. What do you understand from the plot obtained?\n",
    "\n",
    "* **2.4 (4 pts)** For each of the reduced dataset, obtained in part 2.2, fit a linear regression model on the train data and report the ${R^2}$ score on the test dataset. Comment on how the score varies as the number of components increase.(There will be a total of 5 ${R^2}$ score).\n",
    "\n",
    "* **2.5 (3 pts)** Visualizing principal components : For this part use a small subset of 50 samples of the training dataset and plot the first three principal components, i.e first plot PC1 vs. PC2 (i.e. the projection of the data onto the 2-D space defined by the first two Principal Components) and also PC2 vs PC3 in both these plot color the projected points according to the corresponding ground truth labels. Do you observe any pattern in the plot?\n"
   ]
  },
  {
   "cell_type": "markdown",
   "metadata": {
    "id": "tistaqQeh6rp"
   },
   "source": [
    "# Solution 2"
   ]
  },
  {
   "cell_type": "code",
   "execution_count": null,
   "metadata": {
    "id": "-8uG67e_De1L"
   },
   "outputs": [],
   "source": [
    "df = pd.read_csv(\"Q2data.csv\")\n"
   ]
  },
  {
   "cell_type": "code",
   "execution_count": null,
   "metadata": {
    "colab": {
     "base_uri": "https://localhost:8080/",
     "height": 441
    },
    "id": "fIt5GAgOh4WP",
    "outputId": "de795ce8-02c9-4ef4-8f43-ff5a978be5eb"
   },
   "outputs": [
    {
     "name": "stdout",
     "output_type": "stream",
     "text": [
      "(3,)\n",
      "Cumulative variance explained by 3 components is 58.9\n",
      "(20,)\n",
      "Cumulative variance explained by 20 components is 96.7\n",
      "(40,)\n",
      "Cumulative variance explained by 40 components is 99.39999999999995\n",
      "(60,)\n",
      "Cumulative variance explained by 60 components is 99.39999999999995\n",
      "(81,)\n",
      "Cumulative variance explained by 81 components is 99.39999999999995\n"
     ]
    },
    {
     "data": {
      "image/png": "[encoded data removed]",
      "text/plain": [
       "<Figure size 432x288 with 1 Axes>"
      ]
     },
     "metadata": {
      "needs_background": "light",
      "tags": []
     },
     "output_type": "display_data"
    }
   ],
   "source": [
    "# Solution 2.1\n",
    "y = df[\"critical_temp\"]\n",
    "X = df.drop(columns=[\"critical_temp\"])\n",
    "\n",
    "X_train, X_test, Y_train, Y_test = train_test_split(X, y, test_size=0.30, random_state=42)\n",
    "\n",
    "scalar = StandardScaler().fit(X_train)\n",
    "X_train = scalar.transform(X_train)\n",
    "X_test = scalar.transform(X_test)\n",
    "\n",
    "# Solution 2.2\n",
    "from sklearn.decomposition import PCA\n",
    "nums = [3,20,40,60,81]\n",
    "res = []\n",
    "for num in nums:\n",
    "    pca = PCA(n_components=num)\n",
    "    pca_fitter = pca.fit(X_train)\n",
    "    X_train_new = pca_fitter.transform(X_train)\n",
    "    percent_variance = np.round(pca_fitter.explained_variance_ratio_* 100, decimals =2)\n",
    "    var=np.cumsum(np.round(pca_fitter.explained_variance_ratio_, decimals=3)*100)\n",
    "    print(var.shape)\n",
    "    print(\"Cumulative variance explained by {} components is {}\".format(num,var[num-1])) #cumulative sum of variance explained with [n] features\n",
    "\n",
    "# Solution 2.3\n",
    "plt.plot(np.cumsum(pca_fitter.explained_variance_ratio_))\n",
    "plt.xlabel('number of components')\n",
    "plt.ylabel('cumulative explained variance');\n",
    "plt.show()\n"
   ]
  },
  {
   "cell_type": "code",
   "execution_count": null,
   "metadata": {
    "colab": {
     "base_uri": "https://localhost:8080/"
    },
    "id": "KiUG1jrtblNk",
    "outputId": "5615491e-ca8b-4def-aabc-52982cdb9751"
   },
   "outputs": [
    {
     "data": {
      "text/plain": [
       "(21263, 81)"
      ]
     },
     "execution_count": 27,
     "metadata": {
      "tags": []
     },
     "output_type": "execute_result"
    }
   ],
   "source": [
    "X.shape"
   ]
  },
  {
   "cell_type": "code",
   "execution_count": null,
   "metadata": {
    "colab": {
     "base_uri": "https://localhost:8080/"
    },
    "id": "BuVPFqufBohQ",
    "outputId": "aae56bb6-6c27-4ddc-92aa-9e0e74182d15"
   },
   "outputs": [
    {
     "name": "stdout",
     "output_type": "stream",
     "text": [
      "R^2 score 0.48919373231934193 with num_components 3\n",
      "Adjusted R^2 0.4889533528992569\n",
      "R^2 score 0.6215114137395334 with num_components 20\n",
      "Adjusted R^2 0.620320823660073\n",
      "R^2 score 0.6865443065343928 with num_components 40\n",
      "Adjusted R^2 0.6845660440322432\n",
      "R^2 score 0.7145333205439319 with num_components 60\n",
      "Adjusted R^2 0.7118223359337128\n",
      "R^2 score 0.7281437989396424 with num_components 81\n",
      "Adjusted R^2 0.7246468397073272\n"
     ]
    }
   ],
   "source": [
    "# Solution 2.4\n",
    "from sklearn.decomposition import PCA\n",
    "nums = [3,20,40,60,81]\n",
    "res = []\n",
    "for num in nums:\n",
    "    pca = PCA(n_components=num)\n",
    "    pca_fitter = pca.fit(X_train)\n",
    "    X_train_new = pca_fitter.transform(X_train)\n",
    "    X_test_new = pca_fitter.transform(X_test)\n",
    "    percent_variance = np.round(pca_fitter.explained_variance_ratio_* 100, decimals =2)\n",
    "    var=np.cumsum(np.round(pca_fitter.explained_variance_ratio_, decimals=3)*100)\n",
    "    #print(var) #cumulative sum of variance explained with [n] features\n",
    "    reg = LinearRegression().fit(X_train_new,Y_train)\n",
    "    print(\"R^2 score {} with num_components {}\".format(reg.score(X_test_new,Y_test),num))\n",
    "    r_squared = reg.score(X_test_new,Y_test)\n",
    "    adjusted_r_squared = 1 - (1-r_squared)*(len(Y_test)-1)/(len(Y_test)-X_test_new.shape[1]-1)\n",
    "    print(\"Adjusted R^2\",adjusted_r_squared)"
   ]
  },
  {
   "cell_type": "code",
   "execution_count": null,
   "metadata": {
    "colab": {
     "base_uri": "https://localhost:8080/",
     "height": 403
    },
    "id": "tRktbmH9h4P1",
    "outputId": "f60c7381-1966-4769-de7b-6655c0770cbd"
   },
   "outputs": [
    {
     "data": {
      "text/plain": [
       "<matplotlib.colorbar.Colorbar at 0x7fd1d9b32710>"
      ]
     },
     "execution_count": 12,
     "metadata": {
      "tags": []
     },
     "output_type": "execute_result"
    },
    {
     "data": {
      "image/png": "[encoded data removed]",
      "text/plain": [
       "<Figure size 576x432 with 2 Axes>"
      ]
     },
     "metadata": {
      "needs_background": "light",
      "tags": []
     },
     "output_type": "display_data"
    }
   ],
   "source": [
    "# Solution 2.5\n",
    "pca = PCA(n_components=3)\n",
    "pca_fitter = pca.fit(X_train)\n",
    "x_pca = pca_fitter.transform(X_train)\n",
    "plt.figure(figsize=(8,6))\n",
    "plt.scatter(x_pca[0:50,0],x_pca[0:50,1],c=Y_train[0:50])\n",
    "plt.xlabel('First principal component')\n",
    "plt.ylabel('Second Principal Component')\n",
    "plt.colorbar()"
   ]
  },
  {
   "cell_type": "code",
   "execution_count": null,
   "metadata": {
    "colab": {
     "base_uri": "https://localhost:8080/",
     "height": 403
    },
    "id": "lh7v2ej_j0Yr",
    "outputId": "bc8e122d-5039-4ebe-febf-10dcf904d1b4"
   },
   "outputs": [
    {
     "data": {
      "text/plain": [
       "<matplotlib.colorbar.Colorbar at 0x7fd1d9a7c650>"
      ]
     },
     "execution_count": 13,
     "metadata": {
      "tags": []
     },
     "output_type": "execute_result"
    },
    {
     "data": {
      "image/png": "[encoded data removed]",
      "text/plain": [
       "<Figure size 576x432 with 2 Axes>"
      ]
     },
     "metadata": {
      "needs_background": "light",
      "tags": []
     },
     "output_type": "display_data"
    }
   ],
   "source": [
    "plt.figure(figsize=(8,6))\n",
    "plt.scatter(x_pca[0:50,1],x_pca[0:50,2],c=Y_train[0:50])\n",
    "plt.xlabel('Second principal component')\n",
    "plt.ylabel('Third Principal Component')\n",
    "plt.colorbar()"
   ]
  },
  {
   "cell_type": "markdown",
   "metadata": {
    "id": "zLHJUXzSNHn5"
   },
   "source": [
    "There is no clear pattern in the plots of first three Principal components, this might be due to the fact that the first three components are not enough to explain the total variance in the dataset. This is also observed in the cumulative variance value explained with the 3 components is 58.9"
   ]
  },
  {
   "cell_type": "markdown",
   "metadata": {
    "id": "v9DCGqMtwyMs"
   },
   "source": [
    "# Question 3 - Expected Loss Minimization (15 pts)\n",
    "Consider a binary classification problem with the following loss matrix -\n",
    "$$\n",
    "   {\\begin{array}{ccccc}\n",
    "   & & \\text{Predicted class} & \\text{           } &\\\\\n",
    "   & & C1 & C2 & Reject\\\\\n",
    "   \\text{True class} & C1 & 0 & 3 & c  \\\\\n",
    "   & C2 & 2 & 0 & c \\\\\n",
    "  \\end{array} } \n",
    "$$\n",
    "where the cost of rejection is a constant. Determine the prediction that minimizes the expected loss in different ranges of $P(C1|x)$ for the following three cases - \n",
    "1. c = 0\n",
    "2. c = 2\n",
    "3. c = 1"
   ]
  },
  {
   "cell_type": "markdown",
   "metadata": {
    "id": "opragDnCxJbc"
   },
   "source": [
    "# Answer 3\n",
    "Let $f(x) = P(C_1 | x)$  \n",
    "Computing expected loss for all decisions:\n",
    "\n",
    "For decision $C_1$, $E[loss] = 0\\times f(x) + 2\\times (1-f(x))$\n",
    "\n",
    "For decision $C_2$, $E[loss] = 3\\times f(x) + 0\\times (1-f(x))$\n",
    "\n",
    "For decision $R$, $E[loss] = c\\times f(x) + c\\times (1-f(x))$\n",
    "\n",
    "## Case 1:\n",
    "\n",
    "\\begin{align}\n",
    "c = 0 \\\\\n",
    "\\because 0 \\le f(x) \\le 1\\\\\n",
    "\\min{\\{2\\times (1-f(x)), 3\\times f(x), 0\\}} = 0\\\\\n",
    "\\therefore \\text{Predict or select Reject for all instances}\n",
    "\\end{align}\n",
    "\n",
    "## Case 2:  \n",
    "c = 2  \n",
    "For $f(x)$ between $[0, \\frac{2}{5})$\n",
    "\\begin{align}\n",
    "3f(x) \\lt 2(1-f(x)) \\text{ and } 3f(x) \\lt 2\\\\\n",
    "\\text{so, predict } C_2.\n",
    "\\end{align}\n",
    "\n",
    "For $f(x)$ between $[\\frac{2}{5}, 1]$\n",
    "\\begin{align}\n",
    "2(1-f(x)) \\lt 3f(x) \\text{ and } 2(1-f(x)) \\lt 2\\\\\n",
    "\\text{so, predict } C_1.\n",
    "\\end{align}\n",
    "\n",
    "## Case 3\n",
    "c = 1  \n",
    "For $f(x)$ in $[0, \\frac{1}{3})$  \n",
    "\\begin{align}\n",
    "3f(x) < 2(1-f(x)) \\text{ and } 3f(x) \\lt 1\\\\\n",
    "\\text{so, predict } C_2.\n",
    "\\end{align}\n",
    "\n",
    "For $f(x)$ in $[\\frac{1}{3}, \\frac{1}{2})$  \n",
    "\\begin{align}\n",
    "3f(x) \\gt 1 \\text{ and } 2(1-f(x)) \\gt 1\\\\\n",
    "\\text{so, select Reject.}\n",
    "\\end{align}\n",
    "\n",
    "for $f(x)$ in $[\\frac{1}{2}, 1]$  \n",
    "\\begin{align}\n",
    "2(1-f(x)) \\lt 3f(x) \\text{ and } 2(1-f(x)) \\lt 1\\\\\n",
    "\\text{so, predict } C_1.\n",
    "\\end{align}\n"
   ]
  },
  {
   "cell_type": "markdown",
   "metadata": {
    "id": "KMYbNZ9Y3uvr"
   },
   "source": [
    "# Question 4 (20 pts) - Decision Tree Classifier using sklearn\n",
    "\n",
    "**Customer Eligibility for Deposits**\n",
    "\n",
    "We will build a Decision Tree classification model to predict if a customer will subscribe or no (yes/no)."
   ]
  },
  {
   "cell_type": "code",
   "execution_count": 1,
   "metadata": {
    "colab": {
     "base_uri": "https://localhost:8080/",
     "height": 204
    },
    "id": "r0M1HnOmw7kC",
    "outputId": "ac3db9c1-65a7-417c-ad21-db99ec318f97"
   },
   "outputs": [
    {
     "data": {
      "text/html": [
       "<div>\n",
       "<style scoped>\n",
       "    .dataframe tbody tr th:only-of-type {\n",
       "        vertical-align: middle;\n",
       "    }\n",
       "\n",
       "    .dataframe tbody tr th {\n",
       "        vertical-align: top;\n",
       "    }\n",
       "\n",
       "    .dataframe thead th {\n",
       "        text-align: right;\n",
       "    }\n",
       "</style>\n",
       "<table border=\"1\" class=\"dataframe\">\n",
       "  <thead>\n",
       "    <tr style=\"text-align: right;\">\n",
       "      <th></th>\n",
       "      <th>age</th>\n",
       "      <th>job</th>\n",
       "      <th>marital</th>\n",
       "      <th>education</th>\n",
       "      <th>default</th>\n",
       "      <th>balance</th>\n",
       "      <th>housing</th>\n",
       "      <th>loan</th>\n",
       "      <th>contact</th>\n",
       "      <th>day</th>\n",
       "      <th>month</th>\n",
       "      <th>duration</th>\n",
       "      <th>campaign</th>\n",
       "      <th>pdays</th>\n",
       "      <th>previous</th>\n",
       "      <th>poutcome</th>\n",
       "      <th>deposit</th>\n",
       "    </tr>\n",
       "  </thead>\n",
       "  <tbody>\n",
       "    <tr>\n",
       "      <th>0</th>\n",
       "      <td>59</td>\n",
       "      <td>admin.</td>\n",
       "      <td>married</td>\n",
       "      <td>secondary</td>\n",
       "      <td>no</td>\n",
       "      <td>2343</td>\n",
       "      <td>yes</td>\n",
       "      <td>no</td>\n",
       "      <td>unknown</td>\n",
       "      <td>5</td>\n",
       "      <td>may</td>\n",
       "      <td>1042</td>\n",
       "      <td>1</td>\n",
       "      <td>-1</td>\n",
       "      <td>0</td>\n",
       "      <td>unknown</td>\n",
       "      <td>yes</td>\n",
       "    </tr>\n",
       "    <tr>\n",
       "      <th>1</th>\n",
       "      <td>56</td>\n",
       "      <td>admin.</td>\n",
       "      <td>married</td>\n",
       "      <td>secondary</td>\n",
       "      <td>no</td>\n",
       "      <td>45</td>\n",
       "      <td>no</td>\n",
       "      <td>no</td>\n",
       "      <td>unknown</td>\n",
       "      <td>5</td>\n",
       "      <td>may</td>\n",
       "      <td>1467</td>\n",
       "      <td>1</td>\n",
       "      <td>-1</td>\n",
       "      <td>0</td>\n",
       "      <td>unknown</td>\n",
       "      <td>yes</td>\n",
       "    </tr>\n",
       "    <tr>\n",
       "      <th>2</th>\n",
       "      <td>41</td>\n",
       "      <td>technician</td>\n",
       "      <td>married</td>\n",
       "      <td>secondary</td>\n",
       "      <td>no</td>\n",
       "      <td>1270</td>\n",
       "      <td>yes</td>\n",
       "      <td>no</td>\n",
       "      <td>unknown</td>\n",
       "      <td>5</td>\n",
       "      <td>may</td>\n",
       "      <td>1389</td>\n",
       "      <td>1</td>\n",
       "      <td>-1</td>\n",
       "      <td>0</td>\n",
       "      <td>unknown</td>\n",
       "      <td>yes</td>\n",
       "    </tr>\n",
       "    <tr>\n",
       "      <th>3</th>\n",
       "      <td>55</td>\n",
       "      <td>services</td>\n",
       "      <td>married</td>\n",
       "      <td>secondary</td>\n",
       "      <td>no</td>\n",
       "      <td>2476</td>\n",
       "      <td>yes</td>\n",
       "      <td>no</td>\n",
       "      <td>unknown</td>\n",
       "      <td>5</td>\n",
       "      <td>may</td>\n",
       "      <td>579</td>\n",
       "      <td>1</td>\n",
       "      <td>-1</td>\n",
       "      <td>0</td>\n",
       "      <td>unknown</td>\n",
       "      <td>yes</td>\n",
       "    </tr>\n",
       "    <tr>\n",
       "      <th>4</th>\n",
       "      <td>54</td>\n",
       "      <td>admin.</td>\n",
       "      <td>married</td>\n",
       "      <td>tertiary</td>\n",
       "      <td>no</td>\n",
       "      <td>184</td>\n",
       "      <td>no</td>\n",
       "      <td>no</td>\n",
       "      <td>unknown</td>\n",
       "      <td>5</td>\n",
       "      <td>may</td>\n",
       "      <td>673</td>\n",
       "      <td>2</td>\n",
       "      <td>-1</td>\n",
       "      <td>0</td>\n",
       "      <td>unknown</td>\n",
       "      <td>yes</td>\n",
       "    </tr>\n",
       "  </tbody>\n",
       "</table>\n",
       "</div>"
      ],
      "text/plain": [
       "   age         job  marital  education  ... pdays  previous poutcome deposit\n",
       "0   59      admin.  married  secondary  ...    -1         0  unknown     yes\n",
       "1   56      admin.  married  secondary  ...    -1         0  unknown     yes\n",
       "2   41  technician  married  secondary  ...    -1         0  unknown     yes\n",
       "3   55    services  married  secondary  ...    -1         0  unknown     yes\n",
       "4   54      admin.  married   tertiary  ...    -1         0  unknown     yes\n",
       "\n",
       "[5 rows x 17 columns]"
      ]
     },
     "execution_count": 1,
     "metadata": {
      "tags": []
     },
     "output_type": "execute_result"
    }
   ],
   "source": [
    "import pandas as pd\n",
    "import numpy as np\n",
    "import matplotlib.pyplot as plt\n",
    "import seaborn as sns\n",
    "from sklearn.cluster import KMeans\n",
    "from sklearn import datasets\n",
    "from io import StringIO\n",
    "from sklearn.tree import export_graphviz\n",
    "from sklearn.model_selection import train_test_split\n",
    "from sklearn import tree\n",
    "from sklearn import metrics\n",
    "%matplotlib inline\n",
    "\n",
    "# Loading the data file\n",
    "bank=pd.read_csv('bank.csv')\n",
    "bank.head()"
   ]
  },
  {
   "cell_type": "markdown",
   "metadata": {
    "id": "uu4A3d_X6I6l"
   },
   "source": [
    "Input variables:\n",
    "# bank client data:\n",
    "1 - `age` (numeric)\n",
    "\n",
    "2 - `job` : type of job (categorical: 'admin', 'blue-collar', 'entrepreneur', 'housemaid', 'management', 'retired', 'self-employed', 'services', 'student', 'technician', 'unemployed', 'unknown')\n",
    "\n",
    "3 - `marital` : marital status (categorical: 'divorced','married','single'; note: 'divorced' means divorced or widowed)\n",
    "\n",
    "4 - `education` (categorical: 'primary', 'secondary','tertiary')\n",
    "\n",
    "5 - `default`: has credit in default? (categorical: 'no','yes','unknown')\n",
    "\n",
    "6 - `balance`: account balance\n",
    "\n",
    "7 - `housing`: has housing loan? (categorical: 'no','yes','unknown')\n",
    "\n",
    "8 - `loan`: has personal loan? (categorical: 'no','yes','unknown')\n",
    "\n",
    "# related with the last contact of the current campaign:\n",
    "9 - `contact`: contact communication type (categorical: 'cellular','telephone')\n",
    "\n",
    "10 - `day_of_month` : 1,2....31\n",
    "\n",
    "11 - `month`: last contact month of year (categorical: 'jan', 'feb', 'mar', ..., 'nov', 'dec')\n",
    "\n",
    "12 - `duration`: last contact duration, in seconds (numeric). Important note: this attribute highly affects the output target (e.g., if duration=0 then y='no'). Yet, the duration is not known before a call is performed. Also, after the end of the call y is obviously known. Thus, this input should only be included for benchmark purposes and should be discarded if the intention is to have a realistic predictive model.\n",
    "# other attributes:\n",
    "13 - `campaign`: number of contacts performed during this campaign and for this client (numeric, includes last contact)\n",
    "\n",
    "14 - `pdays`: number of days that passed by after the client was last contacted from a previous campaign (numeric; 10000 means client was not previously contacted)\n",
    "\n",
    "15 - `previous`: number of contacts performed before this campaign and for this client (numeric)\n",
    "\n",
    "16 - `poutcome`: outcome of the previous marketing campaign (categorical: 'failure','other','success','unknown')\n",
    "\n",
    "# Output variable (desired target):\n",
    "17 - `y` - has the client subscribed a term deposit? (binary: 'yes','no')\n",
    "\n",
    "**All pre-processing is done where categorical variables are converted to numeric values and unnecessary columns are dropped.**"
   ]
  },
  {
   "cell_type": "code",
   "execution_count": 2,
   "metadata": {
    "colab": {
     "base_uri": "https://localhost:8080/",
     "height": 241
    },
    "id": "tLGM27XY6EQe",
    "outputId": "369657e9-6292-47f3-e421-d2429492b73b"
   },
   "outputs": [
    {
     "data": {
      "text/html": [
       "<div>\n",
       "<style scoped>\n",
       "    .dataframe tbody tr th:only-of-type {\n",
       "        vertical-align: middle;\n",
       "    }\n",
       "\n",
       "    .dataframe tbody tr th {\n",
       "        vertical-align: top;\n",
       "    }\n",
       "\n",
       "    .dataframe thead th {\n",
       "        text-align: right;\n",
       "    }\n",
       "</style>\n",
       "<table border=\"1\" class=\"dataframe\">\n",
       "  <thead>\n",
       "    <tr style=\"text-align: right;\">\n",
       "      <th></th>\n",
       "      <th>age</th>\n",
       "      <th>balance</th>\n",
       "      <th>duration</th>\n",
       "      <th>campaign</th>\n",
       "      <th>previous</th>\n",
       "      <th>default_cat</th>\n",
       "      <th>housing_cat</th>\n",
       "      <th>loan_cat</th>\n",
       "      <th>deposit_cat</th>\n",
       "      <th>job_admin.</th>\n",
       "      <th>job_blue-collar</th>\n",
       "      <th>job_entrepreneur</th>\n",
       "      <th>job_housemaid</th>\n",
       "      <th>job_management</th>\n",
       "      <th>job_retired</th>\n",
       "      <th>job_self-employed</th>\n",
       "      <th>job_services</th>\n",
       "      <th>job_student</th>\n",
       "      <th>job_technician</th>\n",
       "      <th>job_unemployed</th>\n",
       "      <th>job_unknown</th>\n",
       "      <th>marital_divorced</th>\n",
       "      <th>marital_married</th>\n",
       "      <th>marital_single</th>\n",
       "      <th>education_primary</th>\n",
       "      <th>education_secondary</th>\n",
       "      <th>education_tertiary</th>\n",
       "      <th>education_unknown</th>\n",
       "      <th>poutcome_failure</th>\n",
       "      <th>poutcome_other</th>\n",
       "      <th>poutcome_success</th>\n",
       "      <th>poutcome_unknown</th>\n",
       "      <th>recent_pdays</th>\n",
       "    </tr>\n",
       "  </thead>\n",
       "  <tbody>\n",
       "    <tr>\n",
       "      <th>0</th>\n",
       "      <td>59</td>\n",
       "      <td>2343</td>\n",
       "      <td>1042</td>\n",
       "      <td>1</td>\n",
       "      <td>0</td>\n",
       "      <td>0</td>\n",
       "      <td>1</td>\n",
       "      <td>0</td>\n",
       "      <td>1</td>\n",
       "      <td>1</td>\n",
       "      <td>0</td>\n",
       "      <td>0</td>\n",
       "      <td>0</td>\n",
       "      <td>0</td>\n",
       "      <td>0</td>\n",
       "      <td>0</td>\n",
       "      <td>0</td>\n",
       "      <td>0</td>\n",
       "      <td>0</td>\n",
       "      <td>0</td>\n",
       "      <td>0</td>\n",
       "      <td>0</td>\n",
       "      <td>1</td>\n",
       "      <td>0</td>\n",
       "      <td>0</td>\n",
       "      <td>1</td>\n",
       "      <td>0</td>\n",
       "      <td>0</td>\n",
       "      <td>0</td>\n",
       "      <td>0</td>\n",
       "      <td>0</td>\n",
       "      <td>1</td>\n",
       "      <td>-1.0</td>\n",
       "    </tr>\n",
       "    <tr>\n",
       "      <th>1</th>\n",
       "      <td>56</td>\n",
       "      <td>45</td>\n",
       "      <td>1467</td>\n",
       "      <td>1</td>\n",
       "      <td>0</td>\n",
       "      <td>0</td>\n",
       "      <td>0</td>\n",
       "      <td>0</td>\n",
       "      <td>1</td>\n",
       "      <td>1</td>\n",
       "      <td>0</td>\n",
       "      <td>0</td>\n",
       "      <td>0</td>\n",
       "      <td>0</td>\n",
       "      <td>0</td>\n",
       "      <td>0</td>\n",
       "      <td>0</td>\n",
       "      <td>0</td>\n",
       "      <td>0</td>\n",
       "      <td>0</td>\n",
       "      <td>0</td>\n",
       "      <td>0</td>\n",
       "      <td>1</td>\n",
       "      <td>0</td>\n",
       "      <td>0</td>\n",
       "      <td>1</td>\n",
       "      <td>0</td>\n",
       "      <td>0</td>\n",
       "      <td>0</td>\n",
       "      <td>0</td>\n",
       "      <td>0</td>\n",
       "      <td>1</td>\n",
       "      <td>-1.0</td>\n",
       "    </tr>\n",
       "    <tr>\n",
       "      <th>2</th>\n",
       "      <td>41</td>\n",
       "      <td>1270</td>\n",
       "      <td>1389</td>\n",
       "      <td>1</td>\n",
       "      <td>0</td>\n",
       "      <td>0</td>\n",
       "      <td>1</td>\n",
       "      <td>0</td>\n",
       "      <td>1</td>\n",
       "      <td>0</td>\n",
       "      <td>0</td>\n",
       "      <td>0</td>\n",
       "      <td>0</td>\n",
       "      <td>0</td>\n",
       "      <td>0</td>\n",
       "      <td>0</td>\n",
       "      <td>0</td>\n",
       "      <td>0</td>\n",
       "      <td>1</td>\n",
       "      <td>0</td>\n",
       "      <td>0</td>\n",
       "      <td>0</td>\n",
       "      <td>1</td>\n",
       "      <td>0</td>\n",
       "      <td>0</td>\n",
       "      <td>1</td>\n",
       "      <td>0</td>\n",
       "      <td>0</td>\n",
       "      <td>0</td>\n",
       "      <td>0</td>\n",
       "      <td>0</td>\n",
       "      <td>1</td>\n",
       "      <td>-1.0</td>\n",
       "    </tr>\n",
       "    <tr>\n",
       "      <th>3</th>\n",
       "      <td>55</td>\n",
       "      <td>2476</td>\n",
       "      <td>579</td>\n",
       "      <td>1</td>\n",
       "      <td>0</td>\n",
       "      <td>0</td>\n",
       "      <td>1</td>\n",
       "      <td>0</td>\n",
       "      <td>1</td>\n",
       "      <td>0</td>\n",
       "      <td>0</td>\n",
       "      <td>0</td>\n",
       "      <td>0</td>\n",
       "      <td>0</td>\n",
       "      <td>0</td>\n",
       "      <td>0</td>\n",
       "      <td>1</td>\n",
       "      <td>0</td>\n",
       "      <td>0</td>\n",
       "      <td>0</td>\n",
       "      <td>0</td>\n",
       "      <td>0</td>\n",
       "      <td>1</td>\n",
       "      <td>0</td>\n",
       "      <td>0</td>\n",
       "      <td>1</td>\n",
       "      <td>0</td>\n",
       "      <td>0</td>\n",
       "      <td>0</td>\n",
       "      <td>0</td>\n",
       "      <td>0</td>\n",
       "      <td>1</td>\n",
       "      <td>-1.0</td>\n",
       "    </tr>\n",
       "    <tr>\n",
       "      <th>4</th>\n",
       "      <td>54</td>\n",
       "      <td>184</td>\n",
       "      <td>673</td>\n",
       "      <td>2</td>\n",
       "      <td>0</td>\n",
       "      <td>0</td>\n",
       "      <td>0</td>\n",
       "      <td>0</td>\n",
       "      <td>1</td>\n",
       "      <td>1</td>\n",
       "      <td>0</td>\n",
       "      <td>0</td>\n",
       "      <td>0</td>\n",
       "      <td>0</td>\n",
       "      <td>0</td>\n",
       "      <td>0</td>\n",
       "      <td>0</td>\n",
       "      <td>0</td>\n",
       "      <td>0</td>\n",
       "      <td>0</td>\n",
       "      <td>0</td>\n",
       "      <td>0</td>\n",
       "      <td>1</td>\n",
       "      <td>0</td>\n",
       "      <td>0</td>\n",
       "      <td>0</td>\n",
       "      <td>1</td>\n",
       "      <td>0</td>\n",
       "      <td>0</td>\n",
       "      <td>0</td>\n",
       "      <td>0</td>\n",
       "      <td>1</td>\n",
       "      <td>-1.0</td>\n",
       "    </tr>\n",
       "  </tbody>\n",
       "</table>\n",
       "</div>"
      ],
      "text/plain": [
       "   age  balance  duration  ...  poutcome_success  poutcome_unknown  recent_pdays\n",
       "0   59     2343      1042  ...                 0                 1          -1.0\n",
       "1   56       45      1467  ...                 0                 1          -1.0\n",
       "2   41     1270      1389  ...                 0                 1          -1.0\n",
       "3   55     2476       579  ...                 0                 1          -1.0\n",
       "4   54      184       673  ...                 0                 1          -1.0\n",
       "\n",
       "[5 rows x 33 columns]"
      ]
     },
     "execution_count": 2,
     "metadata": {
      "tags": []
     },
     "output_type": "execute_result"
    }
   ],
   "source": [
    "# Make a copy for parsing\n",
    "bank_data = bank.copy()\n",
    "\n",
    "# Drop 'contact', as every participant has been contacted. \n",
    "bank_data.drop('contact', axis=1, inplace=True)\n",
    "# Drop 'month' and 'day' as they don't have any intrinsic meaning\n",
    "bank_data.drop('month', axis=1, inplace=True)\n",
    "bank_data.drop('day', axis=1, inplace=True)\n",
    "\n",
    "#Convert categorical values to numeric values\n",
    "# values for \"default\" : yes/no\n",
    "bank_data[\"default\"]\n",
    "bank_data['default_cat'] = bank_data['default'].map( {'yes':1, 'no':0} )\n",
    "bank_data.drop('default', axis=1,inplace = True)\n",
    "# values for \"housing\" : yes/no\n",
    "bank_data[\"housing_cat\"]=bank_data['housing'].map({'yes':1, 'no':0})\n",
    "bank_data.drop('housing', axis=1,inplace = True)\n",
    "# values for \"loan\" : yes/no\n",
    "bank_data[\"loan_cat\"] = bank_data['loan'].map({'yes':1, 'no':0})\n",
    "bank_data.drop('loan', axis=1, inplace=True)\n",
    "# values for \"deposit\" : yes/no\n",
    "bank_data[\"deposit_cat\"] = bank_data['deposit'].map({'yes':1, 'no':0})\n",
    "bank_data.drop('deposit', axis=1, inplace=True)\n",
    "\n",
    "# Convert categorical variables to dummies\n",
    "bank_data = pd.get_dummies(data=bank_data, columns = ['job', 'marital', 'education', 'poutcome'], \\\n",
    "                                   prefix = ['job', 'marital', 'education', 'poutcome'])\n",
    "\n",
    "# Convert p_days to a probability value\n",
    "bank_data['recent_pdays'] = np.where(bank_data['pdays'], 1/bank_data.pdays, 1/bank_data.pdays)\n",
    "# Drop 'pdays'\n",
    "bank_data.drop('pdays', axis=1, inplace = True)\n",
    "bank_data.head()"
   ]
  },
  {
   "cell_type": "code",
   "execution_count": 3,
   "metadata": {
    "id": "ATM7Dz-36Mcl"
   },
   "outputs": [],
   "source": [
    "# Splitting the data into training and test data with 80:20 ratio with random_state=50.\n",
    "# Building the data model\n",
    "# Train-Test split: 20% test data\n",
    "X = bank_data.drop('deposit_cat', 1)\n",
    "Y = bank_data.deposit_cat\n",
    "X_train, X_test, Y_train, Y_test = train_test_split(X, Y, test_size = 0.2, random_state = 50)"
   ]
  },
  {
   "cell_type": "markdown",
   "metadata": {
    "id": "-LbqSv_66Qk-"
   },
   "source": [
    "a. **(8 pts)** Build decision trees with depths 2, 5, 10, 20 and max depth using gini and entropy criterion; report the train and test errors. Refer to [Decision Tree](https://scikit-learn.org/stable/modules/generated/sklearn.tree.DecisionTreeClassifier.html#sklearn.tree.DecisionTreeClassifier) for more information on how to implement using sklearn.\n",
    "\n",
    "b. **(2 pts)** Explain how the train and test accuracy varies as we increase the depth of the tree.\n",
    "\n",
    "c. **(4 pts)** List the most [important feature](https://scikit-learn.org/stable/modules/generated/sklearn.tree.DecisionTreeClassifier.html#sklearn.tree.DecisionTreeClassifier.feature_importances_) for the tree with depth=2 and criterion=gini and [plot the tree](https://scikit-learn.org/stable/auto_examples/tree/plot_unveil_tree_structure.html#sphx-glr-auto-examples-tree-plot-unveil-tree-structure-py). Name this tree model as `dt2`.\n",
    "\n",
    "d. **(6 pts)** Report the accuracy and AUC for the test data and [plot the ROC curve](https://github.com/justmarkham/scikit-learn-tips/blob/master/notebooks/21_plot_roc_curve.ipynb) using `dt2`.\n"
   ]
  },
  {
   "cell_type": "markdown",
   "metadata": {
    "id": "fN5tE9Ac6lmv"
   },
   "source": [
    "# Answer 4"
   ]
  },
  {
   "cell_type": "code",
   "execution_count": 4,
   "metadata": {
    "colab": {
     "base_uri": "https://localhost:8080/"
    },
    "id": "YMOndwGs6Oi5",
    "outputId": "1f159916-d376-4b6c-98d3-a4ff487042b9"
   },
   "outputs": [
    {
     "name": "stdout",
     "output_type": "stream",
     "text": [
      "depth      Training score       Testing score       \n",
      "Depth = 2, Training score = 0.73, Testing score = 0.73\n",
      "Depth = 5, Training score = 0.80, Testing score = 0.78\n",
      "Depth = 10, Training score = 0.86, Testing score = 0.79\n",
      "Depth = 20, Training score = 0.98, Testing score = 0.74\n",
      "Depth = Max, Training score = 1.00, Testing score = 0.73\n"
     ]
    }
   ],
   "source": [
    "# Decision tree with depth = 2,3,5,10, full depth - GINI (default)\n",
    "print('{:10} {:20} {:20}'.format('depth', 'Training score','Testing score'))\n",
    "depths = [2, 5, 10, 20, None]\n",
    "for depth in depths:\n",
    "  dt = tree.DecisionTreeClassifier(max_depth=depth)\n",
    "  dt.fit(X_train, Y_train)\n",
    "  dt_score_train = dt.score(X_train, Y_train)\n",
    "  dt_score_test = dt.score(X_test, Y_test)\n",
    "  if not depth:\n",
    "      depth = 'Max'\n",
    "  print(f'Depth = {depth}, Training score = {dt_score_train:.02f}, Testing score = {dt_score_test:.02f}')"
   ]
  },
  {
   "cell_type": "code",
   "execution_count": 5,
   "metadata": {
    "colab": {
     "base_uri": "https://localhost:8080/"
    },
    "id": "ppm_W0V361YH",
    "outputId": "3db88d27-5f60-4b22-be46-5324abeffa3d"
   },
   "outputs": [
    {
     "name": "stdout",
     "output_type": "stream",
     "text": [
      "depth      Training score       Testing score       \n",
      "Depth = 2, Training score = 0.73, Testing score = 0.73\n",
      "Depth = 5, Training score = 0.75, Testing score = 0.75\n",
      "Depth = 10, Training score = 0.82, Testing score = 0.79\n",
      "Depth = 20, Training score = 0.94, Testing score = 0.76\n",
      "Depth = Max, Training score = 1.00, Testing score = 0.73\n"
     ]
    }
   ],
   "source": [
    "print('{:10} {:20} {:20}'.format('depth', 'Training score','Testing score'))\n",
    "depths = [2, 5, 10, 20, None]\n",
    "for depth in depths:\n",
    "  dt = tree.DecisionTreeClassifier(criterion='entropy', splitter='random', max_depth=depth)\n",
    "  dt.fit(X_train, Y_train)\n",
    "  dt_score_train = dt.score(X_train, Y_train)\n",
    "  dt_score_test = dt.score(X_test, Y_test)\n",
    "  if not depth:\n",
    "      depth = 'Max'\n",
    "  print(f'Depth = {depth}, Training score = {dt_score_train:.02f}, Testing score = {dt_score_test:.02f}')"
   ]
  },
  {
   "cell_type": "markdown",
   "metadata": {
    "id": "v6E0HfQi71DT"
   },
   "source": [
    "## (b)\n",
    "\n",
    "It is seen that, greater the depth, training score increases and matches perfects with the training data set. However higher the depth the tree goes, it overfit to the training data set. So it's no use keep increasing the tree depth. According to above observations, tree with a depth of 10 seems more reasonable as both training and test scores are reasonably high."
   ]
  },
  {
   "cell_type": "code",
   "execution_count": 6,
   "metadata": {
    "colab": {
     "base_uri": "https://localhost:8080/"
    },
    "id": "j17nVhi-7xQR",
    "outputId": "0b5ee892-fc2c-4157-c733-3535dd130eba"
   },
   "outputs": [
    {
     "name": "stdout",
     "output_type": "stream",
     "text": [
      "age................. 0.000\n",
      "balance............. 0.000\n",
      "duration............ 0.849\n",
      "campaign............ 0.000\n",
      "previous............ 0.000\n",
      "default_cat......... 0.000\n",
      "housing_cat......... 0.000\n",
      "loan_cat............ 0.000\n",
      "job_admin........... 0.000\n",
      "job_blue-collar..... 0.000\n",
      "job_entrepreneur.... 0.000\n",
      "job_housemaid....... 0.000\n",
      "job_management...... 0.000\n",
      "job_retired......... 0.000\n",
      "job_self-employed... 0.000\n",
      "job_services........ 0.000\n",
      "job_student......... 0.000\n",
      "job_technician...... 0.000\n",
      "job_unemployed...... 0.000\n",
      "job_unknown......... 0.000\n",
      "marital_divorced.... 0.000\n",
      "marital_married..... 0.000\n",
      "marital_single...... 0.000\n",
      "education_primary... 0.000\n",
      "education_secondary. 0.000\n",
      "education_tertiary.. 0.000\n",
      "education_unknown... 0.000\n",
      "poutcome_failure.... 0.000\n",
      "poutcome_other...... 0.000\n",
      "poutcome_success.... 0.151\n",
      "poutcome_unknown.... 0.000\n",
      "recent_pdays........ 0.000\n"
     ]
    }
   ],
   "source": [
    "# Part c\n",
    "\n",
    "features = X_train.columns.tolist()\n",
    "# Investigate most important features with depth = 2\n",
    "dt2 = tree.DecisionTreeClassifier(max_depth=2)\n",
    "# Fit the decision tree classifier\n",
    "dt2.fit(X_train, Y_train)\n",
    "fi = dt2.feature_importances_\n",
    "l = len(features)\n",
    "for i in range(0,len(features)):\n",
    "    print('{:.<20} {:.3f}'.format(features[i],fi[i]))"
   ]
  },
  {
   "cell_type": "code",
   "execution_count": 7,
   "metadata": {
    "colab": {
     "base_uri": "https://localhost:8080/",
     "height": 683
    },
    "id": "q9rV9Y6r8Gkq",
    "outputId": "6cd8b3a9-09c7-4a6c-fe40-c3974bff6ac0"
   },
   "outputs": [
    {
     "data": {
      "image/png": "[encoded data removed]",
      "text/plain": [
       "<Figure size 864x864 with 1 Axes>"
      ]
     },
     "metadata": {
      "needs_background": "light",
      "tags": []
     },
     "output_type": "display_data"
    }
   ],
   "source": [
    "plt.figure(figsize=(12, 12,))\n",
    "tree.plot_tree(dt2)\n",
    "plt.show()"
   ]
  },
  {
   "cell_type": "code",
   "execution_count": 8,
   "metadata": {
    "colab": {
     "base_uri": "https://localhost:8080/"
    },
    "id": "LGN5tpp18Pr_",
    "outputId": "2a50e633-936a-49e0-8c2f-e63a7e9305ae"
   },
   "outputs": [
    {
     "name": "stdout",
     "output_type": "stream",
     "text": [
      "\n",
      "Accuracy score: 0.727\n"
     ]
    }
   ],
   "source": [
    "# Part d\n",
    "\n",
    "# Make predictions on the test set\n",
    "Y_pred = dt2.predict(X_test)\n",
    "\n",
    "# Calculate accuracy\n",
    "print(f\"\\nAccuracy score: {metrics.accuracy_score(Y_test, Y_pred):.3f}\")"
   ]
  },
  {
   "cell_type": "code",
   "execution_count": 8,
   "metadata": {
    "id": "BJy7nNFotzQ-"
   },
   "outputs": [],
   "source": []
  },
  {
   "cell_type": "markdown",
   "metadata": {
    "id": "A_O25Eei1w_S"
   },
   "source": [
    "# Question 5 - Concepts (15 pts)\n",
    "\n",
    "**Submit answers if these topics are covered in class before the deadline. Otherwise, you don't need to complete them.**\n",
    "\n",
    "1. (3+3+4 pts) Briefly describe what you understand by a Lift curve/chart. How is it similar to an ROC curve and in what way is it different? Provide an example where you might prefer using Lift (for a certain decile) over AUROC (AUC) as a point measure of the performance of your classifier. (Point measure means evaluation using a single numeric value).\n",
    "\n",
    "2. (5 pts) Explain what it means to calibrate a classifier. Give an example of an application where having a well calibrated model is important, and it is not enough to just estimate what the most likely class label is for a given data point."
   ]
  },
  {
   "cell_type": "markdown",
   "metadata": {
    "id": "E8JIU2wZ25EH"
   },
   "source": [
    "# Answer 5\n",
    "1. Text\n",
    "\n",
    "2. Text"
   ]
  },
  {
   "cell_type": "code",
   "execution_count": 8,
   "metadata": {
    "id": "RypGNlnM-FdL"
   },
   "outputs": [],
   "source": []
  }
 ],
 "metadata": {
  "colab": {
   "collapsed_sections": [],
   "name": "hw4solns.ipynb",
   "provenance": [],
   "toc_visible": true
  },
  "kernelspec": {
   "display_name": "Python 3",
   "language": "python",
   "name": "python3"
  },
  "language_info": {
   "codemirror_mode": {
    "name": "ipython",
    "version": 3
   },
   "file_extension": ".py",
   "mimetype": "text/x-python",
   "name": "python",
   "nbconvert_exporter": "python",
   "pygments_lexer": "ipython3",
   "version": "3.8.3"
  }
 },
 "nbformat": 4,
 "nbformat_minor": 1
}
