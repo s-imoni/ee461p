{
 "cells": [
  {
   "cell_type": "markdown",
   "metadata": {
    "id": "1MoxuQFknkJH"
   },
   "source": [
    "## EE 461P: Data Science Principles  \n",
    "### Assignment 5 \n",
    "### Total points: 100 pts\n",
    "### Due: April 22, 2021 submitted via Canvas by 11:59 pm  \n",
    "\n",
    "Your homework should be written in a **Jupyter notebook**. You may work in groups of two if you wish. Only one student per team needs to submit the assignment on Canvas.  But be sure to include name and UT eID for both students.  Homework groups will be created and managed through Canvas, so please do not arbitrarily change your homework group. If you do change, let the TAs know.\n",
    "\n",
    "Also, please make sure your code runs and the graphics (and anything else) are displayed in your notebook before submitting. (%matplotlib inline). You can also follow the below steps to embed an image,\n",
    "* Set cell mode to Markdown\n",
    "* Drag and drop your image into the cell. The following command will be created:\n",
    "`![image.png](attachment:image.png)` \n",
    "* Execute/Run the cell and the image will be displayed. Once you submit make sure to download the notebook and verify if the image exists.\n",
    "\n",
    "### Name(s) and EID(s):\n",
    "1. Simoni Maniar (ssm3256)\n",
    "2. Julian Fritz (jjf2459)\n",
    "\n",
    "### Homework group No.:  2\n",
    " \n",
    "\n",
    "`NOTE : Fill the Name and EID section along with group number without fail.`"
   ]
  },
  {
   "cell_type": "markdown",
   "metadata": {
    "id": "SYFulpYpn2mZ"
   },
   "source": [
    "# Question 1 - Decision Tree (5 pts) \n",
    "Previous Homework Question Carried Forward"
   ]
  },
  {
   "cell_type": "markdown",
   "metadata": {
    "id": "ljEofjXXnwcb"
   },
   "source": [
    "In this question, we will use the same loan dataset from the previous homework, to predict if a customer will subscribe or no (yes/no)."
   ]
  },
  {
   "cell_type": "code",
   "execution_count": 1,
   "metadata": {
    "colab": {
     "base_uri": "https://localhost:8080/",
     "height": 191
    },
    "executionInfo": {
     "elapsed": 1236,
     "status": "ok",
     "timestamp": 1618355135183,
     "user": {
      "displayName": "Uma Bharathi Govindarajan",
      "photoUrl": "",
      "userId": "04445116921930330565"
     },
     "user_tz": 300
    },
    "id": "W5uXNCrZnvdG",
    "outputId": "fe318703-4827-4554-a619-346efc3b3bc7"
   },
   "outputs": [
    {
     "data": {
      "text/html": [
       "<div>\n",
       "<style scoped>\n",
       "    .dataframe tbody tr th:only-of-type {\n",
       "        vertical-align: middle;\n",
       "    }\n",
       "\n",
       "    .dataframe tbody tr th {\n",
       "        vertical-align: top;\n",
       "    }\n",
       "\n",
       "    .dataframe thead th {\n",
       "        text-align: right;\n",
       "    }\n",
       "</style>\n",
       "<table border=\"1\" class=\"dataframe\">\n",
       "  <thead>\n",
       "    <tr style=\"text-align: right;\">\n",
       "      <th></th>\n",
       "      <th>age</th>\n",
       "      <th>job</th>\n",
       "      <th>marital</th>\n",
       "      <th>education</th>\n",
       "      <th>default</th>\n",
       "      <th>balance</th>\n",
       "      <th>housing</th>\n",
       "      <th>loan</th>\n",
       "      <th>contact</th>\n",
       "      <th>day</th>\n",
       "      <th>month</th>\n",
       "      <th>duration</th>\n",
       "      <th>campaign</th>\n",
       "      <th>pdays</th>\n",
       "      <th>previous</th>\n",
       "      <th>poutcome</th>\n",
       "      <th>deposit</th>\n",
       "    </tr>\n",
       "  </thead>\n",
       "  <tbody>\n",
       "    <tr>\n",
       "      <th>0</th>\n",
       "      <td>59</td>\n",
       "      <td>admin.</td>\n",
       "      <td>married</td>\n",
       "      <td>secondary</td>\n",
       "      <td>no</td>\n",
       "      <td>2343</td>\n",
       "      <td>yes</td>\n",
       "      <td>no</td>\n",
       "      <td>unknown</td>\n",
       "      <td>5</td>\n",
       "      <td>may</td>\n",
       "      <td>1042</td>\n",
       "      <td>1</td>\n",
       "      <td>-1</td>\n",
       "      <td>0</td>\n",
       "      <td>unknown</td>\n",
       "      <td>yes</td>\n",
       "    </tr>\n",
       "    <tr>\n",
       "      <th>1</th>\n",
       "      <td>56</td>\n",
       "      <td>admin.</td>\n",
       "      <td>married</td>\n",
       "      <td>secondary</td>\n",
       "      <td>no</td>\n",
       "      <td>45</td>\n",
       "      <td>no</td>\n",
       "      <td>no</td>\n",
       "      <td>unknown</td>\n",
       "      <td>5</td>\n",
       "      <td>may</td>\n",
       "      <td>1467</td>\n",
       "      <td>1</td>\n",
       "      <td>-1</td>\n",
       "      <td>0</td>\n",
       "      <td>unknown</td>\n",
       "      <td>yes</td>\n",
       "    </tr>\n",
       "    <tr>\n",
       "      <th>2</th>\n",
       "      <td>41</td>\n",
       "      <td>technician</td>\n",
       "      <td>married</td>\n",
       "      <td>secondary</td>\n",
       "      <td>no</td>\n",
       "      <td>1270</td>\n",
       "      <td>yes</td>\n",
       "      <td>no</td>\n",
       "      <td>unknown</td>\n",
       "      <td>5</td>\n",
       "      <td>may</td>\n",
       "      <td>1389</td>\n",
       "      <td>1</td>\n",
       "      <td>-1</td>\n",
       "      <td>0</td>\n",
       "      <td>unknown</td>\n",
       "      <td>yes</td>\n",
       "    </tr>\n",
       "    <tr>\n",
       "      <th>3</th>\n",
       "      <td>55</td>\n",
       "      <td>services</td>\n",
       "      <td>married</td>\n",
       "      <td>secondary</td>\n",
       "      <td>no</td>\n",
       "      <td>2476</td>\n",
       "      <td>yes</td>\n",
       "      <td>no</td>\n",
       "      <td>unknown</td>\n",
       "      <td>5</td>\n",
       "      <td>may</td>\n",
       "      <td>579</td>\n",
       "      <td>1</td>\n",
       "      <td>-1</td>\n",
       "      <td>0</td>\n",
       "      <td>unknown</td>\n",
       "      <td>yes</td>\n",
       "    </tr>\n",
       "    <tr>\n",
       "      <th>4</th>\n",
       "      <td>54</td>\n",
       "      <td>admin.</td>\n",
       "      <td>married</td>\n",
       "      <td>tertiary</td>\n",
       "      <td>no</td>\n",
       "      <td>184</td>\n",
       "      <td>no</td>\n",
       "      <td>no</td>\n",
       "      <td>unknown</td>\n",
       "      <td>5</td>\n",
       "      <td>may</td>\n",
       "      <td>673</td>\n",
       "      <td>2</td>\n",
       "      <td>-1</td>\n",
       "      <td>0</td>\n",
       "      <td>unknown</td>\n",
       "      <td>yes</td>\n",
       "    </tr>\n",
       "  </tbody>\n",
       "</table>\n",
       "</div>"
      ],
      "text/plain": [
       "   age         job  marital  education default  balance housing loan  contact  \\\n",
       "0   59      admin.  married  secondary      no     2343     yes   no  unknown   \n",
       "1   56      admin.  married  secondary      no       45      no   no  unknown   \n",
       "2   41  technician  married  secondary      no     1270     yes   no  unknown   \n",
       "3   55    services  married  secondary      no     2476     yes   no  unknown   \n",
       "4   54      admin.  married   tertiary      no      184      no   no  unknown   \n",
       "\n",
       "   day month  duration  campaign  pdays  previous poutcome deposit  \n",
       "0    5   may      1042         1     -1         0  unknown     yes  \n",
       "1    5   may      1467         1     -1         0  unknown     yes  \n",
       "2    5   may      1389         1     -1         0  unknown     yes  \n",
       "3    5   may       579         1     -1         0  unknown     yes  \n",
       "4    5   may       673         2     -1         0  unknown     yes  "
      ]
     },
     "execution_count": 1,
     "metadata": {},
     "output_type": "execute_result"
    }
   ],
   "source": [
    "import pandas as pd\n",
    "import numpy as np\n",
    "import matplotlib.pyplot as plt\n",
    "import seaborn as sns\n",
    "from sklearn.cluster import KMeans\n",
    "from sklearn import datasets\n",
    "from io import StringIO\n",
    "from sklearn.tree import export_graphviz\n",
    "from sklearn.model_selection import train_test_split\n",
    "from sklearn import tree\n",
    "from sklearn import metrics\n",
    "%matplotlib inline\n",
    "\n",
    "# Loading the data file\n",
    "bank=pd.read_csv('bank.csv')\n",
    "bank.head()"
   ]
  },
  {
   "cell_type": "markdown",
   "metadata": {
    "id": "DRzXVqb4pCNE"
   },
   "source": [
    "Input variables:\n",
    "# bank client data:\n",
    "1 - `age` (numeric)\n",
    "\n",
    "2 - `job` : type of job (categorical: 'admin', 'blue-collar', 'entrepreneur', 'housemaid', 'management', 'retired', 'self-employed', 'services', 'student', 'technician', 'unemployed', 'unknown')\n",
    "\n",
    "3 - `marital` : marital status (categorical: 'divorced','married','single'; note: 'divorced' means divorced or widowed)\n",
    "\n",
    "4 - `education` (categorical: 'primary', 'secondary','tertiary')\n",
    "\n",
    "5 - `default`: has credit in default? (categorical: 'no','yes','unknown')\n",
    "\n",
    "6 - `balance`: account balance\n",
    "\n",
    "7 - `housing`: has housing loan? (categorical: 'no','yes','unknown')\n",
    "\n",
    "8 - `loan`: has personal loan? (categorical: 'no','yes','unknown')\n",
    "\n",
    "# related with the last contact of the current campaign:\n",
    "9 - `contact`: contact communication type (categorical: 'cellular','telephone')\n",
    "\n",
    "10 - `day_of_month` : 1,2....31\n",
    "\n",
    "11 - `month`: last contact month of year (categorical: 'jan', 'feb', 'mar', ..., 'nov', 'dec')\n",
    "\n",
    "12 - `duration`: last contact duration, in seconds (numeric). Important note: this attribute highly affects the output target (e.g., if duration=0 then y='no'). Yet, the duration is not known before a call is performed. Also, after the end of the call y is obviously known. Thus, this input should only be included for benchmark purposes and should be discarded if the intention is to have a realistic predictive model.\n",
    "# other attributes:\n",
    "13 - `campaign`: number of contacts performed during this campaign and for this client (numeric, includes last contact)\n",
    "\n",
    "14 - `pdays`: number of days that passed by after the client was last contacted from a previous campaign (numeric; 10000 means client was not previously contacted)\n",
    "\n",
    "15 - `previous`: number of contacts performed before this campaign and for this client (numeric)\n",
    "\n",
    "16 - `poutcome`: outcome of the previous marketing campaign (categorical: 'failure','other','success','unknown')\n",
    "\n",
    "# Output variable (desired target):\n",
    "17 - `y` - has the client subscribed a term deposit? (binary: 'yes','no')\n",
    "\n",
    "**All pre-processing is done where categorical variables are converted to numeric values and unnecessary columns are dropped.**"
   ]
  },
  {
   "cell_type": "code",
   "execution_count": 2,
   "metadata": {
    "colab": {
     "base_uri": "https://localhost:8080/",
     "height": 227
    },
    "executionInfo": {
     "elapsed": 409,
     "status": "ok",
     "timestamp": 1618355136821,
     "user": {
      "displayName": "Uma Bharathi Govindarajan",
      "photoUrl": "",
      "userId": "04445116921930330565"
     },
     "user_tz": 300
    },
    "id": "dbpj4Grxo_Qp",
    "outputId": "444cb30e-55aa-43eb-d1b1-68d5757e34d7"
   },
   "outputs": [
    {
     "data": {
      "text/html": [
       "<div>\n",
       "<style scoped>\n",
       "    .dataframe tbody tr th:only-of-type {\n",
       "        vertical-align: middle;\n",
       "    }\n",
       "\n",
       "    .dataframe tbody tr th {\n",
       "        vertical-align: top;\n",
       "    }\n",
       "\n",
       "    .dataframe thead th {\n",
       "        text-align: right;\n",
       "    }\n",
       "</style>\n",
       "<table border=\"1\" class=\"dataframe\">\n",
       "  <thead>\n",
       "    <tr style=\"text-align: right;\">\n",
       "      <th></th>\n",
       "      <th>age</th>\n",
       "      <th>balance</th>\n",
       "      <th>duration</th>\n",
       "      <th>campaign</th>\n",
       "      <th>previous</th>\n",
       "      <th>default_cat</th>\n",
       "      <th>housing_cat</th>\n",
       "      <th>loan_cat</th>\n",
       "      <th>deposit_cat</th>\n",
       "      <th>job_admin.</th>\n",
       "      <th>...</th>\n",
       "      <th>marital_single</th>\n",
       "      <th>education_primary</th>\n",
       "      <th>education_secondary</th>\n",
       "      <th>education_tertiary</th>\n",
       "      <th>education_unknown</th>\n",
       "      <th>poutcome_failure</th>\n",
       "      <th>poutcome_other</th>\n",
       "      <th>poutcome_success</th>\n",
       "      <th>poutcome_unknown</th>\n",
       "      <th>recent_pdays</th>\n",
       "    </tr>\n",
       "  </thead>\n",
       "  <tbody>\n",
       "    <tr>\n",
       "      <th>0</th>\n",
       "      <td>59</td>\n",
       "      <td>2343</td>\n",
       "      <td>1042</td>\n",
       "      <td>1</td>\n",
       "      <td>0</td>\n",
       "      <td>0</td>\n",
       "      <td>1</td>\n",
       "      <td>0</td>\n",
       "      <td>1</td>\n",
       "      <td>1</td>\n",
       "      <td>...</td>\n",
       "      <td>0</td>\n",
       "      <td>0</td>\n",
       "      <td>1</td>\n",
       "      <td>0</td>\n",
       "      <td>0</td>\n",
       "      <td>0</td>\n",
       "      <td>0</td>\n",
       "      <td>0</td>\n",
       "      <td>1</td>\n",
       "      <td>-1.0</td>\n",
       "    </tr>\n",
       "    <tr>\n",
       "      <th>1</th>\n",
       "      <td>56</td>\n",
       "      <td>45</td>\n",
       "      <td>1467</td>\n",
       "      <td>1</td>\n",
       "      <td>0</td>\n",
       "      <td>0</td>\n",
       "      <td>0</td>\n",
       "      <td>0</td>\n",
       "      <td>1</td>\n",
       "      <td>1</td>\n",
       "      <td>...</td>\n",
       "      <td>0</td>\n",
       "      <td>0</td>\n",
       "      <td>1</td>\n",
       "      <td>0</td>\n",
       "      <td>0</td>\n",
       "      <td>0</td>\n",
       "      <td>0</td>\n",
       "      <td>0</td>\n",
       "      <td>1</td>\n",
       "      <td>-1.0</td>\n",
       "    </tr>\n",
       "    <tr>\n",
       "      <th>2</th>\n",
       "      <td>41</td>\n",
       "      <td>1270</td>\n",
       "      <td>1389</td>\n",
       "      <td>1</td>\n",
       "      <td>0</td>\n",
       "      <td>0</td>\n",
       "      <td>1</td>\n",
       "      <td>0</td>\n",
       "      <td>1</td>\n",
       "      <td>0</td>\n",
       "      <td>...</td>\n",
       "      <td>0</td>\n",
       "      <td>0</td>\n",
       "      <td>1</td>\n",
       "      <td>0</td>\n",
       "      <td>0</td>\n",
       "      <td>0</td>\n",
       "      <td>0</td>\n",
       "      <td>0</td>\n",
       "      <td>1</td>\n",
       "      <td>-1.0</td>\n",
       "    </tr>\n",
       "    <tr>\n",
       "      <th>3</th>\n",
       "      <td>55</td>\n",
       "      <td>2476</td>\n",
       "      <td>579</td>\n",
       "      <td>1</td>\n",
       "      <td>0</td>\n",
       "      <td>0</td>\n",
       "      <td>1</td>\n",
       "      <td>0</td>\n",
       "      <td>1</td>\n",
       "      <td>0</td>\n",
       "      <td>...</td>\n",
       "      <td>0</td>\n",
       "      <td>0</td>\n",
       "      <td>1</td>\n",
       "      <td>0</td>\n",
       "      <td>0</td>\n",
       "      <td>0</td>\n",
       "      <td>0</td>\n",
       "      <td>0</td>\n",
       "      <td>1</td>\n",
       "      <td>-1.0</td>\n",
       "    </tr>\n",
       "    <tr>\n",
       "      <th>4</th>\n",
       "      <td>54</td>\n",
       "      <td>184</td>\n",
       "      <td>673</td>\n",
       "      <td>2</td>\n",
       "      <td>0</td>\n",
       "      <td>0</td>\n",
       "      <td>0</td>\n",
       "      <td>0</td>\n",
       "      <td>1</td>\n",
       "      <td>1</td>\n",
       "      <td>...</td>\n",
       "      <td>0</td>\n",
       "      <td>0</td>\n",
       "      <td>0</td>\n",
       "      <td>1</td>\n",
       "      <td>0</td>\n",
       "      <td>0</td>\n",
       "      <td>0</td>\n",
       "      <td>0</td>\n",
       "      <td>1</td>\n",
       "      <td>-1.0</td>\n",
       "    </tr>\n",
       "  </tbody>\n",
       "</table>\n",
       "<p>5 rows × 33 columns</p>\n",
       "</div>"
      ],
      "text/plain": [
       "   age  balance  duration  campaign  previous  default_cat  housing_cat  \\\n",
       "0   59     2343      1042         1         0            0            1   \n",
       "1   56       45      1467         1         0            0            0   \n",
       "2   41     1270      1389         1         0            0            1   \n",
       "3   55     2476       579         1         0            0            1   \n",
       "4   54      184       673         2         0            0            0   \n",
       "\n",
       "   loan_cat  deposit_cat  job_admin.  ...  marital_single  education_primary  \\\n",
       "0         0            1           1  ...               0                  0   \n",
       "1         0            1           1  ...               0                  0   \n",
       "2         0            1           0  ...               0                  0   \n",
       "3         0            1           0  ...               0                  0   \n",
       "4         0            1           1  ...               0                  0   \n",
       "\n",
       "   education_secondary  education_tertiary  education_unknown  \\\n",
       "0                    1                   0                  0   \n",
       "1                    1                   0                  0   \n",
       "2                    1                   0                  0   \n",
       "3                    1                   0                  0   \n",
       "4                    0                   1                  0   \n",
       "\n",
       "   poutcome_failure  poutcome_other  poutcome_success  poutcome_unknown  \\\n",
       "0                 0               0                 0                 1   \n",
       "1                 0               0                 0                 1   \n",
       "2                 0               0                 0                 1   \n",
       "3                 0               0                 0                 1   \n",
       "4                 0               0                 0                 1   \n",
       "\n",
       "   recent_pdays  \n",
       "0          -1.0  \n",
       "1          -1.0  \n",
       "2          -1.0  \n",
       "3          -1.0  \n",
       "4          -1.0  \n",
       "\n",
       "[5 rows x 33 columns]"
      ]
     },
     "execution_count": 2,
     "metadata": {},
     "output_type": "execute_result"
    }
   ],
   "source": [
    "# Make a copy for parsing\n",
    "bank_data = bank.copy()\n",
    "\n",
    "# Drop 'contact', as every participant has been contacted. \n",
    "bank_data.drop('contact', axis=1, inplace=True)\n",
    "# Drop 'month' and 'day' as they don't have any intrinsic meaning\n",
    "bank_data.drop('month', axis=1, inplace=True)\n",
    "bank_data.drop('day', axis=1, inplace=True)\n",
    "\n",
    "#Convert categorical values to numeric values\n",
    "# values for \"default\" : yes/no\n",
    "bank_data[\"default\"]\n",
    "bank_data['default_cat'] = bank_data['default'].map( {'yes':1, 'no':0} )\n",
    "bank_data.drop('default', axis=1,inplace = True)\n",
    "# values for \"housing\" : yes/no\n",
    "bank_data[\"housing_cat\"]=bank_data['housing'].map({'yes':1, 'no':0})\n",
    "bank_data.drop('housing', axis=1,inplace = True)\n",
    "# values for \"loan\" : yes/no\n",
    "bank_data[\"loan_cat\"] = bank_data['loan'].map({'yes':1, 'no':0})\n",
    "bank_data.drop('loan', axis=1, inplace=True)\n",
    "# values for \"deposit\" : yes/no\n",
    "bank_data[\"deposit_cat\"] = bank_data['deposit'].map({'yes':1, 'no':0})\n",
    "bank_data.drop('deposit', axis=1, inplace=True)\n",
    "\n",
    "# Convert categorical variables to dummies\n",
    "bank_data = pd.get_dummies(data=bank_data, columns = ['job', 'marital', 'education', 'poutcome'], \\\n",
    "                                   prefix = ['job', 'marital', 'education', 'poutcome'])\n",
    "\n",
    "# Convert p_days to a probability value\n",
    "bank_data['recent_pdays'] = np.where(bank_data['pdays'], 1/bank_data.pdays, 1/bank_data.pdays)\n",
    "# Drop 'pdays'\n",
    "bank_data.drop('pdays', axis=1, inplace = True)\n",
    "bank_data.head()"
   ]
  },
  {
   "cell_type": "code",
   "execution_count": 3,
   "metadata": {
    "id": "qZ4n4sVzo_OO"
   },
   "outputs": [],
   "source": [
    "# Splitting the data into training and test data with 80:20 ratio with random_state=50.\n",
    "# Building the data model\n",
    "# Train-Test split: 20% test data\n",
    "X = bank_data.drop('deposit_cat', 1)\n",
    "Y = bank_data.deposit_cat\n",
    "X_train, X_test, Y_train, Y_test = train_test_split(X, Y, test_size = 0.2, random_state = 50)"
   ]
  },
  {
   "cell_type": "markdown",
   "metadata": {
    "id": "g8f2LPiDpb6-"
   },
   "source": [
    "Same question from previous homework carried forward,\n",
    "\n",
    "**(5 pts)** Build decision tree with depth = 2 and criterion = Gini. Refer to [Decision Tree](https://scikit-learn.org/stable/modules/generated/sklearn.tree.DecisionTreeClassifier.html#sklearn.tree.DecisionTreeClassifier) for more information on how to implement using sklearn. Report the accuracy and AUC for the test data and [plot the ROC curve](https://github.com/justmarkham/scikit-learn-tips/blob/master/notebooks/21_plot_roc_curve.ipynb) using the decision tree.\n",
    "\n",
    "\n",
    "\n"
   ]
  },
  {
   "cell_type": "code",
   "execution_count": 4,
   "metadata": {
    "id": "l5SxkGVfNGMk"
   },
   "outputs": [
    {
     "name": "stdout",
     "output_type": "stream",
     "text": [
      "\n",
      "Accuracy score: 0.727\n",
      "\n",
      "AUC: 0.734\n"
     ]
    },
    {
     "data": {
      "image/png": "[encoded data removed]",
      "text/plain": [
       "<Figure size 432x288 with 1 Axes>"
      ]
     },
     "metadata": {
      "needs_background": "light"
     },
     "output_type": "display_data"
    }
   ],
   "source": [
    "dt = tree.DecisionTreeClassifier(criterion='gini', max_depth=2)\n",
    "Y_pred = dt.fit(X_train, Y_train).predict(X_test)\n",
    "\n",
    "# Calculate accuracy\n",
    "print(f\"\\nAccuracy score: {metrics.accuracy_score(Y_test, Y_pred):.3f}\")\n",
    "fpr, tpr, t = metrics.roc_curve(Y_test, Y_pred)\n",
    "print(f\"\\nAUC: {metrics.auc(fpr, tpr):.3f}\")\n",
    "metrics.plot_roc_curve(dt, X_test, Y_test);"
   ]
  },
  {
   "cell_type": "markdown",
   "metadata": {
    "id": "ynCIHqG6PmWZ"
   },
   "source": [
    "# Question 2 - Concepts (15 pts)\n",
    "Previous Homework Question Carried Forward\n",
    "\n",
    "**(3+3+4 pts) Part a)**. Briefly describe what you understand by a Lift curve/chart. How is it similar to an ROC curve and in what way is it different? Provide an example where you might prefer using Lift (for a certain decile) over AUROC (AUC) as a point measure of the performance of your classifier. (Point measure means evaluation using a single numeric value).\n",
    "\n",
    "**(5 pts) Part b)**. Explain what it means to calibrate a classifier. Give an example of an application where having a well calibrated model is important, and it is not enough to just estimate what the most likely class label is for a given data point."
   ]
  },
  {
   "cell_type": "markdown",
   "metadata": {
    "id": "YNolCJzcPl9b"
   },
   "source": [
    "#### Part a)\n",
    "What I understand from a Lift curve is that Lift is the ratio between the results obtained from data with and without a predictive model. Plotting this Lift value on the y-axis with percentage of data used on the x-axis gives the Lift curve that would show how much better it is to use only the best x amount of data that the model predicted is the best data. For example, if the lift value at x=10% of the data is 3, that means that you would get 3x more positive results using those best 10% of data than if you used a random 10% of the data. If the Lift value at x=10% is 1, that means the model did nothing and using the model's best 10% of data is the same as using a random 10% of data.  \n",
    "\n",
    "It is similar to an ROC curve in that it uses a ratio of the model performance, except with ROC it's the ratio between True positive rate and False positive rate. With Lift, it's the ratio between the percentage of positive (1) results predicted by the model and the percentage of positive results when data is picked with no model.  \n",
    "\n",
    "A classic example where it would be preferable to use Lift is in a model for a marketing campaign, where a company wants to contact customers and see how many positive responses they get. To reduce costs, the campaign wants to target only a percentage of their customers, and the model predicts which customers would be best to contact. The Lift point measure would give the value for how much higher percentage of positive responses they get with the model vs. choosing that many customers without the model. So the higher the Lift value, the more effective the model is at predicting which customers will respond."
   ]
  },
  {
   "cell_type": "markdown",
   "metadata": {},
   "source": [
    "#### Part b)\n",
    "Calibrating a classifier means that the outputted predicted probability of a label for a given data point actually corresponds to a confidence level. For example, if a calibrated binary classifier says that a given data point has a 0.8 probability of being 1, then we can be approximately 80% confident that that datapoint has a label of 1. An uncalibrated classifier's predicted probability is typically biased, so a 0.8 probability could be 80% confident, or 60% confident, or whatever the bias is.  \n",
    "\n",
    "An example of an application where having a well calibrated model is important could be a model that is predicting a chance of survival for an ill patient. Having an uncalibrated probability of a patient's survival would be a very unstatisfactory metric; the patient or patient's family would want to know exactly the probability of survival. If the uncalibrated model outputted a 0.8 probability of survival, but in reality a calibrated model would've mapped that 0.8 to a 50% chance of survival, then they might have to face the consequences of an unexpected death, and the model wouldn't have done its job. "
   ]
  },
  {
   "cell_type": "markdown",
   "metadata": {
    "id": "MLRiZShBVILb"
   },
   "source": [
    "# Question 3 - Multi-Class Classification - 10 pts \n",
    "\n",
    "In this problem, we will explore multi-class classification using different machine learning models. We will be predicting the glass type from the 10 features listed below, There are 7 class/category as highlighted, use the given code to load the dataset."
   ]
  },
  {
   "cell_type": "markdown",
   "metadata": {
    "id": "zFr2ZZVbY8fv"
   },
   "source": [
    "Attribute Information:\n",
    "   * Id number: 1 to 214\n",
    "   * RI: refractive index\n",
    "   * Na: Sodium (unit measurement: weight percent in corresponding oxide, as are attributes 4-10)\n",
    "   * Mg: Magnesium\n",
    "   * Al: Aluminum\n",
    "   * Si: Silicon\n",
    "   * K: Potassium\n",
    "   * Ca: Calcium\n",
    "   * Ba: Barium\n",
    "   * Fe: Iron\n",
    "\n",
    "Class Attribute : Type of glass\n",
    "  * 1 - building_windows_float_processed\n",
    "  * 2 - building_windows_non_float_processed\n",
    "  * 3 - vehicle_windows_float_processed\n",
    "  * 4 - vehicle_windows_non_float_processed (none in this database)\n",
    "  * 5 - containers\n",
    "  * 6 - tableware\n",
    "  * 7 - headlamps"
   ]
  },
  {
   "cell_type": "code",
   "execution_count": 5,
   "metadata": {
    "id": "fMbul9XrS3L9"
   },
   "outputs": [],
   "source": [
    "from sklearn.linear_model import LogisticRegression\n",
    "\n",
    "df = pd.read_csv(\"glass.data\",header=None)\n",
    "y = df.iloc[:,10]\n",
    "X = df.iloc[:,1:10]\n",
    "\n",
    "X_train, X_test, Y_train, Y_test = train_test_split(X, y, test_size = 0.2, random_state = 50)"
   ]
  },
  {
   "cell_type": "markdown",
   "metadata": {
    "id": "iM58orudc0gi"
   },
   "source": [
    "* **Part a)** Fit a decision tree with default parameters using train data. Refer to [Decision Tree](https://scikit-learn.org/stable/modules/generated/sklearn.tree.DecisionTreeClassifier.html#sklearn.tree.DecisionTreeClassifier) for more information on how to implement using sklearn. Report the accuracy and plot the confusion matrix for the test data using the decision tree. Refer [here](https://scikit-learn.org/stable/modules/generated/sklearn.metrics.plot_confusion_matrix.html) for plotting the confusion matrix.**[2.5pts]**\n",
    "\n",
    "* **Part b)** Create a logistic regression model, with default parameters and max_iter = 10000. Fit the model on train data and report the accuracy and confusion matrix on test data. **[2.5pts]**\n",
    "\n",
    "* **Part c)** Build a MLPCLassifier with 2 hidden layers and 256 hidden units each, and default values for the rest of the parameters. Fit the model on train data and report the accuracy and confusion matrix on test data. **[2.5pts]**\n",
    "\n",
    "\n",
    "* **Part d)** What does confusion matrix represent and report the best and worst class accuracy for the three models. **[2.5pts]**"
   ]
  },
  {
   "cell_type": "code",
   "execution_count": 6,
   "metadata": {
    "id": "sc1mH7mKeMv_"
   },
   "outputs": [
    {
     "name": "stdout",
     "output_type": "stream",
     "text": [
      "\n",
      "Accuracy score: 0.814\n"
     ]
    },
    {
     "data": {
      "text/plain": [
       "<sklearn.metrics._plot.confusion_matrix.ConfusionMatrixDisplay at 0x2c67fa9ed00>"
      ]
     },
     "execution_count": 6,
     "metadata": {},
     "output_type": "execute_result"
    },
    {
     "data": {
      "image/png": "[encoded data removed]",
      "text/plain": [
       "<Figure size 432x288 with 2 Axes>"
      ]
     },
     "metadata": {
      "needs_background": "light"
     },
     "output_type": "display_data"
    }
   ],
   "source": [
    "dt = tree.DecisionTreeClassifier()\n",
    "Y_pred = dt.fit(X_train, Y_train).predict(X_test)\n",
    "print(f\"\\nAccuracy score: {metrics.accuracy_score(Y_test, Y_pred):.3f}\")\n",
    "metrics.plot_confusion_matrix(dt, X_test, Y_test)"
   ]
  },
  {
   "cell_type": "code",
   "execution_count": 7,
   "metadata": {},
   "outputs": [
    {
     "name": "stdout",
     "output_type": "stream",
     "text": [
      "\n",
      "Accuracy score: 0.605\n"
     ]
    },
    {
     "data": {
      "text/plain": [
       "<sklearn.metrics._plot.confusion_matrix.ConfusionMatrixDisplay at 0x2c601e23ee0>"
      ]
     },
     "execution_count": 7,
     "metadata": {},
     "output_type": "execute_result"
    },
    {
     "data": {
      "image/png": "[encoded data removed]",
      "text/plain": [
       "<Figure size 432x288 with 2 Axes>"
      ]
     },
     "metadata": {
      "needs_background": "light"
     },
     "output_type": "display_data"
    }
   ],
   "source": [
    "lr = LogisticRegression(max_iter=10000)\n",
    "Y_pred = lr.fit(X_train, Y_train).predict(X_test)\n",
    "print(f\"\\nAccuracy score: {metrics.accuracy_score(Y_test, Y_pred):.3f}\")\n",
    "metrics.plot_confusion_matrix(lr, X_test, Y_test)"
   ]
  },
  {
   "cell_type": "code",
   "execution_count": 8,
   "metadata": {},
   "outputs": [
    {
     "name": "stdout",
     "output_type": "stream",
     "text": [
      "\n",
      "Accuracy score: 0.628\n"
     ]
    },
    {
     "name": "stderr",
     "output_type": "stream",
     "text": [
      "C:\\ProgramData\\Anaconda3\\lib\\site-packages\\sklearn\\neural_network\\_multilayer_perceptron.py:614: ConvergenceWarning: Stochastic Optimizer: Maximum iterations (200) reached and the optimization hasn't converged yet.\n",
      "  warnings.warn(\n"
     ]
    },
    {
     "data": {
      "text/plain": [
       "<sklearn.metrics._plot.confusion_matrix.ConfusionMatrixDisplay at 0x2c601347cd0>"
      ]
     },
     "execution_count": 8,
     "metadata": {},
     "output_type": "execute_result"
    },
    {
     "data": {
      "image/png": "[encoded data removed]",
      "text/plain": [
       "<Figure size 432x288 with 2 Axes>"
      ]
     },
     "metadata": {
      "needs_background": "light"
     },
     "output_type": "display_data"
    }
   ],
   "source": [
    "from sklearn.neural_network import MLPClassifier\n",
    "mlp = MLPClassifier(hidden_layer_sizes=(256,256))\n",
    "Y_pred = mlp.fit(X_train, Y_train).predict(X_test)\n",
    "print(f\"\\nAccuracy score: {metrics.accuracy_score(Y_test, Y_pred):.3f}\")\n",
    "metrics.plot_confusion_matrix(mlp, X_test, Y_test)"
   ]
  },
  {
   "cell_type": "markdown",
   "metadata": {},
   "source": [
    "PARTD\n",
    "\n",
    "What does the confusion matrix represent? Confusion matrices are a way to visualize the performance of an algorithm. The diagonal from [0,0] to [n, n] represent the correctly predicted values, and the other values outside of that represent the incorrectly predicted values.  \n",
    "\n",
    "The best accuracy is the decision tree classifier and the worst accuracy is the MLPClassifier. "
   ]
  },
  {
   "cell_type": "markdown",
   "metadata": {
    "id": "4IMDecADNNwn"
   },
   "source": [
    "# Question 4 - Churn Prediction (35pts)\n",
    "\n",
    "Credit card churning is the practice of repeatedly opening and closing credit cards to earn cash, rewards points or miles. Often, you can qualify for a large intro bonus after opening a new credit card, which is something \"churners'' exploit to try to amass a lot of rewards. However, credit card companies may view the practice as gaming the system and take steps to prevent it.\n",
    "\n",
    "In this problem, you are provided with data from a bank. The objective is to process the data and build predictive models to classify if a customer is going to churn or not. You will be using sklearn [pipelines](https://scikit-learn.org/stable/modules/generated/sklearn.pipeline.Pipeline.html) and transformers in this exercise.\n",
    "\n",
    "\n",
    "1.   \n",
    "    a. What proportion of the users in the data churn? **(2pts)**\n",
    "    \n",
    "    b. Do credit card users churn more when compared to other users? (use a suitable plot) **(3pts)**\n",
    "2. Set up the transformer for min-max normalization. Other required transformers are provided. **(5pts)** \n",
    "3. Scikit-learn provides the capability to create Machine Learning workflows by using a construct known as Pipeline. ML modeling pipelines can be viewed as directed acyclic graphs where each node is an \"operator\" performing some processing on the data frames or ndarrays. Use this [guide](https://medium.com/vickdata/a-simple-guide-to-scikit-learn-pipelines-4ac0d974bdcf) to understand how to create a pipeline and create a pipeline which has the following steps:<br>\n",
    "    a. One hot encoding transformer on the categorical variables.<br>\n",
    "    b. Min-max normalization transformer on the continuous variables.<br>\n",
    "    c. Logistic Regression model.<br>\n",
    "    Using the code for transformers given to you, fit this pipeline on the train set and report the F1 score and AUROC on the test set. **(10pts)**  \n",
    "4. Add the following features to the data:<br>\n",
    "    a. Ratio of balance to salary.<br>\n",
    "    b. Ratio of tenure to age.<br>\n",
    "    c. Ratio of credit score to age.<br>\n",
    "   Using this new data, build a similar Logistic Regression pipeline as in the previous question and report the F1 score and AUROC on the test set. We see that the performance of the model improves with these additional features, hence we will be using the new dataset with these additional features from now (this question and all the questions ahead). \n",
    "   We have seen that the two classes are imbalanced in the data. We can improve the logistic regression model by changing the importance given to the classes - use the class_weight='balanced' option (by default, both classes have equal importance). Report the F1 score and AUROC on the test set. **(10 pts)**\n",
    "5. Build a decision tree and Gaussian Naive Bayes pipelines. Plot an ROC for these two models, and the improved logistic regression model (in one plot). **(3 pts)**.\n",
    "6. The calibration curve gives you a way of testing if your model is well-calibrated or not. Use sklearn's [calibration_curve](https://scikit-learn.org/stable/modules/generated/sklearn.calibration.calibration_curve.html) function to plot the calibration curve for the Gaussian Naive Bayes model, and the improved logistic regression model and report which models are well-calibrated and which ones are not. **(2 pts)**"
   ]
  },
  {
   "cell_type": "markdown",
   "metadata": {
    "id": "Mh0zYCIPp6TC"
   },
   "source": [
    "## Features:\n",
    "1. CreditScore - Credit score of a user\n",
    "1. Geography - Country/Region of the user\n",
    "1. Gender - Gender of the user\n",
    "1. Age - Age of the user\n",
    "1. Tenure - Refers to the number of years that the customer has been a client of the bank\n",
    "1. Balance - Current bank balance of the user\n",
    "1. NumOfProducts - Number of products that the user has with the bank (e.g. debit card, mortgage loan, etc.)\n",
    "1. HasCrCard - 0 if the user does not have a credit card, 1 otherwise\n",
    "1. IsActiveMember - 0 if the user is not an active member, 1 otherwise\n",
    "1. EstimatedSalary — Estimated salary of the user.\n",
    "1. Exited — 0 if the user left the bank, 1 otherwise."
   ]
  },
  {
   "cell_type": "code",
   "execution_count": 9,
   "metadata": {
    "id": "TRQ-7PCdyWMs"
   },
   "outputs": [],
   "source": [
    "import pandas as pd\n",
    "from sklearn.model_selection import train_test_split\n",
    "from sklearn.metrics import roc_curve, roc_auc_score, f1_score\n",
    "from sklearn.naive_bayes import GaussianNB\n",
    "from sklearn.linear_model import LogisticRegression\n",
    "from sklearn.neural_network import MLPClassifier\n",
    "from sklearn.tree import DecisionTreeClassifier\n",
    "import numpy as np\n",
    "import matplotlib.pyplot as plt\n",
    "import seaborn as sns\n",
    "from sklearn.pipeline import Pipeline, FeatureUnion\n",
    "import warnings\n",
    "warnings.filterwarnings('ignore')"
   ]
  },
  {
   "cell_type": "code",
   "execution_count": 10,
   "metadata": {
    "id": "RcLr9WQJNceL"
   },
   "outputs": [
    {
     "data": {
      "text/html": [
       "<div>\n",
       "<style scoped>\n",
       "    .dataframe tbody tr th:only-of-type {\n",
       "        vertical-align: middle;\n",
       "    }\n",
       "\n",
       "    .dataframe tbody tr th {\n",
       "        vertical-align: top;\n",
       "    }\n",
       "\n",
       "    .dataframe thead th {\n",
       "        text-align: right;\n",
       "    }\n",
       "</style>\n",
       "<table border=\"1\" class=\"dataframe\">\n",
       "  <thead>\n",
       "    <tr style=\"text-align: right;\">\n",
       "      <th></th>\n",
       "      <th>CreditScore</th>\n",
       "      <th>Geography</th>\n",
       "      <th>Gender</th>\n",
       "      <th>Age</th>\n",
       "      <th>Tenure</th>\n",
       "      <th>Balance</th>\n",
       "      <th>NumOfProducts</th>\n",
       "      <th>HasCrCard</th>\n",
       "      <th>IsActiveMember</th>\n",
       "      <th>EstimatedSalary</th>\n",
       "      <th>Exited</th>\n",
       "    </tr>\n",
       "  </thead>\n",
       "  <tbody>\n",
       "    <tr>\n",
       "      <th>0</th>\n",
       "      <td>619</td>\n",
       "      <td>France</td>\n",
       "      <td>Female</td>\n",
       "      <td>42</td>\n",
       "      <td>2</td>\n",
       "      <td>0.00</td>\n",
       "      <td>1</td>\n",
       "      <td>1</td>\n",
       "      <td>1</td>\n",
       "      <td>101348.88</td>\n",
       "      <td>1</td>\n",
       "    </tr>\n",
       "    <tr>\n",
       "      <th>1</th>\n",
       "      <td>608</td>\n",
       "      <td>Spain</td>\n",
       "      <td>Female</td>\n",
       "      <td>41</td>\n",
       "      <td>1</td>\n",
       "      <td>83807.86</td>\n",
       "      <td>1</td>\n",
       "      <td>0</td>\n",
       "      <td>1</td>\n",
       "      <td>112542.58</td>\n",
       "      <td>0</td>\n",
       "    </tr>\n",
       "    <tr>\n",
       "      <th>2</th>\n",
       "      <td>502</td>\n",
       "      <td>France</td>\n",
       "      <td>Female</td>\n",
       "      <td>42</td>\n",
       "      <td>8</td>\n",
       "      <td>159660.80</td>\n",
       "      <td>3</td>\n",
       "      <td>1</td>\n",
       "      <td>0</td>\n",
       "      <td>113931.57</td>\n",
       "      <td>1</td>\n",
       "    </tr>\n",
       "    <tr>\n",
       "      <th>3</th>\n",
       "      <td>699</td>\n",
       "      <td>France</td>\n",
       "      <td>Female</td>\n",
       "      <td>39</td>\n",
       "      <td>1</td>\n",
       "      <td>0.00</td>\n",
       "      <td>2</td>\n",
       "      <td>0</td>\n",
       "      <td>0</td>\n",
       "      <td>93826.63</td>\n",
       "      <td>0</td>\n",
       "    </tr>\n",
       "    <tr>\n",
       "      <th>4</th>\n",
       "      <td>850</td>\n",
       "      <td>Spain</td>\n",
       "      <td>Female</td>\n",
       "      <td>43</td>\n",
       "      <td>2</td>\n",
       "      <td>125510.82</td>\n",
       "      <td>1</td>\n",
       "      <td>1</td>\n",
       "      <td>1</td>\n",
       "      <td>79084.10</td>\n",
       "      <td>0</td>\n",
       "    </tr>\n",
       "  </tbody>\n",
       "</table>\n",
       "</div>"
      ],
      "text/plain": [
       "   CreditScore Geography  Gender  Age  Tenure    Balance  NumOfProducts  \\\n",
       "0          619    France  Female   42       2       0.00              1   \n",
       "1          608     Spain  Female   41       1   83807.86              1   \n",
       "2          502    France  Female   42       8  159660.80              3   \n",
       "3          699    France  Female   39       1       0.00              2   \n",
       "4          850     Spain  Female   43       2  125510.82              1   \n",
       "\n",
       "   HasCrCard  IsActiveMember  EstimatedSalary  Exited  \n",
       "0          1               1        101348.88       1  \n",
       "1          0               1        112542.58       0  \n",
       "2          1               0        113931.57       1  \n",
       "3          0               0         93826.63       0  \n",
       "4          1               1         79084.10       0  "
      ]
     },
     "execution_count": 10,
     "metadata": {},
     "output_type": "execute_result"
    }
   ],
   "source": [
    "df = pd.read_csv('q3.csv', delimiter=',')\n",
    "df.shape\n",
    "df.head()"
   ]
  },
  {
   "cell_type": "code",
   "execution_count": 11,
   "metadata": {
    "id": "p6G8qywdNt-I"
   },
   "outputs": [],
   "source": [
    "#DONOT CHANGE THIS\n",
    "df_train = df.sample(frac=0.8,random_state=11)\n",
    "df_test = df.drop(df_train.index)\n",
    "\n",
    "from sklearn.base import BaseEstimator, TransformerMixin\n",
    "#We provide the required transformers to build the pipeline.\n",
    "# Transfomer for performing one hot encoding on a specified categorical column\n",
    "class OneHotEncoder(BaseEstimator, TransformerMixin):\n",
    "    \n",
    "    def __init__(self,col):\n",
    "        self.col = col\n",
    "                \n",
    "    def transform(self, X):\n",
    "        return pd.get_dummies(X[self.col]) \n",
    "\n",
    "    def fit(self, X, y=None):\n",
    "        return self\n",
    "    \n",
    "# Stateless transformer for selecting a specified columns\n",
    "class DFSubsetSelector(BaseEstimator,TransformerMixin):\n",
    "    \n",
    "    def __init__(self,cols):\n",
    "        self.cols = cols\n",
    "        \n",
    "    def transform(self ,X):\n",
    "        return X[self.cols]\n",
    "    \n",
    "    def fit(self, X, y=None):\n",
    "        return self\n",
    "    \n",
    "class ConcatFeatures(BaseEstimator, TransformerMixin):\n",
    "    \n",
    "    def __init__(self,cols,sep=\"_\"):\n",
    "        self.cols = cols\n",
    "        self.sep = sep\n",
    "                \n",
    "    def transform(self, X):\n",
    "        concat_col = self.sep.join(self.cols)\n",
    "        return X.apply(lambda x : self.sep.join([x[col] for col in self.cols]) ,axis=1).to_frame(name = concat_col)\n",
    "\n",
    "    def fit(self, X, y=None):\n",
    "        return self  "
   ]
  },
  {
   "cell_type": "code",
   "execution_count": 12,
   "metadata": {
    "id": "jxD14lmMNRDO"
   },
   "outputs": [
    {
     "name": "stdout",
     "output_type": "stream",
     "text": [
      "P(Churn): 0.2037\n"
     ]
    }
   ],
   "source": [
    "print(\"P(Churn):\", (df[df.Exited > 0].shape[0])/(df.shape[0]))"
   ]
  },
  {
   "cell_type": "code",
   "execution_count": 13,
   "metadata": {
    "id": "DPaw7QxcNRkY"
   },
   "outputs": [
    {
     "name": "stdout",
     "output_type": "stream",
     "text": [
      "P(Churn | Credit Card): 0.20184266477675408\n",
      "P(Churn | No Credit Card): 0.20814940577249574\n",
      "No, credit card users do not churn more than others according to the given data.\n"
     ]
    },
    {
     "data": {
      "image/png": "[encoded data removed]",
      "text/plain": [
       "<Figure size 432x288 with 1 Axes>"
      ]
     },
     "metadata": {
      "needs_background": "light"
     },
     "output_type": "display_data"
    }
   ],
   "source": [
    "x = [\"P(Churn | Credit Card)\", \"P(Churn | No Credit Card)\"]\n",
    "p = [0, 0]\n",
    "#num credit card users\n",
    "numCC = df[df.HasCrCard > 0].shape[0]\n",
    "#proportion of credit card users that churn\n",
    "temp = df.Exited & df.HasCrCard\n",
    "p[0] = (temp[temp > 0].shape[0])/(numCC)\n",
    "print(\"P(Churn | Credit Card):\", (temp[temp > 0].shape[0])/(numCC))\n",
    "\n",
    "#num non credit card users\n",
    "numCC = df[df.HasCrCard == 0].shape[0]\n",
    "#proportion of non credit card users that churn\n",
    "temp = df.Exited & ~df.HasCrCard\n",
    "p[1] = (temp[temp > 0].shape[0])/(numCC)\n",
    "print(\"P(Churn | No Credit Card):\", (temp[temp > 0].shape[0])/(numCC));\n",
    "\n",
    "fig = plt.bar(x, p)\n",
    "print(\"No, credit card users do not churn more than others according to the given data.\")"
   ]
  },
  {
   "cell_type": "code",
   "execution_count": 14,
   "metadata": {},
   "outputs": [],
   "source": [
    "class MinMaxNormalization(BaseEstimator, TransformerMixin):\n",
    "    \n",
    "    def __init__(self,col):\n",
    "        self.col = col\n",
    "                \n",
    "    def transform(self, X):\n",
    "        return (X[self.col]-X[self.col].min())/(X[self.col].max()-X[self.col].min())\n",
    "\n",
    "    def fit(self, X, y=None):\n",
    "        return self  "
   ]
  },
  {
   "cell_type": "code",
   "execution_count": 15,
   "metadata": {},
   "outputs": [],
   "source": [
    "pl = Pipeline(steps=[ \n",
    "    ('one-hot', OneHotEncoder(col = ['CreditScore', 'Age', 'Tenure', 'Balance', 'NumOfProducts', 'EstimatedSalary', 'Geography', 'Gender', 'HasCrCard', 'IsActiveMember'])),\n",
    "    ('min-max', MinMaxNormalization(col = ['CreditScore', 'Age', 'Tenure', 'Balance', 'NumOfProducts', 'EstimatedSalary'])),\n",
    "    ('log-reg', LogisticRegression())])"
   ]
  },
  {
   "cell_type": "code",
   "execution_count": 16,
   "metadata": {},
   "outputs": [],
   "source": [
    "Y_train = df_train.iloc[:,10]\n",
    "X_train = df_train.iloc[:,0:10]\n",
    "Y_test = df_test.iloc[:,10]\n",
    "X_test = df_test.iloc[:,0:10]\n",
    "pl.fit(X_train, Y_train)\n",
    "Y_pred = pl.predict(X_test)"
   ]
  },
  {
   "cell_type": "code",
   "execution_count": 17,
   "metadata": {},
   "outputs": [
    {
     "name": "stdout",
     "output_type": "stream",
     "text": [
      "Original\n",
      "\n",
      "F1 score: 0.108\n",
      "\n",
      "AUROC: 0.518\n"
     ]
    }
   ],
   "source": [
    "print(\"Original\")\n",
    "print(f\"\\nF1 score: {metrics.f1_score(Y_test, Y_pred):.3f}\")\n",
    "print(f\"\\nAUROC: {metrics.roc_auc_score(Y_test, Y_pred):.3f}\")"
   ]
  },
  {
   "cell_type": "code",
   "execution_count": 18,
   "metadata": {},
   "outputs": [],
   "source": [
    "#Ratio of balance to salary.\n",
    "btoS = df['Balance']/df['EstimatedSalary']\n",
    "#Ratio of tenure to age.\n",
    "ttoA = df['Tenure']/df['Age']\n",
    "#Ratio of credit score to age.\n",
    "cstoA = df['CreditScore']/df['Age']\n",
    "\n",
    "df.insert(0, 'bToS', btoS);\n",
    "df.insert(0, 'tToA', ttoA);\n",
    "df.insert(0, 'csToA', cstoA);\n",
    "#df['bToS'] = btoS\n",
    "#df['tToA'] = ttoA\n",
    "#df['csToA'] = cstoA"
   ]
  },
  {
   "cell_type": "code",
   "execution_count": 19,
   "metadata": {},
   "outputs": [],
   "source": [
    "pl = Pipeline(steps=[ \n",
    "    ('one-hot', OneHotEncoder(col = ['bToS', 'tToA', 'csToA', 'CreditScore', 'Age', 'Tenure', 'Balance', 'NumOfProducts', 'EstimatedSalary', 'Geography', 'Gender', 'HasCrCard', 'IsActiveMember'])),\n",
    "    ('min-max', MinMaxNormalization(col = ['bToS', 'tToA', 'csToA','CreditScore', 'Age', 'Tenure', 'Balance', 'NumOfProducts', 'EstimatedSalary'])),\n",
    "    ('log-reg', LogisticRegression())])"
   ]
  },
  {
   "cell_type": "code",
   "execution_count": 20,
   "metadata": {},
   "outputs": [],
   "source": [
    "df_train = df.sample(frac=0.8,random_state=11)\n",
    "df_test = df.drop(df_train.index)"
   ]
  },
  {
   "cell_type": "code",
   "execution_count": 21,
   "metadata": {},
   "outputs": [],
   "source": [
    "Y_train = df_train.iloc[:,13]\n",
    "X_train = df_train.iloc[:,0:13]\n",
    "Y_test = df_test.iloc[:,13]\n",
    "X_test = df_test.iloc[:,0:13]\n",
    "pl.fit(X_train, Y_train)\n",
    "Y_pred = pl.predict(X_test)"
   ]
  },
  {
   "cell_type": "code",
   "execution_count": 22,
   "metadata": {},
   "outputs": [
    {
     "name": "stdout",
     "output_type": "stream",
     "text": [
      "Three New Features\n",
      "\n",
      "F1 score: 0.129\n",
      "\n",
      "AUROC: 0.526\n"
     ]
    }
   ],
   "source": [
    "print(\"Three New Features\")\n",
    "print(f\"\\nF1 score: {metrics.f1_score(Y_test, Y_pred):.3f}\")\n",
    "print(f\"\\nAUROC: {metrics.roc_auc_score(Y_test, Y_pred):.3f}\")"
   ]
  },
  {
   "cell_type": "code",
   "execution_count": 23,
   "metadata": {},
   "outputs": [],
   "source": [
    "pl = Pipeline(steps=[ \n",
    "    ('one-hot', OneHotEncoder(col = ['bToS', 'tToA', 'csToA', 'CreditScore', 'Age', 'Tenure', 'Balance', 'NumOfProducts', 'EstimatedSalary', 'Geography', 'Gender', 'HasCrCard', 'IsActiveMember'])),\n",
    "    ('min-max', MinMaxNormalization(col = ['bToS', 'tToA', 'csToA','CreditScore', 'Age', 'Tenure', 'Balance', 'NumOfProducts', 'EstimatedSalary'])),\n",
    "    ('log-reg', LogisticRegression(class_weight='balanced'))])"
   ]
  },
  {
   "cell_type": "code",
   "execution_count": 24,
   "metadata": {},
   "outputs": [],
   "source": [
    "pl.fit(X_train, Y_train)\n",
    "Y_pred = pl.predict(X_test)"
   ]
  },
  {
   "cell_type": "code",
   "execution_count": 25,
   "metadata": {},
   "outputs": [
    {
     "name": "stdout",
     "output_type": "stream",
     "text": [
      "Class Weight Balanced\n",
      "\n",
      "F1 score: 0.479\n",
      "\n",
      "AUROC: 0.695\n"
     ]
    }
   ],
   "source": [
    "print(\"Class Weight Balanced\")\n",
    "print(f\"\\nF1 score: {metrics.f1_score(Y_test, Y_pred):.3f}\")\n",
    "print(f\"\\nAUROC: {metrics.roc_auc_score(Y_test, Y_pred):.3f}\")"
   ]
  },
  {
   "cell_type": "code",
   "execution_count": 26,
   "metadata": {},
   "outputs": [],
   "source": [
    "p2 = Pipeline(steps=[ \n",
    "    ('one-hot', OneHotEncoder(col = ['bToS', 'tToA', 'csToA', 'CreditScore', 'Age', 'Tenure', 'Balance', 'NumOfProducts', 'EstimatedSalary', 'Geography', 'Gender', 'HasCrCard', 'IsActiveMember'])),\n",
    "    ('min-max', MinMaxNormalization(col = ['bToS', 'tToA', 'csToA','CreditScore', 'Age', 'Tenure', 'Balance', 'NumOfProducts', 'EstimatedSalary'])),\n",
    "    ('dectree', DecisionTreeClassifier())])\n",
    "\n",
    "p2.fit(X_train, Y_train)\n",
    "Y_pred_dt = p2.predict(X_test)\n",
    "\n",
    "p3 = Pipeline(steps=[ \n",
    "    ('one-hot', OneHotEncoder(col = ['bToS', 'tToA', 'csToA', 'CreditScore', 'Age', 'Tenure', 'Balance', 'NumOfProducts', 'EstimatedSalary', 'Geography', 'Gender', 'HasCrCard', 'IsActiveMember'])),\n",
    "    ('min-max', MinMaxNormalization(col = ['bToS', 'tToA', 'csToA','CreditScore', 'Age', 'Tenure', 'Balance', 'NumOfProducts', 'EstimatedSalary'])),\n",
    "    ('dectree', GaussianNB())])\n",
    "\n",
    "p3.fit(X_train, Y_train)\n",
    "Y_pred_gnb = p3.predict(X_test)"
   ]
  },
  {
   "cell_type": "code",
   "execution_count": 27,
   "metadata": {},
   "outputs": [
    {
     "data": {
      "image/png": "[encoded data removed]",
      "text/plain": [
       "<Figure size 432x288 with 1 Axes>"
      ]
     },
     "metadata": {
      "needs_background": "light"
     },
     "output_type": "display_data"
    }
   ],
   "source": [
    "fig = metrics.plot_roc_curve( pl, X_test, Y_test)\n",
    "fig = metrics.plot_roc_curve( p2, X_test, Y_test, ax = fig.ax_)\n",
    "fig = metrics.plot_roc_curve( p3, X_test, Y_test, ax = fig.ax_)\n",
    "plt.show() "
   ]
  },
  {
   "cell_type": "code",
   "execution_count": 28,
   "metadata": {},
   "outputs": [
    {
     "data": {
      "text/plain": [
       "Text(0.5, 1.0, 'Naive Bayes Calibration Curve (Dashed line is perfect calibration)')"
      ]
     },
     "execution_count": 28,
     "metadata": {},
     "output_type": "execute_result"
    },
    {
     "data": {
      "image/png": "[encoded data removed]",
      "text/plain": [
       "<Figure size 432x288 with 1 Axes>"
      ]
     },
     "metadata": {
      "needs_background": "light"
     },
     "output_type": "display_data"
    },
    {
     "data": {
      "image/png": "[encoded data removed]",
      "text/plain": [
       "<Figure size 432x288 with 1 Axes>"
      ]
     },
     "metadata": {
      "needs_background": "light"
     },
     "output_type": "display_data"
    }
   ],
   "source": [
    "from sklearn.calibration import calibration_curve\n",
    "plt.figure(0)\n",
    "prob_true, prob_pred = calibration_curve(Y_test, pl.predict_proba(X_test)[:,1])\n",
    "plt.plot(prob_pred, prob_true)\n",
    "plt.plot([0, 1], [0, 1], linestyle='--')\n",
    "plt.title(\"Logistic Regression Calibration Curve (Dashed line is perfect calibration)\")\n",
    "\n",
    "plt.figure(1)\n",
    "prob_true, prob_pred = calibration_curve(Y_test, p3.predict_proba(X_test)[:,1])\n",
    "plt.plot(prob_pred, prob_true)\n",
    "plt.plot([0, 1], [0, 1], linestyle='--')\n",
    "plt.title(\"Naive Bayes Calibration Curve (Dashed line is perfect calibration)\")"
   ]
  },
  {
   "cell_type": "markdown",
   "metadata": {},
   "source": [
    "The Gaussian Naive Bayes is much better calibrated than the improved Logistic Regression model. We see that the calibration curve for Logistic Regression is much below the dashed line so the predicted probabilities are biased lower than the true probabilities. The Naive Bayes isn't perfect but it stays pretty close to the perfect calibration line so it appears to be fairly well calibrated."
   ]
  },
  {
   "cell_type": "markdown",
   "metadata": {
    "id": "Hg1mY7BOnzaM"
   },
   "source": [
    "# Question 5 : Bayesian Belief Networks (15 pts)\n",
    "\n",
    "![Question 1](https://i.imgur.com/3ayVbFi.jpeg) \n",
    "\n",
    "All nodes are binary and can take 0/1 values\n",
    "\n",
    "The probabilities are given below:\n",
    "\n",
    "P(Bark = 1) = 0.05   \n",
    "P(Rain = 1) = 0.01\n",
    "\n",
    "\n",
    "P(Scared = 1 | Bark = 0, Rain = 0) = 0.001  \n",
    "P(Scared = 1 | Bark = 0, Rain = 1) = 0.1  \n",
    "P(Scared = 1 | Bark = 1, Rain = 0) = 0.8  \n",
    "P(Scared = 1 | Bark = 1, Rain = 1) = 0.9  \n",
    "\n",
    "P(Hides = 1 | Scared = 1) = 0.95  \n",
    "P(Hides = 1 | Scared = 0) = 0.05  \n",
    "\n",
    "For the given Bayesian network, Compute the following probabilities :  \n",
    "\n",
    "\n",
    "**(a) (4 pts)** Find the probability that cat hides = 1.  \n",
    "**(b) (4 pts)** Given that cat got scared (Scared = 1), what is the probability that it rained (Rain = 1)?  \n",
    "**(c) (7 pts)** Given that cat got scared (Scared = 1) and the dog barked (Bark = 1), what is the probability that it rained (Rain = 1)?"
   ]
  },
  {
   "cell_type": "markdown",
   "metadata": {
    "id": "pJN3s-XhNTIc"
   },
   "source": [
    "#### PART A\n",
    "Want to find\n",
    "P(Hides) = P(Scared)P(Hides|Scared) + P(Not Scared)P(Hides|Not Scared)\n",
    "\n",
    "We first need: P(Scared)\n",
    "\n",
    "P(Scared) = P(Scared|Bark,Rain)P(Bark)P(Rain) + P(Scared|Bark, No Rain)P(Bark)P(No Rain) + P(Scared|No Bark,Rain)P(No Bark)P(Rain) + P(Scared|No Bark, No Rain)P(No Bark)P(No Rain) \n",
    "\n",
    "P(No Bark) = 1 - P(Bark)   \n",
    "P(No Rain) = 1 - P(Rain)   \n",
    "P(Not Scared) = 1-P(Scared);   \n",
    "\n",
    "Evaluating this: \n",
    "P(Scared) = (0.9 * 0.05 * 0.01) + (0.8 * 0.05 * 0.99) + (0.1 * 0.95 * 0.01) + (0.001 * 0.95 * 0.99) = 0.0419405   \n",
    "\n",
    "P(Hides) = (0.0419405 * 0.95) + ((1 - 0.0419405) * 0.05) = .08774645"
   ]
  },
  {
   "cell_type": "markdown",
   "metadata": {},
   "source": [
    "#### PART B  \n",
    "Want to Find P(Rain | Scared) = P(Scared | Rain) * P(Rain) / P(Scared)\n",
    "\n",
    "We first need: P(Scared | Rain)  \n",
    "P(Scared | Rain) = P(Bark) P(Scared | Bark, Rain) + P (No Bark) P(Scared | No Bark, Rain)\n",
    "\n",
    "Evaluating this:\n",
    "P(Scared | Rain) = (0.05 * 0.9) + (0.95 * 0.1) = 0.14   \n",
    "\n",
    "P(Rain | Scared) = (0.14 * 0.01) / 0.0419405 = 0.0333806\n"
   ]
  },
  {
   "cell_type": "markdown",
   "metadata": {},
   "source": [
    "#### PART C   \n",
    "P(A | B, C) = P(B | A, C) P(A | C) / P(B | C)  \n",
    "A = rain  \n",
    "B = scared  \n",
    "C = bark  \n",
    "\n",
    "Want to find:  \n",
    "P(Rain | Scared, Bark) = P(Scared | Rain, Bark) * P(Rain | Bark) / P(Scared | Bark)  \n",
    "\n",
    "First we need: P(Scared | Bark)  \n",
    "P(Scared | Bark) = P(Rain) P(Scared | Bark, Rain) + P(No Rain) P(Scared | No Bark, Rain)  \n",
    "\n",
    "And P(Rain | Bark) = P(Rain) assuming that Rain and Bark are independent  \n",
    "\n",
    "Evaluating this:  \n",
    "P(Scared | Bark) = (0.01 * 0.9) + (0.99 * 0.1) = 0.108\n",
    "\n",
    "P(Rain | Scared, Bark) = (0.9 * 0.01) / 0.108 = 0.08333"
   ]
  },
  {
   "cell_type": "markdown",
   "metadata": {
    "id": "NGEJne27SGfq"
   },
   "source": [
    "# Question 6 - Comparison of different ensembles method for classification (20 pts)\n",
    "\n",
    "We will use the dataset from the kaggle competition [GiveMeSomeCredit](https://www.kaggle.com/c/GiveMeSomeCredit). We will work on a smaller version of this dataset. The dataset is available on canvas as ensemble-dataset.csv. \n",
    "We will predict the probability that somebody will experience financial distress in the next two years. The dataset has already been split into train and test sets for you."
   ]
  },
  {
   "cell_type": "code",
   "execution_count": 29,
   "metadata": {
    "colab": {
     "base_uri": "https://localhost:8080/",
     "height": 211
    },
    "executionInfo": {
     "elapsed": 499,
     "status": "ok",
     "timestamp": 1618355162448,
     "user": {
      "displayName": "Uma Bharathi Govindarajan",
      "photoUrl": "",
      "userId": "04445116921930330565"
     },
     "user_tz": 300
    },
    "id": "cKXWaSd6OH4A",
    "outputId": "4c530922-fb50-4772-9526-6149858e9eaf"
   },
   "outputs": [
    {
     "data": {
      "text/html": [
       "<div>\n",
       "<style scoped>\n",
       "    .dataframe tbody tr th:only-of-type {\n",
       "        vertical-align: middle;\n",
       "    }\n",
       "\n",
       "    .dataframe tbody tr th {\n",
       "        vertical-align: top;\n",
       "    }\n",
       "\n",
       "    .dataframe thead th {\n",
       "        text-align: right;\n",
       "    }\n",
       "</style>\n",
       "<table border=\"1\" class=\"dataframe\">\n",
       "  <thead>\n",
       "    <tr style=\"text-align: right;\">\n",
       "      <th></th>\n",
       "      <th>SeriousDlqin2yrs</th>\n",
       "      <th>RevolvingUtilizationOfUnsecuredLines</th>\n",
       "      <th>age</th>\n",
       "      <th>NumberOfTime30.59DaysPastDueNotWorse</th>\n",
       "      <th>DebtRatio</th>\n",
       "      <th>MonthlyIncome</th>\n",
       "      <th>NumberOfOpenCreditLinesAndLoans</th>\n",
       "      <th>NumberOfTimes90DaysLate</th>\n",
       "      <th>NumberRealEstateLoansOrLines</th>\n",
       "      <th>NumberOfTime60.89DaysPastDueNotWorse</th>\n",
       "      <th>NumberOfDependents</th>\n",
       "    </tr>\n",
       "  </thead>\n",
       "  <tbody>\n",
       "    <tr>\n",
       "      <th>0</th>\n",
       "      <td>0</td>\n",
       "      <td>1.062646</td>\n",
       "      <td>50</td>\n",
       "      <td>2</td>\n",
       "      <td>0.179032</td>\n",
       "      <td>3490</td>\n",
       "      <td>8</td>\n",
       "      <td>1</td>\n",
       "      <td>0</td>\n",
       "      <td>1</td>\n",
       "      <td>1</td>\n",
       "    </tr>\n",
       "    <tr>\n",
       "      <th>1</th>\n",
       "      <td>0</td>\n",
       "      <td>0.003591</td>\n",
       "      <td>83</td>\n",
       "      <td>0</td>\n",
       "      <td>0.000869</td>\n",
       "      <td>10352</td>\n",
       "      <td>14</td>\n",
       "      <td>0</td>\n",
       "      <td>0</td>\n",
       "      <td>0</td>\n",
       "      <td>0</td>\n",
       "    </tr>\n",
       "    <tr>\n",
       "      <th>2</th>\n",
       "      <td>0</td>\n",
       "      <td>1.000000</td>\n",
       "      <td>22</td>\n",
       "      <td>0</td>\n",
       "      <td>0.000000</td>\n",
       "      <td>100</td>\n",
       "      <td>1</td>\n",
       "      <td>0</td>\n",
       "      <td>0</td>\n",
       "      <td>0</td>\n",
       "      <td>0</td>\n",
       "    </tr>\n",
       "    <tr>\n",
       "      <th>3</th>\n",
       "      <td>0</td>\n",
       "      <td>0.000000</td>\n",
       "      <td>52</td>\n",
       "      <td>0</td>\n",
       "      <td>0.336355</td>\n",
       "      <td>7060</td>\n",
       "      <td>10</td>\n",
       "      <td>0</td>\n",
       "      <td>2</td>\n",
       "      <td>0</td>\n",
       "      <td>3</td>\n",
       "    </tr>\n",
       "    <tr>\n",
       "      <th>4</th>\n",
       "      <td>0</td>\n",
       "      <td>0.220152</td>\n",
       "      <td>54</td>\n",
       "      <td>0</td>\n",
       "      <td>0.235064</td>\n",
       "      <td>4083</td>\n",
       "      <td>15</td>\n",
       "      <td>0</td>\n",
       "      <td>0</td>\n",
       "      <td>0</td>\n",
       "      <td>1</td>\n",
       "    </tr>\n",
       "  </tbody>\n",
       "</table>\n",
       "</div>"
      ],
      "text/plain": [
       "   SeriousDlqin2yrs  RevolvingUtilizationOfUnsecuredLines  age  \\\n",
       "0                 0                              1.062646   50   \n",
       "1                 0                              0.003591   83   \n",
       "2                 0                              1.000000   22   \n",
       "3                 0                              0.000000   52   \n",
       "4                 0                              0.220152   54   \n",
       "\n",
       "   NumberOfTime30.59DaysPastDueNotWorse  DebtRatio  MonthlyIncome  \\\n",
       "0                                     2   0.179032           3490   \n",
       "1                                     0   0.000869          10352   \n",
       "2                                     0   0.000000            100   \n",
       "3                                     0   0.336355           7060   \n",
       "4                                     0   0.235064           4083   \n",
       "\n",
       "   NumberOfOpenCreditLinesAndLoans  NumberOfTimes90DaysLate  \\\n",
       "0                                8                        1   \n",
       "1                               14                        0   \n",
       "2                                1                        0   \n",
       "3                               10                        0   \n",
       "4                               15                        0   \n",
       "\n",
       "   NumberRealEstateLoansOrLines  NumberOfTime60.89DaysPastDueNotWorse  \\\n",
       "0                             0                                     1   \n",
       "1                             0                                     0   \n",
       "2                             0                                     0   \n",
       "3                             2                                     0   \n",
       "4                             0                                     0   \n",
       "\n",
       "   NumberOfDependents  \n",
       "0                   1  \n",
       "1                   0  \n",
       "2                   0  \n",
       "3                   3  \n",
       "4                   1  "
      ]
     },
     "execution_count": 29,
     "metadata": {},
     "output_type": "execute_result"
    }
   ],
   "source": [
    "data = pd.read_csv('ensemble-dataset.csv')\n",
    "data.head()"
   ]
  },
  {
   "cell_type": "code",
   "execution_count": 30,
   "metadata": {
    "colab": {
     "base_uri": "https://localhost:8080/"
    },
    "executionInfo": {
     "elapsed": 262,
     "status": "ok",
     "timestamp": 1618355163158,
     "user": {
      "displayName": "Uma Bharathi Govindarajan",
      "photoUrl": "",
      "userId": "04445116921930330565"
     },
     "user_tz": 300
    },
    "id": "8gDtJv05SQ1a",
    "outputId": "b4dd43f5-1bb3-4d61-f33d-1542a6681634"
   },
   "outputs": [
    {
     "name": "stdout",
     "output_type": "stream",
     "text": [
      "train (3382, 10) (3382,)\n",
      "test (1667, 10) (1667,)\n"
     ]
    }
   ],
   "source": [
    "from sklearn.model_selection import train_test_split\n",
    "y = data['SeriousDlqin2yrs']\n",
    "X = data.drop(['SeriousDlqin2yrs'],axis=1)\n",
    "X_train, X_test, y_train, y_test = train_test_split(X, y, test_size = 0.33, random_state = 42)\n",
    "\n",
    "print('train',X_train.shape,y_train.shape)\n",
    "print('test',X_test.shape,y_test.shape)"
   ]
  },
  {
   "cell_type": "markdown",
   "metadata": {
    "id": "y8go9I7xSVVJ"
   },
   "source": [
    "In this question, we will compare performance of different ensemble methods for classification problems: [Bagging](https://scikit-learn.org/stable/modules/generated/sklearn.ensemble.BaggingClassifier.html), [AdaBoost](https://scikit-learn.org/stable/modules/generated/sklearn.ensemble.AdaBoostClassifier.html), and [Random Forest](https://scikit-learn.org/stable/modules/generated/sklearn.ensemble.RandomForestClassifier.html) Classifiers.\n",
    "\n",
    "Part a) **2.5pts** Use a Decision Tree Classifier with random_state = 10 for the classification problem. Report the accuracy_score and roc_auc_score on the test data for the classifier.\n",
    "\n",
    "Part b) **2.5pts** Create an ensemble of 20 classifiers (i.e n_estimators = 20) with random_state = 10 for [bagging](https://scikit-learn.org/stable/modules/generated/sklearn.ensemble.BaggingClassifier.html) with base classifier as Decision Tree Classifier from part a). Report accuracy_score and roc_auc_score on the test data for the Bagging classifiers. \n",
    "\n",
    "Part c) **5pts** Use the training data and build a [Random Forest](http://scikit-learn.org/stable/modules/generated/sklearn.ensemble.RandomForestClassifier.html) model for the classification problem. Find the best parameters (including *n_estimators*, *max_features* and *criterion*) using [GridSearchCV](http://scikit-learn.org/stable/modules/generated/sklearn.model_selection.GridSearchCV.html). Report the optimal parameters obtained by GridSearch. Report the confusion matrix  and [roc_auc_score](http://scikit-learn.org/stable/modules/generated/sklearn.metrics.roc_auc_score.html#sklearn.metrics.roc_auc_score) on test data using the model fit with best parameters. (5pts)\n",
    "\n",
    "Part d) **5pts** Use [AdaBoost](http://scikit-learn.org/stable/modules/generated/sklearn.ensemble.AdaBoostClassifier.html#sklearn.ensemble.AdaBoostClassifier) for this problem. Again, find the best parameters (including *n_estimators, learning_rate*), and report the confusion matrix and roc_auc_score on test data for the classifier fit with best parameters found using training data. \n",
    "\n",
    "Part e) **5pts** Compare the performance of decision tree from part a) with the ensemble methods, Briefly explain which of the three ensemble method performed better and why?"
   ]
  },
  {
   "cell_type": "markdown",
   "metadata": {},
   "source": [
    "#### part a)"
   ]
  },
  {
   "cell_type": "code",
   "execution_count": 31,
   "metadata": {
    "id": "1W_fnAnzNWFQ"
   },
   "outputs": [
    {
     "name": "stdout",
     "output_type": "stream",
     "text": [
      "accuracy score: 0.8908218356328734\n",
      "roc auc score: 0.5882985294467014\n"
     ]
    }
   ],
   "source": [
    "from sklearn.tree import DecisionTreeClassifier\n",
    "from sklearn.metrics import accuracy_score, roc_auc_score\n",
    "\n",
    "clf = DecisionTreeClassifier(random_state=10)\n",
    "clf.fit(X_train, y_train)\n",
    "print(\"accuracy score:\", accuracy_score(y_test, clf.predict(X_test)))\n",
    "print(\"roc auc score:\", roc_auc_score(y_test, clf.predict_proba(X_test)[:,1]))"
   ]
  },
  {
   "cell_type": "markdown",
   "metadata": {},
   "source": [
    "#### part b)"
   ]
  },
  {
   "cell_type": "code",
   "execution_count": 32,
   "metadata": {},
   "outputs": [
    {
     "name": "stdout",
     "output_type": "stream",
     "text": [
      "accuracy score: 0.9316136772645471\n",
      "roc auc score: 0.7497089777397667\n"
     ]
    }
   ],
   "source": [
    "from sklearn.ensemble import BaggingClassifier\n",
    "\n",
    "clf = BaggingClassifier(base_estimator = DecisionTreeClassifier(), n_estimators=20, random_state=10)\n",
    "clf.fit(X_train,y_train)\n",
    "print(\"accuracy score:\", accuracy_score(y_test, clf.predict(X_test)))\n",
    "print(\"roc auc score:\", roc_auc_score(y_test, clf.predict_proba(X_test)[:,1]))"
   ]
  },
  {
   "cell_type": "markdown",
   "metadata": {},
   "source": [
    "#### part c)"
   ]
  },
  {
   "cell_type": "code",
   "execution_count": 33,
   "metadata": {},
   "outputs": [
    {
     "name": "stdout",
     "output_type": "stream",
     "text": [
      "{'criterion': 'entropy', 'max_features': 'log2', 'n_estimators': 1000}\n"
     ]
    }
   ],
   "source": [
    "from sklearn.ensemble import RandomForestClassifier\n",
    "from sklearn.model_selection import GridSearchCV\n",
    "\n",
    "params = {'n_estimators':[20,100,1000],\n",
    "          'max_features':['sqrt','log2'],\n",
    "          'criterion':['gini','entropy']\n",
    "          }\n",
    "\n",
    "cv = GridSearchCV(RandomForestClassifier(), params, scoring='roc_auc')\n",
    "cv.fit(X_train,y_train)\n",
    "print(cv.best_params_)"
   ]
  },
  {
   "cell_type": "code",
   "execution_count": 34,
   "metadata": {},
   "outputs": [
    {
     "name": "stdout",
     "output_type": "stream",
     "text": [
      "roc auc score: 0.8085192312260947\n"
     ]
    }
   ],
   "source": [
    "clf = RandomForestClassifier(n_estimators=1000, max_features='log2', criterion='gini')\n",
    "clf.fit(X_train, y_train)\n",
    "print('roc auc score:', roc_auc_score(y_test, clf.predict_proba(X_test)[:,1]))"
   ]
  },
  {
   "cell_type": "code",
   "execution_count": 35,
   "metadata": {},
   "outputs": [
    {
     "data": {
      "text/plain": [
       "<sklearn.metrics._plot.confusion_matrix.ConfusionMatrixDisplay at 0x2c60534dca0>"
      ]
     },
     "execution_count": 35,
     "metadata": {},
     "output_type": "execute_result"
    },
    {
     "data": {
      "image/png": "[encoded data removed]",
      "text/plain": [
       "<Figure size 432x288 with 2 Axes>"
      ]
     },
     "metadata": {
      "needs_background": "light"
     },
     "output_type": "display_data"
    }
   ],
   "source": [
    "from sklearn.metrics import plot_confusion_matrix as pcm\n",
    "pcm(clf, X_test, y_test)"
   ]
  },
  {
   "cell_type": "markdown",
   "metadata": {},
   "source": [
    "#### part d)"
   ]
  },
  {
   "cell_type": "code",
   "execution_count": 36,
   "metadata": {},
   "outputs": [
    {
     "name": "stdout",
     "output_type": "stream",
     "text": [
      "{'learning_rate': 0.01, 'n_estimators': 1000}\n"
     ]
    }
   ],
   "source": [
    "from sklearn.ensemble import AdaBoostClassifier\n",
    "\n",
    "params = {'n_estimators':[20,100,1000],\n",
    "          'learning_rate':[0.01,0.1,1,10],\n",
    "          }\n",
    "\n",
    "cv = GridSearchCV(AdaBoostClassifier(), params, scoring='roc_auc')\n",
    "cv.fit(X_train,y_train)\n",
    "print(cv.best_params_)"
   ]
  },
  {
   "cell_type": "code",
   "execution_count": 37,
   "metadata": {},
   "outputs": [
    {
     "name": "stdout",
     "output_type": "stream",
     "text": [
      "roc auc score: 0.8374403107405031\n"
     ]
    },
    {
     "data": {
      "text/plain": [
       "<sklearn.metrics._plot.confusion_matrix.ConfusionMatrixDisplay at 0x2c605327730>"
      ]
     },
     "execution_count": 37,
     "metadata": {},
     "output_type": "execute_result"
    },
    {
     "data": {
      "image/png": "[encoded data removed]",
      "text/plain": [
       "<Figure size 432x288 with 2 Axes>"
      ]
     },
     "metadata": {
      "needs_background": "light"
     },
     "output_type": "display_data"
    }
   ],
   "source": [
    "clf = AdaBoostClassifier(n_estimators=1000, learning_rate=0.01)\n",
    "clf.fit(X_train, y_train)\n",
    "print('roc auc score:', roc_auc_score(y_test, clf.predict_proba(X_test)[:,1]))\n",
    "pcm(clf, X_test, y_test)"
   ]
  },
  {
   "cell_type": "markdown",
   "metadata": {},
   "source": [
    "#### Part e)\n",
    "The decision tree in part a) had a low AUC score of 0.58, whereas the ensembling classifiers scored at 0.75, 0.81, and 0.84. The cross-validated AdaBoost had the best AUC score, although the cross-validated Random Forest was a close second. The ensembling classifiers were able to perform better because the decision tree classifier is only one tree, which has the potential to massively overfit or massively underfit, not much in between. Adaboost and Random Forest were able to perform much better because using 1000 'underfitting' estimators and ensembling them together creates a model that fixes the underfitting without causing too much overfitting. Taking 1000 estimators and 'averaging' them reduces the 'variance' of those combined estimators which leads to much better test scores.\n"
   ]
  },
  {
   "cell_type": "code",
   "execution_count": null,
   "metadata": {},
   "outputs": [],
   "source": []
  }
 ],
 "metadata": {
  "colab": {
   "collapsed_sections": [],
   "name": "hw5Qn.ipynb",
   "provenance": [],
   "toc_visible": true
  },
  "kernelspec": {
   "display_name": "Python 3",
   "language": "python",
   "name": "python3"
  },
  "language_info": {
   "codemirror_mode": {
    "name": "ipython",
    "version": 3
   },
   "file_extension": ".py",
   "mimetype": "text/x-python",
   "name": "python",
   "nbconvert_exporter": "python",
   "pygments_lexer": "ipython3",
   "version": "3.8.3"
  }
 },
 "nbformat": 4,
 "nbformat_minor": 1
}
